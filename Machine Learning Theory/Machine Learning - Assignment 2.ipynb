{
 "cells": [
  {
   "cell_type": "markdown",
   "id": "e5f2831e-9120-484c-b727-1d5a5103372c",
   "metadata": {},
   "source": [
    "# Machine Learning - Assignment 2"
   ]
  },
  {
   "cell_type": "markdown",
   "id": "43f38d41-bf17-499d-b382-48f3c7083b19",
   "metadata": {},
   "source": [
    "### 1. What is the concept of human learning? Please give two examples."
   ]
  },
  {
   "cell_type": "markdown",
   "id": "6e5790d1-7d18-4f58-8e61-4efc35f9d53f",
   "metadata": {},
   "source": [
    "Human learning refers to the process by which humans interpret information, apply context to the info to gain knowledge, acquire new skills and make a good decision. It involves thinking, interpretation, reasoning and intelligence.\n",
    "For eg.\n",
    "1. The best example is the visual perception of humans - humans are capable to observe and learn patterns and the group similar items together\n",
    "\n",
    "2. Experience - as the experience increases, the humans learn more"
   ]
  },
  {
   "cell_type": "markdown",
   "id": "1b88a701-2d69-47b8-acce-c727c0918b44",
   "metadata": {},
   "source": [
    "### 2. What different forms of human learning are there? Are there any machine learning equivalents?"
   ]
  },
  {
   "cell_type": "markdown",
   "id": "ccd62a4b-c57f-49e3-be6f-2e351c7a859f",
   "metadata": {},
   "source": [
    "1. Classical Conditioning - humans learn to associate events or stimuli that repeatedly happen together. Eg. humans know that if our body feels hot and shivers, it means they have cold - in most cases cold is associated with shivering and high temperature. This can be similar to a supervised ML technique where a given set of features and target is trained and then machine can identify similar patterns and group them accordingly. \n",
    "2. Operant Conditioning - a response is associated with a consequence. Eg. a dog is trained by giving a treat when it listens to the human. This type of human learning is the ML eqiuvalent of Reinforcement Learning where an agent learns by getting a reward for each correct action and is penalized for wrong actions."
   ]
  },
  {
   "cell_type": "markdown",
   "id": "b3f258bf-1645-43d8-af5e-5af9b816811b",
   "metadata": {},
   "source": [
    "### 3. What is machine learning, and how does it work? What are the key responsibilities of machine learning?"
   ]
  },
  {
   "cell_type": "markdown",
   "id": "7dc27faa-f9c7-4605-9107-e0b2adac50e3",
   "metadata": {},
   "source": [
    "Machine learning refers to the capabality of machines to learn to perform tasks that humans perform either with comparable accuracy or better than the humans. Machines are trained with a lot of data from which they learn patterns just as humans and then they predict based on the patterns learnt. \n",
    "Various Responsibilities in ML are:\n",
    "1. understanding problem domain\n",
    "2. collecting the data which is clean and represented properly\n",
    "3. choosing the right algo\n",
    "4. training the model\n",
    "5. evaluating the predictions\n",
    "6. deployment"
   ]
  },
  {
   "cell_type": "markdown",
   "id": "863f7d99-2c1e-42f2-9151-328e6c134761",
   "metadata": {},
   "source": [
    "### 4. Define the terms \"penalty\" and \"reward\" in the context of reinforcement learning."
   ]
  },
  {
   "cell_type": "markdown",
   "id": "b60ac520-78d9-40d5-a9b5-404a149d8226",
   "metadata": {},
   "source": [
    "In reinofrcement learning, there is an agent, a set of states-S, a set of actions-A and an environment-E.\n",
    "1. Reward - for a particular state, the agent chooses an action from the set A. If that action has a positive outcome or a good result, then the agent receive a reward from the environment. It is numerical value that guides the agent to the optimal behaviour and that it should proceed with the action.\n",
    "2. Penalty - when the agent chooses an aciton that yield a negative outcome, the agent gets a penalty. This penalty tells the agent not to take this action in the future."
   ]
  },
  {
   "cell_type": "markdown",
   "id": "0846994c-43d8-4872-b36a-739e7d149c38",
   "metadata": {},
   "source": [
    "### 5. Explain the term \"learning as a search\"?"
   ]
  },
  {
   "cell_type": "markdown",
   "id": "c96a400a-3bf5-4016-b92d-a45aae32147f",
   "metadata": {},
   "source": [
    "Learning as a search indicates that the learning is a process of searching through a set of candidate solutions to the problem and then finding the optimal solution to the problem. In ML, a set of hypothesis is searched - each hypothesis is scored and the most optimal hypothesis that either maximizes the objective funciton or minimizes the cost function is chosen."
   ]
  },
  {
   "cell_type": "markdown",
   "id": "c7a852fe-77a5-49b4-8cc5-80bcd04ac376",
   "metadata": {},
   "source": [
    "### 6. What are the various goals of machine learning? What is the relationship between these and human learning?"
   ]
  },
  {
   "cell_type": "markdown",
   "id": "01825a10-3518-4b66-a9f6-fce96f0b5c25",
   "metadata": {},
   "source": [
    "Goals of ML are:\n",
    "1. learn patterns from observed data\n",
    "2. learn to generalize the patterns to predict unseen data\n",
    "3. learn from experience, i.e as new data is provided it should adjust model parameters to fit such data to increase accuracy\n",
    "\n",
    "Human and Machine learning is closely related because ML was inspired by the human cognitive process. For eg. the concept of how humans label and group similar data together is how supervised learning also works. Reinforcement learning is also similar to how humans do task in a way they are rewarded and avoid tasks that penalizes them."
   ]
  },
  {
   "cell_type": "markdown",
   "id": "d89efc42-30e7-434a-a706-ae710b92d21b",
   "metadata": {},
   "source": [
    "### 7. Illustrate the various elements of machine learning using a real-life illustration."
   ]
  },
  {
   "cell_type": "markdown",
   "id": "9662da54-909b-4fa3-aeeb-45c9d786b459",
   "metadata": {},
   "source": [
    "Let's say, a machine learning model is to be created which predict whether a person has heart disease or not. So the ML elements in this situatino are:\n",
    "1. Problem define - to create a model which can predict accurately heart disease or not\n",
    "2. data - data has to be collected from hospitals, clinics etc. which contain such features\n",
    "3. feature engineering - data is refined - cleaning takes place to remove unneccesary data or duplicate data, fill missing values\n",
    "4. choose appropriate ML algo - based on the current problem, a supervised classification ML algo has to be chosen.\n",
    "5. choose loss and accuracy metrics\n",
    "6. train the model - model is trained for certain iterations with the aim to reduce loss in each iteration while increasing accuracy\n",
    "7. score the model - make predictions using the trained model on unseen data and calculate accuracy\n",
    "8. continuous learning - ML should be a continuous process where machine learns continuously from new data"
   ]
  },
  {
   "cell_type": "markdown",
   "id": "4f3a0e42-6df5-4b1f-ba8f-075c6153f0a4",
   "metadata": {},
   "source": [
    "### 8. Provide an example of the abstraction method."
   ]
  },
  {
   "cell_type": "markdown",
   "id": "655f8f57-62a6-4804-a0fd-e03d0b85538d",
   "metadata": {},
   "source": [
    "Abstraction is one of the core concepts in OOP. It is used to hide the internal structure of program and show only the necessary parts. It is used to make the program easily understandable and manageable. In ML, APIs are used to provide high level funcitonalities to developers with ease of use. Pre-trained models can be trained on custom data where the user need not worry about the model architecture. In programming, private and public attributes and functions are used for the purpose of hiding internal data. "
   ]
  },
  {
   "cell_type": "markdown",
   "id": "d50983e0-3149-4d1e-aae2-8614b3703d82",
   "metadata": {},
   "source": [
    "### 9. What is the concept of generalization? What function does it play in the machine learning process?"
   ]
  },
  {
   "cell_type": "markdown",
   "id": "ab3e5665-548d-4284-a764-74f7092a3ecb",
   "metadata": {},
   "source": [
    "Generalization is the capabilty to classify(generalize) new data accurately and group them with similar-property gorup. In ML, a model is robust if it's generalization capability is good, i.e on unseen data, it can accurately predict correctly. For eg. a machine has to classify handwriting - no 2 people may have exact same handwriting. 1 person writes in block letters and the other writes in cursive. A good model will classify the letter A of both persons the same every time with comparable accuracy. But a less trained model may sometimes predict the same for both the persons and most of the times the accuracy is not comparable, i.e. there will be a huge difference in the accuracies"
   ]
  },
  {
   "cell_type": "markdown",
   "id": "59f7eb80-7acb-476f-865e-9a8ca99f0a3f",
   "metadata": {},
   "source": [
    "### 10. What is classification, exactly? What are the main distinctions between classification and regression?"
   ]
  },
  {
   "cell_type": "markdown",
   "id": "034b43fc-c660-46f5-acda-8867b4fc6c1b",
   "metadata": {},
   "source": [
    "Classification is the process of categorizing data into specific classes. The classes are predefined categories. The main distinction between classificaiton and regression is the type of target variables. In classificaiton, the target is of discrete categorical type while in regression, the target is of continuous numerical data type."
   ]
  },
  {
   "cell_type": "markdown",
   "id": "918d37a9-0853-453a-ae17-3c317ff47d99",
   "metadata": {},
   "source": [
    "### 11. What is regression, and how does it work? Give an example of a real-world problem that was solved using regression."
   ]
  },
  {
   "cell_type": "markdown",
   "id": "fff914c3-dadf-42d7-a979-49da0265ca2c",
   "metadata": {},
   "source": [
    "In stats, regression refers to the measure of relation between 2 or more independant variables and a dependant variable. It is the same in ML. It is a supervised technique where a continuous value is predicted by creating a best fit line that passes through most of the data points. Error is added knnowingly to increase generalization. For eg. we want predict the no. of marks (target) obtained in an exam by knowing the no. of hours (feature) studied. The general trend in a real-world is more the no. of hours, more is the marks. So is the case here. The best fit line has a positive slope and a positive correlation. There may be outliers also, exceptions like someone studies more but scored less. The best fit line introduces some bias in such cases so that it can fit this data and then make the prediciton better. "
   ]
  },
  {
   "cell_type": "markdown",
   "id": "b04683fe-01b4-428a-a34a-64d57f3aed99",
   "metadata": {},
   "source": [
    "### 12. Describe the clustering mechanism in detail."
   ]
  },
  {
   "cell_type": "markdown",
   "id": "74a24fb3-3f52-4f00-85c6-0babcd543269",
   "metadata": {},
   "source": [
    "Clsutering is simply grouping data based on similar properties. All data within 1 group will have same or similar properties. And data from 1 group will be clearly distinguishable from data of another group based on the given properties. Clustering is am unsupervised technique where the aim to group unlabelled data into groups."
   ]
  },
  {
   "cell_type": "markdown",
   "id": "670a239a-de1f-4833-81d5-0d8cec01accf",
   "metadata": {},
   "source": [
    "### 13. Make brief observations on two of the following topics:\n",
    "i. Machine learning algorithms are used\n",
    "\n",
    "ii. Studying under supervision\n",
    "\n",
    "iii. Studying without supervision\n",
    "\n",
    "iv. Reinforcement learning is a form of learning based on positive reinforcement.\n"
   ]
  },
  {
   "cell_type": "markdown",
   "id": "6343a29c-7cff-44aa-bf0f-762b88050bb6",
   "metadata": {},
   "source": [
    "##### ii. Studying under supervision\n",
    "Studying under supervision refers to the supervised learning method. In this method, data is labelled, i.e we have some features and we also have the target. For eg. we as humans know about cars, so if we see an object that has 4 wheels - windows - outside mirrors - is painted in some color - has lights in the front - has wipers on the front windshield - has brake lights - has exhaust, all these are features of that object - then we will identify that object as a car. This is studying under supervision. The opposite case is studying without supervision. In this we will only have data. For eg. many humans do not know about all breeds of dogs. So if an unknown breed of dog is shown, most humans will generalize it as a dog. This is without supervision. But with supervision, the humans would have knowledge about the exact species of that dog. For eg. a zoologist or a dog-lover. "
   ]
  },
  {
   "cell_type": "markdown",
   "id": "7b0e4f7a-dff5-48f3-ab60-db0fd44115a6",
   "metadata": {},
   "source": [
    "##### iv. Reinforcement learning is a form of learning based on positive reinforcement.\n",
    "In reinforcement learning, the learning is purely and completely based on reinforcement, that is the consequence of the action. The agent learns from each reward (postive outcome) it receives for each good step. If the agent receives a reward, it learns to take such action in similar state whereas when the agent receives a penalty(punishment) for a bad step, it does not learn this state-action pair. Therefore, RL is a form of learning based on positive reinforcement."
   ]
  }
 ],
 "metadata": {
  "kernelspec": {
   "display_name": "Python 3 (ipykernel)",
   "language": "python",
   "name": "python3"
  },
  "language_info": {
   "codemirror_mode": {
    "name": "ipython",
    "version": 3
   },
   "file_extension": ".py",
   "mimetype": "text/x-python",
   "name": "python",
   "nbconvert_exporter": "python",
   "pygments_lexer": "ipython3",
   "version": "3.11.5"
  }
 },
 "nbformat": 4,
 "nbformat_minor": 5
}
