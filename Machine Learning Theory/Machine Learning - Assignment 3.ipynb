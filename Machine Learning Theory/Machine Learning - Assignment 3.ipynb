{
 "cells": [
  {
   "cell_type": "markdown",
   "id": "1b466093-4caa-41c3-985f-d7136e900b25",
   "metadata": {},
   "source": [
    "# Machine Learning - Assignment 3"
   ]
  },
  {
   "cell_type": "markdown",
   "id": "6431c949-2e14-4ff6-bde7-8a30f7e15fac",
   "metadata": {},
   "source": [
    "### 1.Explain the term machine learning, and how does it work? Explain two machine learning applications in the business world. What are some of the ethical concerns that machine learning applications could raise?"
   ]
  },
  {
   "cell_type": "markdown",
   "id": "895eeb5d-d9c7-401d-acb8-2cf32f3c1693",
   "metadata": {},
   "source": [
    "Machine learning is the capablity of machines by which they learn patterns, relations between data and use it to predict unseen data. It is a subset of AI which provides algo to learn these patterns and relations. It works by learning features and target of huge data. It is initialized with a weight and bias and then in each iteration, it adjusts the weight and bias to better fit the data, therby reducing the loss.\n",
    "\n",
    "Applications in Business:\n",
    "1. fraud detection - By learning about normal behaviour in financial transactions, the ML model can detect when an abnormal behaviour i.e. a fraud activity is taking place.\n",
    "2. sentiment analysis - analyze comments, tags or statements given by users on a specific product. This analysis can be used to guide the business as to which product users are into more or which product cater to which age group etc.\n",
    "\n",
    "Ethical Concerns:\n",
    "1. privacy issues - ML is data hungry. The data that is provided must not have confidential info. And if it is required, then also measures must be taken by the entity that data leakage does not happen to some 3rd party.\n",
    "2. unfair - if data about certain category is less, then predictions about that category will be less accurate, meaning business decisions cannot be taken for that category with good precision.\n",
    "3. lack of transparency - many ML algo are unable to explain the course of their training and how they predict something. this lack of transparency can raise concerns in fields like business or healthcare. "
   ]
  },
  {
   "cell_type": "markdown",
   "id": "5aea055f-1958-47fe-9cf4-474e7f6f6bac",
   "metadata": {},
   "source": [
    "### 2. Describe the process of human learning:\n",
    "i. Under the supervision of experts\n",
    "\n",
    "ii. With the assistance of experts in an indirect manner\n",
    "\n",
    "iii. Self-education"
   ]
  },
  {
   "cell_type": "markdown",
   "id": "7f04a0f6-a193-4b45-b663-20f8a8a3bde4",
   "metadata": {},
   "source": [
    "### 3. Provide a few examples of various types of machine learning."
   ]
  },
  {
   "cell_type": "markdown",
   "id": "9039d7fa-ba92-4fb3-b0af-8ed284e63e3e",
   "metadata": {},
   "source": [
    "##### Supervised learning\n",
    "1. predicting heart disease - model is fed features like age, sex, blood pressure etc along with their corresponding output whether the person has heart problem or not. This labelled data is used to predict new unseen data.\n",
    "2. predicting house price\n",
    "##### Unsupervised learning\n",
    "1. anomaly detection\n",
    "2. clustering analysis\n",
    "##### reinforcement learning\n",
    "1. chess playing machine\n",
    "2. robot path guiding\n"
   ]
  },
  {
   "cell_type": "markdown",
   "id": "d9aa07ce-85b2-4aac-ab6c-4aa12ca3bd2e",
   "metadata": {},
   "source": [
    "### 4. Examine the various forms of machine learning."
   ]
  },
  {
   "cell_type": "markdown",
   "id": "0e35d893-b649-49a9-8212-8641cdba41c2",
   "metadata": {},
   "source": [
    "There are 3 main forms of ML:\n",
    "1. Supervised Learning - labelled data containing both features and targets are provided to the model.\n",
    "2. Unsupervised learning - unlabelled data which only contains features are provided to the model.\n",
    "3. Reinforcement learning - machine learns by itself by the award it recieves for each action. Each good step gives a reward while a bad step gives a penalty"
   ]
  },
  {
   "cell_type": "markdown",
   "id": "aa2d41fb-998e-46c7-aa2c-4cac96d5f80a",
   "metadata": {},
   "source": [
    "### 5. Can you explain what a well-posed learning problem is? Explain the main characteristics that must be present to identify a learning problem properly."
   ]
  },
  {
   "cell_type": "markdown",
   "id": "d89f627e-8738-4c2a-88a7-24917abe4bb6",
   "metadata": {},
   "source": [
    "Well-posed learning states that a machine that performs a set of tasks-T with performance-P learns from experience-E, i.e. with the increase in E, the machine's performance-P on that particular task-T also increases.\n",
    "A learning problem must have 3 main traits :\n",
    "1. task, T - lets say task is to win chess game against other players.\n",
    "2. performance metric, P - performance will be the percentage of games it wins against AI or real players\n",
    "3. experience, E - experience is the no. of games it plays"
   ]
  },
  {
   "cell_type": "markdown",
   "id": "5b9c0ae4-12c9-41dd-994a-4632ea982199",
   "metadata": {},
   "source": [
    "### 6. Is machine learning capable of solving all problems? Give a detailed explanation of your answer."
   ]
  },
  {
   "cell_type": "markdown",
   "id": "5af8e815-5e26-48f3-aad0-ffcb0a4424f6",
   "metadata": {},
   "source": [
    "No, ML itself is not capable of solving all problems. ML just provides some algorithms based on maths which can be further refined based on the task we are to perform. ML is a small subset of the huge set Data Science. In order to solve complex problems, we have to use advanced concepts and techniques. For eg. today the application of computer vision is growing more and more. We can't just use a traditional ML model to use Computer Vision because on images and videos, the ML models could take a lot of time and resource. That is why we have another set Deep Learning which involves the CNN architecture for using on image and videos. Similarly various tasks need various techniques. ML has provided the base for solving many such problems."
   ]
  },
  {
   "cell_type": "markdown",
   "id": "f2016028-70ae-4b9f-832f-bd4d6e7bd96f",
   "metadata": {},
   "source": [
    "### 7. What are the various methods and technologies for solving machine learning problems? Any two of them should be defined in detail."
   ]
  },
  {
   "cell_type": "markdown",
   "id": "71806b2c-d9b5-4a3b-a3ed-c745f867d053",
   "metadata": {},
   "source": [
    "Various methods used to solve ML problems are decision tree learning, support vector machines, linear regression, logistic regression, PCA, etc. 2 technologies that allow us to perform these methods are:\n",
    "1. Tensorflow:\n",
    "   \n",
    "TensorFlow is an open-source software library for building neural networks. Google Brain team was the one who built it and it is the most popular deep learning library in the market today. Tensorflow is made of tensor-meaning multi-dimensional array and flow-representing continuous flow of data. TensorFlow can train and run the deep neural networks for image recognition, handwritten digit classification, recurrent neural network, word embedding, natural language processing, video detection, and many more. TensorFlow is run on multiple CPUs or GPUs and also mobile operating systems. TensorFlow makes use of a graph framework. TensorFlow library integrates different high level API (Keras for eg.) to create and scale deep learning architecture like CNN or RNN . TensorFlow is based on graph computation. The chart gathers and describes all the computations done during the training. It can allow the developer to create the construction of the neural network with Tensorboard. This tool helps debug our program. It runs on CPU (Central Processing Unit) and GPU (Graphical Processing Unit). Using tensorflow is easy as it provides all necessary modules required to easily create decision tree models, svm, CNN, etc.\n",
    "\n",
    "2. Pytorch:\n",
    "\n",
    "PyTorch is an open-source machine learning library developed by Facebook's AI Research lab (FAIR). It is widely used for building and training deep learning models. In many ways, pytorch is similar to tensorflow as pytorch also works on tensors. The major difference between both is that pytorch makes use of dynamic computational graph. Unlike tensorflow's graph, PyTorch builds a new computational graph on-the-fly during each forward pass and it automatically calculates gradients during the backward pass. This dynamic approach is beneficial for tasks involving varying input sizes or dynamic structures. It also makes the graph more intuitive and easier for debugging. PyTorch provides a rich set of neural network building blocks in the torch.nn module. These include layers, activation functions, loss functions, and optimization algorithms. \r\n",
    "Users can easily define and customize neural network architectures using PyTorch's modular design. Each component can be subclassed and modified, providing flexibility and ease of experimentation."
   ]
  },
  {
   "cell_type": "markdown",
   "id": "f33ed8ba-2b82-4f6f-93d5-b7a6e1b364bf",
   "metadata": {},
   "source": [
    "### 8. Can you explain the various forms of supervised learning? Explain each one with an example application."
   ]
  },
  {
   "cell_type": "markdown",
   "id": "045e00f7-4735-450b-8afa-a845d026e48f",
   "metadata": {},
   "source": [
    "Supervised learning is largely divided in the below 2 forms:\n",
    "1. Regression - it is used in predicting a continuous numerical value based on the given input features. One simple example is predicting house prices. The features required to predict a house price could be location, size, no. of rooms, ammenities nearby etc. What a regression algo will do is try to find correlation b/w these features and the target feature, i.e. house price. The regression algo creates a best fit line which helps in predicting price based on new input features.\n",
    "2. Classification - It is used in predicting a discrete categorical or a numerical value based on the given input features. Eg. we want to classify mail as spam or not spam. Unlike regression where best fit line finds correlation, the classification algo creates a best fit line in a way that divides the 2 classes - spam and no spam. All or most of the spam data will lie in one half and the no-spam in the other half. When a new data arrives, the region it lies in will decide which class it belongs to"
   ]
  },
  {
   "cell_type": "markdown",
   "id": "12d0df3e-0d24-433f-bfac-5408509229a8",
   "metadata": {},
   "source": [
    "### 9. What is the difference between supervised and unsupervised learning? With a sample application in each region, explain the differences."
   ]
  },
  {
   "cell_type": "markdown",
   "id": "25fe2c6b-5d07-428f-bbf8-7e8c90074b51",
   "metadata": {},
   "source": [
    "Supervised learning - there is supervision involved, meaning, the data contains independant features(labels) along with the corresponding dependant feature(target).\n",
    "\n",
    "Unsupervised learning - there is no supervision involved, meaning, the data contains merely data known as labels and no target is provided. It is the machine's task to identify relations in the data if any or group similar data together."
   ]
  },
  {
   "cell_type": "markdown",
   "id": "81816f84-3674-47bb-aff4-1c204e21633e",
   "metadata": {},
   "source": [
    "### 10. 1. Describe the machine learning process in depth."
   ]
  },
  {
   "cell_type": "markdown",
   "id": "9fcaeaca-4307-4c57-abe3-b61cf5813add",
   "metadata": {},
   "source": [
    "1. Identify problem statement - ML can be applied to various tasks. Identify your problem statement as to if ML is needed. If yes, identify data sources, algorithms required etc.\n",
    "2. Collect Data - gather data, either from available repositories or gather them yourselves by observations, reviews, surveys, etc.\n",
    "3. Clean the Data - the gathered data may not be directly suited to be trained. Things like missing values, data types need to be verified and data has to be cleaned before giving it to the model for training\n",
    "4. Selection of the appropriate model - choosing the right model is crucial for getting good results. Choose a model that suits the problem statement and can help solving it.\n",
    "5. Train the model - train the model for appropriate no. of iterations taking into account overfitting and underfitting.\n",
    "6. Test the model - test the model on new data to measure the performance of the model.\n",
    "7. Retrain - retraine by making the necessary changes, if any, else you can proceed.\n",
    "8. Deployment and Continuous Maintenance - ML is a continuous process. Once deployed, the model is continously monitored and updated as new data comes"
   ]
  },
  {
   "cell_type": "markdown",
   "id": "c03e0841-1331-45e7-a9ff-760d30ffa12e",
   "metadata": {},
   "source": [
    "### 10. 2. Make brief notes on any two of the following:\n",
    "    i. MATLAB is one of the most widely used programming languages.\n",
    "    ii. Deep learning applications in healthcare\n",
    "    iii. Study of the market basket\n",
    "    iv. Linear regression (simple)"
   ]
  },
  {
   "cell_type": "markdown",
   "id": "af68f456-607f-4270-a1e3-a29cc3973219",
   "metadata": {},
   "source": [
    "ii. Deep learning applications in healthcare : Deep learning has found many applications in the healthcare industry. The ability of DL models to identify complex patterns has helped doctors in assistance in the medical field. \n",
    "1. Most used application is the medical imaging - CT scans, MRI. DL helps in diagnosing what problem a person might have based on the scans. For eg. diagnosing cancer.\n",
    "2. Medical Chatbots - virtual assistants have been deployed on the net to provide common man to identify and diagnose himself at home. General health remedies, scheduling appointment and much more can be done via such chatbots.\n",
    "3. Doctors Assistance - just as chatbots help a common man, DL is also used to assist doctors in making more accurate diagnosis and a quicker diagnose using the help of machines.\n",
    "\n",
    "iv. Linear Regression : The simple linear regresion or SLR is based on the line equation y = mx+c. In SLR the main objective is to create the best fit line such that it passes through majority of the data points. As the name regression imnplies, linear regresion is used to find relation between 2 or more variables. It does this by finding correlation between the dependant and independant features. "
   ]
  },
  {
   "cell_type": "markdown",
   "id": "7065865a-9c90-4c6e-8fe8-627e023211b3",
   "metadata": {},
   "source": [
    "### 11. Make a comparison between:-\n",
    "1. Generalization and abstraction\n",
    "\n",
    "2. Learning that is guided and unsupervised\n",
    "\n",
    "3. Regression and classification\n"
   ]
  },
  {
   "cell_type": "markdown",
   "id": "1e5bf8f8-a200-4351-a0b3-410d428613b3",
   "metadata": {},
   "source": [
    "1. Generalization and abstraction : generalization means abilty of a model to predict new and unseen data points accurately. The model's generalization capability determines it's performance. If the model predicts accuratley, unseen data, it means model successfully learn the underlying patterns from the training data. Abstraction on the other hand means hiding complex information such in-depth model architecture details so as to make it more understandable and reduce complexity. A model's usefulness and understandability can increase if it has abstraction at the lower levels.\n",
    "2. Learning that is guided and unsupervised : A guided learning, otherwise known as supervised learning learns from the the pair of input-output values. The model has some data points with theri corresponding outputs and the model learns the underlying patterns. An unsupervised learning, on the other hand is fed only the input data. The model itseld tries to find some pattern if any and associate and group similar data points.\n",
    "3. Regression and classification : Regression is used to find relationship between 2 or more variables. It is used to predict a continuous output value based on the given input feautures. Classification, on the other hand is used to classify data points into som predefined categories or classes. It us used to predict discret categorical or numerical output values."
   ]
  }
 ],
 "metadata": {
  "kernelspec": {
   "display_name": "Python 3 (ipykernel)",
   "language": "python",
   "name": "python3"
  },
  "language_info": {
   "codemirror_mode": {
    "name": "ipython",
    "version": 3
   },
   "file_extension": ".py",
   "mimetype": "text/x-python",
   "name": "python",
   "nbconvert_exporter": "python",
   "pygments_lexer": "ipython3",
   "version": "3.11.5"
  }
 },
 "nbformat": 4,
 "nbformat_minor": 5
}
