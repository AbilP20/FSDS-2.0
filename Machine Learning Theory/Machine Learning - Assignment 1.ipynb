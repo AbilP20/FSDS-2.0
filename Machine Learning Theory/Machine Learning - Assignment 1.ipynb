{
 "cells": [
  {
   "cell_type": "markdown",
   "id": "25470b6b",
   "metadata": {},
   "source": [
    "# Machine Learning - Assignment 1"
   ]
  },
  {
   "cell_type": "markdown",
   "id": "22910766",
   "metadata": {},
   "source": [
    "### 1. What does one mean by the term \"machine learning\"?"
   ]
  },
  {
   "cell_type": "markdown",
   "id": "4fa43e51",
   "metadata": {},
   "source": [
    "In the most basic sense, machine learning means the capability of machines to learn from past data and recognize similar patterns using some algorithgms. Further, this concept is extended to allow machines to be trained to automatically learn from the data, sense the environment and update its intelligence without the human intervention."
   ]
  },
  {
   "cell_type": "markdown",
   "id": "7005ff00",
   "metadata": {},
   "source": [
    "### 2.Can you think of 4 distinct types of issues where it shines?"
   ]
  },
  {
   "cell_type": "markdown",
   "id": "522bab4f",
   "metadata": {},
   "source": [
    "1) Traffic prediction - which includes recognition of signs, humans. Advanced usage includes real-time traffic maneuvers guidelines\n",
    "2) Weather forecasting - a simple usecase where past geographic and it's weather data is fed to the machine and it then predicts similar data.\n",
    "3) Recommendation System - recommend similar content based on what type of content that user consumes\n",
    "4) Stock Price Prediction"
   ]
  },
  {
   "cell_type": "markdown",
   "id": "da7ab2d4",
   "metadata": {},
   "source": [
    "### 3.What is a labeled training set, and how does it work?"
   ]
  },
  {
   "cell_type": "markdown",
   "id": "0f05e418",
   "metadata": {},
   "source": [
    "Labeled training dataset is data which includes both the independant labels (feautres) and the dependant labels (target). For eg., if we are to predict if a person has heart disease or not - the independant labels are all those feautres that help the doctors to predict if that person has heart disease and the dependant label is the Yes/No column which tells whther the person has heart disease based on the values of independant features"
   ]
  },
  {
   "cell_type": "markdown",
   "id": "287b4d0a-247c-4cce-8474-2d23518c391b",
   "metadata": {},
   "source": [
    "### 4.What are the two most important tasks that are supervised?"
   ]
  },
  {
   "cell_type": "markdown",
   "id": "0ee85095-a327-4356-8d72-006d9b3eca6e",
   "metadata": {},
   "source": [
    "1. Classification - predicting discrete valued target\n",
    "2. Regression - predicting continuous valued target"
   ]
  },
  {
   "cell_type": "markdown",
   "id": "1794a535-37b7-4a36-af56-ef95e6cb0719",
   "metadata": {},
   "source": [
    "### 5.Can you think of four examples of unsupervised tasks?"
   ]
  },
  {
   "cell_type": "markdown",
   "id": "4fc4a6e3-a884-464a-aa97-11d0ce022388",
   "metadata": {},
   "source": [
    "1. Clustering - grouping data based on similar properties\n",
    "2. Assocation - associating the unknown data or finding patterns and relationships between variables\n",
    "3. Anomaly Detection - finding unusual patterns in the data\n",
    "4. Dimensionality Reduction - reducing complex data into a simpler version of the data by retaining only the valuable features"
   ]
  },
  {
   "cell_type": "markdown",
   "id": "f0531e3d-fa68-4a9c-b57c-544f1fc0e7ec",
   "metadata": {},
   "source": [
    "### 6.State the machine learning model that would be best to make a robot walk through various unfamiliar terrains?"
   ]
  },
  {
   "cell_type": "markdown",
   "id": "7c41bc8a-ac18-4f75-9a93-3bd030a25553",
   "metadata": {},
   "source": [
    "Reinforcement Learning is the best to make robots familiarize with the environment. By using RL, the robot will learn which is the best way to walk by getting rewarded for every good step and getting penalized for every bad step."
   ]
  },
  {
   "cell_type": "markdown",
   "id": "60bd08f5-9d7f-4174-b38d-1c9d6f234a86",
   "metadata": {},
   "source": [
    "### 7.Which algorithm will you use to divide your customers into different groups?"
   ]
  },
  {
   "cell_type": "markdown",
   "id": "b2e5b4da-b24b-430e-82d7-5651e14f3627",
   "metadata": {},
   "source": [
    "The unsupervised technique - Clustering should be used to divide customers into groups. "
   ]
  },
  {
   "cell_type": "markdown",
   "id": "72846051-0089-4f51-b120-d3149c57b6a1",
   "metadata": {},
   "source": [
    "### 8.Will you consider the problem of spam detection to be a supervised or unsupervised learning problem?"
   ]
  },
  {
   "cell_type": "markdown",
   "id": "e143ad28-f011-4e6b-843c-18c2a56ed52f",
   "metadata": {},
   "source": [
    "Spam Detection is a supervised learning problem. To be more specific, it is a classification task where the data has to be classified as 'spam' or 'not spam'. It is a binary classification problem."
   ]
  },
  {
   "cell_type": "markdown",
   "id": "b37d2d20-d518-496a-a21b-529abc0afdf4",
   "metadata": {},
   "source": [
    "### 9.What is the concept of an online learning system?"
   ]
  },
  {
   "cell_type": "markdown",
   "id": "a7992dd2-ca40-4a20-8dd1-45784702f245",
   "metadata": {},
   "source": [
    "Online Learning System is machine learning paradigm wherein the model learns data in real-time and updates the model parameter in real-time. In traditional approach, the batch-processing, the data is fully provided to the model in batches and in the end, we get a trained model. This approach can be computationally costly and time taking and in some cases may not be suitable to the ever changing real-time data. \n",
    "\n",
    "The online learning system, also known as incremental learning, takes small number of data points (could be 1 data point or a small number of data points). These data points are real-world data. The model updates the weights based on these data. This process is repeated for each new data. It is a continuous and sequential process. This approach makes the model to better adapt to the ever-changing data. Such approach can be used in the financial fields with respect to stocks or the fraud detection task."
   ]
  },
  {
   "cell_type": "markdown",
   "id": "36fd1cb9-3a3d-48bc-af1d-eb91577488ce",
   "metadata": {},
   "source": [
    "### 10.What is out-of-core learning, and how does it differ from core learning?"
   ]
  },
  {
   "cell_type": "markdown",
   "id": "05002001-6240-4bea-bd2a-69d4f601e612",
   "metadata": {},
   "source": [
    "Out-of-core learning, also known as external memory learning is a concept that is used when the data is too large to fit the RAM. If data does not fit the RAM, then accesing data from the auxilliary memory would be too time-taking and would not be suitable if that data has to be accesed multiple times. Out-of-core learning algorithm fetches data in smaller batches from the HDD, fetching and removing the data as and when needed.\n",
    "\n",
    "In In-core learning, the data fits neatly and completely in the RAM. It is typically fast and computationally efficient as data can be quickly accesed from the RAM."
   ]
  },
  {
   "cell_type": "markdown",
   "id": "70ec82c3-688c-4670-a606-5bb6e3762831",
   "metadata": {},
   "source": [
    "### 11.What kind of learning algorithm makes predictions using a similarity measure?"
   ]
  },
  {
   "cell_type": "markdown",
   "id": "a0902b0b-1f7e-4c77-ab2a-e631700ee8e2",
   "metadata": {},
   "source": [
    "Intance Based Learning algorithms make use of similar-property feature values for prediction. K-nearest neigbour (KNN) and locally weighted regression (LWR) are some examples of instance based learning algo. These algo use distance measures like euclidian and manhattan distance to find the distance of new data from the other data. Then using some parameters, it predicts the new data by finding which data point(s) closely resemble the new data. "
   ]
  },
  {
   "cell_type": "markdown",
   "id": "5bcf9e4d-fc71-4111-9373-a65d8af0f7e5",
   "metadata": {},
   "source": [
    "### 12.What's the difference between a model parameter and a hyperparameter in a learning algorithm?"
   ]
  },
  {
   "cell_type": "markdown",
   "id": "8c7861ec-e79b-48bd-88ea-3e2d95489b46",
   "metadata": {},
   "source": [
    "Model parameter are the parameters that are set and updated by the model itself. It is implcit and does not need any human aid. For eg. the weights and biases that are updated by the model in each iteration.\n",
    "\n",
    "Hyperparameter are external parameters that are set by the user which directs the training procedure of the model. Different values of hyperparameter can highly affect the model performance. For eg. the learning rate and no. of epochs are examples of hyperparameter. The model parameters are set differntly based on the hyperparameter set by the user. Methods like cross-validation are used to find the appropriate set and values of hyperparameters."
   ]
  },
  {
   "cell_type": "markdown",
   "id": "4d0be1ab-8f0b-4a3e-9d6d-e70b384315c2",
   "metadata": {},
   "source": [
    "### 13.What are the criteria that model-based learning algorithms look for? What is the most popular method they use to achieve success? What method do they use to make predictions?"
   ]
  },
  {
   "cell_type": "markdown",
   "id": "7b850126-5d71-4531-9fa3-f1070d087507",
   "metadata": {},
   "source": [
    "### 14.Can you name four of the most important Machine Learning challenges?"
   ]
  },
  {
   "cell_type": "markdown",
   "id": "7ed27bcb-48bd-4d97-9b02-a8e32ee1141e",
   "metadata": {},
   "source": [
    "1. overfitting - correct model config, which does not overfit is difficult to find. It needs lot of experimentation.\n",
    "2. computational costs - as the dimension and complexity of data along with no. of data increases, the cost to train model increases\n",
    "3. data to be fed to the model must be first cleaned and properly formatted for the particular ML technique used, which can be very time-taking\n",
    "4. most important challenge is the lack of data - ML is data hungry. More data means model can learn more but such huge data is not easy to find."
   ]
  },
  {
   "cell_type": "markdown",
   "id": "4f50507f-4a01-4463-81c4-18159d3e1028",
   "metadata": {},
   "source": [
    "### 15.What happens if the model performs well on the training data but fails to generalize the results to new situations? Can you think of three different options?"
   ]
  },
  {
   "cell_type": "markdown",
   "id": "060fd947-159c-4061-abdc-e28af760a986",
   "metadata": {},
   "source": [
    "If model is performing well of training data but does not generalize new data, it means the model is overfit. To get a generalized model and reduce overftting we can consider below options:\n",
    "1. change the model architecture and experiment with different set of hyperparameters.\n",
    "2. reduce the number of epochs\n",
    "3. increase the training data"
   ]
  },
  {
   "cell_type": "markdown",
   "id": "b34ac9d9-a006-43db-aaab-d8b406695884",
   "metadata": {},
   "source": [
    "### 16.What exactly is a test set, and why would you need one?"
   ]
  },
  {
   "cell_type": "markdown",
   "id": "be95cf2a-b938-458b-a3a0-5bf02fe7308c",
   "metadata": {},
   "source": [
    "Test set is the dataset that contains similar featured data like the training data. It does not contain any training data instead contains new and unseen data. Test set is used to test the trained model's generalization capabilities. If the model gets correct predicitons for most of the test set, then the model is said to genralize well and is a good model. But if the model does not predict correctly most of the test set, then the model is either underfit or overfit and should be trained again."
   ]
  },
  {
   "cell_type": "markdown",
   "id": "fdc5fd2c-1d7a-4aa9-990a-bcddbf4ce5c4",
   "metadata": {},
   "source": [
    "### 17.What is a validation set's purpose?"
   ]
  },
  {
   "cell_type": "markdown",
   "id": "d204e81d-934f-4189-8201-f5998b8a9b02",
   "metadata": {},
   "source": [
    "Validation set is used to evaluate the model's accuracy and loss in each iteration of training. Validation set contains unseen data from training set. In each iteration, model tests the accuracy and loss by predicting on the validation set. It is useful in fine-tuning the model weights and biases. "
   ]
  },
  {
   "cell_type": "markdown",
   "id": "2a6eca68-ec13-4c6e-a846-821c05615818",
   "metadata": {},
   "source": [
    "### 18.What precisely is the train-dev kit, when will you need it, how do you put it to use?"
   ]
  },
  {
   "cell_type": "markdown",
   "id": "c2132c6b-5745-42f5-b01e-730b9adc3f0d",
   "metadata": {},
   "source": [
    "The train-dev kit is used to get train and dev sets of data. Dev set is used to compare the accuracy of different versions of the model find which model should be used further. "
   ]
  },
  {
   "cell_type": "markdown",
   "id": "19b6f68d-d4e4-40ca-a811-bfadeaed5793",
   "metadata": {},
   "source": [
    "### 19.What could go wrong if you use the test set to tune hyperparameters?"
   ]
  },
  {
   "cell_type": "markdown",
   "id": "9ba6bd6f-6060-45ae-9f50-b13bba43ee7c",
   "metadata": {},
   "source": [
    "Hyperparameters should never be set based on test sets:\n",
    "1. Data leakage - if test set is again and again seen by the model, then the model's parameters will be updated to fit the test data\n",
    "2. low generalization - model's generalization capability decreases as it wont predict unseen data accurately"
   ]
  }
 ],
 "metadata": {
  "kernelspec": {
   "display_name": "Python 3 (ipykernel)",
   "language": "python",
   "name": "python3"
  },
  "language_info": {
   "codemirror_mode": {
    "name": "ipython",
    "version": 3
   },
   "file_extension": ".py",
   "mimetype": "text/x-python",
   "name": "python",
   "nbconvert_exporter": "python",
   "pygments_lexer": "ipython3",
   "version": "3.11.5"
  }
 },
 "nbformat": 4,
 "nbformat_minor": 5
}
