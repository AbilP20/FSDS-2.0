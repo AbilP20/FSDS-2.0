{
 "cells": [
  {
   "cell_type": "markdown",
   "id": "f70ed92b",
   "metadata": {},
   "source": [
    "# Python Basics - Progamming Assignment 11"
   ]
  },
  {
   "cell_type": "markdown",
   "id": "1c3fee16",
   "metadata": {},
   "source": [
    "### 1.\tWrite a Python program to find words which are greater than given length k?"
   ]
  },
  {
   "cell_type": "code",
   "execution_count": 2,
   "id": "b9f5353e",
   "metadata": {},
   "outputs": [
    {
     "name": "stdout",
     "output_type": "stream",
     "text": [
      "Enter a sentence : Hey there , I am Dhruv from Australia\n",
      "Enter k(length)-value : 4\n",
      "Words greater than length 4 are :\n",
      "there Dhruv Australia "
     ]
    }
   ],
   "source": [
    "string = input(\"Enter a sentence : \").split(\" \")\n",
    "k = int(input(\"Enter k(length)-value : \"))\n",
    "res=[]\n",
    "for i in string:\n",
    "    if len(i)>k:\n",
    "        res.append(i)\n",
    "print(f\"Words greater than length {k} are :\")\n",
    "for i in res:\n",
    "    print(i,end=\" \")"
   ]
  },
  {
   "cell_type": "markdown",
   "id": "c74a09cf",
   "metadata": {},
   "source": [
    "### 2.\tWrite a Python program for removing i-th character from a string?"
   ]
  },
  {
   "cell_type": "code",
   "execution_count": 3,
   "id": "df9cff84",
   "metadata": {},
   "outputs": [
    {
     "name": "stdout",
     "output_type": "stream",
     "text": [
      "Original String : Hey there , I am Dhruv from Austalia\n",
      "Enter the position to remove : 7\n",
      "\n",
      "Postion to remove : 7\n",
      "7th Charatcer = r\n",
      "New String : Hey thee , I am Dhruv from Austalia\n"
     ]
    }
   ],
   "source": [
    "string = \"Hey there , I am Dhruv from Austalia\"\n",
    "print(f\"Original String : {string}\")\n",
    "i = int(input(\"Enter the position to remove : \"))\n",
    "print(f\"\\nPostion to remove : {i}\")\n",
    "print(f\"{i}th Charatcer = {string[i]}\")\n",
    "temp=string[i+1:]\n",
    "string=string[:i]+temp\n",
    "print(f\"New String : {string}\")"
   ]
  },
  {
   "cell_type": "markdown",
   "id": "a849c910",
   "metadata": {},
   "source": [
    "### 3.\tWrite a Python program to split and join a string?"
   ]
  },
  {
   "cell_type": "code",
   "execution_count": 4,
   "id": "49bfd3ec",
   "metadata": {},
   "outputs": [
    {
     "name": "stdout",
     "output_type": "stream",
     "text": [
      "string = Hey there , I am Dhruv from Austalia\n",
      "\n",
      "string = string.split(\" \") = ['Hey', 'there', ',', 'I', 'am', 'Dhruv', 'from', 'Austalia']\n",
      "\n",
      "string = \"_\".join(string) = Hey_there_,_I_am_Dhruv_from_Austalia\n"
     ]
    }
   ],
   "source": [
    "string = \"Hey there , I am Dhruv from Austalia\"\n",
    "print(f\"string = {string}\")\n",
    "#split(delim) is used to split any string acc. to \"delim\"\n",
    "delim = \" \"\n",
    "string = string.split(delim)\n",
    "print(f\"\\nstring = string.split(\\\" \\\") = {string}\")\n",
    "\n",
    "# \"char\".join(string) is used to join strings using \"char\" \n",
    "char = \"_\"\n",
    "string = char.join(string)\n",
    "print(f\"\\nstring = \\\"_\\\".join(string) = {string}\")"
   ]
  },
  {
   "cell_type": "markdown",
   "id": "9933a7c5",
   "metadata": {},
   "source": [
    "### 4.\tWrite a Python to check if a given string is binary string or not?"
   ]
  },
  {
   "cell_type": "code",
   "execution_count": 5,
   "id": "90b176e9",
   "metadata": {},
   "outputs": [
    {
     "name": "stdout",
     "output_type": "stream",
     "text": [
      "01110001 is a binary string\n"
     ]
    }
   ],
   "source": [
    "a = \"01110001\"\n",
    "if set(a)=={'1','0',' '} or set(a)=={'1','0'}:\n",
    "    print(f\"{a} is a binary string\")\n",
    "else:\n",
    "    print(f\"{a} is not a binary string\")"
   ]
  },
  {
   "cell_type": "markdown",
   "id": "fbde20df",
   "metadata": {},
   "source": [
    "### 5.\tWrite a Python program to find uncommon words from two Strings?"
   ]
  },
  {
   "cell_type": "code",
   "execution_count": 6,
   "id": "9c96edd1",
   "metadata": {},
   "outputs": [
    {
     "name": "stdout",
     "output_type": "stream",
     "text": [
      "a = hello I am Rohit . How do you do ?\n",
      "b = Hi I am Rohan . How are you ?\n",
      "\n",
      "Uncommon words are: \n",
      "do, Hi, are, hello, Rohit, Rohan, "
     ]
    }
   ],
   "source": [
    "a = \"hello I am Rohit . How do you do ?\"\n",
    "b = \"Hi I am Rohan . How are you ?\"\n",
    "l1=a.split(\" \")\n",
    "l2=b.split(\" \")\n",
    "print(f\"a = {a}\")\n",
    "print(f\"b = {b}\")\n",
    "l3 = list(set(l1).symmetric_difference(set(l2)))\n",
    "print(\"\\nUncommon words are: \")\n",
    "for i in l3:\n",
    "    print(i,end=\", \")"
   ]
  },
  {
   "cell_type": "markdown",
   "id": "400a0d4e",
   "metadata": {},
   "source": [
    "### 6.\tWrite a Python to find all duplicate characters in string?"
   ]
  },
  {
   "cell_type": "code",
   "execution_count": 7,
   "id": "ca0298a5",
   "metadata": {},
   "outputs": [
    {
     "name": "stdout",
     "output_type": "stream",
     "text": [
      "Original String : \n",
      "I am at my home. I am pursueing B.Tech degree - currently learning ds .\n",
      "\n",
      "Duplicate Character are :\n",
      "I, a, m, t, y, h, e, u, r, s, i, n, g, c, d, l\n"
     ]
    }
   ],
   "source": [
    "a = \"I am at my home. I am pursueing B.Tech degree - currently learning ds .\"\n",
    "dup=[]\n",
    "for i in a:\n",
    "    if i in dup or i in [\" \",\".\"]:\n",
    "        continue\n",
    "    if a.count(i)>1:\n",
    "        dup.append(i)\n",
    "    else:\n",
    "        continue\n",
    "print(f\"Original String : \\n{a}\")\n",
    "print(f\"\\nDuplicate Character are :\")\n",
    "for i in range(len(dup)):\n",
    "    if i==len(dup)-1:\n",
    "        print(dup[i])\n",
    "    else:\n",
    "        print(dup[i],end=\", \")"
   ]
  },
  {
   "cell_type": "markdown",
   "id": "30f81c15",
   "metadata": {},
   "source": [
    "### 7.\tWrite a Python Program to check if a string contains any special character?"
   ]
  },
  {
   "cell_type": "code",
   "execution_count": 8,
   "id": "7dcea0dd",
   "metadata": {},
   "outputs": [
    {
     "name": "stdout",
     "output_type": "stream",
     "text": [
      "Special Character found : !\n",
      "Special Character found : $\n",
      "Special Character found : @\n"
     ]
    }
   ],
   "source": [
    "spc = \"!@#$%^&?|`~\"\n",
    "a = \"Hello bud! gud evening. take 10$. go to @Vini's; buy 1 pack.\"\n",
    "for i in a:\n",
    "    if i in spc:\n",
    "        print(\"Special Character found :\",i)\n"
   ]
  }
 ],
 "metadata": {
  "kernelspec": {
   "display_name": "Python 3 (ipykernel)",
   "language": "python",
   "name": "python3"
  },
  "language_info": {
   "codemirror_mode": {
    "name": "ipython",
    "version": 3
   },
   "file_extension": ".py",
   "mimetype": "text/x-python",
   "name": "python",
   "nbconvert_exporter": "python",
   "pygments_lexer": "ipython3",
   "version": "3.9.13"
  }
 },
 "nbformat": 4,
 "nbformat_minor": 5
}
