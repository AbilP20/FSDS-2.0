{
 "cells": [
  {
   "cell_type": "markdown",
   "id": "e1bd1718",
   "metadata": {},
   "source": [
    "# Python Basics - Progamming Assignment 13"
   ]
  },
  {
   "cell_type": "markdown",
   "id": "695298c1",
   "metadata": {},
   "source": [
    "### 1.Write a program that calculates and prints the value according to the given formula:\n",
    "\n",
    "#### Q = Square root of [(2 * C * D)/H]\n",
    "Following are the fixed values of C and H:\n",
    "\n",
    "C is 50. H is 30.\n",
    "\n",
    "D is the variable whose values should be input to your program in a comma-separated sequence.\n",
    "\n",
    "#### Example\n",
    "\n",
    "Let us assume the following comma separated input sequence is given to the program:\n",
    "\n",
    "100,150,180\n",
    "\n",
    "The output of the program should be:\n",
    "\n",
    "18,22,24\n"
   ]
  },
  {
   "cell_type": "code",
   "execution_count": 1,
   "id": "0306c66a",
   "metadata": {},
   "outputs": [
    {
     "name": "stdout",
     "output_type": "stream",
     "text": [
      "Enter a sequence of comma-separated values : 100,150,180\n",
      "OUTPUT -  18,22,24\n"
     ]
    }
   ],
   "source": [
    "from math import sqrt\n",
    "a = list(map(int,input(\"Enter a sequence of comma-separated values : \").split(\",\")))\n",
    "c=50\n",
    "h=30\n",
    "b=[]\n",
    "for i in a:\n",
    "    q=int(sqrt((2*c*i)/h))\n",
    "    b.append(str(q))\n",
    "print(\"OUTPUT - \",','.join(b))"
   ]
  },
  {
   "cell_type": "markdown",
   "id": "619eb36c",
   "metadata": {},
   "source": [
    "### 2. Write a program which takes 2 digits, X,Y as input and generates a 2-dimensional array. The element value in the i-th row and j-th column of the array should be i*j.\n",
    "\n",
    "Note: i=0,1.., X-1; j=0,1,¡¬Y-1.\n",
    "\n",
    "#### Example\n",
    "\n",
    "Suppose the following inputs are given to the program:\n",
    "\n",
    "3,5\n",
    "\n",
    "Then, the output of the program should be:\n",
    "\n",
    "[[0, 0, 0, 0, 0], [0, 1, 2, 3, 4], [0, 2, 4, 6, 8]] \n",
    "\n"
   ]
  },
  {
   "cell_type": "code",
   "execution_count": 2,
   "id": "b791d961",
   "metadata": {},
   "outputs": [
    {
     "name": "stdout",
     "output_type": "stream",
     "text": [
      "Enter values of x,y : 3,5\n",
      "\n",
      "OUTPUT\n",
      "Matrix Formed is:\n",
      "[[0, 0, 0, 0, 0], [0, 1, 2, 3, 4], [0, 2, 4, 6, 8]]\n"
     ]
    }
   ],
   "source": [
    "x,y=map(int,input(\"Enter values of x,y : \").split(\",\"))\n",
    "matrix=[[i*j for j in range(y)] for i in range(x)]\n",
    "print(f\"\\nOUTPUT\\nMatrix Formed is:\\n{matrix}\")"
   ]
  },
  {
   "cell_type": "markdown",
   "id": "2d0e5c13",
   "metadata": {},
   "source": [
    "### 3.Write a program that accepts a comma separated sequence of words as input and prints the words in a comma-separated sequence after sorting them alphabetically.\n",
    "\n",
    "#### Example\n",
    "Suppose the following input is supplied to the program:\n",
    "\n",
    "without,hello,bag,world\n",
    "\n",
    "Then, the output should be:\n",
    "\n",
    "bag,hello,without,world\n"
   ]
  },
  {
   "cell_type": "code",
   "execution_count": 3,
   "id": "c4965a6f",
   "metadata": {},
   "outputs": [
    {
     "name": "stdout",
     "output_type": "stream",
     "text": [
      "Enter the sequence of words : without,hello,bag,world\n",
      "\n",
      "OUTPUT:\n",
      "bag,hello,without,world\n"
     ]
    }
   ],
   "source": [
    "a=[i for i in input(\"Enter the sequence of words : \").split(\",\")]\n",
    "a.sort()\n",
    "print(f\"\\nOUTPUT:\\n{','.join(a)}\")"
   ]
  },
  {
   "cell_type": "markdown",
   "id": "ea2fef29",
   "metadata": {},
   "source": [
    "### 4. Write a program that accepts a sequence of whitespace separated words as input and prints the words after removing all duplicate words and sorting them alphanumerically.\n",
    "\n",
    "#### Example\n",
    "Suppose the following input is supplied to the program:\n",
    "\n",
    "hello world and practice makes perfect and hello world again\n",
    "\n",
    "Then, the output should be:\n",
    "\n",
    "again and hello makes perfect practice world\n"
   ]
  },
  {
   "cell_type": "code",
   "execution_count": 4,
   "id": "36cc83d1",
   "metadata": {},
   "outputs": [
    {
     "name": "stdout",
     "output_type": "stream",
     "text": [
      "Enter the sequence of whitespace-separated words : hello world and practice makes perfect and hello world again\n",
      "\n",
      "OUTPUT:\n",
      "again and hello makes perfect practice world\n"
     ]
    }
   ],
   "source": [
    "a=list(map(str,input(\"Enter the sequence of whitespace-separated words : \").split(\" \")))\n",
    "b=sorted(set(a))\n",
    "print(f\"\\nOUTPUT:\\n{' '.join(b)}\")"
   ]
  },
  {
   "cell_type": "markdown",
   "id": "dfa63cb6",
   "metadata": {},
   "source": [
    "### 5. Write a program that accepts a sentence and calculate the number of letters and digits.\n",
    "\n",
    "#### Example\n",
    "Suppose the following input is supplied to the program:\n",
    "\n",
    "hello world! 123\n",
    "\n",
    "Then, the output should be:\n",
    "\n",
    "LETTERS 10\n",
    "\n",
    "DIGITS 3\n"
   ]
  },
  {
   "cell_type": "code",
   "execution_count": 5,
   "id": "38279b01",
   "metadata": {},
   "outputs": [
    {
     "name": "stdout",
     "output_type": "stream",
     "text": [
      "Enter a sentence : hello world! 123\n",
      "\n",
      "OUTPUT:\n",
      "LETTERS 10\n",
      "DIGITS 3\n"
     ]
    }
   ],
   "source": [
    "a=input(\"Enter a sentence : \")\n",
    "dig_count=0\n",
    "alpha_count=0\n",
    "for i in a:\n",
    "    if i.isalpha():\n",
    "        alpha_count+=1\n",
    "    elif i.isdigit():\n",
    "        dig_count+=1\n",
    "    else:\n",
    "        continue\n",
    "print(\"\\nOUTPUT:\")\n",
    "print(f\"LETTERS {alpha_count}\\nDIGITS {dig_count}\")"
   ]
  },
  {
   "cell_type": "markdown",
   "id": "cf285903",
   "metadata": {},
   "source": [
    "### 6. A website requires the users to input username and password to register. Write a program to check the validity of password input by users.\n",
    "\n",
    "Following are the criteria for checking the password:\n",
    "\n",
    "1. At least 1 letter between [a-z]\n",
    "\n",
    "2. At least 1 number between [0-9]\n",
    "\n",
    "1. At least 1 letter between [A-Z]\n",
    "\n",
    "3. At least 1 character from [$#@]\n",
    "\n",
    "4. Minimum length of transaction password: 6\n",
    "\n",
    "5. Maximum length of transaction password: 12\n",
    "\n",
    "### Your program should accept a sequence of comma separated passwords and will check them according to the above criteria. Passwords that match the criteria are to be printed, each separated by a comma.\n",
    "\n",
    "#### Example\n",
    "\n",
    "If the following passwords are given as input to the program:\n",
    "\n",
    "ABd1234@1,a F1#,2w3E*,2We3345\n",
    "\n",
    "Then, the output of the program should be:\n",
    "\n",
    "ABd1234@1\n"
   ]
  },
  {
   "cell_type": "code",
   "execution_count": 6,
   "id": "749dc092",
   "metadata": {},
   "outputs": [
    {
     "name": "stdout",
     "output_type": "stream",
     "text": [
      "Enter a sequence of comma separated passwords : ABd1234@1,a F1#,2w3E*,2We3345\n",
      "\n",
      "OUTPUT:\n",
      "ABd1234@1 "
     ]
    }
   ],
   "source": [
    "a=[i for i in input(\"Enter a sequence of comma separated passwords : \").split(\",\")]\n",
    "# 'c' variable is short for count\n",
    "c=0; c_low=0; c_up=0; c_num=0; c_special=0\n",
    "print(\"\\nOUTPUT:\")\n",
    "for i in a:\n",
    "    c=0; c_low=0; c_up=0; c_num=0; c_special=0\n",
    "    n = len(i)\n",
    "    for ch in i:\n",
    "        if n>=6 and n<=12:\n",
    "            if ch.islower():\n",
    "                c+=1; c_low+=1\n",
    "            elif ch.isupper():\n",
    "                c+=1; c_up+=1\n",
    "            elif ch.isdigit():\n",
    "                c+=1; c_num+=1\n",
    "            elif ch in \"$#@\":\n",
    "                c+=1; c_special+=1\n",
    "    if c==n and c_low>=1 and c_up>=1 and c_num>=1 and c_special>=1:\n",
    "        print(i,end=\" \")"
   ]
  }
 ],
 "metadata": {
  "kernelspec": {
   "display_name": "Python 3 (ipykernel)",
   "language": "python",
   "name": "python3"
  },
  "language_info": {
   "codemirror_mode": {
    "name": "ipython",
    "version": 3
   },
   "file_extension": ".py",
   "mimetype": "text/x-python",
   "name": "python",
   "nbconvert_exporter": "python",
   "pygments_lexer": "ipython3",
   "version": "3.9.13"
  }
 },
 "nbformat": 4,
 "nbformat_minor": 5
}
