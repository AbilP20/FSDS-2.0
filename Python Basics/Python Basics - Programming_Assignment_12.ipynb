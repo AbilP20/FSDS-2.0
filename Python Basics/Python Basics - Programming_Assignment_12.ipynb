{
 "cells": [
  {
   "cell_type": "markdown",
   "id": "839783fc",
   "metadata": {},
   "source": [
    "# Python Basics - Progamming Assignment 12"
   ]
  },
  {
   "cell_type": "markdown",
   "id": "e398ea23",
   "metadata": {},
   "source": [
    "### 1.\tWrite a Python program to Extract Unique values dictionary values?"
   ]
  },
  {
   "cell_type": "code",
   "execution_count": 1,
   "id": "9607de31",
   "metadata": {},
   "outputs": [
    {
     "name": "stdout",
     "output_type": "stream",
     "text": [
      "Dictionary is :\n",
      "a : [1, 2, 3, 4]\n",
      "b : [1, 4, 9, 16]\n",
      "c : [1, 8, 27, 64]\n",
      "d : abc\n",
      "\n",
      "Unique values are: \n",
      "1, 2, 3, 4, 1, 4, 9, 16, 1, 8, 27, 64, a, b, c, "
     ]
    }
   ],
   "source": [
    "dict1 = {\"a\":[1,2,3,4],\"b\":[1,4,9,16],\"c\":[1,8,27,64],\"d\":\"abc\"}\n",
    "print(\"Dictionary is :\")\n",
    "for i in dict1:\n",
    "    print(f\"{i} : {dict1[i]}\")\n",
    "print(\"\\nUnique values are: \")\n",
    "for i in dict1.values():\n",
    "    for j in i:\n",
    "        print(j,end=\", \")"
   ]
  },
  {
   "cell_type": "markdown",
   "id": "9d91314c",
   "metadata": {},
   "source": [
    "### 2.\tWrite a Python program to find the sum of all items in a dictionary?"
   ]
  },
  {
   "cell_type": "code",
   "execution_count": 2,
   "id": "a3057ab2",
   "metadata": {},
   "outputs": [
    {
     "name": "stdout",
     "output_type": "stream",
     "text": [
      "Elements of dictionary are:\n",
      "[1, 2, 3, 4] [5, 6, 7, 8] [9, 10, 11, 12] \n",
      "\n",
      "Sum of the Dictionary items is : 78\n"
     ]
    }
   ],
   "source": [
    "dict1 = {\"a\":[1,2,3,4],\"b\":[5,6,7,8],\"c\":[9,10,11,12]}\n",
    "tot=0\n",
    "print(\"Elements of dictionary are:\")\n",
    "for i in dict1:\n",
    "    print(f\"{dict1[i]}\",end=\" \")\n",
    "for i in dict1.values():\n",
    "    tot+=sum(i)\n",
    "print(f\"\\n\\nSum of the Dictionary items is : {tot}\")"
   ]
  },
  {
   "cell_type": "markdown",
   "id": "0de1bb17",
   "metadata": {},
   "source": [
    "### 3.\tWrite a Python program to Merging two Dictionaries?|"
   ]
  },
  {
   "cell_type": "code",
   "execution_count": 3,
   "id": "0d351df1",
   "metadata": {},
   "outputs": [
    {
     "name": "stdout",
     "output_type": "stream",
     "text": [
      "Dictionary 1 : {'a': [1, 2, 3], 'b': [4, 5, 6]}\n",
      "Dictionary 2 : {'c': [7, 8, 9], 'd': [10, 11, 12]}\n",
      "\n",
      "Dictionary 1 (after merging Dictionary 2):\n",
      "{'a': [1, 2, 3], 'b': [4, 5, 6], 'c': [7, 8, 9], 'd': [10, 11, 12]}\n"
     ]
    }
   ],
   "source": [
    "dict1={\"a\":[1,2,3],\"b\":[4,5,6]}\n",
    "dict2={\"c\":[7,8,9],\"d\":[10,11,12]}\n",
    "print(f\"Dictionary 1 : {dict1}\")\n",
    "print(f\"Dictionary 2 : {dict2}\")\n",
    "dict1.update(dict2)\n",
    "print(f\"\\nDictionary 1 (after merging Dictionary 2):\\n{dict1}\")"
   ]
  },
  {
   "cell_type": "markdown",
   "id": "6b3c7d52",
   "metadata": {},
   "source": [
    "### 4.\tWrite a Python program to convert key-values list to flat dictionary?"
   ]
  },
  {
   "cell_type": "code",
   "execution_count": 4,
   "id": "b28bb788",
   "metadata": {},
   "outputs": [
    {
     "name": "stdout",
     "output_type": "stream",
     "text": [
      "Dictionary :\n",
      " {'a': [1, 2, 3], 'b': [4, 5, 6]}\n",
      "Flattened Dictionary :\n",
      " {1: 4, 2: 5, 3: 6}\n"
     ]
    }
   ],
   "source": [
    "dict1={\"a\":[1,2,3],\"b\":[4,5,6]}\n",
    "print(\"Dictionary :\\n\",dict1)\n",
    "dict2 = dict(zip(dict1[\"a\"],dict1[\"b\"]))\n",
    "print(\"Flattened Dictionary :\\n\",dict2)"
   ]
  },
  {
   "cell_type": "markdown",
   "id": "6ef51e5a",
   "metadata": {},
   "source": [
    "### 5.\tWrite a Python program to insertion at the beginning in OrderedDict?"
   ]
  },
  {
   "cell_type": "code",
   "execution_count": 5,
   "id": "f4cd9687",
   "metadata": {},
   "outputs": [
    {
     "name": "stdout",
     "output_type": "stream",
     "text": [
      "Orginal Ordered Dictionary:\n",
      "OrderedDict([('b', 2), ('c', 3)])\n",
      "\n",
      "After inserting at beginning:\n",
      "OrderedDict([('a', 1), ('b', 2), ('c', 3)])\n"
     ]
    }
   ],
   "source": [
    "from collections import OrderedDict as od\n",
    "a = [(\"b\",2), (\"c\",3)]\n",
    "b = [(\"a\",1)]\n",
    "ord_d1 = od(a)\n",
    "print(f\"Orginal Ordered Dictionary:\\n{ord_d1}\")\n",
    "ord_d1.update(b)\n",
    "key = list(ord_d1.keys())[len(ord_d1)-1]\n",
    "ord_d1.move_to_end(key, last=False)\n",
    "print(f\"\\nAfter inserting at beginning:\\n{ord_d1}\")"
   ]
  },
  {
   "cell_type": "markdown",
   "id": "80d19938",
   "metadata": {},
   "source": [
    "#### OR"
   ]
  },
  {
   "cell_type": "code",
   "execution_count": 6,
   "id": "cbefcc7b",
   "metadata": {},
   "outputs": [
    {
     "name": "stdout",
     "output_type": "stream",
     "text": [
      "Orginal Ordered Dictionary:\n",
      "OrderedDict([('b', 2), ('c', 3)])\n",
      "\n",
      "After inserting at beginning:\n",
      "OrderedDict([('a', 1), ('b', 2), ('c', 3)])\n"
     ]
    }
   ],
   "source": [
    "a = [(\"b\",2), (\"c\",3)]\n",
    "b = [(\"a\",1)]\n",
    "od1 = od(a); od2 = od(b)\n",
    "print(f\"Orginal Ordered Dictionary:\\n{od1}\")\n",
    "od1 = od( list(od2.items())+list(od1.items()) )\n",
    "print(f\"\\nAfter inserting at beginning:\\n{od1}\")"
   ]
  },
  {
   "cell_type": "markdown",
   "id": "12dcc41f",
   "metadata": {},
   "source": [
    "### 6.\tWrite a Python program to check order of character in string using OrderedDict()?"
   ]
  },
  {
   "cell_type": "code",
   "execution_count": 7,
   "id": "68e90cfb",
   "metadata": {},
   "outputs": [
    {
     "name": "stdout",
     "output_type": "stream",
     "text": [
      "String is : study tonight\n",
      "Order of character : to\n",
      "Order of characters is matched.\n"
     ]
    }
   ],
   "source": [
    "a=\"study tonight\"\n",
    "od1 = od.fromkeys(a)\n",
    "subs = \"to\"\n",
    "res=False\n",
    "ptr = 0\n",
    "for i,j in od1.items():\n",
    "    if i==subs[ptr]:\n",
    "        ptr+=1\n",
    "    if ptr==len(subs):\n",
    "        res=True\n",
    "        break\n",
    "print(f\"String is : {a}\")\n",
    "print(f\"Order of character : {subs}\")\n",
    "if(res):\n",
    "    print(\"Order of characters is matched.\")\n",
    "else:\n",
    "    print(\"Order of characters is not matched.\")\n",
    "    "
   ]
  },
  {
   "cell_type": "markdown",
   "id": "6c7f2c31",
   "metadata": {},
   "source": [
    "### 7.\tWrite a Python program to sort Python Dictionaries by Key or Value?"
   ]
  },
  {
   "cell_type": "code",
   "execution_count": 8,
   "id": "114b0239",
   "metadata": {},
   "outputs": [
    {
     "name": "stdout",
     "output_type": "stream",
     "text": [
      "Orginal Dictionary : {'c': 5, 'b': 1, 'a': 20}\n",
      "\n",
      "Dictionary-Sorted by Keys:\n",
      "{'a': 20, 'b': 1, 'c': 5}\n",
      "\n",
      "Dictionary-Sorted by Value:\n",
      "{'b': 1, 'c': 5, 'a': 20}\n"
     ]
    }
   ],
   "source": [
    "a={\"c\":5, \"b\":1, \"a\":20}\n",
    "b=sorted(list(a.keys()))\n",
    "c=sorted(list(a.values()))\n",
    "print(f\"Orginal Dictionary : {a}\")\n",
    "# to sort acc. to keys\n",
    "key_sort={}\n",
    "for i in b:           \n",
    "    key_sort[i]=a[i]\n",
    "# to sort acc. to values\n",
    "val_sort={}\n",
    "while len(c)!=0:\n",
    "    for i,j in a.items():\n",
    "        if j==c[0]:\n",
    "            val_sort[i]=j\n",
    "            del c[0]\n",
    "print(f\"\\nDictionary-Sorted by Keys:\\n{key_sort}\")\n",
    "print(f\"\\nDictionary-Sorted by Value:\\n{val_sort}\")\n",
    "# a = dict(zip(b,c))"
   ]
  }
 ],
 "metadata": {
  "kernelspec": {
   "display_name": "Python 3 (ipykernel)",
   "language": "python",
   "name": "python3"
  },
  "language_info": {
   "codemirror_mode": {
    "name": "ipython",
    "version": 3
   },
   "file_extension": ".py",
   "mimetype": "text/x-python",
   "name": "python",
   "nbconvert_exporter": "python",
   "pygments_lexer": "ipython3",
   "version": "3.9.13"
  }
 },
 "nbformat": 4,
 "nbformat_minor": 5
}
