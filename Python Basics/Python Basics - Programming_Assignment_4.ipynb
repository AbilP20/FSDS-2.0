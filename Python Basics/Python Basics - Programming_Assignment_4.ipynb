{
 "cells": [
  {
   "cell_type": "markdown",
   "id": "97d38ed7",
   "metadata": {},
   "source": [
    "# Python Basics - Progamming Assignment 4"
   ]
  },
  {
   "cell_type": "markdown",
   "id": "f4cd1bc8",
   "metadata": {},
   "source": [
    "### 1. Write a Python Program to Find the Factorial of a Number?"
   ]
  },
  {
   "cell_type": "code",
   "execution_count": 1,
   "id": "b08c6612",
   "metadata": {},
   "outputs": [
    {
     "name": "stdout",
     "output_type": "stream",
     "text": [
      "Enter a number : 6\n",
      "6! = 720\n"
     ]
    }
   ],
   "source": [
    "n = int(input(\"Enter a number : \"))\n",
    "fact=1\n",
    "for i in range(n,1,-1):\n",
    "    fact=fact*i\n",
    "print(f\"{n}! = {fact}\")"
   ]
  },
  {
   "cell_type": "markdown",
   "id": "720df971",
   "metadata": {},
   "source": [
    "### 2. Write a Python Program to Display the multiplication Table?"
   ]
  },
  {
   "cell_type": "code",
   "execution_count": 2,
   "id": "14862acf",
   "metadata": {},
   "outputs": [
    {
     "name": "stdout",
     "output_type": "stream",
     "text": [
      "Enter a number : 10\n",
      "Table of 10:\n",
      "10 x 1 = 10\n",
      "10 x 2 = 20\n",
      "10 x 3 = 30\n",
      "10 x 4 = 40\n",
      "10 x 5 = 50\n",
      "10 x 6 = 60\n",
      "10 x 7 = 70\n",
      "10 x 8 = 80\n",
      "10 x 9 = 90\n",
      "10 x 10 = 100\n",
      "10 x 11 = 110\n",
      "10 x 12 = 120\n",
      "10 x 13 = 130\n",
      "10 x 14 = 140\n",
      "10 x 15 = 150\n",
      "10 x 16 = 160\n",
      "10 x 17 = 170\n",
      "10 x 18 = 180\n",
      "10 x 19 = 190\n",
      "10 x 20 = 200\n"
     ]
    }
   ],
   "source": [
    "num = int(input(\"Enter a number : \"))\n",
    "print(f\"Table of {num}:\")\n",
    "for i in range(1,21):\n",
    "    print(f\"{num} x {i} = {num*i}\")"
   ]
  },
  {
   "cell_type": "markdown",
   "id": "dc12bf26",
   "metadata": {},
   "source": [
    "### 3. Write a Python Program to Print the Fibonacci sequence?"
   ]
  },
  {
   "cell_type": "code",
   "execution_count": 3,
   "id": "e0c467fc",
   "metadata": {},
   "outputs": [
    {
     "name": "stdout",
     "output_type": "stream",
     "text": [
      "Enter no. of terms : 8\n",
      "0, 1, 1, 2, 3, 5, 8, 13\n"
     ]
    }
   ],
   "source": [
    "num2 = int(input(\"Enter no. of terms : \"))\n",
    "a=0\n",
    "b=1\n",
    "print(f\"{a}, {b}, \",end='')\n",
    "for i in range(2,num2):\n",
    "    c=a+b\n",
    "    if i!=num2-1:\n",
    "        print(f\"{c}, \",end='')\n",
    "    else:\n",
    "        print(f\"{c}\")\n",
    "    a=b\n",
    "    b=c"
   ]
  },
  {
   "cell_type": "markdown",
   "id": "b9e9e028",
   "metadata": {},
   "source": [
    "### 4. Write a Python Program to Check Armstrong Number?"
   ]
  },
  {
   "cell_type": "code",
   "execution_count": 4,
   "id": "aa53ebf9",
   "metadata": {},
   "outputs": [
    {
     "name": "stdout",
     "output_type": "stream",
     "text": [
      "Enter a number : 371\n",
      "371 is an Armstrong number.\n"
     ]
    }
   ],
   "source": [
    "num3 = int(input(\"Enter a number : \"))\n",
    "exp = len(str(num3))\n",
    "tot1=0\n",
    "temp1=num3\n",
    "while temp1>0:\n",
    "    i = temp1%10\n",
    "    tot1 += i**exp\n",
    "    temp1=temp1//10\n",
    "if tot1==num3:\n",
    "    print(f\"{num3} is an Armstrong number.\")\n",
    "else:\n",
    "    print(f\"{num3} is not an Armstrong number.\")"
   ]
  },
  {
   "cell_type": "markdown",
   "id": "cc27f236",
   "metadata": {},
   "source": [
    "### 5. Write a Python Program to Find Armstrong Number in an Interval?"
   ]
  },
  {
   "cell_type": "code",
   "execution_count": 5,
   "id": "d48d901a",
   "metadata": {},
   "outputs": [
    {
     "name": "stdout",
     "output_type": "stream",
     "text": [
      "Enter lower limit : 100\n",
      "Enter upper limit : 10000\n",
      "153 370 371 407 1634 8208 9474 "
     ]
    }
   ],
   "source": [
    "low = int(input(\"Enter lower limit : \"))\n",
    "high = int(input(\"Enter upper limit : \")) \n",
    "for i in range(low,high+1):\n",
    "    exp = len(str(i))\n",
    "    tot2=0\n",
    "    temp2=i\n",
    "    while temp2>0:\n",
    "        j = temp2%10\n",
    "        tot2 += j**exp\n",
    "        temp2=temp2//10\n",
    "    if tot2==i:\n",
    "        print(f\"{i}\",end =\" \")"
   ]
  },
  {
   "cell_type": "markdown",
   "id": "5c5fea48",
   "metadata": {},
   "source": [
    "### 6. Write a Python Program to Find the Sum of Natural Numbers?"
   ]
  },
  {
   "cell_type": "code",
   "execution_count": 7,
   "id": "d7d8cd5b",
   "metadata": {},
   "outputs": [
    {
     "name": "stdout",
     "output_type": "stream",
     "text": [
      "Enter no. of terms : 6\n",
      "Sum of first 6 natural numbers = 21\n"
     ]
    }
   ],
   "source": [
    "num4 = int(input(\"Enter no. of terms : \"))\n",
    "tot3=0\n",
    "for i in range(1,num4+1):\n",
    "    tot3+=i\n",
    "print(f\"Sum of first {num4} natural numbers = {tot3}\")"
   ]
  }
 ],
 "metadata": {
  "kernelspec": {
   "display_name": "Python 3 (ipykernel)",
   "language": "python",
   "name": "python3"
  },
  "language_info": {
   "codemirror_mode": {
    "name": "ipython",
    "version": 3
   },
   "file_extension": ".py",
   "mimetype": "text/x-python",
   "name": "python",
   "nbconvert_exporter": "python",
   "pygments_lexer": "ipython3",
   "version": "3.9.12"
  }
 },
 "nbformat": 4,
 "nbformat_minor": 5
}
