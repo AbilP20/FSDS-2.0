{
 "cells": [
  {
   "cell_type": "markdown",
   "id": "61bd2474",
   "metadata": {},
   "source": [
    "# Python Basics - Progamming Assignment 5"
   ]
  },
  {
   "cell_type": "markdown",
   "id": "d9b2aa1f",
   "metadata": {},
   "source": [
    "### 1. Write a Python Program to Display Fibonacci Sequence Using Recursion?"
   ]
  },
  {
   "cell_type": "code",
   "execution_count": 1,
   "id": "74a15cab",
   "metadata": {},
   "outputs": [
    {
     "name": "stdout",
     "output_type": "stream",
     "text": [
      "Enter no. of terms : 8\n",
      "0, 1, 1, 2, 3, 5, 8, 13\n"
     ]
    }
   ],
   "source": [
    "def fib(n):\n",
    "    if n<=1:\n",
    "        return(n)\n",
    "    else:\n",
    "        return( fib(n-1) + fib(n-2) )\n",
    "n = int(input(\"Enter no. of terms : \"))\n",
    "for i in range(n):\n",
    "    if i==(n-1):\n",
    "        print(fib(i))\n",
    "    else:\n",
    "        print(fib(i),end=', ')"
   ]
  },
  {
   "cell_type": "markdown",
   "id": "f02c912b",
   "metadata": {},
   "source": [
    "### 2. Write a Python Program to Find Factorial of Number Using Recursion?"
   ]
  },
  {
   "cell_type": "code",
   "execution_count": 2,
   "id": "411f227c",
   "metadata": {},
   "outputs": [
    {
     "name": "stdout",
     "output_type": "stream",
     "text": [
      "Enter a number : 5\n",
      "5! = 120\n"
     ]
    }
   ],
   "source": [
    "def fact(n):\n",
    "    if n<=1:\n",
    "        return (n)\n",
    "    else:\n",
    "        return ( n * fact(n-1) )\n",
    "num = int(input(\"Enter a number : \"))\n",
    "print(f\"{num}! = {fact(num)}\")"
   ]
  },
  {
   "cell_type": "markdown",
   "id": "0d982d3e",
   "metadata": {},
   "source": [
    "### 3. Write a Python Program to calculate your Body Mass Index?"
   ]
  },
  {
   "cell_type": "code",
   "execution_count": 3,
   "id": "7b08be04",
   "metadata": {},
   "outputs": [
    {
     "name": "stdout",
     "output_type": "stream",
     "text": [
      "Enter your height(cm) : 170\n",
      "Enter your weight(kg) : 76\n",
      "Height = 170.0 cm\n",
      "Weight = 76.0 kg\n",
      "Body Mass Index (BMI) = 26.3 - (Overweight)\n"
     ]
    }
   ],
   "source": [
    "height = float(input(\"Enter your height(cm) : \"))\n",
    "height/=100\n",
    "weight = float(input(\"Enter your weight(kg) : \"))\n",
    "bmi = round( weight/(height**2), 2)\n",
    "if bmi<18.5:\n",
    "    comment = \"Underweight\"\n",
    "elif bmi>=18.5 and bmi<25:\n",
    "    comment = \"Normal weight\"\n",
    "elif bmi>=25 and bmi<30:\n",
    "    comment = \"Overweight\"\n",
    "else:\n",
    "    comment = \"Obesity\"\n",
    "print(f\"Height = {height*100} cm\")\n",
    "print(f\"Weight = {weight} kg\")\n",
    "print(f\"Body Mass Index (BMI) = {bmi} - ({comment})\")"
   ]
  },
  {
   "cell_type": "markdown",
   "id": "45238454",
   "metadata": {},
   "source": [
    "### 4. Write a Python Program to calculate the natural logarithm of any number?"
   ]
  },
  {
   "cell_type": "code",
   "execution_count": 4,
   "id": "96460170",
   "metadata": {},
   "outputs": [
    {
     "name": "stdout",
     "output_type": "stream",
     "text": [
      "Enter number : 15\n",
      "ln(15.0) = 2.70805020110221\n"
     ]
    }
   ],
   "source": [
    "import math\n",
    "num2 = float(input(\"Enter number : \"))\n",
    "print(f\"ln({num2}) = {math.log(num2)}\")"
   ]
  },
  {
   "cell_type": "markdown",
   "id": "86d0f097",
   "metadata": {},
   "source": [
    "### 5. Write a Python Program for cube sum of first n natural numbers?"
   ]
  },
  {
   "cell_type": "code",
   "execution_count": 5,
   "id": "ec858e04",
   "metadata": {},
   "outputs": [
    {
     "name": "stdout",
     "output_type": "stream",
     "text": [
      "Enter no. of terms : 5\n",
      "Sum of cubes of first 5 natural numbers = 225.0\n"
     ]
    }
   ],
   "source": [
    "import math\n",
    "terms = int(input(\"Enter no. of terms : \"))\n",
    "tot = 0\n",
    "for i in range(1,terms+1):\n",
    "    tot+=math.pow(i,3)\n",
    "print(f\"Sum of cubes of first {terms} natural numbers = {tot}\")"
   ]
  }
 ],
 "metadata": {
  "kernelspec": {
   "display_name": "Python 3 (ipykernel)",
   "language": "python",
   "name": "python3"
  },
  "language_info": {
   "codemirror_mode": {
    "name": "ipython",
    "version": 3
   },
   "file_extension": ".py",
   "mimetype": "text/x-python",
   "name": "python",
   "nbconvert_exporter": "python",
   "pygments_lexer": "ipython3",
   "version": "3.9.12"
  }
 },
 "nbformat": 4,
 "nbformat_minor": 5
}
