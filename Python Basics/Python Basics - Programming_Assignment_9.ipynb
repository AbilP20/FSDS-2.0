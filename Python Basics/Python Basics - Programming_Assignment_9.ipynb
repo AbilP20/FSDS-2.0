{
 "cells": [
  {
   "cell_type": "markdown",
   "id": "02b98346",
   "metadata": {},
   "source": [
    "# Python Basics - Progamming Assignment 9"
   ]
  },
  {
   "cell_type": "markdown",
   "id": "c84cc0b6",
   "metadata": {},
   "source": [
    "### 1.\tWrite a Python program to check if the given number is a Disarium Number?"
   ]
  },
  {
   "cell_type": "code",
   "execution_count": 1,
   "id": "d59a3975",
   "metadata": {},
   "outputs": [
    {
     "name": "stdout",
     "output_type": "stream",
     "text": [
      "Enter a number : 89\n",
      "89 is a Disarium number.\n"
     ]
    }
   ],
   "source": [
    "# A number is called Disarium if sum of its digits powered with their respective positions is equal to the number itself.\n",
    "# eg. 89 - 8^1 + 9^2 = 8+81 = 89, i.e 89 is a disarium no.\n",
    "n = input(\"Enter a number : \")\n",
    "digits = len(n)\n",
    "temp=int(n)\n",
    "tot=0\n",
    "while digits >0:\n",
    "    num = temp%10\n",
    "    tot=tot+num**digits\n",
    "    digits-=1\n",
    "    temp=temp//10\n",
    "if str(tot)==str(n):\n",
    "    print(f\"{n} is a Disarium number.\")\n",
    "else:\n",
    "    print(f\"{n} is not a Disarium number.\")"
   ]
  },
  {
   "cell_type": "markdown",
   "id": "c2d81c58",
   "metadata": {},
   "source": [
    "### 2.\tWrite a Python program to print all disarium numbers between 1 to 100?"
   ]
  },
  {
   "cell_type": "code",
   "execution_count": 2,
   "id": "929c2d14",
   "metadata": {},
   "outputs": [
    {
     "name": "stdout",
     "output_type": "stream",
     "text": [
      "Disarium Numbers b/w 1 and 100 are :\n",
      "1 2 3 4 5 6 7 8 9 89 "
     ]
    }
   ],
   "source": [
    "print(\"Disarium Numbers b/w 1 and 100 are :\")\n",
    "for i in range(1,101):\n",
    "    n = str(i)\n",
    "    digits = len(n)\n",
    "    temp=int(n)\n",
    "    tot=0\n",
    "    while digits >0:\n",
    "        num = temp%10\n",
    "        tot=tot+num**digits\n",
    "        digits-=1\n",
    "        temp=temp//10\n",
    "    if str(tot)==str(n):\n",
    "        print(n,end=\" \")\n"
   ]
  },
  {
   "cell_type": "markdown",
   "id": "81051906",
   "metadata": {},
   "source": [
    "### 3.\tWrite a Python program to check if the given number is Happy Number?"
   ]
  },
  {
   "cell_type": "code",
   "execution_count": 3,
   "id": "adc20325",
   "metadata": {},
   "outputs": [
    {
     "name": "stdout",
     "output_type": "stream",
     "text": [
      "Enter a number : 23\n",
      "23 is a Happy Number.\n"
     ]
    }
   ],
   "source": [
    "# A number is said to be a Happy Number if the sum of the squares of all the digits in that number yield one when \n",
    "# it is repeatedly doing. If that results in endless cycles of resultant 4, then that number is said to be an unhappy number.\n",
    "\n",
    "def happy(n):  #this function is used in the next ques, Q4 also'\n",
    "    tot=0\n",
    "    for i in n:\n",
    "        tot=tot+int(i)**2\n",
    "    return tot\n",
    "num=input(\"Enter a number : \")\n",
    "res=happy(num)\n",
    "while(res!=1 or res!=4):\n",
    "    if res==1:\n",
    "        print(f\"{num} is a Happy Number.\")\n",
    "        break\n",
    "    elif res==4:\n",
    "        print(f\"{num} is not a Happy Number.\")\n",
    "        break\n",
    "    res=happy(str(res))"
   ]
  },
  {
   "cell_type": "markdown",
   "id": "3dd05f6a",
   "metadata": {},
   "source": [
    "### 4.\tWrite a Python program to print all happy numbers between 1 and 100?"
   ]
  },
  {
   "cell_type": "code",
   "execution_count": 4,
   "id": "5bf74a68",
   "metadata": {},
   "outputs": [
    {
     "name": "stdout",
     "output_type": "stream",
     "text": [
      "Happy numbers b/w 1 and 100 are:\n",
      "1 7 10 13 19 23 28 31 32 44 49 68 70 79 82 86 91 94 97 100 "
     ]
    }
   ],
   "source": [
    "print(\"Happy numbers b/w 1 and 100 are:\")\n",
    "for num in range(1,101):\n",
    "    res = happy(str(num)) #this function is defined in the previous ques, Q3  \n",
    "    while(res!=1 or res!=4):\n",
    "        if res==1:\n",
    "            print(num,end=' ')\n",
    "            break\n",
    "        elif res==4:\n",
    "            break\n",
    "        res=happy(str(res))"
   ]
  },
  {
   "cell_type": "markdown",
   "id": "7e159ff9",
   "metadata": {},
   "source": [
    "### 5.\tWrite a Python program to determine whether the given number is a Harshad Number?"
   ]
  },
  {
   "cell_type": "code",
   "execution_count": 5,
   "id": "3e3a7322",
   "metadata": {},
   "outputs": [
    {
     "name": "stdout",
     "output_type": "stream",
     "text": [
      "Enter a number : 20\n",
      "20 is a Harshad Number.\n"
     ]
    }
   ],
   "source": [
    "# A Harshad number is a number which is divisible by the sum of its digits\n",
    "n=int(input(\"Enter a number : \"))\n",
    "temp=n\n",
    "tot=0\n",
    "while temp>0:\n",
    "    tot+=temp%10\n",
    "    temp//=10\n",
    "if n%tot==0:\n",
    "    print(f\"{n} is a Harshad Number.\")\n",
    "else:\n",
    "    print(f\"{n} is not a Harshad Number.\")"
   ]
  },
  {
   "cell_type": "markdown",
   "id": "329e43c2",
   "metadata": {},
   "source": [
    "### 6.\tWrite a Python program to print all pronic numbers between 1 and 100?"
   ]
  },
  {
   "cell_type": "code",
   "execution_count": 8,
   "id": "f9e1267c",
   "metadata": {},
   "outputs": [
    {
     "name": "stdout",
     "output_type": "stream",
     "text": [
      "Pronic numers b/w 1 and 100 are:\n",
      "2 (1x2)\n",
      "6 (2x3)\n",
      "12 (3x4)\n",
      "20 (4x5)\n",
      "30 (5x6)\n",
      "42 (6x7)\n",
      "56 (7x8)\n",
      "72 (8x9)\n",
      "90 (9x10)\n"
     ]
    }
   ],
   "source": [
    "# A pronic number is product of 2 consecutive numbers i.e n(n+1) like 2x3 or 3x4 or 4x5 and so on\n",
    "print(\"Pronic numers b/w 1 and 100 are:\")\n",
    "for n in range(1,101):\n",
    "    for i in range(0,n):\n",
    "        if i*(i+1)==n:\n",
    "            print(f\"{n} ({i}x{i+1})\")\n",
    "            break\n",
    "    else:\n",
    "        continue"
   ]
  }
 ],
 "metadata": {
  "kernelspec": {
   "display_name": "Python 3 (ipykernel)",
   "language": "python",
   "name": "python3"
  },
  "language_info": {
   "codemirror_mode": {
    "name": "ipython",
    "version": 3
   },
   "file_extension": ".py",
   "mimetype": "text/x-python",
   "name": "python",
   "nbconvert_exporter": "python",
   "pygments_lexer": "ipython3",
   "version": "3.9.12"
  }
 },
 "nbformat": 4,
 "nbformat_minor": 5
}
