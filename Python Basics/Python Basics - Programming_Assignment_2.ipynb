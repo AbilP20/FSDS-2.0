{
 "cells": [
  {
   "cell_type": "markdown",
   "id": "e99f77c8",
   "metadata": {},
   "source": [
    "# Python Basics - Progamming Assignment 2"
   ]
  },
  {
   "cell_type": "markdown",
   "id": "a95746aa",
   "metadata": {},
   "source": [
    "### 1. Write a Python program to convert kilometers to miles?"
   ]
  },
  {
   "cell_type": "code",
   "execution_count": 1,
   "id": "6522063b",
   "metadata": {},
   "outputs": [
    {
     "name": "stdout",
     "output_type": "stream",
     "text": [
      "Enter kilometer(s) : 20\n",
      "20.0 km = 12.427 miles\n"
     ]
    }
   ],
   "source": [
    "cf = 0.62137119\n",
    "km = float(input(\"Enter kilometer(s) : \"))\n",
    "print(f\"{km} km = {round(km*cf,3)} miles\")"
   ]
  },
  {
   "cell_type": "markdown",
   "id": "4fa151f7",
   "metadata": {},
   "source": [
    "### 2. Write a Python program to convert Celsius to Fahrenheit?"
   ]
  },
  {
   "cell_type": "code",
   "execution_count": 2,
   "id": "6879072d",
   "metadata": {},
   "outputs": [
    {
     "name": "stdout",
     "output_type": "stream",
     "text": [
      "Enter celsius : 37\n",
      "37.0 Celsius = 98.6 Fahrenheit\n"
     ]
    }
   ],
   "source": [
    "cels = float(input(\"Enter celsius : \"))\n",
    "fahr = (cels*9/5)+32\n",
    "print(f\"{cels} Celsius = {fahr} Fahrenheit\")"
   ]
  },
  {
   "cell_type": "markdown",
   "id": "87124b58",
   "metadata": {},
   "source": [
    "### 3. Write a Python program to display calendar?"
   ]
  },
  {
   "cell_type": "code",
   "execution_count": 3,
   "id": "ec684bf2",
   "metadata": {},
   "outputs": [
    {
     "name": "stdout",
     "output_type": "stream",
     "text": [
      "Enter year : 2022\n",
      "Enter month : 10\n",
      "\n",
      "    October 2022\n",
      "Mo Tu We Th Fr Sa Su\n",
      "                1  2\n",
      " 3  4  5  6  7  8  9\n",
      "10 11 12 13 14 15 16\n",
      "17 18 19 20 21 22 23\n",
      "24 25 26 27 28 29 30\n",
      "31\n",
      "\n"
     ]
    }
   ],
   "source": [
    "import calendar\n",
    "year = int(input(\"Enter year : \"))\n",
    "month = int(input(\"Enter month : \"))\n",
    "print(f\"\\n{calendar.month(year,month)}\")"
   ]
  },
  {
   "cell_type": "markdown",
   "id": "9b09a1e0",
   "metadata": {},
   "source": [
    "### 4. Write a Python program to solve quadratic equation?"
   ]
  },
  {
   "cell_type": "code",
   "execution_count": 4,
   "id": "d142e09e",
   "metadata": {},
   "outputs": [
    {
     "name": "stdout",
     "output_type": "stream",
     "text": [
      "Enter coefficients of a,b,c : 1,5,6\n",
      "2 distinct and real roots as D > 0 : -2.0,-3.0\n"
     ]
    }
   ],
   "source": [
    "from math import sqrt\n",
    "a, b, c = input(\"Enter coefficients of a,b,c : \").split(\",\")\n",
    "a, b, c = float(a), float(b), float(c)\n",
    "d = (b**2)-(4*a*c)\n",
    "if (d==0):\n",
    "    p = round(-b/(2*a), 2)\n",
    "    print(f\"2 equal and real roots as D = 0 : {p},{p}\")\n",
    "elif (d>0):\n",
    "    p = round((-b + sqrt(d)) / (2*a), 2)\n",
    "    q = round((-b - sqrt(d)) / (2*a), 2)\n",
    "    print(f\"2 distinct and real roots as D > 0 : {p},{q}\")\n",
    "else:\n",
    "    print(f\"No real roots as D < 0.\")"
   ]
  },
  {
   "cell_type": "markdown",
   "id": "3705f61e",
   "metadata": {},
   "source": [
    "### 5. Write a Python program to swap two variables without temp variable?"
   ]
  },
  {
   "cell_type": "code",
   "execution_count": 5,
   "id": "367dc3c2",
   "metadata": {},
   "outputs": [
    {
     "name": "stdout",
     "output_type": "stream",
     "text": [
      "Enter 2 numbers : 12,35\n",
      "Before Swapping :\n",
      "a = 12\n",
      "b = 35\n",
      "After Swapping :\n",
      "a = 35\n",
      "b = 12\n"
     ]
    }
   ],
   "source": [
    "a, b = input(\"Enter 2 numbers : \").split(\",\")\n",
    "print(f\"Before Swapping :\\na = {a}\\nb = {b}\")\n",
    "a, b = int(a), int(b)\n",
    "a = a + b\n",
    "b = a - b\n",
    "a = a - b\n",
    "print(f\"After Swapping :\\na = {a}\\nb = {b}\")"
   ]
  }
 ],
 "metadata": {
  "kernelspec": {
   "display_name": "Python 3 (ipykernel)",
   "language": "python",
   "name": "python3"
  },
  "language_info": {
   "codemirror_mode": {
    "name": "ipython",
    "version": 3
   },
   "file_extension": ".py",
   "mimetype": "text/x-python",
   "name": "python",
   "nbconvert_exporter": "python",
   "pygments_lexer": "ipython3",
   "version": "3.9.12"
  }
 },
 "nbformat": 4,
 "nbformat_minor": 5
}
