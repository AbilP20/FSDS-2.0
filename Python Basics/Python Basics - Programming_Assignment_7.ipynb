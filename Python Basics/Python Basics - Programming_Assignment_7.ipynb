{
 "cells": [
  {
   "cell_type": "markdown",
   "id": "95ca5a94",
   "metadata": {},
   "source": [
    "# Python Basics - Progamming Assignment 7"
   ]
  },
  {
   "cell_type": "markdown",
   "id": "ebdbe4d4",
   "metadata": {},
   "source": [
    "### 1. Write a Python Program to find sum of array?"
   ]
  },
  {
   "cell_type": "code",
   "execution_count": 1,
   "id": "0c173c12",
   "metadata": {},
   "outputs": [
    {
     "name": "stdout",
     "output_type": "stream",
     "text": [
      "Array = [1, 3, 2, 4, 5]\n",
      "Sum of Array = 15\n"
     ]
    }
   ],
   "source": [
    "arr = [1,3,2,4,5]\n",
    "sum_arr = 0\n",
    "for i in range(len(arr)):\n",
    "    sum_arr+=arr[i]\n",
    "print(f\"Array = {arr}\")\n",
    "print(f\"Sum of Array = {sum_arr}\")"
   ]
  },
  {
   "cell_type": "markdown",
   "id": "80a4e542",
   "metadata": {},
   "source": [
    "### 2. Write a Python Program to find largest element in an array?"
   ]
  },
  {
   "cell_type": "code",
   "execution_count": 2,
   "id": "58ee1d89",
   "metadata": {},
   "outputs": [
    {
     "name": "stdout",
     "output_type": "stream",
     "text": [
      "Array = [10, 2, 3, 11, 19, 2]\n",
      "Largest element = 19\n"
     ]
    }
   ],
   "source": [
    "arr2 = [10,2,3,11,19,2]\n",
    "largest = -99999\n",
    "for i in range(len(arr2)):\n",
    "    if arr2[i]>largest:\n",
    "        largest = arr2[i]\n",
    "print(f\"Array = {arr2}\")\n",
    "print(f\"Largest element = {largest}\")"
   ]
  },
  {
   "cell_type": "markdown",
   "id": "e135f7d1",
   "metadata": {},
   "source": [
    "### 3. Write a Python Program for array rotation?"
   ]
  },
  {
   "cell_type": "code",
   "execution_count": 3,
   "id": "cf6267e7",
   "metadata": {},
   "outputs": [
    {
     "name": "stdout",
     "output_type": "stream",
     "text": [
      "Enter an array : 1,2,3,4,5\n",
      "Enter no. of rotations : 2\n",
      "[3, 4, 5, 1, 2]\n"
     ]
    }
   ],
   "source": [
    "arr3 = list(map(int,input(\"Enter an array : \").split(\",\")))\n",
    "rot = int(input(\"Enter no. of rotations : \"))\n",
    "#Here, we are performing left rotations\n",
    "arr3 = arr3[rot:] + arr3[:rot]\n",
    "#for right rotations, following code will do:\n",
    "#n = len(arr3)-rot\n",
    "#arr3 = arr3[n:]+arr3[:n]\n",
    "print(arr3)"
   ]
  },
  {
   "cell_type": "markdown",
   "id": "7edb7d0e",
   "metadata": {},
   "source": [
    "### 4. Write a Python Program to Split the array and add the first part to the end?"
   ]
  },
  {
   "cell_type": "code",
   "execution_count": 4,
   "id": "0d2631c8",
   "metadata": {},
   "outputs": [
    {
     "name": "stdout",
     "output_type": "stream",
     "text": [
      "Enter an array : 10,20,30,40,50\n",
      "Enter split point index : 2\n",
      "Original Array : [10, 20, 30, 40, 50]\n",
      "Split point = Index 2 (i.e first 3 numbers)\n",
      "New Array : [40, 50, 10, 20, 30]\n"
     ]
    }
   ],
   "source": [
    "arr4 = list(map(int,input(\"Enter an array : \").split(\",\")))\n",
    "idx = int(input(\"Enter split point index : \"))\n",
    "print(f\"Original Array : {arr4}\")\n",
    "print(f\"Split point = Index {idx} (i.e first {idx+1} numbers)\")\n",
    "arr4 = arr4[idx+1:] + arr4[:idx+1]\n",
    "print(f\"New Array : {arr4}\")"
   ]
  },
  {
   "cell_type": "markdown",
   "id": "daba830b",
   "metadata": {},
   "source": [
    "### 5. Write a Python Program to check if given array is Monotonic?"
   ]
  },
  {
   "cell_type": "code",
   "execution_count": 8,
   "id": "45a4a008",
   "metadata": {},
   "outputs": [
    {
     "name": "stdout",
     "output_type": "stream",
     "text": [
      "Enter an array : 10,7,4,3,2\n",
      "[10, 7, 4, 3, 2] is Monotonic\n"
     ]
    }
   ],
   "source": [
    "arr5 = list(map(int,input(\"Enter an array : \").split(\",\")))\n",
    "n2 = len(arr5)\n",
    "asc, desc = True, True\n",
    "for i in range(n2-1):\n",
    "    if arr5[i]>arr5[i+1]:\n",
    "        asc = False\n",
    "    if arr5[i]<arr5[i+1]:\n",
    "        desc = False\n",
    "if asc or desc:\n",
    "    print(f\"{arr5} is Monotonic\")\n",
    "else:\n",
    "    print(f\"{arr5} is not Monotonic\")"
   ]
  }
 ],
 "metadata": {
  "kernelspec": {
   "display_name": "Python 3 (ipykernel)",
   "language": "python",
   "name": "python3"
  },
  "language_info": {
   "codemirror_mode": {
    "name": "ipython",
    "version": 3
   },
   "file_extension": ".py",
   "mimetype": "text/x-python",
   "name": "python",
   "nbconvert_exporter": "python",
   "pygments_lexer": "ipython3",
   "version": "3.9.12"
  }
 },
 "nbformat": 4,
 "nbformat_minor": 5
}
