{
 "cells": [
  {
   "cell_type": "markdown",
   "id": "7f50fa4c",
   "metadata": {},
   "source": [
    "# Python Basics - Progamming Assignment 10"
   ]
  },
  {
   "cell_type": "markdown",
   "id": "31c1bf45",
   "metadata": {},
   "source": [
    "### 1.\tWrite a Python program to find sum of elements in list?"
   ]
  },
  {
   "cell_type": "code",
   "execution_count": 1,
   "id": "92281a1f",
   "metadata": {},
   "outputs": [
    {
     "name": "stdout",
     "output_type": "stream",
     "text": [
      "List = [1, 2, 3, 4, 5, 6, 7, 8, 9, 10]\n",
      "Sum = 55\n"
     ]
    }
   ],
   "source": [
    "a = [1,2,3,4,5,6,7,8,9,10]\n",
    "tot = 0\n",
    "for i in a:\n",
    "    tot+=i\n",
    "print(f\"List = {a}\")\n",
    "print(f\"Sum = {tot}\")"
   ]
  },
  {
   "cell_type": "markdown",
   "id": "498837d2",
   "metadata": {},
   "source": [
    "### 2.\tWrite a Python program to  Multiply all numbers in the list?"
   ]
  },
  {
   "cell_type": "code",
   "execution_count": 2,
   "id": "e9098698",
   "metadata": {},
   "outputs": [
    {
     "name": "stdout",
     "output_type": "stream",
     "text": [
      "List = [1, 2, 3, 4, 5]\n",
      "Product of all numbers of list = 120\n"
     ]
    }
   ],
   "source": [
    "b = [1,2,3,4,5]\n",
    "mul=1\n",
    "for i in b:\n",
    "    mul*=i\n",
    "print(f\"List = {b}\")\n",
    "print(f\"Product of all numbers of list = {mul}\")"
   ]
  },
  {
   "cell_type": "markdown",
   "id": "8cc79541",
   "metadata": {},
   "source": [
    "### 3.\tWrite a Python program to find smallest number in a list?"
   ]
  },
  {
   "cell_type": "code",
   "execution_count": 3,
   "id": "593bca6b",
   "metadata": {},
   "outputs": [
    {
     "name": "stdout",
     "output_type": "stream",
     "text": [
      "List = [19, 31, 54, 21, 8, 17, 6]\n",
      "Smallest number = 6\n"
     ]
    }
   ],
   "source": [
    "c = [19,31,54,21,8,17,6]\n",
    "small = 9999999\n",
    "for i in c:\n",
    "    if i<small:\n",
    "        small=i\n",
    "print(f\"List = {c}\")\n",
    "print(f\"Smallest number = {small}\")"
   ]
  },
  {
   "cell_type": "markdown",
   "id": "16cc95ee",
   "metadata": {},
   "source": [
    "### 4.\tWrite a Python program to find largest number in a list?"
   ]
  },
  {
   "cell_type": "code",
   "execution_count": 4,
   "id": "7837699c",
   "metadata": {},
   "outputs": [
    {
     "name": "stdout",
     "output_type": "stream",
     "text": [
      "List = [19, 31, 54, 21, 8, 17, 6]\n",
      "Largest number = 54\n"
     ]
    }
   ],
   "source": [
    "d = [19,31,54,21,8,17,6]\n",
    "large = -9999999\n",
    "for i in d:\n",
    "    if i>large:\n",
    "        large=i\n",
    "print(f\"List = {d}\")\n",
    "print(f\"Largest number = {large}\")"
   ]
  },
  {
   "cell_type": "markdown",
   "id": "c7b18846",
   "metadata": {},
   "source": [
    "### 5.\tWrite a Python program to find second largest number in a list?"
   ]
  },
  {
   "cell_type": "code",
   "execution_count": 5,
   "id": "cc0c59e7",
   "metadata": {},
   "outputs": [
    {
     "name": "stdout",
     "output_type": "stream",
     "text": [
      "List = [19, 31, 43, 54, 21, 8, 17, 6]\n",
      "Second Largest number = 43\n"
     ]
    }
   ],
   "source": [
    "e = [19,31,43,54,21,8,17,6]\n",
    "large = -9999998\n",
    "sec_large = -9999999\n",
    "for i in e:\n",
    "    if i>large:\n",
    "        sec_large=large\n",
    "        large=i\n",
    "    if large<sec_large:\n",
    "        large,sec_large=sec_large,large\n",
    "print(f\"List = {e}\")\n",
    "print(f\"Second Largest number = {sec_large}\")"
   ]
  },
  {
   "cell_type": "markdown",
   "id": "211bdb74",
   "metadata": {},
   "source": [
    "### 6.\tWrite a Python program to find N largest elements from a list?"
   ]
  },
  {
   "cell_type": "code",
   "execution_count": 6,
   "id": "bc5ea241",
   "metadata": {},
   "outputs": [
    {
     "name": "stdout",
     "output_type": "stream",
     "text": [
      "List = [13, 42, 53, 3, 2, 5, 11, 20]\n",
      "Enter value of N : 4\n",
      "4 largest element(s) in the list : [53, 42, 20, 13]\n"
     ]
    }
   ],
   "source": [
    "f=[13,42,53,3,2,5,11,20]\n",
    "print(f\"List = {f}\")\n",
    "lst = []\n",
    "n=int(input(\"Enter value of N : \"))\n",
    "for i in range(n):\n",
    "    large = max(f)\n",
    "    lst.append(large)\n",
    "    f.remove(large)\n",
    "print(f\"{n} largest element(s) in the list : {lst}\")\n",
    "#OR replace the code line 5 to line 9 (i.e for loop till print) with the below 2 lines\n",
    "# a.sort()\n",
    "# print(f\"{n} largest element(s) in the list : {a[-n:]}\")"
   ]
  },
  {
   "cell_type": "markdown",
   "id": "54c23786",
   "metadata": {},
   "source": [
    "### 7.\tWrite a Python program to print even numbers in a list?"
   ]
  },
  {
   "cell_type": "code",
   "execution_count": 7,
   "id": "be73c291",
   "metadata": {},
   "outputs": [
    {
     "name": "stdout",
     "output_type": "stream",
     "text": [
      "List = [19, 45, 23, 16, 20, 11, 12, 44, 53, 17, 91, 72]\n",
      "Even Numbers in the given list are :\n",
      "16\n",
      "20\n",
      "12\n",
      "44\n",
      "72\n"
     ]
    }
   ],
   "source": [
    "a = [19,45,23,16,20,11,12,44,53,17,91,72]\n",
    "print(f\"List = {a}\")\n",
    "print(\"Even Numbers in the given list are :\")\n",
    "for i in a:\n",
    "    if i%2==0:\n",
    "        print(i)"
   ]
  },
  {
   "cell_type": "markdown",
   "id": "d86967c9",
   "metadata": {},
   "source": [
    "### 8.\tWrite a Python program to print odd numbers in a List?"
   ]
  },
  {
   "cell_type": "code",
   "execution_count": 8,
   "id": "5bd6f96c",
   "metadata": {},
   "outputs": [
    {
     "name": "stdout",
     "output_type": "stream",
     "text": [
      "List = [19, 45, 23, 16, 20, 11, 12, 44, 53, 17, 91, 72]\n",
      "Odd Numbers in the given list are :\n",
      "19\n",
      "45\n",
      "23\n",
      "11\n",
      "53\n",
      "17\n",
      "91\n"
     ]
    }
   ],
   "source": [
    "a = [19,45,23,16,20,11,12,44,53,17,91,72]\n",
    "print(f\"List = {a}\")\n",
    "print(\"Odd Numbers in the given list are :\")\n",
    "for i in a:\n",
    "    if i%2!=0:\n",
    "        print(i)"
   ]
  },
  {
   "cell_type": "markdown",
   "id": "25aa9973",
   "metadata": {},
   "source": [
    "### 9.\tWrite a Python program to Remove empty List from List?"
   ]
  },
  {
   "cell_type": "code",
   "execution_count": 10,
   "id": "6cf34290",
   "metadata": {},
   "outputs": [
    {
     "name": "stdout",
     "output_type": "stream",
     "text": [
      "Original List :\n",
      "[[], 1, 2, 'hey', [], '23', 42, [], '!=']\n",
      "\n",
      "After removing '[]' : \n",
      "[1, 'hey', '23', 42, [], '!=']\n"
     ]
    }
   ],
   "source": [
    "a = [[],1,2,'hey',[],'23',42,[],\"!=\"]\n",
    "b = []\n",
    "print(f\"Original List :\\n{a}\")\n",
    "for i in range(len(a)):\n",
    "    if (a[i]==[]):\n",
    "        b.append(i)\n",
    "for i in range(len(b)):\n",
    "    del a[i]\n",
    "print(f\"\\nAfter removing '[]' : \\n{a}\")        "
   ]
  },
  {
   "cell_type": "markdown",
   "id": "2ebdd13b",
   "metadata": {},
   "source": [
    "### 10.\tWrite a Python program to Cloning or Copying a list?"
   ]
  },
  {
   "cell_type": "code",
   "execution_count": 11,
   "id": "de418ffb",
   "metadata": {},
   "outputs": [
    {
     "name": "stdout",
     "output_type": "stream",
     "text": [
      "a = [20, 1, 4, 12, 0, 2, 4, 6]\t;id(a) = 2487276701760\n",
      "b = [20, 1, 4, 12, 0, 2, 4, 6]\t;id(b) = 2487276678592\n",
      "Clone successfully created.\n"
     ]
    }
   ],
   "source": [
    "a = [20,1,4,12,0,2,4,6]\n",
    "b = a[:]\n",
    "print(f\"a = {a}\\t;id(a) = {id(a)}\")\n",
    "print(f\"b = {b}\\t;id(b) = {id(b)}\")\n",
    "if id(a)!=id(b):\n",
    "    print(\"Clone successfully created.\")\n",
    "else:\n",
    "    print(\"Clone unsuccessful.\")"
   ]
  },
  {
   "cell_type": "markdown",
   "id": "f4114e96",
   "metadata": {},
   "source": [
    "### 11.\tWrite a Python program to Count occurrences of an element in a list?"
   ]
  },
  {
   "cell_type": "code",
   "execution_count": 12,
   "id": "854735be",
   "metadata": {},
   "outputs": [
    {
     "name": "stdout",
     "output_type": "stream",
     "text": [
      "List : [1, 4, 2, 3, 2, 1, 1, 1, 1, 8, 2, 8, 9, 0, 9, 1, 8, 5, 3, 3, 2, 4, 3, 1, 1]\n",
      "Enter element to count : 1\n",
      "Occurences of 1 = 8\n"
     ]
    }
   ],
   "source": [
    "a = [1,4,2,3,2,1,1,1,1,8,2,8,9,0,9,1,8,5,3,3,2,4,3,1,1]\n",
    "count=0\n",
    "print(f\"List : {a}\")\n",
    "elem=int(input(\"Enter element to count : \"))\n",
    "if elem in a:\n",
    "    for i in a:\n",
    "        if i==elem:\n",
    "            count+=1\n",
    "    print(f\"Occurences of {elem} = {count}\")\n",
    "else:\n",
    "    print(f\"{elem} not in the List.\")"
   ]
  }
 ],
 "metadata": {
  "kernelspec": {
   "display_name": "Python 3 (ipykernel)",
   "language": "python",
   "name": "python3"
  },
  "language_info": {
   "codemirror_mode": {
    "name": "ipython",
    "version": 3
   },
   "file_extension": ".py",
   "mimetype": "text/x-python",
   "name": "python",
   "nbconvert_exporter": "python",
   "pygments_lexer": "ipython3",
   "version": "3.9.12"
  }
 },
 "nbformat": 4,
 "nbformat_minor": 5
}
