{
 "cells": [
  {
   "cell_type": "markdown",
   "id": "46f5edbc",
   "metadata": {},
   "source": [
    "# Python Basics - Progamming Assignment 5"
   ]
  },
  {
   "cell_type": "markdown",
   "id": "b9c4392f",
   "metadata": {},
   "source": [
    "### 1. Write a Python Program to Find LCM?"
   ]
  },
  {
   "cell_type": "code",
   "execution_count": 1,
   "id": "f83a7b96",
   "metadata": {},
   "outputs": [
    {
     "name": "stdout",
     "output_type": "stream",
     "text": [
      "Enter 2 numbers : 2,9\n",
      "LCM = 18\n"
     ]
    }
   ],
   "source": [
    "a, b = input(\"Enter 2 numbers : \").split(\",\")\n",
    "a, b = int(a), int(b)\n",
    "if a>b:\n",
    "    high=a\n",
    "else:\n",
    "    high=b\n",
    "while(True):\n",
    "    if high%a==0 and high%b==0:\n",
    "        lcm=high\n",
    "        break\n",
    "    high+=1\n",
    "print(f\"LCM = {lcm}\")"
   ]
  },
  {
   "cell_type": "markdown",
   "id": "2d8f800a",
   "metadata": {},
   "source": [
    "### 2. Write a Python Program to Find HCF?"
   ]
  },
  {
   "cell_type": "code",
   "execution_count": 2,
   "id": "a12b9532",
   "metadata": {},
   "outputs": [
    {
     "name": "stdout",
     "output_type": "stream",
     "text": [
      "Enter 2 numbers : 12,15\n",
      "HCF = 3\n"
     ]
    }
   ],
   "source": [
    "c, d = input(\"Enter 2 numbers : \").split(\",\")\n",
    "c, d = int(c), int(d)\n",
    "if c>d:\n",
    "    low=d\n",
    "else:\n",
    "    low=c\n",
    "i=1\n",
    "while i<=low:\n",
    "    if c%i==0 and d%i==0:\n",
    "        hcf=i\n",
    "    i+=1\n",
    "print(f\"HCF = {hcf}\")"
   ]
  },
  {
   "cell_type": "markdown",
   "id": "962d3eba",
   "metadata": {},
   "source": [
    "### 3. Write a Python Program to Convert Decimal to Binary, Octal and Hexadecimal?"
   ]
  },
  {
   "cell_type": "code",
   "execution_count": 3,
   "id": "621347fb",
   "metadata": {},
   "outputs": [
    {
     "name": "stdout",
     "output_type": "stream",
     "text": [
      "Enter a decimal number : 4569\n",
      "4569 in Binary      = 1000111011001\n",
      "4569 in Octal       = 10731\n",
      "4569 in Hexadecimal = 11D9\n"
     ]
    }
   ],
   "source": [
    "num = int(input(\"Enter a decimal number : \"))\n",
    "bnry, octa, hexa = \"\", \"\", \"\"\n",
    "temp1 = temp2 = temp3 = num\n",
    "while temp1>0:\n",
    "    dig=temp1%2\n",
    "    bnry = bnry+str(dig)\n",
    "    temp1=temp1//2\n",
    "while temp2>0:\n",
    "    dig=temp2%8\n",
    "    octa = octa+str(dig)\n",
    "    temp2=temp2//8\n",
    "dict1 = {10:\"A\",11:\"B\",12:\"C\",13:\"D\",14:\"E\",15:\"F\"}\n",
    "while temp3>0:\n",
    "    dig=temp3%16\n",
    "    if dig in dict1.keys():\n",
    "        hexa = hexa+dict1[dig]\n",
    "    else:\n",
    "        hexa = hexa+str(dig)\n",
    "    temp3=temp3//16\n",
    "\n",
    "print(f\"{num} in Binary      = {bnry[::-1]}\")\n",
    "print(f\"{num} in Octal       = {octa[::-1]}\")\n",
    "print(f\"{num} in Hexadecimal = {hexa[::-1]}\")\n",
    "#BELOW RESULTS HAVE BEEN CROSS-CHECKED USING CALCULATOR "
   ]
  },
  {
   "cell_type": "markdown",
   "id": "0880dd02",
   "metadata": {},
   "source": [
    "### 4. Write a Python Program To Find ASCII value of a character?"
   ]
  },
  {
   "cell_type": "code",
   "execution_count": 4,
   "id": "587c2327",
   "metadata": {},
   "outputs": [
    {
     "name": "stdout",
     "output_type": "stream",
     "text": [
      "Enter a character : A\n",
      "ASCII value of A = 65\n"
     ]
    }
   ],
   "source": [
    "val = input(\"Enter a character : \")\n",
    "print(f\"ASCII value of {val} = {ord(val)}\")"
   ]
  },
  {
   "cell_type": "markdown",
   "id": "f9a1c4d7",
   "metadata": {},
   "source": [
    "### 5. Write a Python Program to Make a Simple Calculator with 4 basic mathematical operations?"
   ]
  },
  {
   "cell_type": "code",
   "execution_count": 5,
   "id": "bac80cfa",
   "metadata": {},
   "outputs": [
    {
     "name": "stdout",
     "output_type": "stream",
     "text": [
      "CALCULATOR:\n",
      "Press\n",
      "1 :for Addition\n",
      "2 :for Subtraction\n",
      "3 :for Multiplication\n",
      "4 :for Division\n",
      "5 :to Exit\n",
      "\n",
      "Choice(1-5) ?: 7\n",
      "Invalid Choice. Enter again:\n",
      "\n",
      "Choice(1-5) ?: 1\n",
      "Enter operand 1 : 10\n",
      "Enter operand 2 : 5\n",
      "10.0 + 5.0 = 15.0\n",
      "\n",
      "Choice(1-5) ?: 2\n",
      "Enter operand 1 : 10\n",
      "Enter operand 2 : 3\n",
      "10.0 - 3.0 = 7.0\n",
      "\n",
      "Choice(1-5) ?: 3\n",
      "Enter operand 1 : 100\n",
      "Enter operand 2 : 19\n",
      "100.0 * 19.0 = 1900.0\n",
      "\n",
      "Choice(1-5) ?: 4\n",
      "Enter operand 1 : 95\n",
      "Enter operand 2 : 5\n",
      "95.0 / 5.0 = 19.0\n",
      "\n",
      "Choice(1-5) ?: 5\n",
      "Calculator Exit\n"
     ]
    }
   ],
   "source": [
    "print(\"CALCULATOR:\\nPress\")\n",
    "print(\"1 :for Addition\")\n",
    "print(\"2 :for Subtraction\")\n",
    "print(\"3 :for Multiplication\")\n",
    "print(\"4 :for Division\")\n",
    "print(\"5 :to Exit\")\n",
    "ch=0\n",
    "while ch!=5:\n",
    "    print()\n",
    "    ch = int(input(\"Choice(1-5) ?: \"))\n",
    "    if ch==5:\n",
    "        print(\"Calculator Exit\")\n",
    "        break\n",
    "    elif ch not in [1,2,3,4,5]:\n",
    "        print(\"Invalid Choice. Enter again:\")\n",
    "        #ch = int(input(\"Choice(1-5) ?: \"))\n",
    "    else:\n",
    "        num1 = float(input(\"Enter operand 1 : \"))\n",
    "        num2 = float(input(\"Enter operand 2 : \"))\n",
    "        if ch==1:\n",
    "            print(f\"{num1} + {num2} = {num1+num2}\")\n",
    "        elif ch==2:\n",
    "            print(f\"{num1} - {num2} = {num1-num2}\")\n",
    "        elif ch==3:\n",
    "            print(f\"{num1} * {num2} = {num1*num2}\")\n",
    "        else:\n",
    "            print(f\"{num1} / {num2} = {num1/num2}\")\n",
    "            "
   ]
  }
 ],
 "metadata": {
  "kernelspec": {
   "display_name": "Python 3 (ipykernel)",
   "language": "python",
   "name": "python3"
  },
  "language_info": {
   "codemirror_mode": {
    "name": "ipython",
    "version": 3
   },
   "file_extension": ".py",
   "mimetype": "text/x-python",
   "name": "python",
   "nbconvert_exporter": "python",
   "pygments_lexer": "ipython3",
   "version": "3.9.12"
  }
 },
 "nbformat": 4,
 "nbformat_minor": 5
}
