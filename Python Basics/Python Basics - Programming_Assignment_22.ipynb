{
 "cells": [
  {
   "cell_type": "markdown",
   "id": "90091ecb",
   "metadata": {},
   "source": [
    "# Python Basics - Progamming Assignment 22"
   ]
  },
  {
   "cell_type": "markdown",
   "id": "adc2219c",
   "metadata": {},
   "source": [
    "### 1. Create a function that takes three parameters where:\n",
    "•\tx is the start of the range (inclusive).                                                                                    \n",
    "•\ty is the end of the range (inclusive).                                                                                                                                                                        \n",
    "•\tn is the divisor to be checked against.                                                                                                                                                                        \n",
    "Return an ordered list with numbers in the range that are divisible by the third parameter n. Return an empty list if there are no numbers that are divisible by n.\n",
    "#### Examples\n",
    "list_operation(1, 10, 3) ➞ [3, 6, 9]\n",
    "\n",
    "list_operation(7, 9, 2) ➞ [8]\n",
    "\n",
    "list_operation(15, 20, 7) ➞ []\n"
   ]
  },
  {
   "cell_type": "code",
   "execution_count": 1,
   "id": "987a80f8",
   "metadata": {},
   "outputs": [
    {
     "name": "stdout",
     "output_type": "stream",
     "text": [
      "[3, 6, 9]\n",
      "[8]\n",
      "[]\n"
     ]
    }
   ],
   "source": [
    "def list_operation(a,b,c):\n",
    "    d=[i for i in range(a,b+1) if i%c==0]\n",
    "    return d\n",
    "print(list_operation(1, 10, 3))\n",
    "print(list_operation(7, 9, 2))\n",
    "print(list_operation(15, 20, 7))"
   ]
  },
  {
   "cell_type": "markdown",
   "id": "7b6fc8c0",
   "metadata": {},
   "source": [
    "### 2. Create a function that takes in two lists and returns True if the second list follows the first list by one element, and False otherwise. In other words, determine if the second list is the first list shifted to the right by 1.\n",
    "#### Examples\n",
    "simon_says([1, 2], [5, 1]) ➞ True\n",
    "\n",
    "simon_says([1, 2], [5, 5]) ➞ False\n",
    "\n",
    "simon_says([1, 2, 3, 4, 5], [0, 1, 2, 3, 4]) ➞ True\n",
    "\n",
    "simon_says([1, 2, 3, 4, 5], [5, 5, 1, 2, 3]) ➞ False                                                                                                                                                                                                    \n",
    "Notes                                                                                                                                                                                                    \n",
    "•\tBoth input lists will be of the same length, and will have a minimum length of 2                                                                                                  .                                                                                                  \n",
    "•\tThe values of the 0-indexed element in the second list and the n-1th indexed element in the first list do not matter.\n"
   ]
  },
  {
   "cell_type": "code",
   "execution_count": 2,
   "id": "9a21008b",
   "metadata": {},
   "outputs": [
    {
     "name": "stdout",
     "output_type": "stream",
     "text": [
      "True\n",
      "False\n",
      "True\n",
      "False\n"
     ]
    }
   ],
   "source": [
    "def simon_says(a,b):\n",
    "    if a[0:len(a)-1]==b[1:]:\n",
    "        return True\n",
    "    return False\n",
    "print(simon_says([1, 2], [5, 1]))\n",
    "print(simon_says([1, 2], [5, 5]))\n",
    "print(simon_says([1, 2, 3, 4, 5], [0, 1, 2, 3, 4]))\n",
    "print(simon_says([1, 2, 3, 4, 5], [5, 5, 1, 2, 3]))"
   ]
  },
  {
   "cell_type": "markdown",
   "id": "720712d9",
   "metadata": {},
   "source": [
    "### 3. A group of friends have decided to start a secret society. The name will be the first letter of each of their names, sorted in alphabetical order.\n",
    "Create a function that takes in a list of names and returns the name of the secret society.\n",
    "#### Examples\n",
    "society_name([\"Adam\", \"Sarah\", \"Malcolm\"]) ➞ \"AMS\"\n",
    "\n",
    "society_name([\"Harry\", \"Newt\", \"Luna\", \"Cho\"]) ➞ \"CHLN\"\n",
    "\n",
    "society_name([\"Phoebe\", \"Chandler\", \"Rachel\", \"Ross\", \"Monica\", \"Joey\"])\n"
   ]
  },
  {
   "cell_type": "code",
   "execution_count": 3,
   "id": "f3debaf7",
   "metadata": {},
   "outputs": [
    {
     "name": "stdout",
     "output_type": "stream",
     "text": [
      "AMS\n",
      "CHLN\n",
      "CJMPRR\n"
     ]
    }
   ],
   "source": [
    "def society_name(a):\n",
    "    b=[i[0] for i in a]\n",
    "    b.sort()\n",
    "    return ''.join(b)\n",
    "print(society_name([\"Adam\", \"Sarah\", \"Malcolm\"]))\n",
    "print(society_name([\"Harry\", \"Newt\", \"Luna\", \"Cho\"]))\n",
    "print(society_name([\"Phoebe\", \"Chandler\", \"Rachel\", \"Ross\", \"Monica\", \"Joey\"]))"
   ]
  },
  {
   "cell_type": "markdown",
   "id": "1c66475b",
   "metadata": {},
   "source": [
    "### 4. Question4\n",
    "An isogram is a word that has no duplicate letters. Create a function that takes a string and returns either True or False depending on whether or not it's an \"isogram\".\n",
    "#### Examples\n",
    "is_isogram(\"Algorism\") ➞ True\n",
    "\n",
    "is_isogram(\"PasSword\") ➞ False\n",
    "##### Not case sensitive.\n",
    "\n",
    "is_isogram(\"Consecutive\") ➞ False                                                                                                                                                      \n",
    "Notes                                                                                                                                                      \n",
    "•\tIgnore letter case (should not be case sensitive).                                                                                                                                                      \n",
    "•\tAll test cases contain valid one word strings.\n"
   ]
  },
  {
   "cell_type": "code",
   "execution_count": 4,
   "id": "6cb921e9",
   "metadata": {},
   "outputs": [
    {
     "name": "stdout",
     "output_type": "stream",
     "text": [
      "True\n",
      "False\n",
      "False\n"
     ]
    }
   ],
   "source": [
    "def is_isogram(a):\n",
    "    b=a.lower()\n",
    "    if len(b)==len(set(b)):\n",
    "        return True\n",
    "    return False\n",
    "print(is_isogram(\"Algorism\"))\n",
    "print(is_isogram(\"PasSword\"))\n",
    "print(is_isogram(\"Consecutive\"))"
   ]
  },
  {
   "cell_type": "markdown",
   "id": "a064286b",
   "metadata": {},
   "source": [
    "### 5. Create a function that takes a string and returns True or False, depending on whether the characters are in order or not.\n",
    "#### Examples\n",
    "is_in_order(\"abc\") ➞ True\n",
    "\n",
    "is_in_order(\"edabit\") ➞ False\n",
    "\n",
    "is_in_order(\"123\") ➞ True\n",
    "\n",
    "is_in_order(\"xyzz\") ➞ True\n",
    "#### Notes\n",
    "You don't have to handle empty strings.\n"
   ]
  },
  {
   "cell_type": "code",
   "execution_count": 5,
   "id": "e4b09dab",
   "metadata": {},
   "outputs": [
    {
     "name": "stdout",
     "output_type": "stream",
     "text": [
      "True\n",
      "False\n",
      "True\n",
      "True\n"
     ]
    }
   ],
   "source": [
    "def is_in_order(string):\n",
    "    b=[i for i in string]\n",
    "    if ''.join(sorted(b))==string:\n",
    "        return True\n",
    "    return False\n",
    "print(is_in_order(\"abc\"))\n",
    "print(is_in_order(\"edabit\"))\n",
    "print(is_in_order(\"123\"))\n",
    "print(is_in_order(\"xyzz\"))"
   ]
  }
 ],
 "metadata": {
  "kernelspec": {
   "display_name": "Python 3 (ipykernel)",
   "language": "python",
   "name": "python3"
  },
  "language_info": {
   "codemirror_mode": {
    "name": "ipython",
    "version": 3
   },
   "file_extension": ".py",
   "mimetype": "text/x-python",
   "name": "python",
   "nbconvert_exporter": "python",
   "pygments_lexer": "ipython3",
   "version": "3.9.13"
  }
 },
 "nbformat": 4,
 "nbformat_minor": 5
}
