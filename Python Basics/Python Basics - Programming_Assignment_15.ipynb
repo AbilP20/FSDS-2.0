{
 "cells": [
  {
   "cell_type": "markdown",
   "id": "55915676",
   "metadata": {},
   "source": [
    "# Python Basics - Progamming Assignment 15"
   ]
  },
  {
   "cell_type": "markdown",
   "id": "68e7ac44",
   "metadata": {},
   "source": [
    "### 1. Please write a program using generator to print the numbers which can be divisible by 5 and 7 between 0 and n in comma separated form while n is input by console.\n",
    "#### Example:\n",
    "If the following n is given as input to the program:                                                                                                  \n",
    "100                                                                                                                                                                                                    \n",
    "Then, the output of the program should be:                                                                                                  \n",
    "0,35,70"
   ]
  },
  {
   "cell_type": "code",
   "execution_count": 1,
   "id": "b9b026da",
   "metadata": {},
   "outputs": [
    {
     "name": "stdout",
     "output_type": "stream",
     "text": [
      "Enter value of n: 100\n",
      "0,35,70\n"
     ]
    }
   ],
   "source": [
    "def div_5_7(n):\n",
    "    for i in range(n):\n",
    "        if i%5==0 and i%7==0:\n",
    "            yield (i)\n",
    "n=int(input(\"Enter value of n: \"))\n",
    "a=[]\n",
    "for i in div_5_7(n):\n",
    "    a.append(str(i))\n",
    "print(','.join(a))"
   ]
  },
  {
   "cell_type": "markdown",
   "id": "74e9e0ef",
   "metadata": {},
   "source": [
    "### 2. Please write a program using generator to print the even numbers between 0 and n in comma separated form while n is input by console.\n",
    "#### Example:\n",
    "If the following n is given as input to the program:                                                                                                  \n",
    "10                                                                                                                                                                                                    \n",
    "Then, the output of the program should be:                                                                                                  \n",
    "0,2,4,6,8,10"
   ]
  },
  {
   "cell_type": "code",
   "execution_count": 2,
   "id": "287b4bda",
   "metadata": {},
   "outputs": [
    {
     "name": "stdout",
     "output_type": "stream",
     "text": [
      "Enter value of n : 10\n",
      "0,2,4,6,8,10\n"
     ]
    }
   ],
   "source": [
    "def even(n):\n",
    "    for i in range(n+1):\n",
    "        if i%2==0:\n",
    "            yield(i)\n",
    "a=[]\n",
    "n=int(input(\"Enter value of n : \"))\n",
    "for i in even(n):\n",
    "    a.append(str(i))\n",
    "print(','.join(a))"
   ]
  },
  {
   "cell_type": "markdown",
   "id": "65acbca1",
   "metadata": {},
   "source": [
    "### 3. The Fibonacci Sequence is computed based on the following formula:\n",
    "f(n)=0 if n=0                                                                                                                                                                                                    \n",
    "f(n)=1 if n=1                                                                                                                                                                                                    \n",
    "f(n)=f(n-1)+f(n-2) if n>1                                                                                                                                                                                                    \n",
    "### Please write a program using list comprehension to print the Fibonacci Sequence in comma separated form with a given n input by console.                                                                                                                                                                                                    \n",
    "#### Example:\n",
    "If the following n is given as input to the program:                                                                                                  \n",
    "7                                                                                                                                                                                                    \n",
    "\n",
    "Then, the output of the program should be:                                                                                                  \n",
    "0,1,1,2,3,5,8,13\n"
   ]
  },
  {
   "cell_type": "code",
   "execution_count": 3,
   "id": "bfdc2fac",
   "metadata": {},
   "outputs": [
    {
     "name": "stdout",
     "output_type": "stream",
     "text": [
      "Enter value of n : 7\n",
      "0,1,1,2,3,5,8,13\n"
     ]
    }
   ],
   "source": [
    "def fibonacci(n):\n",
    "    if n==0:\n",
    "        return 0\n",
    "    elif n==1:\n",
    "        return 1\n",
    "    else:\n",
    "        return fibonacci(n-1)+fibonacci(n-2)\n",
    "n=int(input(\"Enter value of n : \"))\n",
    "a=[str(fibonacci(i)) for i in range(n+1)]\n",
    "print(\",\".join(a))"
   ]
  },
  {
   "cell_type": "markdown",
   "id": "f5e96ade",
   "metadata": {},
   "source": [
    "### 4. Assuming that we have some email addresses in the \"username@companyname.com\" format, please write program to print the user name of a given email address. Both user names and company names are composed of letters only.\n",
    "#### Example:\n",
    "If the following email address is given as input to the program:                                                                                                     \n",
    "john@google.com                                                                                                                                                                                                          \n",
    "Then, the output of the program should be:                                                                                                     \n",
    "john\n"
   ]
  },
  {
   "cell_type": "code",
   "execution_count": 4,
   "id": "c8c7f0c3",
   "metadata": {},
   "outputs": [
    {
     "name": "stdout",
     "output_type": "stream",
     "text": [
      "Email Address : john@google.com\n",
      "User Name : john\n"
     ]
    }
   ],
   "source": [
    "email = \"john@google.com\"\n",
    "a=email.split('@')\n",
    "print(f\"Email Address : {email}\")\n",
    "print(f\"User Name : {a[0]}\")"
   ]
  },
  {
   "cell_type": "markdown",
   "id": "968f072b",
   "metadata": {},
   "source": [
    "### 5. Define a class named Shape and its subclass Square. The Square class has an init function which takes a length as argument. Both classes have a area function which can print the area of the shape where Shape's area is 0 by default."
   ]
  },
  {
   "cell_type": "code",
   "execution_count": 5,
   "id": "4d506c3a",
   "metadata": {},
   "outputs": [],
   "source": [
    "class Shape():\n",
    "    def area(self):\n",
    "        print(\"Area : 0 sq.units\")\n",
    "class Square(Shape):\n",
    "    def __init__(self,x):\n",
    "        self.length=x\n",
    "    def area(self):\n",
    "        print(f\"Area : {self.length**2} sq.units\")"
   ]
  },
  {
   "cell_type": "code",
   "execution_count": 6,
   "id": "06de5f85",
   "metadata": {},
   "outputs": [
    {
     "name": "stdout",
     "output_type": "stream",
     "text": [
      "Area : 0 sq.units\n"
     ]
    }
   ],
   "source": [
    "a = Shape()\n",
    "a.area()"
   ]
  },
  {
   "cell_type": "code",
   "execution_count": 7,
   "id": "a99e464f",
   "metadata": {},
   "outputs": [
    {
     "name": "stdout",
     "output_type": "stream",
     "text": [
      "Area : 25 sq.units\n"
     ]
    }
   ],
   "source": [
    "b = Square(5)\n",
    "b.area()"
   ]
  }
 ],
 "metadata": {
  "kernelspec": {
   "display_name": "Python 3 (ipykernel)",
   "language": "python",
   "name": "python3"
  },
  "language_info": {
   "codemirror_mode": {
    "name": "ipython",
    "version": 3
   },
   "file_extension": ".py",
   "mimetype": "text/x-python",
   "name": "python",
   "nbconvert_exporter": "python",
   "pygments_lexer": "ipython3",
   "version": "3.9.13"
  }
 },
 "nbformat": 4,
 "nbformat_minor": 5
}
