{
 "cells": [
  {
   "cell_type": "markdown",
   "id": "df6954d1",
   "metadata": {},
   "source": [
    "# Python Basics - Progamming Assignment 14"
   ]
  },
  {
   "cell_type": "markdown",
   "id": "0757c1b8",
   "metadata": {},
   "source": [
    "### 1. Define a class with a generator which can iterate the numbers, which are divisible by 7, between a given range 0 and n."
   ]
  },
  {
   "cell_type": "code",
   "execution_count": 1,
   "id": "8b9e129f",
   "metadata": {},
   "outputs": [
    {
     "name": "stdout",
     "output_type": "stream",
     "text": [
      "7 14 21 28 35 42 49 56 63 70 77 84 91 98 "
     ]
    }
   ],
   "source": [
    "class div7:\n",
    "    def __init__(self,n):\n",
    "        self.n=n\n",
    "    def iterator(self):\n",
    "        for i in range(1,self.n+1):\n",
    "            if i%7==0:\n",
    "                yield i\n",
    "    def generate(self):\n",
    "        for i in self.iterator():\n",
    "            print(i,end=\" \")\n",
    "a=div7(100)\n",
    "a.generate()"
   ]
  },
  {
   "cell_type": "markdown",
   "id": "c1eead87",
   "metadata": {},
   "source": [
    "### 2. Write a program to compute the frequency of the words from the input. The output should output after sorting the key alphanumerically. \n",
    "\n",
    "#### Example  :Suppose the following input is supplied to the program:\n",
    "\n",
    "\"New to Python or choosing between Python 2 and Python 3? Read Python 2 or Python 3.\"\n",
    "\n",
    "Then, the output should be:\n",
    "\n",
    "2:2\n",
    "\n",
    "3.:1\n",
    "\n",
    "3?:1\n",
    "\n",
    "New:1\n",
    "\n",
    "Python:5\n",
    "\n",
    "Read:1\n",
    "\n",
    "and:1\n",
    "\n",
    "between:1\n",
    "\n",
    "choosing:1\n",
    "\n",
    "or:2\n",
    "\n",
    "to:1\n"
   ]
  },
  {
   "cell_type": "code",
   "execution_count": 4,
   "id": "37f7c974",
   "metadata": {},
   "outputs": [
    {
     "name": "stdout",
     "output_type": "stream",
     "text": [
      "Enter a String : New to Python or choosing between Python 2 and Python 3? Read Python 2 or Python 3.\n",
      "2 : 2\n",
      "3. : 1\n",
      "3? : 1\n",
      "New : 1\n",
      "Python : 5\n",
      "Read : 1\n",
      "and : 1\n",
      "between : 1\n",
      "choosing : 1\n",
      "or : 2\n",
      "to : 1\n"
     ]
    }
   ],
   "source": [
    "a=input(\"Enter a String : \")\n",
    "b=set(a.split())\n",
    "c=[]\n",
    "for i in b:\n",
    "    c.append((i,a.count(i)))\n",
    "for i,j in sorted(c):\n",
    "    print(f\"{i} : {j}\")"
   ]
  },
  {
   "cell_type": "markdown",
   "id": "2a5e85e5",
   "metadata": {},
   "source": [
    "### 3. Define a class Person and its two child classes: Male and Female. All classes have a method \"getGender\" which can print \"Male\" for Male class and \"Female\" for Female class."
   ]
  },
  {
   "cell_type": "code",
   "execution_count": 5,
   "id": "b29046f5",
   "metadata": {},
   "outputs": [
    {
     "name": "stdout",
     "output_type": "stream",
     "text": [
      "None\n",
      "Male\n",
      "Female\n"
     ]
    }
   ],
   "source": [
    "class Person:\n",
    "    def getGender(self):\n",
    "        return None\n",
    "class Male(Person):\n",
    "    def getGender(self):\n",
    "        return \"Male\"\n",
    "class Female(Person):\n",
    "    def getGender(self):\n",
    "        return \"Female\"\n",
    "random = Person()\n",
    "aman = Male()\n",
    "ria = Female()\n",
    "print(random.getGender())\n",
    "print(aman.getGender())\n",
    "print(ria.getGender())"
   ]
  },
  {
   "cell_type": "markdown",
   "id": "1a87ac41",
   "metadata": {},
   "source": [
    "### 4. Please write a program to generate all sentences where subject is in [\"I\", \"You\"] and verb is in [\"Play\", \"Love\"] and the object is in [\"Hockey\",\"Football\"]."
   ]
  },
  {
   "cell_type": "code",
   "execution_count": 6,
   "id": "0e5ea108",
   "metadata": {},
   "outputs": [
    {
     "name": "stdout",
     "output_type": "stream",
     "text": [
      "I Play Hockey\n",
      "I Play Football\n",
      "I Love Hockey\n",
      "I Love Football\n",
      "You Play Hockey\n",
      "You Play Football\n",
      "You Love Hockey\n",
      "You Love Football\n"
     ]
    }
   ],
   "source": [
    "subject = [\"I\", \"You\"]\n",
    "verb = [\"Play\", \"Love\"]\n",
    "obj = [\"Hockey\",\"Football\"]\n",
    "a=[f\"{i} {j} {k}\" for i in subject for j in verb for k in obj]\n",
    "for i in a:\n",
    "    print(i)"
   ]
  },
  {
   "cell_type": "markdown",
   "id": "472d0d65",
   "metadata": {},
   "source": [
    "### 5. Please write a program to compress and decompress the string \"hello world!hello world!hello world!hello world!\"."
   ]
  },
  {
   "cell_type": "code",
   "execution_count": 8,
   "id": "57ba0232",
   "metadata": {},
   "outputs": [
    {
     "name": "stdout",
     "output_type": "stream",
     "text": [
      "Run Length Encoding Algo\n",
      "1. Compressed String :\n",
      "h1e1l2o1 1w1o1r1l1d1!1h1e1l2o1 1w1o1r1l1d1!1h1e1l2o1 1w1o1r1l1d1!1h1e1l2o1 1w1o1r1l1d1!1\n",
      "2. De-Compressed String :\n",
      "hello world!hello world!hello world!hello world!\n",
      "\n",
      "Deflate Algo\n",
      "1. Compressed String :\n",
      "->b'x\\x9c\\xcbH\\xcd\\xc9\\xc9W(\\xcf/\\xcaIQ\\xcc \\x82\\r\\x00\\xbd[\\x11\\xf5'\n",
      "2. De-compressed String :\n",
      "->b'hello world!hello world!hello world!hello world!'\n"
     ]
    }
   ],
   "source": [
    "#Run Length Encoding algo\n",
    "a = \"hello world!hello world!hello world!hello world!\"\n",
    "comp_a = \"\";  count=1;  n = (len(a))\n",
    "for i in range(len(a)-1):\n",
    "    if a[i]==a[i+1]:\n",
    "        count+=1\n",
    "    else:\n",
    "        comp_a+=a[i]+str(count)\n",
    "        count=1\n",
    "comp_a+=a[n-1]+\"1\"\n",
    "decomp_a = \"\"\n",
    "for i in range(0,len(comp_a),2):\n",
    "    decomp_a+=(comp_a[i]*int(comp_a[i+1]))\n",
    "print(\"Run Length Encoding Algo\")\n",
    "print(f\"1. Compressed String :\\n{comp_a}\")\n",
    "print(f\"2. De-Compressed String :\\n{decomp_a}\")\n",
    "\n",
    "#using zlib module (deflate algo)\n",
    "import zlib\n",
    "c1 = zlib.compress(a.encode())\n",
    "c2 = zlib.decompress(c1)\n",
    "print(\"\\nDeflate Algo\")\n",
    "print(f\"1. Compressed String :\\n->{c1}\")\n",
    "print(f\"2. De-compressed String :\\n->{c2}\")"
   ]
  },
  {
   "cell_type": "markdown",
   "id": "1e151147",
   "metadata": {},
   "source": [
    "### 6. Please write a binary search function which searches an item in a sorted list. The function should return the index of element to be searched in the list."
   ]
  },
  {
   "cell_type": "code",
   "execution_count": 9,
   "id": "9dc0516c",
   "metadata": {},
   "outputs": [],
   "source": [
    "def binSearch(a,val,low,high):\n",
    "    \"\"\"Returns index of the value to be searched. If value not found(not in the list), then returns -1\"\"\"\n",
    "    while low<=high:\n",
    "        mid=(low+high)//2\n",
    "        if val==a[mid]:\n",
    "            return mid\n",
    "        elif val<a[mid]:\n",
    "            return binSearch(a,val,low,mid-1)\n",
    "        else:\n",
    "            return binSearch(a,val,mid+1,high)\n",
    "    return -1"
   ]
  },
  {
   "cell_type": "code",
   "execution_count": 10,
   "id": "ad4d1a2d",
   "metadata": {},
   "outputs": [
    {
     "name": "stdout",
     "output_type": "stream",
     "text": [
      "Index of 10 : 9\n",
      "Index of 100 : -1\n"
     ]
    }
   ],
   "source": [
    "a = [1,2,3,4,5,6,7,8,9,10]\n",
    "val1 = 10\n",
    "val2 = 100\n",
    "n = len(a)\n",
    "print(f\"Index of {val1} : {binSearch(a,val1,0,n-1)}\")\n",
    "print(f\"Index of {val2} : {binSearch(a,val2,0,n-1)}\")"
   ]
  }
 ],
 "metadata": {
  "kernelspec": {
   "display_name": "Python 3 (ipykernel)",
   "language": "python",
   "name": "python3"
  },
  "language_info": {
   "codemirror_mode": {
    "name": "ipython",
    "version": 3
   },
   "file_extension": ".py",
   "mimetype": "text/x-python",
   "name": "python",
   "nbconvert_exporter": "python",
   "pygments_lexer": "ipython3",
   "version": "3.9.13"
  }
 },
 "nbformat": 4,
 "nbformat_minor": 5
}
