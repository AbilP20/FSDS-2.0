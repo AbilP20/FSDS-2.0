{
 "cells": [
  {
   "cell_type": "markdown",
   "id": "8f4bc0e4",
   "metadata": {},
   "source": [
    "# Python Basics - Progamming Assignment 12"
   ]
  },
  {
   "cell_type": "markdown",
   "id": "789ab6ea",
   "metadata": {},
   "source": [
    "### 1. In what modes should the PdfFileReader() and PdfFileWriter() File objects will be opened?"
   ]
  },
  {
   "cell_type": "markdown",
   "id": "9a37fa71",
   "metadata": {},
   "source": [
    "PdfFileReader() has to be opened in `'rb'` (binary read) mode and PdfFileWriter() has to be opened in `'wb'` (binary write)."
   ]
  },
  {
   "cell_type": "markdown",
   "id": "d53f4230",
   "metadata": {},
   "source": [
    "### 2. From a PdfFileReader object, how do you get a Page object for page 5?"
   ]
  },
  {
   "cell_type": "markdown",
   "id": "3be160e5",
   "metadata": {},
   "source": [
    "getPage(5) method can be used to get Page object for page 5 "
   ]
  },
  {
   "cell_type": "markdown",
   "id": "78edc4f3",
   "metadata": {},
   "source": [
    "### 3. What PdfFileReader variable stores the number of pages in the PDF document?"
   ]
  },
  {
   "cell_type": "markdown",
   "id": "20c497ed",
   "metadata": {},
   "source": [
    "getNumPages()"
   ]
  },
  {
   "cell_type": "markdown",
   "id": "d9417218",
   "metadata": {},
   "source": [
    "### 4. If a PdfFileReader object’s PDF is encrypted with the password swordfish, what must you do before you can obtain Page objects from it?"
   ]
  },
  {
   "cell_type": "markdown",
   "id": "9bcfe4f8",
   "metadata": {},
   "source": [
    "We have to decrypt the pdf before obtainin the page object by using pdfreader.decrypt(\"swordfish\")"
   ]
  },
  {
   "cell_type": "markdown",
   "id": "7e37eb0c",
   "metadata": {},
   "source": [
    "### 5. What methods do you use to rotate a page?"
   ]
  },
  {
   "cell_type": "markdown",
   "id": "77ea70a6",
   "metadata": {},
   "source": [
    "rotateClockWise() or rotateCounterClockWise()"
   ]
  },
  {
   "cell_type": "markdown",
   "id": "f669339d",
   "metadata": {},
   "source": [
    "### 6. What is the difference between a Run object and a Paragraph object?"
   ]
  },
  {
   "cell_type": "markdown",
   "id": "0890b794",
   "metadata": {},
   "source": [
    "Paragraph object has a run attribute that is a list of Run objects,while Run objects have a text attribute, containing just the text in that particular run. And a list of paragraphs is stores in the Document object. They occur in a heirarchy."
   ]
  },
  {
   "cell_type": "markdown",
   "id": "395320e5",
   "metadata": {},
   "source": [
    "### 7. How do you obtain a list of Paragraph objects for a Document object that’s stored in a variable named doc?"
   ]
  },
  {
   "cell_type": "markdown",
   "id": "9a2cf384",
   "metadata": {},
   "source": [
    "Document object has a `paragraphs` attribute which helps in obtaining a list of all paragraphs. `document_object.paragraphs`"
   ]
  },
  {
   "cell_type": "markdown",
   "id": "e99f6363",
   "metadata": {},
   "source": [
    "### 8. What type of object has bold, underline, italic, strike, and outline variables?"
   ]
  },
  {
   "cell_type": "markdown",
   "id": "c269eb88",
   "metadata": {},
   "source": [
    "A `run` object has these variables"
   ]
  },
  {
   "cell_type": "markdown",
   "id": "49df6197",
   "metadata": {},
   "source": [
    "### 9. What is the difference between False, True, and None for the bold variable?"
   ]
  },
  {
   "cell_type": "markdown",
   "id": "36f3c1cd",
   "metadata": {},
   "source": [
    "True - always bold                                                                                                                       \n",
    "False - never bold                                                                                                                       \n",
    "None - use style's default setting for bold"
   ]
  },
  {
   "cell_type": "markdown",
   "id": "94d4fc5d",
   "metadata": {},
   "source": [
    "### 10. How do you create a Document object for a new Word document?"
   ]
  },
  {
   "cell_type": "markdown",
   "id": "166679e2",
   "metadata": {},
   "source": [
    "We can create Document object by using `docx.Document()` method."
   ]
  },
  {
   "cell_type": "markdown",
   "id": "3ecb24a1",
   "metadata": {},
   "source": [
    "### 11. How do you add a paragraph with the text 'Hello, there!' to a Document object stored in a variable named doc?"
   ]
  },
  {
   "cell_type": "markdown",
   "id": "1b6c72dc",
   "metadata": {},
   "source": [
    "`doc.add_paragraph('Hello, there!')`"
   ]
  },
  {
   "cell_type": "markdown",
   "id": "917e3b51",
   "metadata": {},
   "source": [
    "### 12. What integers represent the levels of headings available in Word documents?"
   ]
  },
  {
   "cell_type": "markdown",
   "id": "40e44f40",
   "metadata": {},
   "source": [
    "There are 5 levels - 0 to 4, 0 being a heading with line below it, 1 being the main heading and the rest are sub-headings."
   ]
  }
 ],
 "metadata": {
  "kernelspec": {
   "display_name": "Python 3 (ipykernel)",
   "language": "python",
   "name": "python3"
  },
  "language_info": {
   "codemirror_mode": {
    "name": "ipython",
    "version": 3
   },
   "file_extension": ".py",
   "mimetype": "text/x-python",
   "name": "python",
   "nbconvert_exporter": "python",
   "pygments_lexer": "ipython3",
   "version": "3.9.16"
  }
 },
 "nbformat": 4,
 "nbformat_minor": 5
}
