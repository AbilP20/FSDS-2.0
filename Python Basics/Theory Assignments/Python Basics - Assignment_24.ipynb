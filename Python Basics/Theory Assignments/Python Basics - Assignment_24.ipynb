{
 "cells": [
  {
   "cell_type": "markdown",
   "id": "8f4bc0e4",
   "metadata": {},
   "source": [
    "# Python Basics - Progamming Assignment 24"
   ]
  },
  {
   "cell_type": "markdown",
   "id": "960ad7ed",
   "metadata": {},
   "source": [
    "### 1. What is the relationship between def statements and lambda expressions ?\n"
   ]
  },
  {
   "cell_type": "markdown",
   "id": "29963c90",
   "metadata": {},
   "source": [
    "`def` is used for normal functions while `lambda` is used to create anonymous functions. `def` is made of several block of statements and `lambda` is a one line function."
   ]
  },
  {
   "cell_type": "code",
   "execution_count": 1,
   "id": "a5d4c11a",
   "metadata": {},
   "outputs": [],
   "source": [
    "def add2(a,b):\n",
    "    return a+b\n",
    "add1 = lambda a,b:a+b"
   ]
  },
  {
   "cell_type": "code",
   "execution_count": 2,
   "id": "4c3c5863",
   "metadata": {},
   "outputs": [
    {
     "data": {
      "text/plain": [
       "9"
      ]
     },
     "execution_count": 2,
     "metadata": {},
     "output_type": "execute_result"
    }
   ],
   "source": [
    "add1(4,5)"
   ]
  },
  {
   "cell_type": "code",
   "execution_count": 3,
   "id": "a7b4a091",
   "metadata": {},
   "outputs": [
    {
     "data": {
      "text/plain": [
       "9"
      ]
     },
     "execution_count": 3,
     "metadata": {},
     "output_type": "execute_result"
    }
   ],
   "source": [
    "add2(4,5)"
   ]
  },
  {
   "cell_type": "markdown",
   "id": "d3a6bd1b",
   "metadata": {},
   "source": [
    "### 2. What is the benefit of lambda?"
   ]
  },
  {
   "cell_type": "markdown",
   "id": "d59da34a",
   "metadata": {},
   "source": [
    "a. automatic return of results - no need to give return explicitly                                                                         \n",
    "b. create one line functions (easier to read and simple)                                                                                                                                                  \n",
    "c. no additional variables needed - can be called immediately"
   ]
  },
  {
   "cell_type": "markdown",
   "id": "76c3b112",
   "metadata": {},
   "source": [
    "### 3. Compare and contrast map, filter, and reduce."
   ]
  },
  {
   "cell_type": "markdown",
   "id": "e8e7dcfa",
   "metadata": {},
   "source": [
    "`map()` returns a list of item(s) after applying a given functions to all the item(s) in an iterable.                                           \n",
    "`filter()` returns a list of item(s) for which a given function will return True                                                                                      \n",
    "`reduce()` is used for reduction, i.e. it applies the function iteratively to the elements in a iterable and then reduces it to 1 single output. It is used when we want a single cumulative value."
   ]
  },
  {
   "cell_type": "markdown",
   "id": "dc8fb401",
   "metadata": {},
   "source": [
    "#### map()"
   ]
  },
  {
   "cell_type": "code",
   "execution_count": 4,
   "id": "e0700a6c",
   "metadata": {},
   "outputs": [
    {
     "name": "stdout",
     "output_type": "stream",
     "text": [
      "[2, 3, 4]\n"
     ]
    }
   ],
   "source": [
    "my_list = [[1,2], [1,2,3], [1,2,3,4]]\n",
    "a = list(map(len,my_list))\n",
    "print(a)"
   ]
  },
  {
   "cell_type": "code",
   "execution_count": 5,
   "id": "73b1622f",
   "metadata": {},
   "outputs": [
    {
     "name": "stdout",
     "output_type": "stream",
     "text": [
      "[1, 4, 9, 16]\n"
     ]
    }
   ],
   "source": [
    "a = list(map(lambda x:x*x, [1,2,3,4]))\n",
    "print(a)"
   ]
  },
  {
   "cell_type": "markdown",
   "id": "847fa46e",
   "metadata": {},
   "source": [
    "#### filter()"
   ]
  },
  {
   "cell_type": "code",
   "execution_count": 6,
   "id": "89ec2d7b",
   "metadata": {
    "scrolled": true
   },
   "outputs": [
    {
     "name": "stdout",
     "output_type": "stream",
     "text": [
      "USING map()\n",
      "[False, True, False, True, False, True, False, True, False, True]\n",
      "\n",
      "USING filter()\n",
      "[2, 4, 6, 8, 10]\n"
     ]
    }
   ],
   "source": [
    "#return squares of number from 1 to 10 which are even\n",
    "sqr = lambda x:True if x*x%2==0 else False\n",
    "print(\"USING map()\")\n",
    "a = list(map(sqr,[1,2,3,4,5,6,7,8,9,10]))\n",
    "print(a)\n",
    "print(\"\\nUSING filter()\")\n",
    "a = list(filter(sqr,[1,2,3,4,5,6,7,8,9,10]))\n",
    "print(a)"
   ]
  },
  {
   "cell_type": "markdown",
   "id": "841b1823",
   "metadata": {},
   "source": [
    "#### reduce()"
   ]
  },
  {
   "cell_type": "code",
   "execution_count": 7,
   "id": "ebea69ab",
   "metadata": {},
   "outputs": [
    {
     "name": "stdout",
     "output_type": "stream",
     "text": [
      "15\n"
     ]
    }
   ],
   "source": [
    "from functools import reduce\n",
    "a = reduce(lambda a,b:a+b, [1,2,3,4,5])\n",
    "print(a)"
   ]
  },
  {
   "cell_type": "markdown",
   "id": "8471c926",
   "metadata": {},
   "source": [
    "### 4. What are function annotations, and how are they used?"
   ]
  },
  {
   "cell_type": "markdown",
   "id": "139f1bce",
   "metadata": {},
   "source": [
    "Function annotations are nothing more than a way of associating arbitrary Python expressions with various parts of a function at compile-time. These are optional. Just like documentation, annotations are also used to provide additional info to a another user on which type of data is intended to be passed as argument, which datatype is intended to be returned, etc."
   ]
  },
  {
   "cell_type": "code",
   "execution_count": 8,
   "id": "cad1cd52",
   "metadata": {},
   "outputs": [],
   "source": [
    "def add(a:int, b:int)->int:\n",
    "    return a+b"
   ]
  },
  {
   "cell_type": "markdown",
   "id": "7b41a6df",
   "metadata": {},
   "source": [
    "above `add` function suggests that the intended datatype for `a` and `b` argument is integer. And return type is also integer. But it is not neccessary. We may also pass strings without gettin gan error. Annotations is just providing info on how the function add() was intended to be used by the developer"
   ]
  },
  {
   "cell_type": "code",
   "execution_count": 9,
   "id": "f11dea34",
   "metadata": {},
   "outputs": [
    {
     "data": {
      "text/plain": [
       "9"
      ]
     },
     "execution_count": 9,
     "metadata": {},
     "output_type": "execute_result"
    }
   ],
   "source": [
    "add(4,5)"
   ]
  },
  {
   "cell_type": "code",
   "execution_count": 10,
   "id": "c1bec25e",
   "metadata": {},
   "outputs": [
    {
     "data": {
      "text/plain": [
       "'hello'"
      ]
     },
     "execution_count": 10,
     "metadata": {},
     "output_type": "execute_result"
    }
   ],
   "source": [
    "add('he','llo')"
   ]
  },
  {
   "cell_type": "markdown",
   "id": "382e0435",
   "metadata": {},
   "source": [
    "### 5. What are recursive functions, and how are they used?"
   ]
  },
  {
   "cell_type": "markdown",
   "id": "1b43379b",
   "metadata": {},
   "source": [
    "Recursive functions are those functions that call itself, i.e. there is a function call say, A inside the function A."
   ]
  },
  {
   "cell_type": "code",
   "execution_count": 11,
   "id": "64e2af21",
   "metadata": {},
   "outputs": [],
   "source": [
    "def fact(x):\n",
    "    if x==1:\n",
    "        return 1\n",
    "    else:\n",
    "        return x * fact(x-1)"
   ]
  },
  {
   "cell_type": "code",
   "execution_count": 12,
   "id": "cb317c3d",
   "metadata": {},
   "outputs": [
    {
     "data": {
      "text/plain": [
       "120"
      ]
     },
     "execution_count": 12,
     "metadata": {},
     "output_type": "execute_result"
    }
   ],
   "source": [
    "fact(5)"
   ]
  },
  {
   "cell_type": "code",
   "execution_count": null,
   "id": "cca6a941",
   "metadata": {},
   "outputs": [],
   "source": [
    "# FLOW OF THE ABOVE FUNCTION\n",
    "x=5\n",
    "return = 5 x fact(4)\n",
    "             x = 4\n",
    "             return = 4 x fact(3)\n",
    "                          x=3\n",
    "                          return = 3 x fact(2)\n",
    "                                       x=2\n",
    "                                       return = 2 x fact(1)\n",
    "                                                    x=1\n",
    "                                                    return = 1\n",
    "# recursive function is implemented via stacks(LIFO), so so output of last is given to 2nd last....to the top function\n",
    "# output will be 1 -> 2x1 -> 3x2 -> 4x6 -> 5x24 ->120\n",
    "# we always need to have a base condition in each recursive function (i.e. a stop funciton to tell func when to stop)"
   ]
  },
  {
   "cell_type": "markdown",
   "id": "13f5acce",
   "metadata": {},
   "source": [
    "### 6. What are some general design guidelines for coding functions?"
   ]
  },
  {
   "cell_type": "markdown",
   "id": "e00be06e",
   "metadata": {},
   "source": [
    "a. Proper identation for better code readabilty                                                                                                        \n",
    "b. use docstrings always to tell another user about the usage of the function                                                                                                        \n",
    "c. use annotations if needed                                                                                                        \n",
    "d. use exception handling to handle errors and have the function run smoothly even when errors do occur                                                                                                        \n",
    "e. always use logging to log the function calls and returns and errors                                                                                                        \n",
    "f. use the general naming conventions for `localVariables`, `GlobalVariables`, `CONSTANT`, etc."
   ]
  },
  {
   "cell_type": "markdown",
   "id": "9f188f38",
   "metadata": {},
   "source": [
    "### 7. Name three or more ways that functions can communicate results to a caller."
   ]
  },
  {
   "cell_type": "markdown",
   "id": "902cf903",
   "metadata": {},
   "source": [
    "a. `print()` the result                                                                                                                       \n",
    "b. `return` the result                                                                                                                       \n",
    "c. `yield` the result"
   ]
  }
 ],
 "metadata": {
  "kernelspec": {
   "display_name": "Python 3 (ipykernel)",
   "language": "python",
   "name": "python3"
  },
  "language_info": {
   "codemirror_mode": {
    "name": "ipython",
    "version": 3
   },
   "file_extension": ".py",
   "mimetype": "text/x-python",
   "name": "python",
   "nbconvert_exporter": "python",
   "pygments_lexer": "ipython3",
   "version": "3.9.16"
  }
 },
 "nbformat": 4,
 "nbformat_minor": 5
}
