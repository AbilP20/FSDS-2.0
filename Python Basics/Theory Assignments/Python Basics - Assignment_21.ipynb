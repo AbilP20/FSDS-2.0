{
 "cells": [
  {
   "cell_type": "markdown",
   "id": "8f4bc0e4",
   "metadata": {},
   "source": [
    "# Python Basics - Progamming Assignment 21"
   ]
  },
  {
   "cell_type": "markdown",
   "id": "68832fac",
   "metadata": {},
   "source": [
    "### 1. Add the current date to the text file today.txt as a string."
   ]
  },
  {
   "cell_type": "code",
   "execution_count": 1,
   "id": "ecd80b64",
   "metadata": {},
   "outputs": [],
   "source": [
    "import datetime"
   ]
  },
  {
   "cell_type": "code",
   "execution_count": 2,
   "id": "d4196be8",
   "metadata": {},
   "outputs": [],
   "source": [
    "dt = datetime.datetime.now().strftime(\"%d-%m-%Y\")\n",
    "with open('today.txt','w') as f:\n",
    "    f.write(str(dt))"
   ]
  },
  {
   "cell_type": "markdown",
   "id": "494bc7e5",
   "metadata": {},
   "source": [
    "### 2. Read the text file today.txt into the string today_string"
   ]
  },
  {
   "cell_type": "code",
   "execution_count": 3,
   "id": "82c3db6e",
   "metadata": {},
   "outputs": [
    {
     "name": "stdout",
     "output_type": "stream",
     "text": [
      "03-01-2023\n"
     ]
    }
   ],
   "source": [
    "today_string = \"\"\n",
    "with open('today.txt','r') as f:\n",
    "    today_string+=f.read()\n",
    "print(today_string)"
   ]
  },
  {
   "cell_type": "markdown",
   "id": "ef0383c3",
   "metadata": {},
   "source": [
    "### 3. Parse the date from today_string."
   ]
  },
  {
   "cell_type": "code",
   "execution_count": 4,
   "id": "e3d6d309",
   "metadata": {},
   "outputs": [
    {
     "name": "stdout",
     "output_type": "stream",
     "text": [
      "2023-01-03\n"
     ]
    }
   ],
   "source": [
    "dt1 = datetime.datetime.strptime(today_string,'%d-%m-%Y')\n",
    "print(dt1.date())"
   ]
  },
  {
   "cell_type": "markdown",
   "id": "bd63a23e",
   "metadata": {},
   "source": [
    "### 4. List the files in your current directory"
   ]
  },
  {
   "cell_type": "code",
   "execution_count": 5,
   "id": "f29637d6",
   "metadata": {},
   "outputs": [],
   "source": [
    "import os"
   ]
  },
  {
   "cell_type": "code",
   "execution_count": 6,
   "id": "6ed9e762",
   "metadata": {},
   "outputs": [
    {
     "name": "stdout",
     "output_type": "stream",
     "text": [
      "Assignment_1.docx\n",
      "today.txt\n",
      "untitled.ipynb\n",
      "zoo.py\n",
      "zoo.cpython-39.pyc\n"
     ]
    }
   ],
   "source": [
    "for (root, dirs, file) in os.walk(r\"C:\\Users\\abilp\\iNeuron - FSDS Bootcamp 2.0\\Dashboard Assignments\\Python Basics - Assignment\\New folder\"):\n",
    "    for f in file:\n",
    "            print(f)"
   ]
  },
  {
   "cell_type": "markdown",
   "id": "aea9c352",
   "metadata": {},
   "source": [
    "### 5. Create a list of all of the files in your parent directory (minimum five files should be available)."
   ]
  },
  {
   "cell_type": "code",
   "execution_count": 7,
   "id": "0defb655",
   "metadata": {},
   "outputs": [
    {
     "name": "stdout",
     "output_type": "stream",
     "text": [
      "['Assignment_1.docx', 'js', 'today.txt', 'untitled.ipynb', 'zoo.py', '__pycache__']\n"
     ]
    }
   ],
   "source": [
    "files = os.listdir()\n",
    "print(files)"
   ]
  },
  {
   "cell_type": "markdown",
   "id": "34988a68",
   "metadata": {},
   "source": [
    "### 6. Use multiprocessing to create three separate processes. Make each one wait a random number of seconds between one and five, print the current time, and then exit."
   ]
  },
  {
   "cell_type": "code",
   "execution_count": 8,
   "id": "6165ad0d",
   "metadata": {},
   "outputs": [],
   "source": [
    "import multiprocessing\n",
    "import random"
   ]
  },
  {
   "cell_type": "code",
   "execution_count": 9,
   "id": "94c347ef",
   "metadata": {},
   "outputs": [],
   "source": [
    "def pro1():\n",
    "    print(f\"Process 1 Started at : {datetime.datetime.now()}\")\n",
    "    sleep(random.randint(1,6))\n",
    "    print(f\"Process 1 Finished at : {datetime.datetime.now()}\")\n",
    "def pro2():\n",
    "    print(f\"Process 2 Started at : {datetime.datetime.now()}\")\n",
    "    sleep(random.randint(1,6))\n",
    "    print(f\"Process 2 Finished at : {datetime.datetime.now()}\")\n",
    "def pro3():\n",
    "    print(f\"Process 3 Started at : {datetime.datetime.now()}\")\n",
    "    sleep(random.randint(1,6))\n",
    "    print(f\"Process 3 Finished at : {datetime.datetime.now()}\")\n",
    "\n",
    "if __name__ == \"__main__\":    \n",
    "    p1 = multiprocessing.Process(target=pro1)\n",
    "    p2 = multiprocessing.Process(target=pro2)\n",
    "    p3 = multiprocessing.Process(target=pro3)\n",
    "\n",
    "    p1.start()\n",
    "    p2.start()\n",
    "    p3.start()\n",
    "\n",
    "    p1.join()\n",
    "    p2.join()\n",
    "    p3.join()"
   ]
  },
  {
   "cell_type": "markdown",
   "id": "a653b355",
   "metadata": {},
   "source": [
    "There is some limitations of multiprocessing on JUPYTER and Python IDLE, that;s why output is not coming i suppose as the code seems correct"
   ]
  },
  {
   "cell_type": "markdown",
   "id": "0b02a024",
   "metadata": {},
   "source": [
    "### 7. Create a date object of your day of birth."
   ]
  },
  {
   "cell_type": "code",
   "execution_count": 10,
   "id": "ae590b4f",
   "metadata": {},
   "outputs": [
    {
     "name": "stdout",
     "output_type": "stream",
     "text": [
      "2002-01-01\n"
     ]
    }
   ],
   "source": [
    "a = datetime.date(2002,1,1)\n",
    "print(a)"
   ]
  },
  {
   "cell_type": "markdown",
   "id": "4db15db2",
   "metadata": {},
   "source": [
    "### 8. What day of the week was your day of birth?"
   ]
  },
  {
   "cell_type": "code",
   "execution_count": 11,
   "id": "3c2e6fd1",
   "metadata": {},
   "outputs": [
    {
     "data": {
      "text/plain": [
       "2"
      ]
     },
     "execution_count": 11,
     "metadata": {},
     "output_type": "execute_result"
    }
   ],
   "source": [
    "a.isoweekday()  # monday=1, tuesday=2,......, sunday=7"
   ]
  },
  {
   "cell_type": "code",
   "execution_count": 12,
   "id": "7c2b4087",
   "metadata": {},
   "outputs": [
    {
     "data": {
      "text/plain": [
       "'Tuesday'"
      ]
     },
     "execution_count": 12,
     "metadata": {},
     "output_type": "execute_result"
    }
   ],
   "source": [
    "a.strftime(\"%A\")"
   ]
  },
  {
   "cell_type": "markdown",
   "id": "f0530140",
   "metadata": {},
   "source": [
    "### 9. When will you be (or when were you) 10,000 days old?"
   ]
  },
  {
   "cell_type": "code",
   "execution_count": 13,
   "id": "077ffd2e",
   "metadata": {},
   "outputs": [],
   "source": [
    "from datetime import timedelta"
   ]
  },
  {
   "cell_type": "code",
   "execution_count": 14,
   "id": "171c102d",
   "metadata": {},
   "outputs": [
    {
     "name": "stdout",
     "output_type": "stream",
     "text": [
      "DOB :  2002-01-01\n",
      "10000 days after DOB:  2029-05-19\n"
     ]
    }
   ],
   "source": [
    "print(\"DOB : \", a)\n",
    "print(\"10000 days after DOB: \",a + timedelta(days=10000))"
   ]
  }
 ],
 "metadata": {
  "kernelspec": {
   "display_name": "Python 3 (ipykernel)",
   "language": "python",
   "name": "python3"
  },
  "language_info": {
   "codemirror_mode": {
    "name": "ipython",
    "version": 3
   },
   "file_extension": ".py",
   "mimetype": "text/x-python",
   "name": "python",
   "nbconvert_exporter": "python",
   "pygments_lexer": "ipython3",
   "version": "3.9.16"
  }
 },
 "nbformat": 4,
 "nbformat_minor": 5
}
