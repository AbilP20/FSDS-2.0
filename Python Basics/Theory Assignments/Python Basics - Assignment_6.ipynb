{
 "cells": [
  {
   "cell_type": "markdown",
   "id": "8f4bc0e4",
   "metadata": {},
   "source": [
    "# Python Basics - Progamming Assignment 6"
   ]
  },
  {
   "cell_type": "markdown",
   "id": "5a99618e",
   "metadata": {},
   "source": [
    "### 1. What are escape characters, and how do you use them?"
   ]
  },
  {
   "cell_type": "markdown",
   "id": "fc942b91",
   "metadata": {},
   "source": [
    "Escape characters are used when we want to print characters in a string that are otherwise not possible. For example, if we want a new line (`\\n`), for tab space (`\\t`), using single quotes within single quotes strings (`\\'`) etc. "
   ]
  },
  {
   "cell_type": "markdown",
   "id": "3c5fcd27",
   "metadata": {},
   "source": [
    "### 2. What do the escape characters n and t stand for?"
   ]
  },
  {
   "cell_type": "markdown",
   "id": "5f67bd41",
   "metadata": {},
   "source": [
    "'n' stands for next line and 't' is for tab spaces"
   ]
  },
  {
   "cell_type": "code",
   "execution_count": 1,
   "id": "cc513403",
   "metadata": {},
   "outputs": [
    {
     "name": "stdout",
     "output_type": "stream",
     "text": [
      "A\n",
      "B\n",
      "\n",
      "A\tB\n"
     ]
    }
   ],
   "source": [
    "print('A\\nB')\n",
    "print()\n",
    "print('A\\tB')"
   ]
  },
  {
   "cell_type": "markdown",
   "id": "c8c32b51",
   "metadata": {},
   "source": [
    "### 3. What is the way to include backslash characters in a string?"
   ]
  },
  {
   "cell_type": "markdown",
   "id": "efae9c1c",
   "metadata": {},
   "source": [
    "We can include the escape sequence backslash-(`\\`), in a string and then write (`\\`) to include backslash in a string."
   ]
  },
  {
   "cell_type": "code",
   "execution_count": 2,
   "id": "98148c45",
   "metadata": {},
   "outputs": [
    {
     "name": "stdout",
     "output_type": "stream",
     "text": [
      "\\\n"
     ]
    }
   ],
   "source": [
    "print(\"\\\\\")"
   ]
  },
  {
   "cell_type": "markdown",
   "id": "55988f2b",
   "metadata": {},
   "source": [
    "### 4. The string \"Howl's Moving Castle\" is a correct value. Why isn't the single quote character in the word Howl's not escaped a problem?"
   ]
  },
  {
   "cell_type": "markdown",
   "id": "ac0bc3a2",
   "metadata": {},
   "source": [
    "Since the string is enclosed in double quotes ( \" \" ), we can inlude single quotes. If string was in b/w single quotes, then we will have to use escape character. Similarily, we can use double quotes an single quotes within triple quoted strings."
   ]
  },
  {
   "cell_type": "markdown",
   "id": "94418932",
   "metadata": {},
   "source": [
    "### 5. How do you write a string of newlines if you don't want to use the n character?"
   ]
  },
  {
   "cell_type": "markdown",
   "id": "f801c156",
   "metadata": {},
   "source": [
    "-> We can enclose every string in a seperate print() statement.                                                                           \n",
    "-> We can use triple quotes"
   ]
  },
  {
   "cell_type": "code",
   "execution_count": 3,
   "id": "d9c0d087",
   "metadata": {},
   "outputs": [
    {
     "name": "stdout",
     "output_type": "stream",
     "text": [
      "Hello\n",
      "There\n"
     ]
    }
   ],
   "source": [
    "print(\"Hello\")\n",
    "print(\"There\")"
   ]
  },
  {
   "cell_type": "code",
   "execution_count": 4,
   "id": "052e0fb8",
   "metadata": {},
   "outputs": [
    {
     "name": "stdout",
     "output_type": "stream",
     "text": [
      "Hello\n",
      "There\n"
     ]
    }
   ],
   "source": [
    "print('''Hello\n",
    "There''')"
   ]
  },
  {
   "cell_type": "markdown",
   "id": "f43b5acd",
   "metadata": {},
   "source": [
    "### 6. What are the values of the given expressions?                                                                                         \n",
    "`'Hello, world!'[1]\n",
    "'Hello, world!'[0:5]\n",
    "'Hello, world!'[:5]\n",
    "'Hello, world!'[3:]`"
   ]
  },
  {
   "cell_type": "markdown",
   "id": "4abfd08d",
   "metadata": {},
   "source": [
    "#### Ans.\n",
    "`'Hello, world!'[1]` = 'e'                                                                                                                       \n",
    "`'Hello, world!'[0:5]` = 'Hello'                                                                                                                       \n",
    "`'Hello, world!'[:5]`  = 'Hello'                                                                                                                       \n",
    "`'Hello, world!'[3:]`  = 'lo, world!'"
   ]
  },
  {
   "cell_type": "code",
   "execution_count": 5,
   "id": "32fd514f",
   "metadata": {},
   "outputs": [
    {
     "data": {
      "text/plain": [
       "'e'"
      ]
     },
     "execution_count": 5,
     "metadata": {},
     "output_type": "execute_result"
    }
   ],
   "source": [
    "'Hello, world!'[1]"
   ]
  },
  {
   "cell_type": "code",
   "execution_count": 6,
   "id": "aa463c89",
   "metadata": {},
   "outputs": [
    {
     "data": {
      "text/plain": [
       "'Hello'"
      ]
     },
     "execution_count": 6,
     "metadata": {},
     "output_type": "execute_result"
    }
   ],
   "source": [
    "'Hello, world!'[0:5]"
   ]
  },
  {
   "cell_type": "code",
   "execution_count": 7,
   "id": "a3e47519",
   "metadata": {},
   "outputs": [
    {
     "data": {
      "text/plain": [
       "'Hello'"
      ]
     },
     "execution_count": 7,
     "metadata": {},
     "output_type": "execute_result"
    }
   ],
   "source": [
    "'Hello, world!'[:5]"
   ]
  },
  {
   "cell_type": "code",
   "execution_count": 8,
   "id": "f558a2f8",
   "metadata": {},
   "outputs": [
    {
     "data": {
      "text/plain": [
       "'lo, world!'"
      ]
     },
     "execution_count": 8,
     "metadata": {},
     "output_type": "execute_result"
    }
   ],
   "source": [
    "'Hello, world!'[3:]"
   ]
  },
  {
   "cell_type": "markdown",
   "id": "b367a24b",
   "metadata": {},
   "source": [
    "### 7. What are the values of the following expressions?                                                                                         \n",
    "`'Hello'.upper()\n",
    "'Hello'.upper().isupper()\n",
    "'Hello'.upper().lower()`"
   ]
  },
  {
   "cell_type": "markdown",
   "id": "34c21948",
   "metadata": {},
   "source": [
    "#### Ans.\n",
    "`'Hello'.upper()` = 'HELLO'                                                                                                                           \n",
    "`'Hello'.upper().isupper()` = True                                                                                                                           \n",
    "`'Hello'.upper().lower()` = 'hello'"
   ]
  },
  {
   "cell_type": "code",
   "execution_count": 9,
   "id": "402798bc",
   "metadata": {},
   "outputs": [
    {
     "data": {
      "text/plain": [
       "'HELLO'"
      ]
     },
     "execution_count": 9,
     "metadata": {},
     "output_type": "execute_result"
    }
   ],
   "source": [
    "'Hello'.upper()"
   ]
  },
  {
   "cell_type": "code",
   "execution_count": 10,
   "id": "82a7b0d0",
   "metadata": {},
   "outputs": [
    {
     "data": {
      "text/plain": [
       "True"
      ]
     },
     "execution_count": 10,
     "metadata": {},
     "output_type": "execute_result"
    }
   ],
   "source": [
    "'Hello'.upper().isupper()"
   ]
  },
  {
   "cell_type": "code",
   "execution_count": 11,
   "id": "89aa904c",
   "metadata": {},
   "outputs": [
    {
     "data": {
      "text/plain": [
       "'hello'"
      ]
     },
     "execution_count": 11,
     "metadata": {},
     "output_type": "execute_result"
    }
   ],
   "source": [
    "'Hello'.upper().lower()"
   ]
  },
  {
   "cell_type": "markdown",
   "id": "0557df67",
   "metadata": {},
   "source": [
    "### 8. What are the values of the following expressions?                                                                                         \n",
    "`'Remember, remember, the fifth of July.'.split()\n",
    "'-'.join('There can only one.'.split())`"
   ]
  },
  {
   "cell_type": "code",
   "execution_count": 12,
   "id": "40a525c7",
   "metadata": {},
   "outputs": [
    {
     "data": {
      "text/plain": [
       "['Remember,', 'remember,', 'the', 'fifth', 'of', 'July.']"
      ]
     },
     "execution_count": 12,
     "metadata": {},
     "output_type": "execute_result"
    }
   ],
   "source": [
    "'Remember, remember, the fifth of July.'.split() #it splits the string using 'space' as the default delimiter and returns its list"
   ]
  },
  {
   "cell_type": "code",
   "execution_count": 13,
   "id": "adcfcc97",
   "metadata": {},
   "outputs": [
    {
     "data": {
      "text/plain": [
       "'There-can-only-one.'"
      ]
     },
     "execution_count": 13,
     "metadata": {},
     "output_type": "execute_result"
    }
   ],
   "source": [
    "'-'.join('There can only one.'.split()) #it joins the split list using '-' character and returns a string"
   ]
  },
  {
   "cell_type": "markdown",
   "id": "28cab11e",
   "metadata": {},
   "source": [
    "### 9. What are the methods for right-justifying, left-justifying, and centering a string?"
   ]
  },
  {
   "cell_type": "markdown",
   "id": "8981d9e4",
   "metadata": {},
   "source": [
    "`ljust()` - left-justifying a string                                                                                                               \n",
    "`rjust()` - right-justifying a string                                                                                                               \n",
    "`center()`- centering a string"
   ]
  },
  {
   "cell_type": "code",
   "execution_count": 14,
   "id": "0dcd6cc6",
   "metadata": {},
   "outputs": [
    {
     "data": {
      "text/plain": [
       "'HELLO      '"
      ]
     },
     "execution_count": 14,
     "metadata": {},
     "output_type": "execute_result"
    }
   ],
   "source": [
    "a=\"HELLO\"\n",
    "a.ljust(11)"
   ]
  },
  {
   "cell_type": "code",
   "execution_count": 15,
   "id": "f126ed47",
   "metadata": {},
   "outputs": [
    {
     "data": {
      "text/plain": [
       "'      HELLO'"
      ]
     },
     "execution_count": 15,
     "metadata": {},
     "output_type": "execute_result"
    }
   ],
   "source": [
    "a.rjust(11)"
   ]
  },
  {
   "cell_type": "code",
   "execution_count": 16,
   "id": "6fb51678",
   "metadata": {},
   "outputs": [
    {
     "data": {
      "text/plain": [
       "'   HELLO   '"
      ]
     },
     "execution_count": 16,
     "metadata": {},
     "output_type": "execute_result"
    }
   ],
   "source": [
    "a.center(11)"
   ]
  },
  {
   "cell_type": "markdown",
   "id": "44eb282e",
   "metadata": {},
   "source": [
    "### 10. What is the best way to remove whitespace characters from the start or end?\n"
   ]
  },
  {
   "cell_type": "markdown",
   "id": "88dedff8",
   "metadata": {},
   "source": [
    "`lstrip()` - remove whitespaces from the start                                                                                            \n",
    "`rstrip()` - remove whitespaces from the end"
   ]
  },
  {
   "cell_type": "code",
   "execution_count": 17,
   "id": "27cf43c2",
   "metadata": {},
   "outputs": [
    {
     "data": {
      "text/plain": [
       "'HELLO  '"
      ]
     },
     "execution_count": 17,
     "metadata": {},
     "output_type": "execute_result"
    }
   ],
   "source": [
    "a = \"   HELLO  \"\n",
    "a.lstrip()"
   ]
  },
  {
   "cell_type": "code",
   "execution_count": 18,
   "id": "0affa7cf",
   "metadata": {},
   "outputs": [
    {
     "data": {
      "text/plain": [
       "'   HELLO'"
      ]
     },
     "execution_count": 18,
     "metadata": {},
     "output_type": "execute_result"
    }
   ],
   "source": [
    "a.rstrip()"
   ]
  }
 ],
 "metadata": {
  "kernelspec": {
   "display_name": "Python 3 (ipykernel)",
   "language": "python",
   "name": "python3"
  },
  "language_info": {
   "codemirror_mode": {
    "name": "ipython",
    "version": 3
   },
   "file_extension": ".py",
   "mimetype": "text/x-python",
   "name": "python",
   "nbconvert_exporter": "python",
   "pygments_lexer": "ipython3",
   "version": "3.9.13"
  }
 },
 "nbformat": 4,
 "nbformat_minor": 5
}
