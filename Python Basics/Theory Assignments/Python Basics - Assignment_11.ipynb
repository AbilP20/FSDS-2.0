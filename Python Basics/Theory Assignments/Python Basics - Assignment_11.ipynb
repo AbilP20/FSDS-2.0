{
 "cells": [
  {
   "cell_type": "markdown",
   "id": "8f4bc0e4",
   "metadata": {},
   "source": [
    "# Python Basics - Progamming Assignment 11"
   ]
  },
  {
   "cell_type": "markdown",
   "id": "8ce495f5",
   "metadata": {},
   "source": [
    "### 1. Create an assert statement that throws an AssertionError if the variable spam is a negative integer."
   ]
  },
  {
   "cell_type": "code",
   "execution_count": 1,
   "id": "53e490e9",
   "metadata": {},
   "outputs": [
    {
     "ename": "AssertionError",
     "evalue": "spam should not be negative",
     "output_type": "error",
     "traceback": [
      "\u001b[1;31m---------------------------------------------------------------------------\u001b[0m",
      "\u001b[1;31mAssertionError\u001b[0m                            Traceback (most recent call last)",
      "Cell \u001b[1;32mIn[1], line 2\u001b[0m\n\u001b[0;32m      1\u001b[0m spam \u001b[38;5;241m=\u001b[39m \u001b[38;5;241m-\u001b[39m\u001b[38;5;241m1\u001b[39m\n\u001b[1;32m----> 2\u001b[0m \u001b[38;5;28;01massert\u001b[39;00m spam\u001b[38;5;241m>\u001b[39m\u001b[38;5;241m0\u001b[39m, \u001b[38;5;124m\"\u001b[39m\u001b[38;5;124mspam should not be negative\u001b[39m\u001b[38;5;124m\"\u001b[39m\n",
      "\u001b[1;31mAssertionError\u001b[0m: spam should not be negative"
     ]
    }
   ],
   "source": [
    "spam = -1\n",
    "assert spam>0, \"spam should not be negative\""
   ]
  },
  {
   "cell_type": "markdown",
   "id": "70eec1f3",
   "metadata": {},
   "source": [
    "### 2. Write an assert statement that triggers an AssertionError if the variables eggs and bacon contain strings that are the same as each other, even if their cases are different (that is, 'hello' and 'hello' are considered the same, and 'goodbye' and 'GOODbye' are also considered the same)."
   ]
  },
  {
   "cell_type": "code",
   "execution_count": 2,
   "id": "5e5ac2c0",
   "metadata": {},
   "outputs": [
    {
     "ename": "AssertionError",
     "evalue": "both strings are same",
     "output_type": "error",
     "traceback": [
      "\u001b[1;31m---------------------------------------------------------------------------\u001b[0m",
      "\u001b[1;31mAssertionError\u001b[0m                            Traceback (most recent call last)",
      "Cell \u001b[1;32mIn[2], line 3\u001b[0m\n\u001b[0;32m      1\u001b[0m eggs \u001b[38;5;241m=\u001b[39m \u001b[38;5;124m'\u001b[39m\u001b[38;5;124mgoodbye\u001b[39m\u001b[38;5;124m'\u001b[39m\n\u001b[0;32m      2\u001b[0m bacon \u001b[38;5;241m=\u001b[39m \u001b[38;5;124m'\u001b[39m\u001b[38;5;124mGOODbye\u001b[39m\u001b[38;5;124m'\u001b[39m\n\u001b[1;32m----> 3\u001b[0m \u001b[38;5;28;01massert\u001b[39;00m eggs\u001b[38;5;241m.\u001b[39mlower()\u001b[38;5;241m!=\u001b[39mbacon\u001b[38;5;241m.\u001b[39mlower(), \u001b[38;5;124m'\u001b[39m\u001b[38;5;124mboth strings are same\u001b[39m\u001b[38;5;124m'\u001b[39m\n",
      "\u001b[1;31mAssertionError\u001b[0m: both strings are same"
     ]
    }
   ],
   "source": [
    "eggs = 'goodbye'\n",
    "bacon = 'GOODbye'\n",
    "assert eggs.lower()!=bacon.lower(), 'both strings are same'"
   ]
  },
  {
   "cell_type": "markdown",
   "id": "c0875ea3",
   "metadata": {},
   "source": [
    "### 3. Create an assert statement that throws an AssertionError every time."
   ]
  },
  {
   "cell_type": "code",
   "execution_count": 3,
   "id": "d4363f54",
   "metadata": {},
   "outputs": [
    {
     "ename": "AssertionError",
     "evalue": "Error",
     "output_type": "error",
     "traceback": [
      "\u001b[1;31m---------------------------------------------------------------------------\u001b[0m",
      "\u001b[1;31mAssertionError\u001b[0m                            Traceback (most recent call last)",
      "Cell \u001b[1;32mIn[3], line 1\u001b[0m\n\u001b[1;32m----> 1\u001b[0m \u001b[38;5;28;01massert\u001b[39;00m \u001b[38;5;28;01mFalse\u001b[39;00m,\u001b[38;5;124m'\u001b[39m\u001b[38;5;124mError\u001b[39m\u001b[38;5;124m'\u001b[39m\n",
      "\u001b[1;31mAssertionError\u001b[0m: Error"
     ]
    }
   ],
   "source": [
    "assert False,'Error'"
   ]
  },
  {
   "cell_type": "markdown",
   "id": "26e3e777",
   "metadata": {},
   "source": [
    "### 4. What are the two lines that must be present in your software in order to call logging.debug()?"
   ]
  },
  {
   "cell_type": "markdown",
   "id": "ff38dc12",
   "metadata": {},
   "source": [
    "`import logging`                                                                                                                           \n",
    "`logging.basicConfig(filename=\"mylog.log\", level = logging.DEBUG)` default logging level = WARNING                                                                                                                           \n",
    "Above 2 lines are must to use logging.debug(). In the basicConfig, we can further add a format for how the debug file should contain the data and also we can change the logging level to DEBUG or INFO or ERROR or CRITICAL"
   ]
  },
  {
   "cell_type": "markdown",
   "id": "9b39915e",
   "metadata": {},
   "source": [
    "### 5. What are the two lines that your program must have in order to have logging.debug() send a logging message to a file named programLog.txt?"
   ]
  },
  {
   "cell_type": "markdown",
   "id": "c164cecc",
   "metadata": {},
   "source": [
    "Same as above                                                                                                                           \n",
    "`import logging`                                                                                                                           \n",
    "`logging.basicConfig(filename=\"programLog.txt\", level = loggin.DEBUG)`"
   ]
  },
  {
   "cell_type": "markdown",
   "id": "ef2814af",
   "metadata": {},
   "source": [
    "### 6. What are the five levels of logging?"
   ]
  },
  {
   "cell_type": "markdown",
   "id": "ed123f6e",
   "metadata": {},
   "source": [
    "5 levels of logging are :\n",
    "1. DEBUG  (we can access the below 4 using this level)\n",
    "2. INFO   (we can access the below 3 levels using this level)\n",
    "3. WARNING (we can access ERROR adn CRITICAL also using this level)\n",
    "4. ERROR   (we can access CRITICAL also using this level)\n",
    "5. CRITICAL (we can only access CRITICAL in this level)"
   ]
  },
  {
   "cell_type": "markdown",
   "id": "ca0d0b94",
   "metadata": {},
   "source": [
    "### 7. What line of code would you add to your software to disable all logging messages?"
   ]
  },
  {
   "cell_type": "markdown",
   "id": "5eeef53b",
   "metadata": {},
   "source": [
    "`logging.disable(logging.DEBUG)`"
   ]
  },
  {
   "cell_type": "markdown",
   "id": "99ae1daa",
   "metadata": {},
   "source": [
    "### 8. Why is using logging messages better than using print() to display the same message?"
   ]
  },
  {
   "cell_type": "markdown",
   "id": "efc0f1b6",
   "metadata": {},
   "source": [
    "By using logging, first, we can add pieces of information behind the software that we cannot show to a user while printing.\n",
    "Second, by logging details at each step, we can get to know where the error possibly occured, if any, and correct it; that is why we use it for the purpose of debugging also. "
   ]
  },
  {
   "cell_type": "markdown",
   "id": "1f17be43",
   "metadata": {},
   "source": [
    "### 9. What are the differences between the Step Over, Step In, and Step Out buttons in the debugger?"
   ]
  },
  {
   "cell_type": "markdown",
   "id": "347ffde6",
   "metadata": {},
   "source": [
    "1. Step in   : it goes inside a function and shows you line-by-line execution till it returns the result\n",
    "2. Step over : executes function like a black box and just returns the result without line-by-line execution of function\n",
    "3. Step out  : if you are inside a function call, you can step out in between if you want to skip the rest of the function execution and just get the return result quickly"
   ]
  },
  {
   "cell_type": "markdown",
   "id": "aaec9e2c",
   "metadata": {},
   "source": [
    "### 10.After you click Continue, when will the debugger stop ?"
   ]
  },
  {
   "cell_type": "markdown",
   "id": "1e4a3675",
   "metadata": {},
   "source": [
    "The debugger will stop when it has reached the end of the program or a line with a breakpoint."
   ]
  },
  {
   "cell_type": "markdown",
   "id": "2689b6e7",
   "metadata": {},
   "source": [
    "### 11. What is the concept of a breakpoint?"
   ]
  },
  {
   "cell_type": "markdown",
   "id": "c5de0b8e",
   "metadata": {},
   "source": [
    "Breakpoint helps the debugger in identifying the program end and stop debugging."
   ]
  }
 ],
 "metadata": {
  "kernelspec": {
   "display_name": "Python 3 (ipykernel)",
   "language": "python",
   "name": "python3"
  },
  "language_info": {
   "codemirror_mode": {
    "name": "ipython",
    "version": 3
   },
   "file_extension": ".py",
   "mimetype": "text/x-python",
   "name": "python",
   "nbconvert_exporter": "python",
   "pygments_lexer": "ipython3",
   "version": "3.9.16"
  }
 },
 "nbformat": 4,
 "nbformat_minor": 5
}
