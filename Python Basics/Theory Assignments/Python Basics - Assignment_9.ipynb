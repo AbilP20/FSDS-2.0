{
 "cells": [
  {
   "cell_type": "markdown",
   "id": "8f4bc0e4",
   "metadata": {},
   "source": [
    "# Python Basics - Progamming Assignment 9"
   ]
  },
  {
   "cell_type": "markdown",
   "id": "4952d4a2",
   "metadata": {},
   "source": [
    "### 1. To what does a relative path refer?"
   ]
  },
  {
   "cell_type": "markdown",
   "id": "05a0c682",
   "metadata": {},
   "source": [
    "A relative path is a partial path to a file which gives location according to the present working directory(PWD or CWD) i.e. it gives the path from the pwd.                                                                                                       \n",
    "Eg. pwd - C:\\\\Users\\\\Files                                                                                                       \n",
    "    file name - \"xyz.txt\"                                                                                                                                                                                                              \n",
    "if i want to access 'xyz' then relative path will be just \"xyz.txt\"                                                                                                       \n",
    "if \"xyz.txt\" is stored inside folder called 'info', then relative path  will be 'info\\\\xyz.txt'"
   ]
  },
  {
   "cell_type": "markdown",
   "id": "9e584c22",
   "metadata": {},
   "source": [
    "### 2. What does an absolute path start with your operating system?"
   ]
  },
  {
   "cell_type": "markdown",
   "id": "a181449e",
   "metadata": {},
   "source": [
    "Absolute path starts with 'C:' in the Windows OS"
   ]
  },
  {
   "cell_type": "markdown",
   "id": "8b405433",
   "metadata": {},
   "source": [
    "### 3. What do the functions os.getcwd() and os.chdir() do?"
   ]
  },
  {
   "cell_type": "markdown",
   "id": "a51c6008",
   "metadata": {},
   "source": [
    "os.getcwd() returns the current working directory. It is same as pwd(), which also returns the location of the current working directory.                                                                                                                             \n",
    "os.chdir() is used to change the current working directory to another location. It is same as cd() command."
   ]
  },
  {
   "cell_type": "markdown",
   "id": "f07c04fa",
   "metadata": {},
   "source": [
    "### 4. What are the . and .. folders?"
   ]
  },
  {
   "cell_type": "markdown",
   "id": "f1c4ab0c",
   "metadata": {},
   "source": [
    "`.\\` refers to the current working directory whereas `..\\` refers to the immediate parent of the current working directory.            \n",
    "Eg. cwd - C:\\\\Users\\Files\\docss                                                                                                           \n",
    "`.\\` refers to `C:\\\\Users\\Files\\docss`                                                                                             \n",
    "`..\\` refers to `C:\\\\Users\\Files`"
   ]
  },
  {
   "cell_type": "markdown",
   "id": "56d8f431",
   "metadata": {},
   "source": [
    "### 5. In C:\\bacon\\eggs\\spam.txt, which part is the dir name, and which part is the base name?"
   ]
  },
  {
   "cell_type": "markdown",
   "id": "c3461737",
   "metadata": {},
   "source": [
    "dir name extracts and gives the directory path of the file whereas base name extracts the file name out of the path.\n",
    "in `C:\\bacon\\eggs\\spam.txt`, dir name - `C:\\bacon\\eggs` and base name - `spam.txt`."
   ]
  },
  {
   "cell_type": "code",
   "execution_count": 1,
   "id": "b68e6f01",
   "metadata": {},
   "outputs": [],
   "source": [
    "import os"
   ]
  },
  {
   "cell_type": "code",
   "execution_count": 2,
   "id": "eb7479dc",
   "metadata": {},
   "outputs": [
    {
     "name": "stdout",
     "output_type": "stream",
     "text": [
      "Dir Name  -  C:\\bacon\\eggs\n",
      "Base Name -  spam.txt\n"
     ]
    }
   ],
   "source": [
    "path = \"C:\\\\bacon\\eggs\\spam.txt\"\n",
    "print(\"Dir Name  - \",os.path.dirname(path))\n",
    "print(\"Base Name - \",os.path.basename(path))"
   ]
  },
  {
   "cell_type": "markdown",
   "id": "78b699c3",
   "metadata": {},
   "source": [
    "### 6. What are the three “mode” arguments that can be passed to the open() function?"
   ]
  },
  {
   "cell_type": "markdown",
   "id": "a75f922a",
   "metadata": {},
   "source": [
    "The 3 generally used 'mode' arguments for open( ) function are:                                                                                      \n",
    "`'r'` - for opening file in read only mode                                                                                                                                                                            \n",
    "`'w'` - for opening file in write only mode and overwrites everything present in the file                                                                                      \n",
    "`'a'` - for opening file in write mode but does not overwrite previous data, instead adds to the end."
   ]
  },
  {
   "cell_type": "markdown",
   "id": "3510f59b",
   "metadata": {},
   "source": [
    "### 7. What happens if an existing file is opened in write mode?"
   ]
  },
  {
   "cell_type": "markdown",
   "id": "998fa347",
   "metadata": {},
   "source": [
    "If an existing file is opened in write mode, then all the previous data gets deleted and the new data will be overwritten in it."
   ]
  },
  {
   "cell_type": "markdown",
   "id": "1c40a7b8",
   "metadata": {},
   "source": [
    "### 8. How do you tell the difference between read() and readlines()?"
   ]
  },
  {
   "cell_type": "markdown",
   "id": "3511410e",
   "metadata": {},
   "source": [
    "read( ) is used to read entire data in one go or used to read 'n' bytes of the data like read(5) or read(20)"
   ]
  },
  {
   "cell_type": "markdown",
   "id": "6f1c8b87",
   "metadata": {},
   "source": [
    "readlines() returns a list of strings in which every item is a single line of a file."
   ]
  },
  {
   "cell_type": "markdown",
   "id": "897391e5",
   "metadata": {},
   "source": [
    "### 9. What data structure does a shelf value resemble?"
   ]
  },
  {
   "cell_type": "markdown",
   "id": "96394f52",
   "metadata": {},
   "source": [
    "A shelf value resembles a dictionary-like object"
   ]
  }
 ],
 "metadata": {
  "kernelspec": {
   "display_name": "Python 3 (ipykernel)",
   "language": "python",
   "name": "python3"
  },
  "language_info": {
   "codemirror_mode": {
    "name": "ipython",
    "version": 3
   },
   "file_extension": ".py",
   "mimetype": "text/x-python",
   "name": "python",
   "nbconvert_exporter": "python",
   "pygments_lexer": "ipython3",
   "version": "3.9.13"
  }
 },
 "nbformat": 4,
 "nbformat_minor": 5
}
