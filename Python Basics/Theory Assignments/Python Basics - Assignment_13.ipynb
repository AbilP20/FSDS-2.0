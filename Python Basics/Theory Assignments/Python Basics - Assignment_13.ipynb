{
 "cells": [
  {
   "cell_type": "markdown",
   "id": "8f4bc0e4",
   "metadata": {},
   "source": [
    "# Python Basics - Progamming Assignment 13"
   ]
  },
  {
   "cell_type": "markdown",
   "id": "40f7162d",
   "metadata": {},
   "source": [
    "### 1. What advantages do Excel spreadsheets have over CSV spreadsheets?"
   ]
  },
  {
   "cell_type": "markdown",
   "id": "df95f134",
   "metadata": {},
   "source": [
    "CSV is comma spearated value file, which is used only for the purpose of storing textual data separated by commas, whereas in Excel we store data in tabular manner. The data in Excel can be formatted, visualized, we can perform various operations on the data, manipulate it, create charts tables from the data and much more. Excel is a whole package for managing data while csv is just for storing data."
   ]
  },
  {
   "cell_type": "markdown",
   "id": "fc8475d5",
   "metadata": {},
   "source": [
    "### 2. What do you pass to csv.reader() and csv.writer() to create reader and writer objects?"
   ]
  },
  {
   "cell_type": "markdown",
   "id": "94e67cf6",
   "metadata": {},
   "source": [
    "We paas the file pointer to the csv.reader() and csv.writer() to create the respective objects."
   ]
  },
  {
   "cell_type": "markdown",
   "id": "43e89172",
   "metadata": {},
   "source": [
    "### 3. What modes do File objects for reader and writer objects need to be opened in?"
   ]
  },
  {
   "cell_type": "markdown",
   "id": "b192096c",
   "metadata": {},
   "source": [
    "For reader object, mode is `'r'`, i.e read mode and for writer object, mode is `'w'` i.e write mode. "
   ]
  },
  {
   "cell_type": "markdown",
   "id": "670604bc",
   "metadata": {},
   "source": [
    "### 4. What method takes a list argument and writes it to a CSV file?"
   ]
  },
  {
   "cell_type": "markdown",
   "id": "010d1526",
   "metadata": {},
   "source": [
    "`writerow()`(for single line) or `writerows()`(for multiple lines) takes list as argument and writes it onto csv file. These methods are accesible via the writer objects."
   ]
  },
  {
   "cell_type": "markdown",
   "id": "6c903f7b",
   "metadata": {},
   "source": [
    "### 5. What do the keyword arguments delimiter and line terminator do?"
   ]
  },
  {
   "cell_type": "markdown",
   "id": "4f74c1d9",
   "metadata": {},
   "source": [
    "delemitter is the character after each word or each possible token whereas terminator indicates the character at the end of each line.                                                                                                                                 \n",
    "For eg. in .csv files, comma(,) is the delimiter and nextline(\\n) is the line terminator"
   ]
  },
  {
   "cell_type": "markdown",
   "id": "89882878",
   "metadata": {},
   "source": [
    "### 6. What function takes a string of JSON data and returns a Python data structure?"
   ]
  },
  {
   "cell_type": "markdown",
   "id": "8346d8c9",
   "metadata": {},
   "source": [
    "The loads() method is used to parse JSON strings in Python and the result will be a Python dictionary, i.e a python data structure."
   ]
  },
  {
   "cell_type": "markdown",
   "id": "f71fe64a",
   "metadata": {},
   "source": [
    "### 7. What function takes a Python data structure and returns a string of JSON data?\n"
   ]
  },
  {
   "cell_type": "markdown",
   "id": "f3065bee",
   "metadata": {},
   "source": [
    "The dumps () function takes a single argument, the Python object, and returns a JSON string."
   ]
  }
 ],
 "metadata": {
  "kernelspec": {
   "display_name": "Python 3 (ipykernel)",
   "language": "python",
   "name": "python3"
  },
  "language_info": {
   "codemirror_mode": {
    "name": "ipython",
    "version": 3
   },
   "file_extension": ".py",
   "mimetype": "text/x-python",
   "name": "python",
   "nbconvert_exporter": "python",
   "pygments_lexer": "ipython3",
   "version": "3.9.16"
  }
 },
 "nbformat": 4,
 "nbformat_minor": 5
}
