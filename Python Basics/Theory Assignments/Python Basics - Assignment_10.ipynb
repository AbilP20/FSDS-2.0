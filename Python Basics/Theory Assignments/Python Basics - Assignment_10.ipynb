{
 "cells": [
  {
   "cell_type": "markdown",
   "id": "8f4bc0e4",
   "metadata": {},
   "source": [
    "# Python Basics - Progamming Assignment 10"
   ]
  },
  {
   "cell_type": "markdown",
   "id": "aecee391",
   "metadata": {},
   "source": [
    "### 1. How do you distinguish between shutil.copy() and shutil.copytree()?"
   ]
  },
  {
   "cell_type": "markdown",
   "id": "162d68e8",
   "metadata": {},
   "source": [
    "1. shutil.copy() method in Python is used to copy the content of source file to destination file or directory. It also preserves the file’s permission mode but other metadata of the file like the file’s creation and modification times is not preserved.\n",
    "3. shutil.copytree() method recursively copies an entire directory tree rooted at source (src) to the destination directory. The destination directory, named by (dst) must not already exist. It will be created during copying. Permissions and times of directories are copied with copystat() and individual files are copied using shutil.copy2()."
   ]
  },
  {
   "cell_type": "markdown",
   "id": "50f9c218",
   "metadata": {},
   "source": [
    "### 2. What function is used to rename files??"
   ]
  },
  {
   "cell_type": "markdown",
   "id": "9112e7e0",
   "metadata": {},
   "source": [
    "we can use os.rename() and also shutil.move(). shutil.move() is not a good option as it is not atomic operation."
   ]
  },
  {
   "cell_type": "markdown",
   "id": "b37fae2c",
   "metadata": {},
   "source": [
    "### 3. What is the difference between the delete functions in the send2trash and shutil modules?"
   ]
  },
  {
   "cell_type": "markdown",
   "id": "bd65a44f",
   "metadata": {},
   "source": [
    "`send2trash` as the name suggests, is used to send the file into recycle bin - we can recover it later if we want.                       \n",
    "`shutil.rmtree()` function to delete the directory and it's contents will permanently delelte the content without moving it to the recycle bin."
   ]
  },
  {
   "cell_type": "markdown",
   "id": "023c6b09",
   "metadata": {},
   "source": [
    "### 4.ZipFile objects have a close() method just like File objects’ close() method. What ZipFile method is equivalent to Fileobjects’ open() method?"
   ]
  },
  {
   "cell_type": "markdown",
   "id": "f718fdbb",
   "metadata": {},
   "source": [
    "`zipfile.ZipFile()` function is equivalent to the open() function of File objects"
   ]
  },
  {
   "cell_type": "markdown",
   "id": "a7f0d355",
   "metadata": {},
   "source": [
    "### 5. Create a programme that searches a folder tree for files with a certain file extension (such as .pdf or .jpg). Copy these files from whatever location they are in to a new folder."
   ]
  },
  {
   "cell_type": "code",
   "execution_count": 1,
   "id": "997d7770",
   "metadata": {},
   "outputs": [],
   "source": [
    "import os\n",
    "import shutil\n",
    "src = r\"C:\\Users\\us1\\Downloads\"\n",
    "dst = r\"C:/Users/us1/Desktop\"\n",
    "ext = \".pdf\"\n",
    "for root, dirs, files in os.walk(src):\n",
    "    for file in files:\n",
    "        if file.endswith(ext):\n",
    "            src_path = os.path.join(root, file)\n",
    "            dst_path = os.path.join(dst, file)\n",
    "            shutil.copy2(src_path, dst_path)"
   ]
  }
 ],
 "metadata": {
  "kernelspec": {
   "display_name": "Python 3 (ipykernel)",
   "language": "python",
   "name": "python3"
  },
  "language_info": {
   "codemirror_mode": {
    "name": "ipython",
    "version": 3
   },
   "file_extension": ".py",
   "mimetype": "text/x-python",
   "name": "python",
   "nbconvert_exporter": "python",
   "pygments_lexer": "ipython3",
   "version": "3.9.16"
  }
 },
 "nbformat": 4,
 "nbformat_minor": 5
}
