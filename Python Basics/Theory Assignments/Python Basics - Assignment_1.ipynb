{
 "cells": [
  {
   "cell_type": "markdown",
   "id": "8f4bc0e4",
   "metadata": {},
   "source": [
    "# Python Basics -  Assignment 1"
   ]
  },
  {
   "cell_type": "markdown",
   "id": "abe994cf",
   "metadata": {},
   "source": [
    "### 1. In the below elements which of them are values or an expression? eg:- values can be integer or string and expressions will be mathematical operators."
   ]
  },
  {
   "cell_type": "markdown",
   "id": "d167fd8c",
   "metadata": {},
   "source": [
    "*,  'hello', -87.8, -, /,  +, 6 "
   ]
  },
  {
   "cell_type": "markdown",
   "id": "4fe4fdcc",
   "metadata": {},
   "source": [
    "values    -> 'hello', -87.8, 6\n",
    "operators -> *, -, /, +"
   ]
  },
  {
   "cell_type": "markdown",
   "id": "7259236d",
   "metadata": {},
   "source": [
    "### 2. What is the difference between string and variable?"
   ]
  },
  {
   "cell_type": "markdown",
   "id": "83a25e8c",
   "metadata": {},
   "source": [
    "-> A string is a sequence of characters that are enclosed between double quotes(\" \") or single quotes(' ') or sometimes triple quotes(\"\"\" \"\"\"). It is a type of data in python. Eg. 'a', \"abc def\"\n",
    "\n",
    "-> Generally, variable in programming is a container which holds some value. A variable in python is a pointer to a value(s) in memory. We can say that it holds some value that can be used."
   ]
  },
  {
   "cell_type": "markdown",
   "id": "af65d817",
   "metadata": {},
   "source": [
    "### 3. Describe three different data types."
   ]
  },
  {
   "cell_type": "markdown",
   "id": "0b143e32",
   "metadata": {},
   "source": [
    "->int   - int data type means integer numbers that contains all numbers without decimal points. Eg. 1,100,-100                  \n",
    "->float - float data types includes all real numbers with decimal points. Eg. 10.98,3.14                                        \n",
    "->bool  - bool data type includes boolean values which results in either 'Yes' or 'No. True and False are the only 2 boolean             values."
   ]
  },
  {
   "cell_type": "markdown",
   "id": "72901334",
   "metadata": {},
   "source": [
    "### 4. What is an expression made up of? What do all expressions do?"
   ]
  },
  {
   "cell_type": "markdown",
   "id": "78b01aa5",
   "metadata": {},
   "source": [
    "An expression is a combination of numbers, variables, and operators. An expression usually combines variables and operators, does some operation and gives us a single or multiple result.                                                                    \n",
    "Examples of expressions are :                                                                                                    \n",
    "-> a = 10/2.5                                                                                                                    \n",
    "-> b = a + 20"
   ]
  },
  {
   "cell_type": "markdown",
   "id": "93656bf9",
   "metadata": {},
   "source": [
    "### 5. This assignment statements, like spam = 10. What is the difference between an expression and a statement?"
   ]
  },
  {
   "cell_type": "markdown",
   "id": "70d2fb28",
   "metadata": {},
   "source": [
    "Assignment statements like spam=10, means assigning values to variables. There is no operation involved in assignment statement.                                                                                                                       \n",
    "In expressions, operators are there. The values we get is after evaluation of some statements.                                  \n",
    "Eg. spam=10 #here, we assigned value 10 to a (no operation)                                                                      \n",
    "dt = spam+5 #here, we assign dt a value but, after performing the operation on RHS, i.e spam+5, i,e. 15"
   ]
  },
  {
   "cell_type": "markdown",
   "id": "0354f647",
   "metadata": {},
   "source": [
    "### 6. After running the following code, what does the variable bacon contain?"
   ]
  },
  {
   "cell_type": "markdown",
   "id": "2e2f223c",
   "metadata": {},
   "source": [
    "bacon = 22                                                                                                                      \n",
    "bacon + 1"
   ]
  },
  {
   "cell_type": "markdown",
   "id": "95dc4ffc",
   "metadata": {},
   "source": [
    "bacon contains value 22 because if we want to change value then we assign bacon the new value. Here, no assignment is there."
   ]
  },
  {
   "cell_type": "code",
   "execution_count": 1,
   "id": "e4ed102c",
   "metadata": {
    "scrolled": true
   },
   "outputs": [
    {
     "name": "stdout",
     "output_type": "stream",
     "text": [
      "Before : bacon = 22\n",
      "After : bacon = 22\n"
     ]
    }
   ],
   "source": [
    "bacon=22\n",
    "print(f\"Before : bacon = {bacon}\")\n",
    "bacon+1\n",
    "print(f\"After : bacon = {bacon}\")"
   ]
  },
  {
   "cell_type": "markdown",
   "id": "1d526747",
   "metadata": {},
   "source": [
    "### 7. What should the values of the following two terms be?"
   ]
  },
  {
   "cell_type": "markdown",
   "id": "7df4c081",
   "metadata": {},
   "source": [
    "'spam' + 'spamspam'                                                                                                                    \n",
    "'spam' * 3"
   ]
  },
  {
   "cell_type": "markdown",
   "id": "ca644a94",
   "metadata": {},
   "source": [
    "a) spamspamspam\n",
    "b) spamspamspam"
   ]
  },
  {
   "cell_type": "code",
   "execution_count": 2,
   "id": "713a8ffd",
   "metadata": {},
   "outputs": [
    {
     "data": {
      "text/plain": [
       "'spamspamspam'"
      ]
     },
     "execution_count": 2,
     "metadata": {},
     "output_type": "execute_result"
    }
   ],
   "source": [
    "'spam' + 'spamspam'"
   ]
  },
  {
   "cell_type": "code",
   "execution_count": 3,
   "id": "888156c3",
   "metadata": {},
   "outputs": [
    {
     "data": {
      "text/plain": [
       "'spamspamspam'"
      ]
     },
     "execution_count": 3,
     "metadata": {},
     "output_type": "execute_result"
    }
   ],
   "source": [
    "'spam' * 3"
   ]
  },
  {
   "cell_type": "markdown",
   "id": "5a5ab6d4",
   "metadata": {},
   "source": [
    "### 8. Why is eggs a valid variable name while 100 is invalid?"
   ]
  },
  {
   "cell_type": "markdown",
   "id": "7cd580cd",
   "metadata": {},
   "source": [
    "We have certain rules to name a variable and we have folow those.                                                                                                                    \n",
    "'eggs' is valid because it is not some constant and there is no predefined keyword named 'eggs'.                                                                                                                    \n",
    "'100' is an invalid variable because it is an integer.                                                                                                                    \n",
    "\n",
    "RULES for naming variables:                                                                                                                    \n",
    "->should only start with alphabets and, can then contain only alphabets(a-z, A-Z), numbers(0-9) and underscore(_)                                                                                                                    \n",
    "->shall not contain spaces or special characters                                                                                                                    \n",
    "->avoid predefined names i.e. keywords that have special meanings                                                                                                                    "
   ]
  },
  {
   "cell_type": "markdown",
   "id": "2f592eb0",
   "metadata": {},
   "source": [
    "### 9. What three functions can be used to get the integer, floating-point number, or string version of a value?"
   ]
  },
  {
   "cell_type": "markdown",
   "id": "48da5ef7",
   "metadata": {},
   "source": [
    "We can use explicit typecasting functions:                                                                                                                    \n",
    "int()   - to convert a value to integer number                                                                                                                    \n",
    "float() - to convert a value to floating-point number                                                                                                                    \n",
    "str()   - to convert a value to string                                                                                                                    "
   ]
  },
  {
   "cell_type": "code",
   "execution_count": 4,
   "id": "d50f0086",
   "metadata": {},
   "outputs": [
    {
     "name": "stdout",
     "output_type": "stream",
     "text": [
      "Value of a = 25\t\t\t|type(a) = <class 'str'>)\n",
      "Value after int(a) = 25\t\t|type(a) = <class 'int'>)\n",
      "Value after float(a) = 25.0\t|type(a) = <class 'float'>)\n",
      "Value after str(a) = 25.0\t|type(a) = <class 'str'>)\n"
     ]
    }
   ],
   "source": [
    "a = \"25\"\n",
    "print(f\"Value of a = {a}\\t\\t\\t|type(a) = {type(a)})\")\n",
    "a = int(a)\n",
    "print(f\"Value after int(a) = {a}\\t\\t|type(a) = {type(a)})\")\n",
    "a = float(a)\n",
    "print(f\"Value after float(a) = {a}\\t|type(a) = {type(a)})\")\n",
    "a = str(a)\n",
    "print(f\"Value after str(a) = {a}\\t|type(a) = {type(a)})\")"
   ]
  },
  {
   "cell_type": "markdown",
   "id": "895002fd",
   "metadata": {},
   "source": [
    "### 10. Why does this expression cause an error? How can you fix it?\n",
    "###### 'I have eaten ' + 99 + ' burritos.'"
   ]
  },
  {
   "cell_type": "markdown",
   "id": "e1750ea6",
   "metadata": {},
   "source": [
    "the '+' operator is used for addition of numbers and is used is string concatenation (using operator overloading), i.e. we can only join 2 or more string and not other data types and strings.                                                                                                                    \n",
    "So, the above statement is trying to concat a string and an integer, so it will result in error. we can put 99 within quotes or do str(99) and the error will be resolved"
   ]
  },
  {
   "cell_type": "code",
   "execution_count": 5,
   "id": "b578b4c5",
   "metadata": {},
   "outputs": [
    {
     "ename": "TypeError",
     "evalue": "can only concatenate str (not \"int\") to str",
     "output_type": "error",
     "traceback": [
      "\u001b[1;31m---------------------------------------------------------------------------\u001b[0m",
      "\u001b[1;31mTypeError\u001b[0m                                 Traceback (most recent call last)",
      "\u001b[1;32m~\\AppData\\Local\\Temp\\ipykernel_6676\\1774935878.py\u001b[0m in \u001b[0;36m<module>\u001b[1;34m\u001b[0m\n\u001b[1;32m----> 1\u001b[1;33m \u001b[1;34m'I have eaten '\u001b[0m \u001b[1;33m+\u001b[0m \u001b[1;36m99\u001b[0m \u001b[1;33m+\u001b[0m \u001b[1;34m' burritos.'\u001b[0m\u001b[1;33m\u001b[0m\u001b[1;33m\u001b[0m\u001b[0m\n\u001b[0m",
      "\u001b[1;31mTypeError\u001b[0m: can only concatenate str (not \"int\") to str"
     ]
    }
   ],
   "source": [
    "'I have eaten ' + 99 + ' burritos.'"
   ]
  },
  {
   "cell_type": "code",
   "execution_count": 6,
   "id": "6f4e7fcd",
   "metadata": {},
   "outputs": [
    {
     "data": {
      "text/plain": [
       "'I have eaten 99 burritos.'"
      ]
     },
     "execution_count": 6,
     "metadata": {},
     "output_type": "execute_result"
    }
   ],
   "source": [
    "'I have eaten ' + '99' + ' burritos.'"
   ]
  },
  {
   "cell_type": "code",
   "execution_count": 7,
   "id": "dde550bf",
   "metadata": {},
   "outputs": [
    {
     "data": {
      "text/plain": [
       "'I have eaten 99 burritos.'"
      ]
     },
     "execution_count": 7,
     "metadata": {},
     "output_type": "execute_result"
    }
   ],
   "source": [
    "'I have eaten ' + str(99) + ' burritos.'"
   ]
  }
 ],
 "metadata": {
  "kernelspec": {
   "display_name": "Python 3 (ipykernel)",
   "language": "python",
   "name": "python3"
  },
  "language_info": {
   "codemirror_mode": {
    "name": "ipython",
    "version": 3
   },
   "file_extension": ".py",
   "mimetype": "text/x-python",
   "name": "python",
   "nbconvert_exporter": "python",
   "pygments_lexer": "ipython3",
   "version": "3.9.13"
  }
 },
 "nbformat": 4,
 "nbformat_minor": 5
}
