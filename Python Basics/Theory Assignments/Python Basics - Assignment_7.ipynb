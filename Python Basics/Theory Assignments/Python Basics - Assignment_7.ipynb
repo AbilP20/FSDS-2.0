{
 "cells": [
  {
   "cell_type": "markdown",
   "id": "8f4bc0e4",
   "metadata": {},
   "source": [
    "# Python Basics - Progamming Assignment 7"
   ]
  },
  {
   "cell_type": "markdown",
   "id": "c0bc4923",
   "metadata": {},
   "source": [
    "### 1. What is the name of the feature responsible for generating Regex objects?"
   ]
  },
  {
   "cell_type": "markdown",
   "id": "1109ad3d",
   "metadata": {},
   "source": [
    "re.copmile() is used to generate Regex object."
   ]
  },
  {
   "cell_type": "code",
   "execution_count": 1,
   "id": "56b70115",
   "metadata": {},
   "outputs": [],
   "source": [
    "import re"
   ]
  },
  {
   "cell_type": "code",
   "execution_count": 2,
   "id": "c72f8583",
   "metadata": {},
   "outputs": [
    {
     "name": "stdout",
     "output_type": "stream",
     "text": [
      "<class 're.Pattern'>\n",
      "re.compile('abc')\n"
     ]
    }
   ],
   "source": [
    "obj = re.compile(\"abc\")\n",
    "print(type(obj))\n",
    "print(obj)"
   ]
  },
  {
   "cell_type": "markdown",
   "id": "9823714a",
   "metadata": {},
   "source": [
    "### 2. Why do raw strings often appear in Regex objects?"
   ]
  },
  {
   "cell_type": "markdown",
   "id": "57e79e19",
   "metadata": {},
   "source": [
    "Raw strings often appear in Regex object as regular expressions is a combination of various characters, some of which are used as escape sequence in Python. If we do not use raw strings, it may be interpreted incorrectly. Backslash is used in re, which is escape sequence in Python. By using raw string, backslash cannot be escaped."
   ]
  },
  {
   "cell_type": "markdown",
   "id": "03aa0963",
   "metadata": {},
   "source": [
    "### 3. What is the return value of the search() method?"
   ]
  },
  {
   "cell_type": "markdown",
   "id": "fc3b672f",
   "metadata": {},
   "source": [
    "We get a Match object as the return value of search() in re."
   ]
  },
  {
   "cell_type": "code",
   "execution_count": 3,
   "id": "0b8ca7a2",
   "metadata": {},
   "outputs": [
    {
     "name": "stdout",
     "output_type": "stream",
     "text": [
      "<re.Match object; span=(0, 1), match='H'>\n"
     ]
    }
   ],
   "source": [
    "a = re.search('H','Hello! I am good.')\n",
    "print(a)"
   ]
  },
  {
   "cell_type": "markdown",
   "id": "4e6190ec",
   "metadata": {},
   "source": [
    "as we see above, we get a Match object in return"
   ]
  },
  {
   "cell_type": "markdown",
   "id": "ed01bec9",
   "metadata": {},
   "source": [
    "### 4. From a Match item, how do you get the actual strings that match the pattern?"
   ]
  },
  {
   "cell_type": "markdown",
   "id": "03c9d7f4",
   "metadata": {},
   "source": [
    "we use group() function to get the actual string that matches the pattern."
   ]
  },
  {
   "cell_type": "code",
   "execution_count": 4,
   "id": "40b1c8fc",
   "metadata": {},
   "outputs": [
    {
     "name": "stdout",
     "output_type": "stream",
     "text": [
      "good\n"
     ]
    }
   ],
   "source": [
    "a = re.search('GOOD','Hello! I am good.',flags=re.IGNORECASE)\n",
    "print(a.group())"
   ]
  },
  {
   "cell_type": "markdown",
   "id": "a28f7b51",
   "metadata": {},
   "source": [
    "Though 'GOOD' was searched and we ignored the case, we get the actual matched string - 'good'"
   ]
  },
  {
   "cell_type": "markdown",
   "id": "900ca093",
   "metadata": {},
   "source": [
    "### 5. In the regex which created from the r'(\\d\\d\\d)-(\\d\\d\\d-\\d\\d\\d\\d)', what does group zero cover? Group 2? Group 1?"
   ]
  },
  {
   "cell_type": "markdown",
   "id": "1a586faf",
   "metadata": {},
   "source": [
    "Group 0 returns the full matched string = `(\\d\\d\\d)-(\\d\\d\\d-\\d\\d\\d\\d) `                                                                   \n",
    "Group 1 returns the first group of the matched string = `(\\d\\d\\d)`                                                                        \n",
    "Group 2 returns the second group  = `(\\d\\d\\d-\\d\\d\\d\\d)`"
   ]
  },
  {
   "cell_type": "code",
   "execution_count": 5,
   "id": "29a8a7fc",
   "metadata": {},
   "outputs": [
    {
     "name": "stdout",
     "output_type": "stream",
     "text": [
      "123-456-7890\n",
      "123\n",
      "456-7890\n"
     ]
    }
   ],
   "source": [
    "seq = re.compile(r'(\\d\\d\\d)-(\\d\\d\\d-\\d\\d\\d\\d)')\n",
    "a = seq.search(\"123-456-7890\")\n",
    "print(a.group(0))\n",
    "print(a.group(1))\n",
    "print(a.group(2))"
   ]
  },
  {
   "cell_type": "markdown",
   "id": "22541904",
   "metadata": {},
   "source": [
    "### 6. In standard expression syntax, parentheses and intervals have distinct meanings. How can you tell a regex that you want it to fit real parentheses and periods?"
   ]
  },
  {
   "cell_type": "markdown",
   "id": "cfd9ef9e",
   "metadata": {},
   "source": [
    "we can use escape sequence \\. and \\( in the raw strings to match the actual parenthesis."
   ]
  },
  {
   "cell_type": "markdown",
   "id": "6f5f7e3d",
   "metadata": {},
   "source": [
    "### 7. The findall() method returns a string list or a list of string tuples. What causes it to return one of the two options?"
   ]
  },
  {
   "cell_type": "markdown",
   "id": "e91bba53",
   "metadata": {},
   "source": [
    "The output we get is based on the number of groups of the matched string. If it has no group, then string list is returned, whereas if we have multiple groups, we get a list of string tuples."
   ]
  },
  {
   "cell_type": "markdown",
   "id": "4d772a99",
   "metadata": {},
   "source": [
    "### 8. In standard expressions, what does the | character mean?|"
   ]
  },
  {
   "cell_type": "markdown",
   "id": "82798ac5",
   "metadata": {},
   "source": [
    "| means OR in standard expressions."
   ]
  },
  {
   "cell_type": "code",
   "execution_count": 6,
   "id": "286ba586",
   "metadata": {},
   "outputs": [
    {
     "name": "stdout",
     "output_type": "stream",
     "text": [
      "False\n",
      "True\n",
      "True\n",
      "True\n"
     ]
    }
   ],
   "source": [
    "print(False|False)\n",
    "print(False|True)\n",
    "print(True|False)\n",
    "print(True|True)"
   ]
  },
  {
   "cell_type": "markdown",
   "id": "571ac484",
   "metadata": {},
   "source": [
    "### 9. In regular expressions, what does the character `?` stand for?"
   ]
  },
  {
   "cell_type": "markdown",
   "id": "98eac03a",
   "metadata": {},
   "source": [
    "`?` is used to match one or none character before the ?"
   ]
  },
  {
   "cell_type": "code",
   "execution_count": 7,
   "id": "c4af1ec0",
   "metadata": {},
   "outputs": [
    {
     "data": {
      "text/plain": [
       "['https']"
      ]
     },
     "execution_count": 7,
     "metadata": {},
     "output_type": "execute_result"
    }
   ],
   "source": [
    "re.findall('https','http,https') #without '?' quantifier"
   ]
  },
  {
   "cell_type": "code",
   "execution_count": 8,
   "id": "fd097ce0",
   "metadata": {},
   "outputs": [
    {
     "data": {
      "text/plain": [
       "['http', 'https']"
      ]
     },
     "execution_count": 8,
     "metadata": {},
     "output_type": "execute_result"
    }
   ],
   "source": [
    "re.findall('https?','http,https') #with '?' quantifier"
   ]
  },
  {
   "cell_type": "markdown",
   "id": "e393be4e",
   "metadata": {},
   "source": [
    "### 10.In regular expressions, what is the difference between the + and * characters?"
   ]
  },
  {
   "cell_type": "markdown",
   "id": "0a40db76",
   "metadata": {},
   "source": [
    "`*` means 0 or more occurences of preceding group while `+` means 1 or more occurences of preceding group"
   ]
  },
  {
   "cell_type": "markdown",
   "id": "48bd9d7f",
   "metadata": {},
   "source": [
    "0(10)* = 0, 010, 01010, 0101010"
   ]
  },
  {
   "cell_type": "markdown",
   "id": "3267a3f0",
   "metadata": {},
   "source": [
    "0(10)+ = 010, 01010, 0101010, 010101010"
   ]
  },
  {
   "cell_type": "markdown",
   "id": "547b75d4",
   "metadata": {},
   "source": [
    "### 11. What is the difference between {4} and {4,5} in regular expression?"
   ]
  },
  {
   "cell_type": "markdown",
   "id": "e7622615",
   "metadata": {},
   "source": [
    "{4,5} means preceding group repeats at least 4 times and at max 5 times. {4} means preceding group repeats 4 times"
   ]
  },
  {
   "cell_type": "code",
   "execution_count": 9,
   "id": "f97000d4",
   "metadata": {},
   "outputs": [
    {
     "name": "stdout",
     "output_type": "stream",
     "text": [
      "[]\n",
      "['hhhh']\n",
      "['hhhh', 'hhhh']\n"
     ]
    }
   ],
   "source": [
    "print(re.findall('h{4}','hhh'))\n",
    "print(re.findall('h{4}','hhh, hhhh'))\n",
    "print(re.findall('h{4}','hhh, hhhh, hhhhh'))"
   ]
  },
  {
   "cell_type": "code",
   "execution_count": 10,
   "id": "d6d71b2a",
   "metadata": {},
   "outputs": [
    {
     "name": "stdout",
     "output_type": "stream",
     "text": [
      "[]\n",
      "['hhhh']\n",
      "['hhhh', 'hhhhh']\n"
     ]
    }
   ],
   "source": [
    "print(re.findall('h{4,5}','hhh'))\n",
    "print(re.findall('h{4,5}','hhh hhhh'))\n",
    "print(re.findall('h{4,5}','hhh hhhh hhhhh'))"
   ]
  },
  {
   "cell_type": "markdown",
   "id": "5f6648d8",
   "metadata": {},
   "source": [
    "### 12. What do you mean by the \\d, \\w, and \\s shorthand character classes signify in regular expressions?"
   ]
  },
  {
   "cell_type": "markdown",
   "id": "6cd154f2",
   "metadata": {},
   "source": [
    "`\\d` means match any decimal digit ([0-9])                                                                                         \n",
    "`\\w` means match any alphanumeric character ([a-zA-Z0-9_])                                                                               \n",
    "`\\s` means mathc strings with any whitespace characters ([ \\t\\n\\r\\f\\v])"
   ]
  },
  {
   "cell_type": "markdown",
   "id": "2de4b545",
   "metadata": {},
   "source": [
    "### 13. What do means by \\D, \\W, and \\S shorthand character classes signify in regular expressions?]"
   ]
  },
  {
   "cell_type": "markdown",
   "id": "2370e8f6",
   "metadata": {},
   "source": [
    "`\\D` means match any non decimal digit ([^0-9])                                                                                          \n",
    "`\\W` means match any non alphanumeric character ([^a-zA-Z0-9_])                                                                          \n",
    "`\\S` means mathc strings with any non whitespace characters ([^ \\t\\n\\r\\f\\v])"
   ]
  },
  {
   "cell_type": "markdown",
   "id": "802332e5",
   "metadata": {},
   "source": [
    "### 14. What is the difference between `.*?` and `.*`?"
   ]
  },
  {
   "cell_type": "markdown",
   "id": "7a4f8d4c",
   "metadata": {},
   "source": [
    "`.*` means a character of any arbitrary length. It can get as long as you want.                                                    \n",
    "`.*?` means shortest length character of the pattern."
   ]
  },
  {
   "cell_type": "markdown",
   "id": "cd839130",
   "metadata": {},
   "source": [
    "### 15. What is the syntax for matching both numbers and lowercase letters with a character class?"
   ]
  },
  {
   "cell_type": "markdown",
   "id": "d4653ce0",
   "metadata": {},
   "source": [
    "`[0-9a-z]`"
   ]
  },
  {
   "cell_type": "code",
   "execution_count": 11,
   "id": "88d8663b",
   "metadata": {},
   "outputs": [
    {
     "data": {
      "text/plain": [
       "['1', '2', '3', 'a', 'b', 'c']"
      ]
     },
     "execution_count": 11,
     "metadata": {},
     "output_type": "execute_result"
    }
   ],
   "source": [
    "re.findall(\"[0-9a-z]\",'123abc')"
   ]
  },
  {
   "cell_type": "code",
   "execution_count": 12,
   "id": "5fe2c8ff",
   "metadata": {},
   "outputs": [
    {
     "data": {
      "text/plain": [
       "[]"
      ]
     },
     "execution_count": 12,
     "metadata": {},
     "output_type": "execute_result"
    }
   ],
   "source": [
    "re.findall(\"[0-9a-z]\",'ABC')"
   ]
  },
  {
   "cell_type": "code",
   "execution_count": 13,
   "id": "04adce3c",
   "metadata": {},
   "outputs": [
    {
     "data": {
      "text/plain": [
       "['1', '2', 'a', 'b', '1', '2']"
      ]
     },
     "execution_count": 13,
     "metadata": {},
     "output_type": "execute_result"
    }
   ],
   "source": [
    "re.findall(\"[0-9a-z]\",'12abABC12')"
   ]
  },
  {
   "cell_type": "markdown",
   "id": "2f93f6bb",
   "metadata": {},
   "source": [
    "### 16. What is the procedure for making a normal expression in regax case insensitive?"
   ]
  },
  {
   "cell_type": "markdown",
   "id": "9be97515",
   "metadata": {},
   "source": [
    "to make case insensitive, we pass `flags = re.IGNORECASE`"
   ]
  },
  {
   "cell_type": "code",
   "execution_count": 14,
   "id": "3675abf2",
   "metadata": {},
   "outputs": [
    {
     "data": {
      "text/plain": [
       "[]"
      ]
     },
     "execution_count": 14,
     "metadata": {},
     "output_type": "execute_result"
    }
   ],
   "source": [
    "re.findall(\"HELLO\", 'hello there')"
   ]
  },
  {
   "cell_type": "code",
   "execution_count": 15,
   "id": "be7a4066",
   "metadata": {},
   "outputs": [
    {
     "data": {
      "text/plain": [
       "['hello']"
      ]
     },
     "execution_count": 15,
     "metadata": {},
     "output_type": "execute_result"
    }
   ],
   "source": [
    "re.findall(\"HELLO\", 'hello there', flags = re.IGNORECASE)"
   ]
  },
  {
   "cell_type": "markdown",
   "id": "2815e051",
   "metadata": {},
   "source": [
    "### 17. What does the . character normally match? What does it match if re.DOTALL is passed as 2nd argument in re.compile()?"
   ]
  },
  {
   "cell_type": "markdown",
   "id": "ff3e3afd",
   "metadata": {},
   "source": [
    "`.` matches all characters except newline character i.e. `\\n`. if we pass re.DOTALL, it will match all characters including the newline character"
   ]
  },
  {
   "cell_type": "markdown",
   "id": "2a54ccc6",
   "metadata": {},
   "source": [
    "### 18. If numReg = re.compile(r'\\d+'), what will numRegex.sub('X', '11 drummers, 10 pipers, five rings, 4 hen') return?"
   ]
  },
  {
   "cell_type": "markdown",
   "id": "bf78dbc4",
   "metadata": {},
   "source": [
    "The digits will in the input string will be substituted by 'X'.                                                                    \n",
    "Return value = `'X drummers, X pipers, five rings, X hen'`"
   ]
  },
  {
   "cell_type": "code",
   "execution_count": 16,
   "id": "2d0bb259",
   "metadata": {},
   "outputs": [
    {
     "data": {
      "text/plain": [
       "'X drummers, X pipers, five rings, X hen'"
      ]
     },
     "execution_count": 16,
     "metadata": {},
     "output_type": "execute_result"
    }
   ],
   "source": [
    "numReg = re.compile(r'\\d+')\n",
    "numReg.sub('X', '11 drummers, 10 pipers, five rings, 4 hen')"
   ]
  },
  {
   "cell_type": "markdown",
   "id": "cfe61e36",
   "metadata": {},
   "source": [
    "### 19. What does passing re.VERBOSE as the 2nd argument to re.compile() allow to do?"
   ]
  },
  {
   "cell_type": "markdown",
   "id": "2378c3ce",
   "metadata": {},
   "source": [
    "when we pass re.VERBOSE, we can add comments and whitespaces within the pattern."
   ]
  },
  {
   "cell_type": "markdown",
   "id": "0a4de1a2",
   "metadata": {},
   "source": [
    "### 20. How would you write a regex that match a number with comma for every three digits? \n",
    "### It must match the given following:\n",
    "'42'                                                                                                                                    \n",
    "'1,234'                                                                                                                                   \n",
    "'6,368,745'                                                                                                                                   \n",
    "### but not the following:                                                                                                                                   \n",
    "'12,34,567' (which has only two digits between the commas)                                                                                                                                   \n",
    "'1234' (which lacks commas)"
   ]
  },
  {
   "cell_type": "code",
   "execution_count": 17,
   "id": "d1edce1e",
   "metadata": {},
   "outputs": [],
   "source": [
    "seq = re.compile(\"^(\\d{1,3})(,\\d{3})*$\")"
   ]
  },
  {
   "cell_type": "code",
   "execution_count": 18,
   "id": "85b8c76f",
   "metadata": {},
   "outputs": [
    {
     "name": "stdout",
     "output_type": "stream",
     "text": [
      "<re.Match object; span=(0, 2), match='42'>\n",
      "<re.Match object; span=(0, 5), match='1,234'>\n",
      "<re.Match object; span=(0, 9), match='6,368,745'>\n",
      "None\n",
      "None\n"
     ]
    }
   ],
   "source": [
    "for i in ['42', '1,234', '6,368,745', '12,34,567', '1234']:\n",
    "    print(seq.search(i))"
   ]
  },
  {
   "cell_type": "markdown",
   "id": "5fc7c670",
   "metadata": {},
   "source": [
    "### 21. How would you write a regex that matches the full name of someone whose last name is Watanabe? You can assume that the first name that comes before it will always be one word that begins with a capital letter.\n",
    "### The regex must match the following:\n",
    "'Haruto Watanabe'                                                                                                                                    \n",
    "'Alice Watanabe'                                                                                                                                    \n",
    "'RoboCop Watanabe'                                                                                                                                    \n",
    "### but not the following:                                                                                                                                    \n",
    "'haruto Watanabe' (where the first name is not capitalized                                                                                                                                    \n",
    "'Mr. Watanabe' (where the preceding word has a nonletter character)                                                                                                                                    \n",
    "'Watanabe' (which has no first name)                                                                                                                                    \n",
    "'Haruto watanabe' (where Watanabe is not capitalized)                                                                                                                                    \n"
   ]
  },
  {
   "cell_type": "code",
   "execution_count": 19,
   "id": "ca3f2249",
   "metadata": {},
   "outputs": [],
   "source": [
    "seq = re.compile(\"^[A-Z][A-Za-z]* Watanabe$\")"
   ]
  },
  {
   "cell_type": "code",
   "execution_count": 20,
   "id": "6b4ba8ff",
   "metadata": {},
   "outputs": [
    {
     "name": "stdout",
     "output_type": "stream",
     "text": [
      "<re.Match object; span=(0, 15), match='Haruto Watanabe'>\n",
      "<re.Match object; span=(0, 14), match='Alice Watanabe'>\n",
      "<re.Match object; span=(0, 16), match='RoboCop Watanabe'>\n",
      "None\n",
      "None\n",
      "None\n",
      "None\n"
     ]
    }
   ],
   "source": [
    "for i in ['Haruto Watanabe', 'Alice Watanabe', 'RoboCop Watanabe', 'haruto Watanabe', 'Mr. Watanabe', 'Watanabe', 'Haruto watanabe']:\n",
    "    print(seq.search(i))"
   ]
  },
  {
   "cell_type": "markdown",
   "id": "6e4c6c5e",
   "metadata": {},
   "source": [
    "### 22. How would you write a regex that matches a sentence where the first word is either Alice, Bob, or Carol; the second word is either eats, pets, or throws; the third word is apples, cats, or baseballs; and the sentence ends with a period? This regex should be case-insensitive. \n",
    "### It must match the following:\n",
    "'Alice eats apples.'                                                                                                                                    \n",
    "'Bob pets cats.'                                                                                                                                    \n",
    "'Carol throws baseballs.'                                                                                                                                    \n",
    "'Alice throws Apples.'                                                                                                                                    \n",
    "'BOB EATS CATS.'                                                                                                                                    \n",
    "### but not the following:\n",
    "'RoboCop eats apples.'                                                                                                                                    \n",
    "'ALICE THROWS FOOTBALLS.'                                                                                                                                    \n",
    "'Carol eats 7 cats.'"
   ]
  },
  {
   "cell_type": "code",
   "execution_count": 21,
   "id": "d0392b8d",
   "metadata": {},
   "outputs": [],
   "source": [
    "seq = re.compile(\"(Alice|Bob|Carol)\\s(eats|pets|throws)\\s(apples|cats|baseballs)\\.\",re.IGNORECASE)"
   ]
  },
  {
   "cell_type": "code",
   "execution_count": 22,
   "id": "faa53c94",
   "metadata": {},
   "outputs": [
    {
     "name": "stdout",
     "output_type": "stream",
     "text": [
      "<re.Match object; span=(0, 18), match='Alice eats apples.'>\n",
      "<re.Match object; span=(0, 14), match='Bob pets cats.'>\n",
      "<re.Match object; span=(0, 23), match='Carol throws baseballs.'>\n",
      "<re.Match object; span=(0, 20), match='Alice throws Apples.'>\n",
      "<re.Match object; span=(0, 14), match='BOB EATS CATS.'>\n",
      "None\n",
      "None\n",
      "None\n"
     ]
    }
   ],
   "source": [
    "for i in ['Alice eats apples.', 'Bob pets cats.', 'Carol throws baseballs.', 'Alice throws Apples.', 'BOB EATS CATS.',\n",
    "        'RoboCop eats apples.', 'ALICE THROWS FOOTBALLS.', 'Carol eats 7 cats.']:\n",
    "    print(seq.search(i))"
   ]
  }
 ],
 "metadata": {
  "kernelspec": {
   "display_name": "Python 3 (ipykernel)",
   "language": "python",
   "name": "python3"
  },
  "language_info": {
   "codemirror_mode": {
    "name": "ipython",
    "version": 3
   },
   "file_extension": ".py",
   "mimetype": "text/x-python",
   "name": "python",
   "nbconvert_exporter": "python",
   "pygments_lexer": "ipython3",
   "version": "3.9.16"
  }
 },
 "nbformat": 4,
 "nbformat_minor": 5
}
