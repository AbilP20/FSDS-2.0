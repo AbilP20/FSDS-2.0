{
 "cells": [
  {
   "cell_type": "markdown",
   "id": "8f4bc0e4",
   "metadata": {},
   "source": [
    "# Python Basics -  Assignment 2"
   ]
  },
  {
   "cell_type": "raw",
   "id": "237d788a",
   "metadata": {},
   "source": [
    "1.What are the two values of the Boolean data type? How do you write them?\n",
    "\n",
    "2. What are the three different types of Boolean operators?\n",
    "\n",
    "3. Make a list of each Boolean operator's truth tables (i.e. every possible combination of Boolean values for the operator and what it evaluate ).\n",
    "\n",
    "4. What are the values of the following expressions?\n",
    "(5 > 4) and (3 == 5)\n",
    "not (5 > 4)\n",
    "(5 > 4) or (3 == 5)\n",
    "not ((5 > 4) or (3 == 5))\n",
    "(True and True) and (True == False)\n",
    "(not False) or (not True)\n",
    "\n",
    "5. What are the six comparison operators?\n",
    "\n",
    "6. How do you tell the difference between the equal to and assignment operators?Describe a condition and when you would use one.\n",
    "\n",
    "7. Identify the three blocks in this code:\n",
    "spam = 0\n",
    "if spam == 10:\n",
    "print('eggs')\n",
    "if spam > 5:\n",
    "print('bacon')\n",
    "else:\n",
    "print('ham')\n",
    "print('spam')\n",
    "print('spam')\n",
    "\n",
    "8. Write code that prints Hello if 1 is stored in spam, prints Howdy if 2 is stored in spam, and prints Greetings! if anything else is stored in spam.\n",
    "\n",
    "9.If your programme is stuck in an endless loop, what keys you’ll press?\n",
    "\n",
    "10. How can you tell the difference between break and continue?\n",
    "\n",
    "11. In a for loop, what is the difference between range(10), range(0, 10), and range(0, 10, 1)?\n",
    "\n",
    "12. Write a short program that prints the numbers 1 to 10 using a for loop. Then write an equivalent program that prints the numbers 1 to 10 using a while loop.\n",
    "\n",
    "13. If you had a function named bacon() inside a module named spam, how would you call it after importing spam?"
   ]
  },
  {
   "cell_type": "markdown",
   "id": "74235260",
   "metadata": {},
   "source": [
    "####  Ans 1."
   ]
  },
  {
   "cell_type": "raw",
   "id": "ea1fdfa7",
   "metadata": {},
   "source": [
    "the 2 values of Boolean are 'true' and 'false'. There are written as;\n",
    "True\n",
    "False"
   ]
  },
  {
   "cell_type": "markdown",
   "id": "5f6ad882",
   "metadata": {},
   "source": [
    "####  Ans 2. "
   ]
  },
  {
   "cell_type": "raw",
   "id": "bbe44097",
   "metadata": {},
   "source": [
    "3 different Boolean operators are :\n",
    "-> and - returns True if all values are True\n",
    "-> or  - returns True if even 1 value is True\n",
    "-> not - returns inverse of the value i.e. if value is True, then not returns False and vice-versa"
   ]
  },
  {
   "cell_type": "markdown",
   "id": "87e93531",
   "metadata": {},
   "source": [
    "#### Ans 3."
   ]
  },
  {
   "cell_type": "markdown",
   "id": "2892c238",
   "metadata": {},
   "source": [
    "AND Table \n",
    "\n",
    "a|b|a and b|\n",
    "-|-|-|\n",
    "False|False|False|\n",
    "False|True|False|\n",
    "True|False|False|\n",
    "True|True|True|\n",
    "\n",
    "\n",
    "OR Table\n",
    "\n",
    "a|b|a or b|\n",
    "-|-|-|\n",
    "False|False|False|\n",
    "False|True|True|\n",
    "True|False|True|\n",
    "True|True|True|\n",
    "\n",
    "NOT Table\n",
    "\n",
    "a|not a|\n",
    "-|-|\n",
    "False|True\n",
    "True|False"
   ]
  },
  {
   "cell_type": "markdown",
   "id": "4feae5c3",
   "metadata": {},
   "source": [
    "####  Ans 4."
   ]
  },
  {
   "cell_type": "raw",
   "id": "54cab36b",
   "metadata": {},
   "source": [
    "(5 > 4) and (3 == 5)   -> False\n",
    "not (5 > 4)   -> False\n",
    "(5 > 4) or (3 == 5)    -> True\n",
    "not ((5 > 4) or (3 == 5))   -> False\n",
    "(True and True) and (True == False)  -> False\n",
    "(not False) or (not True) -> True"
   ]
  },
  {
   "cell_type": "code",
   "execution_count": 1,
   "id": "599d3a47",
   "metadata": {},
   "outputs": [
    {
     "name": "stdout",
     "output_type": "stream",
     "text": [
      "(5 > 4) and (3 == 5) -> False\n",
      "not (5 > 4) -> False\n",
      "(5 > 4) or (3 == 5) -> True\n",
      "not ((5 > 4) or (3 == 5)) -> False\n",
      "(True and True) and (True == False) -> False\n",
      "(not False) or (not True) -> True\n"
     ]
    }
   ],
   "source": [
    "print(f\"(5 > 4) and (3 == 5) -> {(5 > 4) and (3 == 5)}\")\n",
    "print(f\"not (5 > 4) -> {not (5 > 4)}\")\n",
    "print(f\"(5 > 4) or (3 == 5) -> {(5 > 4) or (3 == 5)}\")\n",
    "print(f\"not ((5 > 4) or (3 == 5)) -> {not ((5 > 4) or (3 == 5))}\")\n",
    "print(f\"(True and True) and (True == False) -> {(True and True) and (True == False)}\")\n",
    "print(f\"(not False) or (not True) -> {(not False) or (not True)}\")"
   ]
  },
  {
   "cell_type": "markdown",
   "id": "41bf45a9",
   "metadata": {},
   "source": [
    "#### Ans 5."
   ]
  },
  {
   "cell_type": "raw",
   "id": "97c04a89",
   "metadata": {},
   "source": [
    "Six comparison operators are :\n",
    "1. >  (less than)\n",
    "2. <  (greater than)\n",
    "3. >= (greater than or equal to)\n",
    "4. <= (less than or equal to)\n",
    "5. == (equal equal to)\n",
    "6. != (not equal to)"
   ]
  },
  {
   "cell_type": "markdown",
   "id": "d52faa44",
   "metadata": {},
   "source": [
    "#### Ans 6."
   ]
  },
  {
   "cell_type": "raw",
   "id": "fbf2ed52",
   "metadata": {},
   "source": [
    "-> equal to is a comparison operator. It is used to compare 2 objects to check their equality.\n",
    "-> assignment operator assigns a value to a variable or used to store value of an operation in a variable."
   ]
  },
  {
   "cell_type": "code",
   "execution_count": 2,
   "id": "8c94e059",
   "metadata": {},
   "outputs": [
    {
     "name": "stdout",
     "output_type": "stream",
     "text": [
      "value of a = 10\n",
      "value of b = 20\n"
     ]
    },
    {
     "data": {
      "text/plain": [
       "False"
      ]
     },
     "execution_count": 2,
     "metadata": {},
     "output_type": "execute_result"
    }
   ],
   "source": [
    "a = 10 #= stores value in a container\n",
    "b = 20\n",
    "print(f\"value of a = {a}\")\n",
    "print(f\"value of b = {b}\")\n",
    "a==b #== checks if value of a and b are same or not"
   ]
  },
  {
   "cell_type": "markdown",
   "id": "b10d5462",
   "metadata": {},
   "source": [
    "#### Ans 7."
   ]
  },
  {
   "cell_type": "raw",
   "id": "b9032ac2",
   "metadata": {},
   "source": [
    "line 1: spam = 0\n",
    "line 2: if spam == 10:\n",
    "line 3:     print('eggs')\n",
    "line 4: if spam > 5:\n",
    "line 5:     print('bacon')\n",
    "line 6: else:\n",
    "line 7:     print('ham')\n",
    "line 8:     print('spam')\n",
    "line 9:     print('spam')"
   ]
  },
  {
   "cell_type": "raw",
   "id": "625aa90c",
   "metadata": {},
   "source": [
    "1st block is the first if (line 1-2)\n",
    "2nd block is the second if (line 4-5)\n",
    "3rd block is the else block (line 6 to 9)"
   ]
  },
  {
   "cell_type": "markdown",
   "id": "6b4538f7",
   "metadata": {},
   "source": [
    "#### Ans 8."
   ]
  },
  {
   "cell_type": "code",
   "execution_count": 3,
   "id": "7e65bdb7",
   "metadata": {},
   "outputs": [
    {
     "name": "stdout",
     "output_type": "stream",
     "text": [
      "Greetings\n"
     ]
    }
   ],
   "source": [
    "spam = 3\n",
    "if spam==1:\n",
    "    print(\"Hello\")\n",
    "elif spam==2:\n",
    "    print(\"Howdy\")\n",
    "else:\n",
    "    print(\"Greetings\")"
   ]
  },
  {
   "cell_type": "markdown",
   "id": "66f04bee",
   "metadata": {},
   "source": [
    "#### Ans 9."
   ]
  },
  {
   "cell_type": "raw",
   "id": "760ec227",
   "metadata": {},
   "source": [
    "We will press i+i, i.e press key 'I' twice to interupt an endless loop"
   ]
  },
  {
   "cell_type": "markdown",
   "id": "b17237bd",
   "metadata": {},
   "source": [
    "#### Ans 10."
   ]
  },
  {
   "cell_type": "raw",
   "id": "91860236",
   "metadata": {},
   "source": [
    "-> break - program comes out of the loop or the loop is exited\n",
    "-> continue - program skips the current iteration, does not execute below remaining code and straightaway jumps to the next iteration"
   ]
  },
  {
   "cell_type": "code",
   "execution_count": 4,
   "id": "53d26389",
   "metadata": {},
   "outputs": [
    {
     "name": "stdout",
     "output_type": "stream",
     "text": [
      "1\n"
     ]
    }
   ],
   "source": [
    "for i in [1,2,3,4]:\n",
    "    if i==2 or i==3:\n",
    "        break\n",
    "    print(i)"
   ]
  },
  {
   "cell_type": "code",
   "execution_count": 5,
   "id": "60a08d3d",
   "metadata": {},
   "outputs": [
    {
     "name": "stdout",
     "output_type": "stream",
     "text": [
      "1\n",
      "4\n"
     ]
    }
   ],
   "source": [
    "for i in [1,2,3,4]:\n",
    "    if i==2 or i==3:\n",
    "        continue\n",
    "    print(i)"
   ]
  },
  {
   "cell_type": "markdown",
   "id": "cfeb897d",
   "metadata": {},
   "source": [
    "#### Ans 11."
   ]
  },
  {
   "cell_type": "raw",
   "id": "f73baa07",
   "metadata": {},
   "source": [
    "-> range(10) - python automatically(impicitly) starts the range from 0 and goes on till the end value i.e. 9 (i.e 10-1)\n",
    "    list(range(10)) = [0,1,2,3,4,5,6,7,8,9]\n",
    "-> range(0,10) - we have start and end mentioned; so range starts from start(0) and ends with end(10)-1 i.e 9\n",
    "    list(range(0,10) = [0,1,2,3,4,5,6,7,8,9]\n",
    "-> range(0,10,1) - here we have the start, end, and the step value. step defines how many values should we skip in b/w. By                        default step=1. so this function also return a range from 0 to 9\n",
    "    list(range(0,10.1) = [0,1,2,3,4,5,6,7,8,9]"
   ]
  },
  {
   "cell_type": "code",
   "execution_count": 6,
   "id": "5fed2e99",
   "metadata": {},
   "outputs": [
    {
     "name": "stdout",
     "output_type": "stream",
     "text": [
      "[0, 1, 2, 3, 4, 5, 6, 7, 8, 9]\n",
      "[0, 1, 2, 3, 4, 5, 6, 7, 8, 9]\n",
      "[0, 1, 2, 3, 4, 5, 6, 7, 8, 9]\n"
     ]
    }
   ],
   "source": [
    "print(list(range(10)))\n",
    "print(list(range(0,10)))\n",
    "print(list(range(0,10,1)))"
   ]
  },
  {
   "cell_type": "markdown",
   "id": "36a9b226",
   "metadata": {},
   "source": [
    "#### Ans 12."
   ]
  },
  {
   "cell_type": "code",
   "execution_count": 7,
   "id": "96d5cd80",
   "metadata": {},
   "outputs": [
    {
     "name": "stdout",
     "output_type": "stream",
     "text": [
      "1 2 3 4 5 6 7 8 9 10 "
     ]
    }
   ],
   "source": [
    "for i in range(1,11):\n",
    "    print(i,end=\" \")"
   ]
  },
  {
   "cell_type": "code",
   "execution_count": 8,
   "id": "0039260b",
   "metadata": {},
   "outputs": [
    {
     "name": "stdout",
     "output_type": "stream",
     "text": [
      "1 2 3 4 5 6 7 8 9 10 "
     ]
    }
   ],
   "source": [
    "i=1\n",
    "while i<=10:\n",
    "    print(i,end=\" \")\n",
    "    i+=1"
   ]
  },
  {
   "cell_type": "markdown",
   "id": "4bca001c",
   "metadata": {},
   "source": [
    "#### Ans 13."
   ]
  },
  {
   "cell_type": "raw",
   "id": "505078ba",
   "metadata": {},
   "source": [
    "After importing spam module, we can call bacon() function using spam.bacon()"
   ]
  }
 ],
 "metadata": {
  "kernelspec": {
   "display_name": "Python 3 (ipykernel)",
   "language": "python",
   "name": "python3"
  },
  "language_info": {
   "codemirror_mode": {
    "name": "ipython",
    "version": 3
   },
   "file_extension": ".py",
   "mimetype": "text/x-python",
   "name": "python",
   "nbconvert_exporter": "python",
   "pygments_lexer": "ipython3",
   "version": "3.9.13"
  }
 },
 "nbformat": 4,
 "nbformat_minor": 5
}
