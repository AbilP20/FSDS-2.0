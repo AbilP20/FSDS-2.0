{
 "cells": [
  {
   "cell_type": "markdown",
   "id": "8f4bc0e4",
   "metadata": {},
   "source": [
    "# Python Basics -  Assignment 3"
   ]
  },
  {
   "cell_type": "markdown",
   "id": "93212d54",
   "metadata": {},
   "source": [
    "1. Why are functions advantageous to have in your programs?\n",
    "2. When does the code in a function run: when it's specified or when it's called?\n",
    "3. What statement creates a function?\n",
    "4. What is the difference between a function and a function call?\n",
    "5. How many global scopes are there in a Python program? How many local scopes?\n",
    "6. What happens to variables in a local scope when the function call returns?\n",
    "7. What is the concept of a return value? Is it possible to have a return value in an expression?\n",
    "8. If a function does not have a return statement, what is the return value of a call to that function?\n",
    "9. How do you make a function variable refer to the global variable?\n",
    "10. What is the data type of None?\n",
    "11. What does the sentence import areallyourpetsnamederic do?\n",
    "12. If you had a bacon() feature in a spam module, what would you call it after importing spam?\n",
    "13. What can you do to save a programme from crashing if it encounters an error?\n",
    "14. What is the purpose of the try clause? What is the purpose of the except clause?"
   ]
  },
  {
   "cell_type": "markdown",
   "id": "305aee12",
   "metadata": {},
   "source": [
    "#### Ans 1."
   ]
  },
  {
   "cell_type": "markdown",
   "id": "4afde4d6",
   "metadata": {},
   "source": [
    "Functions are block of code that contains some code that are frequently used in a program. Suppose we want to print a matrix nicely, and we print matrices 10 times in a program; then we need not write that print 10 times. Instead we can create a function with the one time print; and we call that function 10 times. \n",
    "##### -> they reduce the length of the program\n",
    "##### -> reduces redundancy in the code\n",
    "##### -> makes our program easy to read"
   ]
  },
  {
   "cell_type": "markdown",
   "id": "147c6b77",
   "metadata": {},
   "source": [
    "#### Ans 2."
   ]
  },
  {
   "cell_type": "markdown",
   "id": "807b2580",
   "metadata": {},
   "source": [
    "The code inside a function runs only when it is called"
   ]
  },
  {
   "cell_type": "markdown",
   "id": "f3a9e611",
   "metadata": {},
   "source": [
    "#### Ans 3."
   ]
  },
  {
   "cell_type": "markdown",
   "id": "d6c4d5ad",
   "metadata": {},
   "source": [
    "syntax for function creation is as below:                                                                                                          \n",
    "`def function_name(function_argument(s)):\n",
    "    body(contains the code that is to be repeated)\n",
    "`"
   ]
  },
  {
   "cell_type": "markdown",
   "id": "880a8b3c",
   "metadata": {},
   "source": [
    "#### Ans 4."
   ]
  },
  {
   "cell_type": "markdown",
   "id": "f436ead3",
   "metadata": {},
   "source": [
    "A function contains a block of code that we frequently use in a program. It contains the definition of the function like, what does it do.                                                                                                                             \n",
    "A function call is when the block of codes inside function body is executed."
   ]
  },
  {
   "cell_type": "markdown",
   "id": "ac29e9d8",
   "metadata": {},
   "source": [
    "#### Ans 5. "
   ]
  },
  {
   "cell_type": "markdown",
   "id": "c125e5a3",
   "metadata": {},
   "source": [
    "There is only 1 global scope of any variable. But many local scopes of the same variable can be created within any block of codes."
   ]
  },
  {
   "cell_type": "markdown",
   "id": "a668a656",
   "metadata": {},
   "source": [
    "#### Ans 6."
   ]
  },
  {
   "cell_type": "markdown",
   "id": "e1b4bc91",
   "metadata": {},
   "source": [
    "The local variables inside a block of code is destroyed after the program is out of that block or when the function call returns."
   ]
  },
  {
   "cell_type": "markdown",
   "id": "9a451943",
   "metadata": {},
   "source": [
    "#### Ans 7."
   ]
  },
  {
   "cell_type": "markdown",
   "id": "2ec0aaf3",
   "metadata": {},
   "source": [
    "A return value means some value (can be int, string, list or of any pre-defined or use-defined datatype) that can be returned after a function ends. It is an object that we get as a result of a function call. And yes, return can have an expression also"
   ]
  },
  {
   "cell_type": "markdown",
   "id": "c3327a7d",
   "metadata": {},
   "source": [
    "#### Ans 8."
   ]
  },
  {
   "cell_type": "markdown",
   "id": "8b90e9bd",
   "metadata": {},
   "source": [
    "If a function does not have return value, then by default all functions return the value - `None`"
   ]
  },
  {
   "cell_type": "markdown",
   "id": "262a5775",
   "metadata": {},
   "source": [
    "#### Ans 9."
   ]
  },
  {
   "cell_type": "markdown",
   "id": "196cdc59",
   "metadata": {},
   "source": [
    "To make a function variable global, we use the keyword `global`. So if a function has a variable which has been declared global, then the changes will be reflected in that global variable"
   ]
  },
  {
   "cell_type": "markdown",
   "id": "134cdbde",
   "metadata": {},
   "source": [
    "#### Ans 10."
   ]
  },
  {
   "cell_type": "markdown",
   "id": "ee464856",
   "metadata": {},
   "source": [
    "None is a NoneType data"
   ]
  },
  {
   "cell_type": "markdown",
   "id": "d2b8aa3a",
   "metadata": {},
   "source": [
    "#### Ans 11."
   ]
  },
  {
   "cell_type": "markdown",
   "id": "a9541005",
   "metadata": {},
   "source": [
    "There is no module with that name. So we get error when we try import such module, unless the user has made such module."
   ]
  },
  {
   "cell_type": "code",
   "execution_count": 2,
   "id": "4c382cf4",
   "metadata": {},
   "outputs": [
    {
     "ename": "ModuleNotFoundError",
     "evalue": "No module named 'areallyourpetsnamederic'",
     "output_type": "error",
     "traceback": [
      "\u001b[1;31m---------------------------------------------------------------------------\u001b[0m",
      "\u001b[1;31mModuleNotFoundError\u001b[0m                       Traceback (most recent call last)",
      "\u001b[1;32m~\\AppData\\Local\\Temp\\ipykernel_12888\\51184242.py\u001b[0m in \u001b[0;36m<module>\u001b[1;34m\u001b[0m\n\u001b[1;32m----> 1\u001b[1;33m \u001b[1;32mimport\u001b[0m \u001b[0mareallyourpetsnamederic\u001b[0m\u001b[1;33m\u001b[0m\u001b[1;33m\u001b[0m\u001b[0m\n\u001b[0m",
      "\u001b[1;31mModuleNotFoundError\u001b[0m: No module named 'areallyourpetsnamederic'"
     ]
    }
   ],
   "source": [
    "import areallyourpetsnamederic"
   ]
  },
  {
   "cell_type": "markdown",
   "id": "3a7d92db",
   "metadata": {},
   "source": [
    "#### Ans 12."
   ]
  },
  {
   "cell_type": "markdown",
   "id": "ee7d444b",
   "metadata": {},
   "source": [
    "we import spam module as `import spam`\n",
    "and then bacon() can be called as `spam.bacon()`"
   ]
  },
  {
   "cell_type": "markdown",
   "id": "6e4de44b",
   "metadata": {},
   "source": [
    "#### Ans 13."
   ]
  },
  {
   "cell_type": "markdown",
   "id": "f3d7767c",
   "metadata": {},
   "source": [
    "we use the try-except block to catch and handle errors so that our program runs even if an error is encountered."
   ]
  },
  {
   "cell_type": "markdown",
   "id": "4a5c4ded",
   "metadata": {},
   "source": [
    "#### Ans 14."
   ]
  },
  {
   "cell_type": "markdown",
   "id": "30ded0af",
   "metadata": {},
   "source": [
    "`try` block is used to catch errors, i.e. if we think a code could result in error, then we put it inside try block.                            \n",
    "`except` is used to handle the error that is caught by the try block. If we only use try block, it will catch the error but program will stop. but if we use except also, then program can run further. "
   ]
  }
 ],
 "metadata": {
  "kernelspec": {
   "display_name": "Python 3 (ipykernel)",
   "language": "python",
   "name": "python3"
  },
  "language_info": {
   "codemirror_mode": {
    "name": "ipython",
    "version": 3
   },
   "file_extension": ".py",
   "mimetype": "text/x-python",
   "name": "python",
   "nbconvert_exporter": "python",
   "pygments_lexer": "ipython3",
   "version": "3.9.13"
  }
 },
 "nbformat": 4,
 "nbformat_minor": 5
}
