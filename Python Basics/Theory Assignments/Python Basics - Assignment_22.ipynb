{
 "cells": [
  {
   "cell_type": "markdown",
   "id": "8f4bc0e4",
   "metadata": {},
   "source": [
    "# Python Basics - Progamming Assignment 22"
   ]
  },
  {
   "cell_type": "markdown",
   "id": "483e4768",
   "metadata": {},
   "source": [
    "### 1. What is the result of the code, and explain?\n",
    "`X = 'iNeuron'\n",
    "def func():\n",
    "    print(X)\n",
    "func()`"
   ]
  },
  {
   "cell_type": "markdown",
   "id": "9373eaa3",
   "metadata": {},
   "source": [
    "OUTPUT - iNeuron                                                                                                                          \n",
    "func() searches for 'X' locally, but did not find it; So, it searched 'X' globally and prints its value"
   ]
  },
  {
   "cell_type": "code",
   "execution_count": 1,
   "id": "2c574139",
   "metadata": {},
   "outputs": [
    {
     "name": "stdout",
     "output_type": "stream",
     "text": [
      "iNeuron\n"
     ]
    }
   ],
   "source": [
    "X = 'iNeuron'\n",
    "def func():\n",
    "    print(X)\n",
    "func()"
   ]
  },
  {
   "cell_type": "markdown",
   "id": "a9cc199c",
   "metadata": {},
   "source": [
    "### 2. What is the result of the code, and explain?\n",
    "`X = 'iNeuron'\n",
    "def func():\n",
    "    X = 'NI!'\n",
    "func()\n",
    "print(X)`"
   ]
  },
  {
   "cell_type": "markdown",
   "id": "969e191c",
   "metadata": {},
   "source": [
    "OUTPUT - iNeuron                                                                                                                         \n",
    "value of 'X' is changed locally for func() function, but globally 'X' is not changed. So, when we print 'X' we get it's global value"
   ]
  },
  {
   "cell_type": "code",
   "execution_count": 2,
   "id": "64328c0a",
   "metadata": {},
   "outputs": [
    {
     "name": "stdout",
     "output_type": "stream",
     "text": [
      "iNeuron\n"
     ]
    }
   ],
   "source": [
    "X = 'iNeuron'\n",
    "def func():\n",
    "    X = 'NI!'\n",
    "func()\n",
    "print(X)"
   ]
  },
  {
   "cell_type": "markdown",
   "id": "3987aa4f",
   "metadata": {},
   "source": [
    "### 3. What does this code print, and why?\n",
    "`X = 'iNeuron'\n",
    "def func():\n",
    "    X = 'NI'\n",
    "    print(X)\n",
    "func()\n",
    "print(X)`"
   ]
  },
  {
   "cell_type": "markdown",
   "id": "f993042b",
   "metadata": {},
   "source": [
    "OUPTUT -                                                                                                                                            \n",
    "NI                                                                                                                                           \n",
    "iNeuron                                                                                                                                           \n",
    "when func() is called, it initialises a local variable 'X' and prints its value -'NI'. Outside the function, we have an 'X' in global scope, so when print(X) is called, its prints the first scope(i.e. global scope) value - 'iNeuron'"
   ]
  },
  {
   "cell_type": "code",
   "execution_count": 3,
   "id": "4e75e28d",
   "metadata": {},
   "outputs": [
    {
     "name": "stdout",
     "output_type": "stream",
     "text": [
      "NI\n",
      "iNeuron\n"
     ]
    }
   ],
   "source": [
    "X = 'iNeuron'\n",
    "def func():\n",
    "    X = 'NI'\n",
    "    print(X)\n",
    "func()\n",
    "print(X)"
   ]
  },
  {
   "cell_type": "markdown",
   "id": "ad87b830",
   "metadata": {},
   "source": [
    "### 4. What output does this code produce? Why?\n",
    "`X = 'iNeuron'\n",
    "def func():\n",
    "    global X\n",
    "    X = 'NI'\n",
    "func()\n",
    "print(X)`"
   ]
  },
  {
   "cell_type": "markdown",
   "id": "2f7dd64c",
   "metadata": {},
   "source": [
    "OUTPUT - NI                                                                                                                                           \n",
    "when func() is called, it calls to the global variable 'X' by using `global X`, and then changes the value of 'X'(globally).\n",
    "So, when we print(X), we get the new value-'NI'"
   ]
  },
  {
   "cell_type": "code",
   "execution_count": 4,
   "id": "d9a69720",
   "metadata": {},
   "outputs": [
    {
     "name": "stdout",
     "output_type": "stream",
     "text": [
      "NI\n"
     ]
    }
   ],
   "source": [
    "X = 'iNeuron'\n",
    "def func():\n",
    "    global X\n",
    "    X = 'NI'\n",
    "func()\n",
    "print(X)"
   ]
  },
  {
   "cell_type": "markdown",
   "id": "22c3fe7c",
   "metadata": {},
   "source": [
    "### 5. What about this code—what’s the output, and why?\n",
    "`X = 'iNeuron'\n",
    "def func():\n",
    "    X = 'NI'\n",
    "    def nested():\n",
    "        print(X)\n",
    "    nested()\n",
    "func()\n",
    "X`"
   ]
  },
  {
   "cell_type": "markdown",
   "id": "b14aa07f",
   "metadata": {},
   "source": [
    "OUTPUT -                                                                                                                                            \n",
    "NI                                                                                                                                           \n",
    "iNeuron                                                                                                                                           \n",
    "func() is called ->X gets value 'NI'; nested() is called ->it looks for 'X' in local scope(inside nested()), then looks for local scope of 'X' in func() and prints its value-NI.                                                                                                                                           \n",
    "but globally also we have an 'X', so when we print(X) (globally), we get iNeuron"
   ]
  },
  {
   "cell_type": "code",
   "execution_count": 5,
   "id": "eded43a9",
   "metadata": {},
   "outputs": [
    {
     "name": "stdout",
     "output_type": "stream",
     "text": [
      "NI\n"
     ]
    },
    {
     "data": {
      "text/plain": [
       "'iNeuron'"
      ]
     },
     "execution_count": 5,
     "metadata": {},
     "output_type": "execute_result"
    }
   ],
   "source": [
    "X = 'iNeuron'\n",
    "def func():\n",
    "    X = 'NI'\n",
    "    def nested():\n",
    "        print(X)\n",
    "    nested()\n",
    "func()\n",
    "X"
   ]
  },
  {
   "cell_type": "markdown",
   "id": "045ccee7",
   "metadata": {},
   "source": [
    "### 6. How about this code: what is its output in Python 3, and explain?\n",
    "`def func():\n",
    "    X = 'NI'\n",
    "    def nested():\n",
    "        nonlocal X\n",
    "        X = 'Spam'\n",
    "    nested()\n",
    "    print(X)\n",
    "func()`"
   ]
  },
  {
   "cell_type": "markdown",
   "id": "5a505c3d",
   "metadata": {},
   "source": [
    "OUTPUT - Spam                                                                                                                                           \n",
    "inside nested(), `nonlocal X` means that python looks for the above scope for value of 'X', i.e 'NI' and when nested() is called, it changes value of 'X' to spam within func(); and when we print its value inside func(), we get 'Spam'"
   ]
  },
  {
   "cell_type": "code",
   "execution_count": 8,
   "id": "14eb259b",
   "metadata": {},
   "outputs": [
    {
     "name": "stdout",
     "output_type": "stream",
     "text": [
      "Spam\n"
     ]
    }
   ],
   "source": [
    "def func():\n",
    "    X = 'NI'\n",
    "    def nested():\n",
    "        nonlocal X\n",
    "        X = 'Spam'\n",
    "    nested()\n",
    "    print(X)\n",
    "func()"
   ]
  }
 ],
 "metadata": {
  "kernelspec": {
   "display_name": "Python 3 (ipykernel)",
   "language": "python",
   "name": "python3"
  },
  "language_info": {
   "codemirror_mode": {
    "name": "ipython",
    "version": 3
   },
   "file_extension": ".py",
   "mimetype": "text/x-python",
   "name": "python",
   "nbconvert_exporter": "python",
   "pygments_lexer": "ipython3",
   "version": "3.9.13"
  }
 },
 "nbformat": 4,
 "nbformat_minor": 5
}
