{
 "cells": [
  {
   "cell_type": "markdown",
   "id": "8f4bc0e4",
   "metadata": {},
   "source": [
    "# Python Basics - Progamming Assignment 4"
   ]
  },
  {
   "cell_type": "markdown",
   "id": "31c5dfee",
   "metadata": {},
   "source": [
    "### 1. What exactly is [ ]?"
   ]
  },
  {
   "cell_type": "markdown",
   "id": "5b5656a4",
   "metadata": {},
   "source": [
    "Square brackets in python are used to store list or array data structure. A list is a mutable datatype with any no. of datatype elements. Arrays are homogenous datatype elements' structure."
   ]
  },
  {
   "cell_type": "markdown",
   "id": "57a775fa",
   "metadata": {},
   "source": [
    "### 2. In a list of values stored in a variable called spam, how would you assign the value 'hello' as the third value? (Assume [2, 4, 6, 8, 10] are in spam.)"
   ]
  },
  {
   "cell_type": "markdown",
   "id": "bea4aa00",
   "metadata": {},
   "source": [
    "spam [ 2 ] = 'hello'"
   ]
  },
  {
   "cell_type": "code",
   "execution_count": 1,
   "id": "2c35a4ad",
   "metadata": {},
   "outputs": [],
   "source": [
    "spam = [2, 4, 6, 8, 10]"
   ]
  },
  {
   "cell_type": "code",
   "execution_count": 2,
   "id": "ef36613e",
   "metadata": {},
   "outputs": [
    {
     "data": {
      "text/plain": [
       "[2, 4, 'hello', 8, 10]"
      ]
     },
     "execution_count": 2,
     "metadata": {},
     "output_type": "execute_result"
    }
   ],
   "source": [
    "spam[2]='hello'\n",
    "spam"
   ]
  },
  {
   "cell_type": "markdown",
   "id": "6249a29e",
   "metadata": {},
   "source": [
    "### Let's pretend the spam includes the list ['a', 'b', 'c', 'd'] for the next three queries."
   ]
  },
  {
   "cell_type": "code",
   "execution_count": 3,
   "id": "74a0a627",
   "metadata": {},
   "outputs": [],
   "source": [
    "spam = ['a', 'b', 'c', 'd']"
   ]
  },
  {
   "cell_type": "markdown",
   "id": "1731e226",
   "metadata": {},
   "source": [
    "### 3. What is the value of spam[int(int('3' * 2) / 11)]?"
   ]
  },
  {
   "cell_type": "markdown",
   "id": "b21e90d5",
   "metadata": {},
   "source": [
    "'3' * 2 = '33'                                                                                                                          \n",
    "int('33')/11 = 33/11 = 3                                                                                                                          \n",
    "spam [ 3 ] = 'd'"
   ]
  },
  {
   "cell_type": "code",
   "execution_count": 4,
   "id": "042f9dfd",
   "metadata": {},
   "outputs": [
    {
     "data": {
      "text/plain": [
       "'d'"
      ]
     },
     "execution_count": 4,
     "metadata": {},
     "output_type": "execute_result"
    }
   ],
   "source": [
    "spam[int(int('3' * 2) / 11)]"
   ]
  },
  {
   "cell_type": "markdown",
   "id": "eacfe998",
   "metadata": {},
   "source": [
    "### 4. What is the value of spam[-1]?"
   ]
  },
  {
   "cell_type": "markdown",
   "id": "61da7d36",
   "metadata": {},
   "source": [
    "'d' (spam[-1] means last element of spam)"
   ]
  },
  {
   "cell_type": "code",
   "execution_count": 5,
   "id": "c3ffa679",
   "metadata": {},
   "outputs": [
    {
     "data": {
      "text/plain": [
       "'d'"
      ]
     },
     "execution_count": 5,
     "metadata": {},
     "output_type": "execute_result"
    }
   ],
   "source": [
    "spam[-1]"
   ]
  },
  {
   "cell_type": "markdown",
   "id": "125e69ca",
   "metadata": {},
   "source": [
    "### 5. What is the value of spam[:2]?"
   ]
  },
  {
   "cell_type": "markdown",
   "id": "7568b83c",
   "metadata": {},
   "source": [
    "['a', 'b'] - spam[:2] means all values from index 0 to 1 in spam"
   ]
  },
  {
   "cell_type": "code",
   "execution_count": 6,
   "id": "c58f42f5",
   "metadata": {},
   "outputs": [
    {
     "data": {
      "text/plain": [
       "['a', 'b']"
      ]
     },
     "execution_count": 6,
     "metadata": {},
     "output_type": "execute_result"
    }
   ],
   "source": [
    "spam[:2]"
   ]
  },
  {
   "cell_type": "markdown",
   "id": "192458c6",
   "metadata": {},
   "source": [
    "### Let's pretend bacon has the list [3.14, 'cat,' 11, 'cat,' True] for the next three questions."
   ]
  },
  {
   "cell_type": "code",
   "execution_count": 7,
   "id": "3b67745c",
   "metadata": {},
   "outputs": [],
   "source": [
    "bacon = [3.14, 'cat', 11, 'cat', True]"
   ]
  },
  {
   "cell_type": "markdown",
   "id": "30a2acc8",
   "metadata": {},
   "source": [
    "### 6. What is the value of bacon.index('cat')?"
   ]
  },
  {
   "cell_type": "markdown",
   "id": "fd7dc8a8",
   "metadata": {},
   "source": [
    "1 -        \n",
    "list.index(item) returns index of first occurence of 'item' in the 'list'"
   ]
  },
  {
   "cell_type": "code",
   "execution_count": 8,
   "id": "9e1c3980",
   "metadata": {},
   "outputs": [
    {
     "data": {
      "text/plain": [
       "1"
      ]
     },
     "execution_count": 8,
     "metadata": {},
     "output_type": "execute_result"
    }
   ],
   "source": [
    "bacon.index('cat')"
   ]
  },
  {
   "cell_type": "markdown",
   "id": "27d9d917",
   "metadata": {},
   "source": [
    "### 7. How does bacon.append(99) change the look of the list value in bacon?"
   ]
  },
  {
   "cell_type": "markdown",
   "id": "5f3b26ff",
   "metadata": {},
   "source": [
    "bacon now becomes :- [3.14, 'cat', 11, 'cat', True, 99]"
   ]
  },
  {
   "cell_type": "code",
   "execution_count": 9,
   "id": "4349a335",
   "metadata": {},
   "outputs": [
    {
     "data": {
      "text/plain": [
       "[3.14, 'cat', 11, 'cat', True, 99]"
      ]
     },
     "execution_count": 9,
     "metadata": {},
     "output_type": "execute_result"
    }
   ],
   "source": [
    "bacon.append(99)\n",
    "bacon"
   ]
  },
  {
   "cell_type": "markdown",
   "id": "da86e7a6",
   "metadata": {},
   "source": [
    "### 8. How does bacon.remove('cat') change the look of the list in bacon?\n"
   ]
  },
  {
   "cell_type": "markdown",
   "id": "d62eb5f0",
   "metadata": {},
   "source": [
    "bacon now becomes [3.14, 11, 'cat, True, 99] because .remove() removes first occcurence of that element from a list"
   ]
  },
  {
   "cell_type": "code",
   "execution_count": 10,
   "id": "6ab504e5",
   "metadata": {},
   "outputs": [
    {
     "data": {
      "text/plain": [
       "[3.14, 11, 'cat', True, 99]"
      ]
     },
     "execution_count": 10,
     "metadata": {},
     "output_type": "execute_result"
    }
   ],
   "source": [
    "bacon.remove('cat')\n",
    "bacon"
   ]
  },
  {
   "cell_type": "markdown",
   "id": "6b0aa9be",
   "metadata": {},
   "source": [
    "### 9. What are the list concatenation and list replication operators?"
   ]
  },
  {
   "cell_type": "markdown",
   "id": "2da9335c",
   "metadata": {},
   "source": [
    "' + ' is the concatenation operator. It joins 2 or more lists into 1 list                                                                \n",
    "' * ' is the replication operator. It replicates all items of a list 'n' times into 1 list "
   ]
  },
  {
   "cell_type": "code",
   "execution_count": 11,
   "id": "b830b6da",
   "metadata": {},
   "outputs": [
    {
     "name": "stdout",
     "output_type": "stream",
     "text": [
      "a+b = [1, 2, 3, 4]\n",
      "a*3 = [1, 2, 1, 2, 1, 2]\n"
     ]
    }
   ],
   "source": [
    "a = [1,2]; b = [3,4]\n",
    "print(f\"a+b = {a+b}\")\n",
    "print(f\"a*3 = {a*3}\")"
   ]
  },
  {
   "cell_type": "markdown",
   "id": "7734c430",
   "metadata": {},
   "source": [
    "### 10. What is difference between the list methods append() and insert()?"
   ]
  },
  {
   "cell_type": "markdown",
   "id": "0b29464e",
   "metadata": {},
   "source": [
    "append() is used to add 1 item to the end of a list; we cannot add anywhere else.                                                        \n",
    "insert() is used to add an item at the specified index in a list; maybe last, maybe first or in-between anywhere."
   ]
  },
  {
   "cell_type": "code",
   "execution_count": 12,
   "id": "cedf33c7",
   "metadata": {},
   "outputs": [
    {
     "name": "stdout",
     "output_type": "stream",
     "text": [
      "[1, 3, 4]\n",
      "[1, 3, 4, 5]\n",
      "[1, 3, 4, 5, 6]\n"
     ]
    }
   ],
   "source": [
    "a=[1,3,4]\n",
    "print(a)\n",
    "a.append(5)\n",
    "print(a)\n",
    "a.append(6)\n",
    "print(a)"
   ]
  },
  {
   "cell_type": "code",
   "execution_count": 13,
   "id": "133890a7",
   "metadata": {},
   "outputs": [
    {
     "name": "stdout",
     "output_type": "stream",
     "text": [
      "[1, 3, 4, 5, 6]\n",
      "[1, 2, 3, 4, 5, 6]\n",
      "[1, 2, 3, 4, 5, 6, 7]\n"
     ]
    }
   ],
   "source": [
    "print(a)\n",
    "a.insert(1,2)\n",
    "print(a)\n",
    "a.insert(6,7)\n",
    "print(a)"
   ]
  },
  {
   "cell_type": "markdown",
   "id": "b8cdceed",
   "metadata": {},
   "source": [
    "### 11. What are the two methods for removing items from a list?"
   ]
  },
  {
   "cell_type": "markdown",
   "id": "5134e80b",
   "metadata": {},
   "source": [
    "remove() is used to remove a specific item from a list. It removes the first occurence of the specified item from the list.           \n",
    "'del' is used to delete items by their index values. We can either delete a single item or a slice of items."
   ]
  },
  {
   "cell_type": "code",
   "execution_count": 14,
   "id": "2aae93d9",
   "metadata": {},
   "outputs": [
    {
     "name": "stdout",
     "output_type": "stream",
     "text": [
      "['a', 'b', 'b', 'c']\n",
      "['a', 'b', 'c']\n",
      "['a', 'b']\n"
     ]
    }
   ],
   "source": [
    "a=['a','b','b','c']\n",
    "print(a)\n",
    "a.remove('b')\n",
    "print(a)\n",
    "a.remove('c')\n",
    "print(a)"
   ]
  },
  {
   "cell_type": "code",
   "execution_count": 15,
   "id": "e7c6f21a",
   "metadata": {
    "scrolled": true
   },
   "outputs": [
    {
     "name": "stdout",
     "output_type": "stream",
     "text": [
      "[1, 2, 3, 4, 5, 6, 7]\n",
      "[2, 3, 4, 5, 6, 7]\n",
      "[2, 3, 4, 5]\n"
     ]
    }
   ],
   "source": [
    "a=[1,2,3,4,5,6,7]\n",
    "print(a)\n",
    "del a[0]\n",
    "print(a)\n",
    "del a[4:]\n",
    "print(a)"
   ]
  },
  {
   "cell_type": "markdown",
   "id": "d6c7ce0b",
   "metadata": {},
   "source": [
    "### 12. Describe how list values and string values are identical."
   ]
  },
  {
   "cell_type": "markdown",
   "id": "07613e30",
   "metadata": {},
   "source": [
    "Both list values and string values have indexing, i.e., we can access each element within a string or a list using indexes.             \n",
    "Index start from 0 in both. Both these datatypes have similar output when we perfom concatenation or replication. We can use len() to get length of list or string, we can use slicing also"
   ]
  },
  {
   "cell_type": "code",
   "execution_count": 16,
   "id": "503365ce",
   "metadata": {},
   "outputs": [
    {
     "name": "stdout",
     "output_type": "stream",
     "text": [
      "List   len(a) - 2\n",
      "String len(b) - 3\n",
      "\n",
      "Indexing in List 'a':\n",
      "index:0 - 1\n",
      "index:1 - 2\n",
      "Indexing in String 'b':\n",
      "index:0 - a\n",
      "index:1 - b\n",
      "index:2 - c\n",
      "\n",
      "Concatenation:\n",
      "a+a = [1, 2, 1, 2]\n",
      "b+b = abcabc\n",
      "\n",
      "Replication\n",
      "a*2 = [1, 2, 1, 2, 1, 2]\n",
      "b*2 = abcabcabc\n"
     ]
    }
   ],
   "source": [
    "a = [1,2]\n",
    "b = \"abc\"\n",
    "print(f\"List   len(a) - {len(a)}\")\n",
    "print(f\"String len(b) - {len(b)}\")\n",
    "print(\"\\nIndexing in List 'a':\")\n",
    "for i,j in enumerate(a):\n",
    "    print(f\"index:{i} - {j}\")\n",
    "print(\"Indexing in String 'b':\")\n",
    "for i,j in enumerate(b):\n",
    "    print(f\"index:{i} - {j}\")\n",
    "print(\"\\nConcatenation:\")\n",
    "print(f\"a+a = {a+a}\")\n",
    "print(f\"b+b = {b+b}\")\n",
    "print(\"\\nReplication\")\n",
    "print(f\"a*2 = {a*3}\")\n",
    "print(f\"b*2 = {b*3}\")"
   ]
  },
  {
   "cell_type": "markdown",
   "id": "d516b355",
   "metadata": {},
   "source": [
    "### 13. What's the difference between tuples and lists?"
   ]
  },
  {
   "cell_type": "markdown",
   "id": "fb187d2e",
   "metadata": {},
   "source": [
    "Tuples are immutable type of data enclosed within curve parenthesis - ( ), i.e. we cannot change or modify the data within a tuple, although they can be accessed using indexing or slicing.                                                                    \n",
    "Lists are mutable type of data enclosed within square brackets - [ ], i.e. we can change, modify or update the elements in a list."
   ]
  },
  {
   "cell_type": "markdown",
   "id": "66167df4",
   "metadata": {},
   "source": [
    "### 14. How do you type a tuple value that only contains the integer 42?"
   ]
  },
  {
   "cell_type": "code",
   "execution_count": 17,
   "id": "0e5b04db",
   "metadata": {},
   "outputs": [
    {
     "data": {
      "text/plain": [
       "tuple"
      ]
     },
     "execution_count": 17,
     "metadata": {},
     "output_type": "execute_result"
    }
   ],
   "source": [
    "tup = (42,)\n",
    "type(tup)"
   ]
  },
  {
   "cell_type": "markdown",
   "id": "0f7fd135",
   "metadata": {},
   "source": [
    "### 15. How do you get a list value's tuple form? How do you get a tuple value's list form?"
   ]
  },
  {
   "cell_type": "markdown",
   "id": "1ece3b71",
   "metadata": {},
   "source": [
    "we use the list( ) method to convert a tuple into a list.                                                                                \n",
    "we use tuple( ) method to convert a list into a tuple."
   ]
  },
  {
   "cell_type": "code",
   "execution_count": 18,
   "id": "b0c3a371",
   "metadata": {},
   "outputs": [
    {
     "name": "stdout",
     "output_type": "stream",
     "text": [
      "BEFORE:\n",
      "[10, 'a', 20, 'b'] <class 'list'>\n",
      "('hello', 'there') <class 'tuple'>\n",
      "\n",
      "AFTER:\n",
      "(10, 'a', 20, 'b') <class 'tuple'>\n",
      "['hello', 'there'] <class 'list'>\n"
     ]
    }
   ],
   "source": [
    "print(\"BEFORE:\")\n",
    "a = [10,'a',20,'b']\n",
    "print(a,type(a))\n",
    "b = (\"hello\",\"there\")\n",
    "print(b,type(b))\n",
    "print(\"\\nAFTER:\")\n",
    "a=tuple(a)\n",
    "print(a,type(a))\n",
    "b=list(b)\n",
    "print(b,type(b))"
   ]
  },
  {
   "cell_type": "markdown",
   "id": "8317b2ae",
   "metadata": {},
   "source": [
    "### 16. Variables that \"contain\" list values are not necessarily lists themselves. Instead, what do they contain?"
   ]
  },
  {
   "cell_type": "markdown",
   "id": "4f420c32",
   "metadata": {},
   "source": [
    "Variables that 'contain' list values are basically not the list themselves. Instead, they are a memory reference to the address where this list is stored inside memory."
   ]
  },
  {
   "cell_type": "markdown",
   "id": "5e5fd166",
   "metadata": {},
   "source": [
    "### 17. How do you distinguish between copy.copy() and copy.deepcopy()?"
   ]
  },
  {
   "cell_type": "markdown",
   "id": "4dc47905",
   "metadata": {},
   "source": [
    "copy( ) is shallow copy method - stores references of objects, i.e. if we have a primitive data type, then it stores its value, else for structures like list, dicitonary, tuples, etc.it stores their references , if any change is made to the referenced data(like list, tuple,dict.) of original structure, then it will be reflected here.                                                                                                                      \n",
    "deepcopy( ) is a deepcopy method - stores object's values, instead of references. Any change in original structure won't be reflected in the new copy."
   ]
  },
  {
   "cell_type": "code",
   "execution_count": 19,
   "id": "fa5d55b0",
   "metadata": {},
   "outputs": [
    {
     "name": "stdout",
     "output_type": "stream",
     "text": [
      "a =  [1, 2, [3, 4]]\n",
      "b =  [1, 2, [3, 4]]\n",
      "c =  [1, 2, [3, 4]]\n"
     ]
    }
   ],
   "source": [
    "from copy import copy as cp, deepcopy as dcp\n",
    "a = [1,2,[3,4]]\n",
    "b = cp(a)\n",
    "c = dcp(a)\n",
    "print(\"a = \",a)\n",
    "print(\"b = \",b)\n",
    "print(\"c = \",c)"
   ]
  },
  {
   "cell_type": "code",
   "execution_count": 20,
   "id": "3b4f3f75",
   "metadata": {},
   "outputs": [
    {
     "name": "stdout",
     "output_type": "stream",
     "text": [
      "a =  ['a', 2, [3, 4]]\n",
      "b =  [1, 2, [3, 4]]\n",
      "c =  [1, 2, [3, 4]]\n"
     ]
    }
   ],
   "source": [
    "a[0]='a'\n",
    "print(\"a = \",a)\n",
    "print(\"b = \",b)\n",
    "print(\"c = \",c)"
   ]
  },
  {
   "cell_type": "code",
   "execution_count": 21,
   "id": "3f751e11",
   "metadata": {},
   "outputs": [
    {
     "name": "stdout",
     "output_type": "stream",
     "text": [
      "a =  ['a', 2, ['b', 4]]\n",
      "b =  [1, 2, ['b', 4]]\n",
      "c =  [1, 2, [3, 4]]\n"
     ]
    }
   ],
   "source": [
    "a[2][0]='b'\n",
    "print(\"a = \",a)\n",
    "print(\"b = \",b)\n",
    "print(\"c = \",c)"
   ]
  },
  {
   "cell_type": "code",
   "execution_count": 22,
   "id": "fe976d20",
   "metadata": {},
   "outputs": [
    {
     "name": "stdout",
     "output_type": "stream",
     "text": [
      "a =  ['a', 2, (2, 3)]\n",
      "b =  [1, 2, ['b', 4]]\n",
      "c =  [1, 2, [3, 4]]\n"
     ]
    }
   ],
   "source": [
    "a[2]=(2,3)\n",
    "print(\"a = \",a)\n",
    "print(\"b = \",b)\n",
    "print(\"c = \",c)"
   ]
  }
 ],
 "metadata": {
  "kernelspec": {
   "display_name": "Python 3 (ipykernel)",
   "language": "python",
   "name": "python3"
  },
  "language_info": {
   "codemirror_mode": {
    "name": "ipython",
    "version": 3
   },
   "file_extension": ".py",
   "mimetype": "text/x-python",
   "name": "python",
   "nbconvert_exporter": "python",
   "pygments_lexer": "ipython3",
   "version": "3.9.13"
  }
 },
 "nbformat": 4,
 "nbformat_minor": 5
}
