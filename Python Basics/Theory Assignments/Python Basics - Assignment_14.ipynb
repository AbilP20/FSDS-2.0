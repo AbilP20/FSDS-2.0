{
 "cells": [
  {
   "cell_type": "markdown",
   "id": "8f4bc0e4",
   "metadata": {},
   "source": [
    "# Python Basics - Progamming Assignment 14"
   ]
  },
  {
   "cell_type": "markdown",
   "id": "37d7b6b3",
   "metadata": {},
   "source": [
    "### 1. What does RGBA stand for?"
   ]
  },
  {
   "cell_type": "markdown",
   "id": "9c70be23",
   "metadata": {},
   "source": [
    "`R = Red`, `G = Green`, `B = Blue`, `A = Alpha`"
   ]
  },
  {
   "cell_type": "markdown",
   "id": "5b365809",
   "metadata": {},
   "source": [
    "### 2. From the Pillow module, how do you get the RGBA value of any images?"
   ]
  },
  {
   "cell_type": "markdown",
   "id": "66e298df",
   "metadata": {},
   "source": [
    "Convert image into RGBA using `convert(\"RGBA\")` and then use `getdata()` method to fetch the rgba values"
   ]
  },
  {
   "cell_type": "code",
   "execution_count": 1,
   "id": "3ad5de14",
   "metadata": {},
   "outputs": [],
   "source": [
    "from PIL import Image\n",
    "  \n",
    "img = Image.open('image.jpg')\n",
    "rgba = img.convert(\"RGBA\")\n",
    "datas = rgba.getdata()\n",
    "# iterate datas to get the rgba value - did not iterate here as the file size exceeded 25mb and could not add to github"
   ]
  },
  {
   "cell_type": "markdown",
   "id": "dd23b2b9",
   "metadata": {},
   "source": [
    "### 3. What is a box tuple, and how does it work?"
   ]
  },
  {
   "cell_type": "markdown",
   "id": "76bc0b96",
   "metadata": {},
   "source": [
    "A box tuple indicates the boundaries of any image in the following form:                                                                   \n",
    "(left-edge x-coordinate, upper-edge y-coordinate, right-edge x-coordinate, lower-edge y-coordinate)"
   ]
  },
  {
   "cell_type": "markdown",
   "id": "b2e30369",
   "metadata": {},
   "source": [
    "### 4. Use your image and load in notebook then, How can you find out the width and height of an Image object?"
   ]
  },
  {
   "cell_type": "code",
   "execution_count": 2,
   "id": "f8311233",
   "metadata": {},
   "outputs": [
    {
     "name": "stdout",
     "output_type": "stream",
     "text": [
      "(2560, 1920)\n",
      "2560 1920\n"
     ]
    }
   ],
   "source": [
    "img = Image.open('image.jpg')\n",
    "print(img.size)\n",
    "print(img.width,img.height)"
   ]
  },
  {
   "cell_type": "markdown",
   "id": "54f1f2b9",
   "metadata": {},
   "source": [
    "### 5. What method would you call to get Image object for a 100×100 image, excluding the lower-left quarter of it?"
   ]
  },
  {
   "cell_type": "code",
   "execution_count": 3,
   "id": "8addec92",
   "metadata": {},
   "outputs": [],
   "source": [
    "img = Image.open('img1.jpg')\n",
    "img_crop = img.crop((0,0,50,50))"
   ]
  },
  {
   "cell_type": "markdown",
   "id": "5eb9e97d",
   "metadata": {},
   "source": [
    "### 6. After making changes to an Image object, how could you save it as an image file?"
   ]
  },
  {
   "cell_type": "markdown",
   "id": "a3317dff",
   "metadata": {},
   "source": [
    "We can save using .save() method of PIL"
   ]
  },
  {
   "cell_type": "code",
   "execution_count": 4,
   "id": "ee186bf8",
   "metadata": {},
   "outputs": [],
   "source": [
    "img = Image.open('img1.jpg')\n",
    "img.save('img2.jpg')"
   ]
  },
  {
   "cell_type": "markdown",
   "id": "61bcd1d5",
   "metadata": {},
   "source": [
    "### 7. What module contains Pillow’s shape-drawing code?"
   ]
  },
  {
   "cell_type": "markdown",
   "id": "b7520a86",
   "metadata": {},
   "source": [
    "Using `ImageDraw`, we can draw any 2d shapes on the Image objects"
   ]
  },
  {
   "cell_type": "markdown",
   "id": "888c5e00",
   "metadata": {},
   "source": [
    "### 8. Image objects do not have drawing methods. What kind of object does? How do you get this kind of object?"
   ]
  },
  {
   "cell_type": "markdown",
   "id": "f25a9823",
   "metadata": {},
   "source": [
    "`ImageDraw` objects have shape-drawing methods for drawing squares, rectangles etc. We have to use the ImageDraw.Draw() method."
   ]
  }
 ],
 "metadata": {
  "kernelspec": {
   "display_name": "Python 3 (ipykernel)",
   "language": "python",
   "name": "python3"
  },
  "language_info": {
   "codemirror_mode": {
    "name": "ipython",
    "version": 3
   },
   "file_extension": ".py",
   "mimetype": "text/x-python",
   "name": "python",
   "nbconvert_exporter": "python",
   "pygments_lexer": "ipython3",
   "version": "3.9.16"
  }
 },
 "nbformat": 4,
 "nbformat_minor": 5
}
