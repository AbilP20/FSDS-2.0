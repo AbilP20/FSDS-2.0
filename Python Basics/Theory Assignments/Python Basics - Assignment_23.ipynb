{
 "cells": [
  {
   "cell_type": "markdown",
   "id": "8f4bc0e4",
   "metadata": {},
   "source": [
    "# Python Basics - Progamming Assignment 23"
   ]
  },
  {
   "cell_type": "markdown",
   "id": "d1ef14b2",
   "metadata": {},
   "source": [
    "### 1. What is the result of the code, and why?                                                                                         \n",
    "`def func(a, b=6, c=8):\n",
    "    print(a, b, c)\n",
    "func(1, 2)`\n"
   ]
  },
  {
   "cell_type": "markdown",
   "id": "218f9e11",
   "metadata": {},
   "source": [
    "OUTPUT - 1 2 8                                                                                                                         \n",
    "first argument we pass is for a, for b-default=6 and we have passed a 2nd argument, so b will get that value. We have not passed 3rd argument so it will take default value defined in function heading"
   ]
  },
  {
   "cell_type": "code",
   "execution_count": 1,
   "id": "752d3793",
   "metadata": {},
   "outputs": [
    {
     "name": "stdout",
     "output_type": "stream",
     "text": [
      "1 2 8\n"
     ]
    }
   ],
   "source": [
    "def func(a, b=6, c=8):\n",
    "    print(a, b, c)\n",
    "func(1, 2)"
   ]
  },
  {
   "cell_type": "markdown",
   "id": "692f9534",
   "metadata": {},
   "source": [
    "### 2. What is the result of this code, and why?                                                                                         \n",
    "`def func(a, b, c=5):                                                                                         \n",
    "    print(a, b, c)\n",
    "func(1, c=3, b=2)`"
   ]
  },
  {
   "cell_type": "markdown",
   "id": "a3b0ca95",
   "metadata": {},
   "source": [
    "OUTPUT - 1 2 3                                                                                                                            \n",
    "Here, we see the use of positional arguments. 1st argument passed is a;                                                                                                                             \n",
    "2nd argument in function call is given as c=3, so it will be the 3rd argument in function definition.                                                                                                                             \n",
    "and 3rd argument in function call is b=2, so it will be the 2nd argument in function definition"
   ]
  },
  {
   "cell_type": "code",
   "execution_count": 2,
   "id": "d86e24d2",
   "metadata": {},
   "outputs": [
    {
     "name": "stdout",
     "output_type": "stream",
     "text": [
      "1 2 3\n"
     ]
    }
   ],
   "source": [
    "def func(a, b, c=5):                                                                                         \n",
    "    print(a, b, c)\n",
    "func(1, c=3, b=2)"
   ]
  },
  {
   "cell_type": "markdown",
   "id": "ebc28b3a",
   "metadata": {},
   "source": [
    "### 3. How about this code: what is its result, and why?                                                                                         \n",
    "`def func(a, *pargs):\n",
    "    print(a, pargs)\n",
    "func(1, 2, 3)`"
   ]
  },
  {
   "cell_type": "markdown",
   "id": "0d50ac42",
   "metadata": {},
   "source": [
    "OUTPUT - 1 (2,3)                                                                                                                                                                                                              \n",
    "1st argument in function call is 'a'                                                                                                       \n",
    "2nd argument in function definition is 'asterik pargs', i.e variable argument length; so whatever we pass after first argument in function call will be packed in a tuple together"
   ]
  },
  {
   "cell_type": "code",
   "execution_count": 3,
   "id": "cb22ae07",
   "metadata": {},
   "outputs": [
    {
     "name": "stdout",
     "output_type": "stream",
     "text": [
      "1 (2, 3)\n"
     ]
    }
   ],
   "source": [
    "def func(a, *pargs):\n",
    "    print(a, pargs)\n",
    "func(1, 2, 3)"
   ]
  },
  {
   "cell_type": "markdown",
   "id": "842bcfc1",
   "metadata": {},
   "source": [
    "### 4. What does this code print, and why?                                       \n",
    "`def func(a, **kargs):\n",
    "    print(a, kargs)\n",
    "func(a=1, c=3, b=2)`"
   ]
  },
  {
   "cell_type": "markdown",
   "id": "add018cc",
   "metadata": {},
   "source": [
    "OUTPUT - 1 {'c':3, 'b':2}                                                                                                                                                     \n",
    "1st argument is 'a' so 'a' in function defintion will get value 1                                                                                                                                                     \n",
    "2nd argument in function defintion is **kwargs, i.e it will take a key=value pair input, which produces a dictionary; so c=3 means 'c':3 and b=2 means 'b':2"
   ]
  },
  {
   "cell_type": "code",
   "execution_count": 4,
   "id": "939faed7",
   "metadata": {},
   "outputs": [
    {
     "name": "stdout",
     "output_type": "stream",
     "text": [
      "1 {'c': 3, 'b': 2}\n"
     ]
    }
   ],
   "source": [
    "def func(a, **kargs):\n",
    "    print(a, kargs)\n",
    "func(a=1, c=3, b=2)"
   ]
  },
  {
   "cell_type": "markdown",
   "id": "2807a911",
   "metadata": {},
   "source": [
    "### 5. What gets printed by this, and explain?                                                                                         \n",
    "`def func(a, b, c=8, d=5): print(a, b, c, d)\n",
    "func(1, *(5, 6))`"
   ]
  },
  {
   "cell_type": "markdown",
   "id": "9f1ad57d",
   "metadata": {},
   "source": [
    "OUTPUT - 1 5 6 5                                                                                                                                                         \n",
    "function def. has (a, b, c=8, d=5)                                                                                                                                                         \n",
    "function call :   (1, *(5,6),    )                                                                                                                                                         \n",
    "so we can see that a will take value 1; (5,6) will be mapped to b and c; and as 4th arg is not given so it will take default value of d"
   ]
  },
  {
   "cell_type": "code",
   "execution_count": 5,
   "id": "a9b45dcc",
   "metadata": {},
   "outputs": [
    {
     "name": "stdout",
     "output_type": "stream",
     "text": [
      "1 5 6 5\n"
     ]
    }
   ],
   "source": [
    "def func(a, b, c=8, d=5): print(a, b, c, d)\n",
    "func(1, *(5, 6))"
   ]
  },
  {
   "cell_type": "markdown",
   "id": "26192671",
   "metadata": {},
   "source": [
    "### 6. what is the result of this, and explain?                                                                                         \n",
    "`def func(a, b, c): a = 2; b[0] = 'x'; c['a'] = 'y'\n",
    "l=1; m=[1]; n={'a':0}\n",
    "func(l, m, n)\n",
    "l, m, n`"
   ]
  },
  {
   "cell_type": "markdown",
   "id": "154f8343",
   "metadata": {},
   "source": [
    "OUTPUT - (1, ['x'], {'a':'y'})                                                                                                                                    \n",
    "Here, we see the role of pass-by-reference method in Python programming                                                                                                                                    \n",
    "-> argument 1: in func. call, type(l) is 'int' so 'l' variable points to a reference i.e. 2. So, 2 is passed to the function and not directly 'l'; that is why there is no change in the value of 'l' even after function has run.                                                                                                                                    \n",
    "-> argument 2: now type(m)=list and reference of lists is a memory location/address. So, in the function call we are passing that address and whatever change happens in that address in a function will be reflected outside the functionl that is why value of 'm[0]' changes                                                                                                                                    \n",
    "-> argument 3: same reason as above(as that of lists), i.e. dictionaries are also referenved by address values"
   ]
  },
  {
   "cell_type": "code",
   "execution_count": 7,
   "id": "97fc18fb",
   "metadata": {},
   "outputs": [
    {
     "data": {
      "text/plain": [
       "(1, ['x'], {'a': 'y'})"
      ]
     },
     "execution_count": 7,
     "metadata": {},
     "output_type": "execute_result"
    }
   ],
   "source": [
    "def func(a, b, c):a = 2; b[0] = 'x'; c['a'] = 'y'\n",
    "l=1; m=[1]; n={'a':0}\n",
    "func(l, m, n)\n",
    "l, m, n"
   ]
  }
 ],
 "metadata": {
  "kernelspec": {
   "display_name": "Python 3 (ipykernel)",
   "language": "python",
   "name": "python3"
  },
  "language_info": {
   "codemirror_mode": {
    "name": "ipython",
    "version": 3
   },
   "file_extension": ".py",
   "mimetype": "text/x-python",
   "name": "python",
   "nbconvert_exporter": "python",
   "pygments_lexer": "ipython3",
   "version": "3.9.13"
  }
 },
 "nbformat": 4,
 "nbformat_minor": 5
}
