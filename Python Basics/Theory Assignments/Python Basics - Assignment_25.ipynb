{
 "cells": [
  {
   "cell_type": "markdown",
   "id": "8f4bc0e4",
   "metadata": {},
   "source": [
    "# Python Basics - Progamming Assignment 25"
   ]
  },
  {
   "cell_type": "markdown",
   "id": "5b8fdd1e",
   "metadata": {},
   "source": [
    "### 1. What is the difference between enclosing a list comprehension in square brackets and parentheses?         "
   ]
  },
  {
   "cell_type": "markdown",
   "id": "5dc083bb",
   "metadata": {},
   "source": [
    "When a list comprehension is enclosed in square brackets ([ ]), we get a list of those items; while if it enclosed within parentheses, we get a generator object or we can say that it makes an iterator in which we can use next() to iterate through each object"
   ]
  },
  {
   "cell_type": "code",
   "execution_count": 1,
   "id": "c3ea53ff",
   "metadata": {},
   "outputs": [
    {
     "data": {
      "text/plain": [
       "[0, 1, 2, 3, 4]"
      ]
     },
     "execution_count": 1,
     "metadata": {},
     "output_type": "execute_result"
    }
   ],
   "source": [
    "a = [i for i in range(5)]\n",
    "a"
   ]
  },
  {
   "cell_type": "code",
   "execution_count": 2,
   "id": "3117ce7f",
   "metadata": {},
   "outputs": [],
   "source": [
    "b = (i for i in range(5))"
   ]
  },
  {
   "cell_type": "code",
   "execution_count": 4,
   "id": "29c87608",
   "metadata": {},
   "outputs": [
    {
     "data": {
      "text/plain": [
       "1"
      ]
     },
     "execution_count": 4,
     "metadata": {},
     "output_type": "execute_result"
    }
   ],
   "source": [
    "next(b)"
   ]
  },
  {
   "cell_type": "markdown",
   "id": "4a7fd6bf",
   "metadata": {},
   "source": [
    "### 2. What is the relationship between generators and iterators?    "
   ]
  },
  {
   "cell_type": "markdown",
   "id": "c9a33a6e",
   "metadata": {},
   "source": [
    "Both are useful to create an iterator object; i.e. using any of 2, we can get an object which we can iterate through using next( ) keyword. The exact relation b/w generators and iterators is that iterator is the parent class of the generator class OR generator class has been derived from the iterator class and is it's child.  "
   ]
  },
  {
   "cell_type": "markdown",
   "id": "30b0b971",
   "metadata": {},
   "source": [
    "### 3. What are the signs that a function is a generator function?       "
   ]
  },
  {
   "cell_type": "markdown",
   "id": "d59fd270",
   "metadata": {},
   "source": [
    "The only sign to look for is that, a function with `yield` instead of `return`, always means that the specified function is a generator and not a normal function."
   ]
  },
  {
   "cell_type": "markdown",
   "id": "cd2db193",
   "metadata": {},
   "source": [
    "### 4. What is the purpose of a yield statement?     "
   ]
  },
  {
   "cell_type": "markdown",
   "id": "698bf236",
   "metadata": {},
   "source": [
    "`yield` statement stores the result of each iteration in memory and returns it to the user. next( ) is used to retrieve that result. Every time we use next( ), we get result of the next iteration that was saved by `yield`.\n",
    "The function pauses at the first `yield` statement and the next time when the function is called, it is resumed from there."
   ]
  },
  {
   "cell_type": "markdown",
   "id": "fca6e982",
   "metadata": {},
   "source": [
    "### 5. What is the relationship between map calls and list comprehensions? Make a comparison and contrast between the two."
   ]
  },
  {
   "cell_type": "markdown",
   "id": "73cd4c20",
   "metadata": {},
   "source": [
    "List comprhension returns a list whereas map call returns a map object.                                                                 \n",
    "List comprehension is generally used when we to want to evaluate expressions too long to express.\n",
    "Map calls are faster than list comprehensions when we want to call an already defined function a number of times or on a numbers of iterables. "
   ]
  }
 ],
 "metadata": {
  "kernelspec": {
   "display_name": "Python 3 (ipykernel)",
   "language": "python",
   "name": "python3"
  },
  "language_info": {
   "codemirror_mode": {
    "name": "ipython",
    "version": 3
   },
   "file_extension": ".py",
   "mimetype": "text/x-python",
   "name": "python",
   "nbconvert_exporter": "python",
   "pygments_lexer": "ipython3",
   "version": "3.9.13"
  }
 },
 "nbformat": 4,
 "nbformat_minor": 5
}
