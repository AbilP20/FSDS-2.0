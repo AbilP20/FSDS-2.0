{
 "cells": [
  {
   "cell_type": "markdown",
   "id": "6ca82714",
   "metadata": {},
   "source": [
    "# Python Basics - Progamming Assignment 8"
   ]
  },
  {
   "cell_type": "code",
   "execution_count": 1,
   "id": "0e17487c",
   "metadata": {},
   "outputs": [],
   "source": [
    "# function to display matrix - used in Q1, Q2 and Q3\n",
    "def disp(a):\n",
    "    for i in range(len(a)):\n",
    "        print()\n",
    "        for j in range(len(a[0])):\n",
    "            print(a[i][j],end=' ')"
   ]
  },
  {
   "cell_type": "markdown",
   "id": "e05901a0",
   "metadata": {},
   "source": [
    "### 1. Write a Python Program to Add Two Matrices?"
   ]
  },
  {
   "cell_type": "code",
   "execution_count": 2,
   "id": "13c22fce",
   "metadata": {},
   "outputs": [
    {
     "name": "stdout",
     "output_type": "stream",
     "text": [
      "A + B =\n",
      "\n",
      "10 10 10 \n",
      "10 10 10 \n",
      "10 10 10 "
     ]
    }
   ],
   "source": [
    "a = [[1,2,3],         #a = 1 2 3\n",
    "     [2,3,4],         #    2 3 4\n",
    "     [3,4,5]]         #    3 4 5\n",
    "b = [[9,8,7],         #b = 9 8 7      \n",
    "     [8,7,6],         #    8 7 6\n",
    "     [7,6,5]]         #    7 6 5\n",
    "row_a = len(a)\n",
    "row_b = len(b)\n",
    "col_a = len(a[0])\n",
    "col_b = len(b[0])\n",
    "if row_a==row_b and col_a==col_b:\n",
    "    c = [[0]*col_b for i in range(row_a)]\n",
    "    for i in range(row_a):\n",
    "        for j in range(col_a):\n",
    "            c[i][j]=a[i][j]+b[i][j]\n",
    "    print(f\"A + B =\")\n",
    "    disp(c)\n",
    "else:\n",
    "    print(\"Cannot Add.\")"
   ]
  },
  {
   "cell_type": "markdown",
   "id": "bb566b41",
   "metadata": {},
   "source": [
    "### 2. Write a Python Program to Multiply Two Matrices?"
   ]
  },
  {
   "cell_type": "code",
   "execution_count": 3,
   "id": "a6e7b47d",
   "metadata": {},
   "outputs": [
    {
     "name": "stdout",
     "output_type": "stream",
     "text": [
      "\n",
      "A x B = \n",
      "\n",
      "5 4 \n",
      "11 10 "
     ]
    }
   ],
   "source": [
    "a = [[1,2],\n",
    "     [3,4]]  \n",
    "b = [[1,2],\n",
    "     [2,1]]\n",
    "row_a = len(a)\n",
    "row_b = len(b)\n",
    "col_a = len(a[0])\n",
    "col_b = len(b[0])\n",
    "if col_a==row_b:\n",
    "    c = [[0]*col_b for i in range(row_a)]\n",
    "    for i in range(row_a):\n",
    "        for j in range(col_b):\n",
    "            for k in range(row_b):\n",
    "                c[i][j] = c[i][j]+a[i][k]*b[k][j]\n",
    "    print(\"\\nA x B = \")\n",
    "    disp(c)\n",
    "else:\n",
    "    print(\"Cannot multiply\")"
   ]
  },
  {
   "cell_type": "markdown",
   "id": "73fbfe6b",
   "metadata": {},
   "source": [
    "### 3. Write a Python Program to Transpose a Matrix?"
   ]
  },
  {
   "cell_type": "code",
   "execution_count": 4,
   "id": "0c187da3",
   "metadata": {},
   "outputs": [
    {
     "name": "stdout",
     "output_type": "stream",
     "text": [
      "Matrix A = \n",
      "1 1 0 \n",
      "2 2 0 \n",
      "\n",
      "A Transpose = \n",
      "1 2 \n",
      "1 2 \n",
      "0 0 "
     ]
    }
   ],
   "source": [
    "a = [[1,1,0],\n",
    "     [2,2,0]] \n",
    "#      [3,3,0]] \n",
    "at = [[0]*len(a) for i in range(len(a[0]))]\n",
    "for i in range(len(a[0])):\n",
    "    for j in range(len(a)):\n",
    "        at[i][j]=a[j][i]\n",
    "print(\"Matrix A = \",end='')\n",
    "disp(a)\n",
    "print(\"\\n\\nA Transpose = \",end='')\n",
    "disp(at)"
   ]
  },
  {
   "cell_type": "markdown",
   "id": "77476e5c",
   "metadata": {},
   "source": [
    "### 4. Write a Python Program to Sort Words in Alphabetic Order?"
   ]
  },
  {
   "cell_type": "code",
   "execution_count": 7,
   "id": "7f082422",
   "metadata": {},
   "outputs": [
    {
     "name": "stdout",
     "output_type": "stream",
     "text": [
      "Original :\n",
      "play, sit, aadi, aditya, x-mas, foul, team, done, sing, mall, cafe, todo\n",
      "\n",
      "\n",
      "After Sorting :\n",
      "aadi, aditya, cafe, done, foul, mall, play, sing, sit, team, todo, x-mas\n"
     ]
    }
   ],
   "source": [
    "a = [\"play\",\"sit\",\"aadi\",\"aditya\",\"x-mas\",\"foul\",\"team\",\"done\",\"sing\",\"mall\",\"cafe\",\"todo\"]\n",
    "n=len(a)\n",
    "print(\"Original :\")\n",
    "for i in a:\n",
    "    if i==a[n-1]:\n",
    "        print(i)\n",
    "    else:\n",
    "        print(i,end=\", \")\n",
    "for i in range(n-1):\n",
    "    for j in range(n-i-1):\n",
    "        if a[j]>a[j+1]:\n",
    "            a[j],a[j+1]=a[j+1],a[j]\n",
    "print(\"\\n\\nAfter Sorting :\")\n",
    "for i in a:\n",
    "    if i==a[n-1]:\n",
    "        print(i)\n",
    "    else:\n",
    "        print(i,end=\", \")\n"
   ]
  },
  {
   "cell_type": "markdown",
   "id": "c742040e",
   "metadata": {},
   "source": [
    "### 5.\tWrite a Python Program to Remove Punctuation From a String?"
   ]
  },
  {
   "cell_type": "code",
   "execution_count": 8,
   "id": "8acdda06",
   "metadata": {},
   "outputs": [
    {
     "name": "stdout",
     "output_type": "stream",
     "text": [
      "Original string : \"Hello\" there ! How are you? - said Rohit.\n",
      "New string :  Hello there  How are you  said Rohit\n"
     ]
    }
   ],
   "source": [
    "string = \"\\\"Hello\\\" there ! How are you? - said Rohit.\"\n",
    "print(\"Original string :\",string)\n",
    "for i in string:\n",
    "    if i in \".?\\\"',-_!:;()[]\":\n",
    "        string=string.replace(i,\"\")\n",
    "print(\"New string : \",string)"
   ]
  }
 ],
 "metadata": {
  "kernelspec": {
   "display_name": "Python 3 (ipykernel)",
   "language": "python",
   "name": "python3"
  },
  "language_info": {
   "codemirror_mode": {
    "name": "ipython",
    "version": 3
   },
   "file_extension": ".py",
   "mimetype": "text/x-python",
   "name": "python",
   "nbconvert_exporter": "python",
   "pygments_lexer": "ipython3",
   "version": "3.9.12"
  }
 },
 "nbformat": 4,
 "nbformat_minor": 5
}
