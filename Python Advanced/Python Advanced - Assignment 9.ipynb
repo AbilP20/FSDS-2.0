{
 "cells": [
  {
   "cell_type": "markdown",
   "id": "c41558ac",
   "metadata": {},
   "source": [
    "# Python Advanced - Assignment 9"
   ]
  },
  {
   "cell_type": "markdown",
   "id": "2ab5325b",
   "metadata": {},
   "source": [
    "### Q1. In Python 3.X, what are the names and functions of string object types?"
   ]
  },
  {
   "cell_type": "markdown",
   "id": "24c29d28",
   "metadata": {},
   "source": [
    "Python offers a number of string methods to modify a string. All these methods are listed in the python docs site: https://docs.python.org/3/library/stdtypes.html#string-methods"
   ]
  },
  {
   "cell_type": "markdown",
   "id": "05b02809",
   "metadata": {},
   "source": [
    "### Q2. How do the string forms in Python 3.X vary in terms of operations?"
   ]
  },
  {
   "cell_type": "markdown",
   "id": "68720cc7",
   "metadata": {},
   "source": [
    "In python 3, by default an string obejct stores Unicode. You can prefix 'b' to get the bytes object. In earlier version, a string object was stored as bytes by default and you could get the unicode by adding prefix 'u'"
   ]
  },
  {
   "cell_type": "markdown",
   "id": "0fc9e05c",
   "metadata": {},
   "source": [
    "### Q3. In 3.X, how do you put non-ASCII Unicode characters in a string?"
   ]
  },
  {
   "cell_type": "markdown",
   "id": "a4c12c9c",
   "metadata": {},
   "source": [
    "We can use escape sequence to write such characters. For example."
   ]
  },
  {
   "cell_type": "code",
   "execution_count": 1,
   "id": "435d5573",
   "metadata": {},
   "outputs": [
    {
     "name": "stdout",
     "output_type": "stream",
     "text": [
      "Café\n",
      "😂\n"
     ]
    }
   ],
   "source": [
    "print(\"Caf\\u00E9\")\n",
    "print(\"\\U0001F602\")"
   ]
  },
  {
   "cell_type": "code",
   "execution_count": 2,
   "id": "f013f6a6",
   "metadata": {},
   "outputs": [
    {
     "name": "stdout",
     "output_type": "stream",
     "text": [
      "Café\n"
     ]
    }
   ],
   "source": [
    "# we can also directly use those characters\n",
    "print(\"Café\")"
   ]
  },
  {
   "cell_type": "markdown",
   "id": "c0b3799a",
   "metadata": {},
   "source": [
    "### Q4. In Python 3.X, what are the key differences between text-mode and binary-mode files?"
   ]
  },
  {
   "cell_type": "markdown",
   "id": "95169589",
   "metadata": {},
   "source": [
    "In text-mode, python is encoding and decoding the characters in the specified format (by default-UTF-8), i.e. whatever we type like numbers, alphabets, words will be copied exactly like that.\n",
    "In binary mode, there is no encode-decode. The file will be written in raw bytes with binary data - it will only be understandable by the machine and not any human."
   ]
  },
  {
   "cell_type": "markdown",
   "id": "816d172f",
   "metadata": {},
   "source": [
    "### Q5. How can you interpret a Unicode text file containing text encoded in a different encoding than your platform's default?"
   ]
  },
  {
   "cell_type": "markdown",
   "id": "cda51b69",
   "metadata": {},
   "source": [
    "we can use `encode()` and `decode()` for converting a file from 1 format to another."
   ]
  },
  {
   "cell_type": "markdown",
   "id": "8554bf9e",
   "metadata": {},
   "source": [
    "### Q6. What is the best way to make a Unicode text file in a particular encoding format?"
   ]
  },
  {
   "cell_type": "markdown",
   "id": "4cd5b9bd",
   "metadata": {},
   "source": [
    "The best way could be to use `open()` function to open that text file by specifying the correct encoding format argument in the open() function."
   ]
  },
  {
   "cell_type": "markdown",
   "id": "04fb1d75",
   "metadata": {},
   "source": [
    "### Q7. What qualifies ASCII text as a form of Unicode text?"
   ]
  },
  {
   "cell_type": "markdown",
   "id": "61983b2e",
   "metadata": {},
   "source": [
    "ASCII is a subset of Unicode characters. The first 128 Unicode code points (U+0000 to U+007F) correspond exactly to the ASCII character set. Unicode encodings like UTF-8 can represent both ASCII and non-ASCII characters."
   ]
  },
  {
   "cell_type": "markdown",
   "id": "3022dc4f",
   "metadata": {},
   "source": [
    "### Q8. How much of an effect does the change in string types in Python 3.X have on your code?"
   ]
  },
  {
   "cell_type": "markdown",
   "id": "4be8832b",
   "metadata": {},
   "source": [
    "Unicode strings are much more efficient and simple way to use strings in Python. It brings with it more versatilty and functionality."
   ]
  }
 ],
 "metadata": {
  "kernelspec": {
   "display_name": "Python 3 (ipykernel)",
   "language": "python",
   "name": "python3"
  },
  "language_info": {
   "codemirror_mode": {
    "name": "ipython",
    "version": 3
   },
   "file_extension": ".py",
   "mimetype": "text/x-python",
   "name": "python",
   "nbconvert_exporter": "python",
   "pygments_lexer": "ipython3",
   "version": "3.11.4"
  }
 },
 "nbformat": 4,
 "nbformat_minor": 5
}
