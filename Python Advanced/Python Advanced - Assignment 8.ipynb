{
 "cells": [
  {
   "cell_type": "markdown",
   "id": "c12ee8c3",
   "metadata": {},
   "source": [
    "# Python Advanced - Assignment 8"
   ]
  },
  {
   "cell_type": "markdown",
   "id": "daef8a3c",
   "metadata": {},
   "source": [
    "### Q1. What are the two latest user-defined exception constraints in Python 3.X?"
   ]
  },
  {
   "cell_type": "markdown",
   "id": "67869c7f",
   "metadata": {},
   "source": [
    "We can use inherit from the Exception Class and create a custom Exception and then use `raise` to raise that Custom user-defined exception. We can also use `assert` to raise an error when a condition is not met."
   ]
  },
  {
   "cell_type": "markdown",
   "id": "bfc58868",
   "metadata": {},
   "source": [
    "### Q2. How are class-based exceptions that have been raised matched to handlers?"
   ]
  },
  {
   "cell_type": "markdown",
   "id": "cbc43dc5",
   "metadata": {},
   "source": [
    "Every class-based exception need to be a child class of the parent class - Exception. Exception has to be directly or indirectly inherited by any class-based exception. Then we can use the `raise` to rasie that exception."
   ]
  },
  {
   "cell_type": "markdown",
   "id": "0194439d",
   "metadata": {},
   "source": [
    "### Q3. Describe two methods for attaching context information to exception artefacts."
   ]
  },
  {
   "cell_type": "markdown",
   "id": "48d9e0eb",
   "metadata": {},
   "source": [
    "We can capture the error info in a variable(say `e`), in the except block. Then we can use e.message or e[0] or something like that and also log it in a file for future reference."
   ]
  },
  {
   "cell_type": "markdown",
   "id": "8da3b072",
   "metadata": {},
   "source": [
    "### Q4. Describe two methods for specifying the text of an exception object's error message."
   ]
  },
  {
   "cell_type": "markdown",
   "id": "4f7c5dab",
   "metadata": {},
   "source": [
    "1) we can specify the error message using print() inside the except block\n",
    "2) we can specify the error message within the raise() statement.\n",
    "3) we can specify the error message along with the assert statement also."
   ]
  },
  {
   "cell_type": "markdown",
   "id": "78eb0605",
   "metadata": {},
   "source": [
    "### Q5. Why do you no longer use string-based exceptions?"
   ]
  },
  {
   "cell_type": "markdown",
   "id": "978b4b95",
   "metadata": {},
   "source": [
    "String-based exception is not inherited from Exception class. Python is about classes and objects and all exceptions should be inherited from the parent class Exception."
   ]
  }
 ],
 "metadata": {
  "kernelspec": {
   "display_name": "Python 3 (ipykernel)",
   "language": "python",
   "name": "python3"
  },
  "language_info": {
   "codemirror_mode": {
    "name": "ipython",
    "version": 3
   },
   "file_extension": ".py",
   "mimetype": "text/x-python",
   "name": "python",
   "nbconvert_exporter": "python",
   "pygments_lexer": "ipython3",
   "version": "3.11.3"
  }
 },
 "nbformat": 4,
 "nbformat_minor": 5
}
