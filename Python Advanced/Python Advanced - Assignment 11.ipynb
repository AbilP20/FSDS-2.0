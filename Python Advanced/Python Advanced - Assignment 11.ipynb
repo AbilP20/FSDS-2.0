{
 "cells": [
  {
   "cell_type": "markdown",
   "id": "50e93d87",
   "metadata": {},
   "source": [
    "# Python Advanced - Assignment 11"
   ]
  },
  {
   "cell_type": "markdown",
   "id": "60d6580e",
   "metadata": {},
   "source": [
    "### Q1. What is the concept of a metaclass?"
   ]
  },
  {
   "cell_type": "markdown",
   "id": "12b4325d",
   "metadata": {},
   "source": [
    "A metaclass is a class that defines the behavior and structure of other classes, which are also known as instances of the metaclass. In other words, a metaclass is a class for defining classes. It provides a way to customize how classes are created and can influence the behavior of class attributes, methods, and instances. `In short, Metaclasses are classes that inherit directly from type.`\n",
    "1. The default metaclass for all new-style classes in Python is type. (type is the built-in metaclass that defines the default behavior of classes)\n",
    "2. You can use metaclasses to modify class attributes, add methods, and impose restrictions on class definitions."
   ]
  },
  {
   "cell_type": "markdown",
   "id": "ef6ba1e5",
   "metadata": {},
   "source": [
    "### Q2. What is the best way to declare a class's metaclass?"
   ]
  },
  {
   "cell_type": "markdown",
   "id": "93addce6",
   "metadata": {},
   "source": [
    "The simplest way is to inherit from `type` directly."
   ]
  },
  {
   "cell_type": "code",
   "execution_count": 1,
   "id": "4e478109",
   "metadata": {},
   "outputs": [],
   "source": [
    "class Meta_ABC(type):\n",
    "    pass\n",
    "class ABC(metaclass=Meta_ABC):\n",
    "    pass"
   ]
  },
  {
   "cell_type": "code",
   "execution_count": 2,
   "id": "11e99de6",
   "metadata": {},
   "outputs": [
    {
     "data": {
      "text/plain": [
       "type"
      ]
     },
     "execution_count": 2,
     "metadata": {},
     "output_type": "execute_result"
    }
   ],
   "source": [
    "type(Meta_ABC)"
   ]
  },
  {
   "cell_type": "code",
   "execution_count": 3,
   "id": "4c63a86d",
   "metadata": {},
   "outputs": [
    {
     "data": {
      "text/plain": [
       "__main__.Meta_ABC"
      ]
     },
     "execution_count": 3,
     "metadata": {},
     "output_type": "execute_result"
    }
   ],
   "source": [
    "type(ABC)"
   ]
  },
  {
   "cell_type": "markdown",
   "id": "f04430c6",
   "metadata": {},
   "source": [
    "### Q3. How do class decorators overlap with metaclasses for handling classes?"
   ]
  },
  {
   "cell_type": "markdown",
   "id": "08765a0f",
   "metadata": {},
   "source": [
    "Both class decorators and metaclasses can be used to customize class creation and behavior. Class decorators modifies the class attributes and methods while using Metaclasses you can modify the entire class creation process."
   ]
  },
  {
   "cell_type": "markdown",
   "id": "83a6031c",
   "metadata": {},
   "source": [
    "### Q4. How do class decorators overlap with metaclasses for handling instances?"
   ]
  },
  {
   "cell_type": "markdown",
   "id": "d4e7f9b6",
   "metadata": {},
   "source": [
    "As stated earlier, both decorators and metaclasses modify the `class` creation and behavior. They do not directly relate to instances but since they modify the class's behaviors and attributes, their effects can also be seen on the class instances."
   ]
  }
 ],
 "metadata": {
  "kernelspec": {
   "display_name": "Python 3 (ipykernel)",
   "language": "python",
   "name": "python3"
  },
  "language_info": {
   "codemirror_mode": {
    "name": "ipython",
    "version": 3
   },
   "file_extension": ".py",
   "mimetype": "text/x-python",
   "name": "python",
   "nbconvert_exporter": "python",
   "pygments_lexer": "ipython3",
   "version": "3.11.4"
  }
 },
 "nbformat": 4,
 "nbformat_minor": 5
}
