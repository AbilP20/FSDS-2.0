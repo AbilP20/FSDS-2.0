{
 "cells": [
  {
   "cell_type": "markdown",
   "id": "6d0c9680",
   "metadata": {},
   "source": [
    "# Python Advanced - Assignment 1"
   ]
  },
  {
   "cell_type": "markdown",
   "id": "12383135",
   "metadata": {},
   "source": [
    "### Q1. What is the purpose of Python's OOP?"
   ]
  },
  {
   "cell_type": "markdown",
   "id": "02ccb6a2",
   "metadata": {},
   "source": [
    "Object Oriented Programming uses classes and objects that represent a real world entity. The traditional programming approach used functions which could not be identified as real-world objects. OOP brings with it, various advantages like modular programming, reusabilty of code, extending function usage using polymorphism and much more. Python has a very user-friendly environment which helps to implement the concept of OOP easily."
   ]
  },
  {
   "cell_type": "markdown",
   "id": "2eb9fe5f",
   "metadata": {},
   "source": [
    "### Q2. Where does an inheritance search look for an attribute?"
   ]
  },
  {
   "cell_type": "markdown",
   "id": "750ec056",
   "metadata": {},
   "source": [
    "The inheritance search looks for an attribute, first in it's class, and then moves up to search in all it's parent classes one-by-one in the order given by the user"
   ]
  },
  {
   "cell_type": "markdown",
   "id": "fdda2889",
   "metadata": {},
   "source": [
    "### Q3. How do you distinguish between a class object and an instance object?"
   ]
  },
  {
   "cell_type": "markdown",
   "id": "40c66763",
   "metadata": {},
   "source": [
    "A class is a blueprint of any real-world entity (known as object) and the object is an instance of a class. A class by itself cannot perform anything. An instance of that class, an object, is required to perform any methods. Whenever an object is created, separate memory is allocated to it."
   ]
  },
  {
   "cell_type": "markdown",
   "id": "286489e6",
   "metadata": {},
   "source": [
    "### Q4. What makes the first argument in a class’s method function special?"
   ]
  },
  {
   "cell_type": "markdown",
   "id": "ad20fa7b",
   "metadata": {},
   "source": [
    "The first argument in a class method `cls`. cls points to the class itself. It could be any class. Using cls, we can modify attributes of that class"
   ]
  },
  {
   "cell_type": "markdown",
   "id": "0cac897e",
   "metadata": {},
   "source": [
    "### Q5. What is the purpose of the `__init__` method?"
   ]
  },
  {
   "cell_type": "markdown",
   "id": "76260056",
   "metadata": {},
   "source": [
    "`__init__` is a constructor. It is used to initialize an object with attributes of that class. It is automatically called when an object of that class is created."
   ]
  },
  {
   "cell_type": "markdown",
   "id": "5caebc09",
   "metadata": {},
   "source": [
    "### Q6. What is the process for creating a class instance?"
   ]
  },
  {
   "cell_type": "markdown",
   "id": "5c5a1c5e",
   "metadata": {},
   "source": [
    "Class instance, or otherwise known as `object` is needed to use a class method or access it's attribute. A class is just a blueprint of an object which just gives info about what all can be done using that class. To use those methods, an instance of that class is created."
   ]
  },
  {
   "cell_type": "markdown",
   "id": "ac57b76d",
   "metadata": {},
   "source": [
    "### Q7. What is the process for creating a class?"
   ]
  },
  {
   "cell_type": "code",
   "execution_count": 1,
   "id": "543b3f6a",
   "metadata": {},
   "outputs": [
    {
     "name": "stdout",
     "output_type": "stream",
     "text": [
      "Hello, Harsh\n"
     ]
    }
   ],
   "source": [
    "class abc:\n",
    "    def __init__(self,name):\n",
    "        self.n = name\n",
    "    def disp(self):\n",
    "        print('Hello,',self.n)\n",
    "obj = abc('Harsh')\n",
    "obj.disp()"
   ]
  },
  {
   "cell_type": "markdown",
   "id": "be8693d8",
   "metadata": {},
   "source": [
    "### Q8. How would you define the superclasses of a class?"
   ]
  },
  {
   "cell_type": "markdown",
   "id": "6425dbce",
   "metadata": {},
   "source": [
    "Superclass or the parent class is passed as an argument to the child class. `super()` is used in child class to metion which parent is the superclass.  For eg."
   ]
  },
  {
   "cell_type": "code",
   "execution_count": 2,
   "id": "466dc4f7",
   "metadata": {},
   "outputs": [
    {
     "name": "stdout",
     "output_type": "stream",
     "text": [
      "Hello, Harsh\n",
      "\n",
      "Hello, Harsh 12\n"
     ]
    }
   ],
   "source": [
    "class abc1(abc):\n",
    "    def __init__(self,name,age):\n",
    "        super().__init__(name)\n",
    "        self.a = age\n",
    "    def disp1(self):\n",
    "        print('Hello,',self.n,self.a)\n",
    "obj2 = abc1('Harsh',12)\n",
    "obj2.disp()\n",
    "print()\n",
    "obj2.disp1()"
   ]
  },
  {
   "cell_type": "markdown",
   "id": "9b97754b",
   "metadata": {},
   "source": [
    "In the above example, `abc` class is the parent class of `abc1` and `super()` is used to initialize the attributes of child class with the superclass. We can also use parent class methods as shown in the example."
   ]
  }
 ],
 "metadata": {
  "kernelspec": {
   "display_name": "Python 3 (ipykernel)",
   "language": "python",
   "name": "python3"
  },
  "language_info": {
   "codemirror_mode": {
    "name": "ipython",
    "version": 3
   },
   "file_extension": ".py",
   "mimetype": "text/x-python",
   "name": "python",
   "nbconvert_exporter": "python",
   "pygments_lexer": "ipython3",
   "version": "3.11.3"
  }
 },
 "nbformat": 4,
 "nbformat_minor": 5
}
