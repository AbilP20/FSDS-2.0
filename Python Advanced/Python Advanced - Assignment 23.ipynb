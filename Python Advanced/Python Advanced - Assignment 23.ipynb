{
 "cells": [
  {
   "cell_type": "markdown",
   "id": "48405376",
   "metadata": {},
   "source": [
    "# Python Advanced - Assignment 23"
   ]
  },
  {
   "cell_type": "markdown",
   "id": "126a67d7",
   "metadata": {},
   "source": [
    "### Q1. If you have any, what are your choices for increasing the comparison between different figures on the same graph?"
   ]
  },
  {
   "cell_type": "markdown",
   "id": "f36b6ae6",
   "metadata": {},
   "source": [
    "We can use subplots to view multiple plot for comparison in a single graph. We can also use pairplot which plots pair-wise comparison of all variables in a dataset in a single graph."
   ]
  },
  {
   "cell_type": "markdown",
   "id": "fb838bf9",
   "metadata": {},
   "source": [
    "### Q2. Can you explain the benefit of compound interest over a higher rate of interest that does not compound after reading this chapter?"
   ]
  },
  {
   "cell_type": "markdown",
   "id": "0b68d241",
   "metadata": {},
   "source": [
    "### Q3. What is a histogram, exactly? Name a numpy method for creating such a graph."
   ]
  },
  {
   "cell_type": "markdown",
   "id": "70e57de7",
   "metadata": {},
   "source": [
    "Histogram is used to plot frequencies of values within a specified interval (also called `bins`). It helps us in understanding the type of distribution that particular dataset follows. Numpy has function `histogram` that can be used to plot such graph"
   ]
  },
  {
   "cell_type": "code",
   "execution_count": 1,
   "id": "dc065d27",
   "metadata": {},
   "outputs": [
    {
     "data": {
      "image/png": "[encoded data removed]",
      "text/plain": [
       "<Figure size 640x480 with 1 Axes>"
      ]
     },
     "metadata": {},
     "output_type": "display_data"
    }
   ],
   "source": [
    "import numpy as np\n",
    "import matplotlib.pyplot as plt\n",
    "\n",
    "data = np.random.randn(10000)\n",
    "hist, bins = np.histogram(data, bins=50)\n",
    "plt.hist(data, bins=50)\n",
    "plt.show()"
   ]
  },
  {
   "cell_type": "markdown",
   "id": "62b677a8",
   "metadata": {},
   "source": [
    "### Q4. If necessary, how do you change the aspect ratios between the X and Y axes?"
   ]
  },
  {
   "cell_type": "markdown",
   "id": "38066d57",
   "metadata": {},
   "source": [
    "We use the `figure()` function of matplotlib.pyplot to change the aspect ratio -> `pyplot.figure(figsize = (5,3))`"
   ]
  },
  {
   "cell_type": "markdown",
   "id": "826bd8b9",
   "metadata": {},
   "source": [
    "### Q5. Compare and contrast the three types of array multiplication between two numpy arrays: dot product, outer product, and regular multiplication of two numpy arrays."
   ]
  },
  {
   "cell_type": "markdown",
   "id": "67c27bb6",
   "metadata": {},
   "source": [
    "1) dot product - let a and b, be 2 numpy arrays. When we perform dot product of (a,b), there will be pairwise multiplication of same index elements and then sum all those products. Eg. a[0]*b[0] + a[1]*b[1] + a[2]*b[2] and so on\n",
    "2) outer product - The output will be a matrix such that each row in the matrix will be scalar product of each element, multiplied by the other array. Eg. 1st row = a[0]*b, 2nd row = a[1]*b, 3rd row = a[2]*b and so on\n",
    "3) regular multiplication - The output will be an array in which each element i, is the product of a[i]*b[i]"
   ]
  },
  {
   "cell_type": "code",
   "execution_count": 2,
   "id": "1e5feaf9",
   "metadata": {},
   "outputs": [
    {
     "name": "stdout",
     "output_type": "stream",
     "text": [
      "[1 2 3]\n",
      "[1 2 3]\n"
     ]
    }
   ],
   "source": [
    "a = np.arange(1,4)\n",
    "b = np.arange(1,4)\n",
    "print(a)\n",
    "print(b)"
   ]
  },
  {
   "cell_type": "code",
   "execution_count": 3,
   "id": "b22169ea",
   "metadata": {},
   "outputs": [
    {
     "name": "stdout",
     "output_type": "stream",
     "text": [
      "14\n",
      "14\n"
     ]
    }
   ],
   "source": [
    "# DOT PRODUCT\n",
    "print(np.dot(a,b))\n",
    "print(a@b)"
   ]
  },
  {
   "cell_type": "code",
   "execution_count": 4,
   "id": "76d02eca",
   "metadata": {
    "scrolled": true
   },
   "outputs": [
    {
     "data": {
      "text/plain": [
       "array([[1, 2, 3],\n",
       "       [2, 4, 6],\n",
       "       [3, 6, 9]])"
      ]
     },
     "execution_count": 4,
     "metadata": {},
     "output_type": "execute_result"
    }
   ],
   "source": [
    "# OUTER PRODUCT\n",
    "np.outer(a,b)"
   ]
  },
  {
   "cell_type": "code",
   "execution_count": 5,
   "id": "36ea48d2",
   "metadata": {},
   "outputs": [
    {
     "data": {
      "text/plain": [
       "array([1, 4, 9])"
      ]
     },
     "execution_count": 5,
     "metadata": {},
     "output_type": "execute_result"
    }
   ],
   "source": [
    "# REGULAR MULTIPLICATION\n",
    "a*b"
   ]
  },
  {
   "cell_type": "markdown",
   "id": "bf4af6c7",
   "metadata": {},
   "source": [
    "### Q6. Before you buy a home, which numpy function will you use to measure your monthly mortgage payment?"
   ]
  },
  {
   "cell_type": "markdown",
   "id": "33f2b66b",
   "metadata": {},
   "source": [
    "`numpy_financial` library has a function `pmt()`, that calculates the monthly payment for mortgage based on the principal amount, interest rate, and the number of monthly payments."
   ]
  },
  {
   "cell_type": "code",
   "execution_count": 6,
   "id": "373d71c9",
   "metadata": {},
   "outputs": [
    {
     "name": "stdout",
     "output_type": "stream",
     "text": [
      "Monthly Mortgage = $ -988.8586746190302\n"
     ]
    }
   ],
   "source": [
    "import numpy_financial as npf\n",
    "\n",
    "p = 100000\n",
    "annual_int = 0.035\n",
    "loan_term = 10\n",
    "\n",
    "monthly_int = annual_int / 12\n",
    "n_payments = loan_term * 12\n",
    "mortgage = npf.pmt(monthly_int, n_payments, p)\n",
    "\n",
    "print(\"Monthly Mortgage = $\",mortgage)"
   ]
  },
  {
   "cell_type": "markdown",
   "id": "61170624",
   "metadata": {},
   "source": [
    "### Q7. Can string data be stored in numpy arrays? If so, list at least one restriction that applies to this data."
   ]
  },
  {
   "cell_type": "markdown",
   "id": "cbb12fc9",
   "metadata": {},
   "source": [
    "Any type of homogenous data type can be stored in numpy arrays. So, strings can also be stored. Only thing that has to be kept in mind is that all distinct elements of that string array must have length equal to or less than the largest length in that array since numpy array elements should be of same or less size. If a larger length string is enterd it will be truncated to the maximum length limit of that string array."
   ]
  },
  {
   "cell_type": "code",
   "execution_count": 7,
   "id": "5359c476",
   "metadata": {},
   "outputs": [
    {
     "data": {
      "text/plain": [
       "array(['Hello', 'there', 'my', 'world'], dtype='<U5')"
      ]
     },
     "execution_count": 7,
     "metadata": {},
     "output_type": "execute_result"
    }
   ],
   "source": [
    "a = np.array(['Hello','there','my','world'])\n",
    "a"
   ]
  },
  {
   "cell_type": "code",
   "execution_count": 8,
   "id": "13e3f167",
   "metadata": {},
   "outputs": [],
   "source": [
    "# in the above code, dtype = '<U5' means the string elements are of Unicode format with less than or equal to 5 characters\n",
    "# if we add a word with length>5 -> error\n",
    "# if we add a word with length<=5 -> no error"
   ]
  },
  {
   "cell_type": "code",
   "execution_count": 9,
   "id": "36c2be19",
   "metadata": {},
   "outputs": [
    {
     "data": {
      "text/plain": [
       "array(['Hello', 'there', 'my', 'unive'], dtype='<U5')"
      ]
     },
     "execution_count": 9,
     "metadata": {},
     "output_type": "execute_result"
    }
   ],
   "source": [
    "a[3] = 'universe' # this will be truncated to 5 characters, i.e., unive\n",
    "a"
   ]
  }
 ],
 "metadata": {
  "kernelspec": {
   "display_name": "Python 3 (ipykernel)",
   "language": "python",
   "name": "python3"
  },
  "language_info": {
   "codemirror_mode": {
    "name": "ipython",
    "version": 3
   },
   "file_extension": ".py",
   "mimetype": "text/x-python",
   "name": "python",
   "nbconvert_exporter": "python",
   "pygments_lexer": "ipython3",
   "version": "3.11.4"
  }
 },
 "nbformat": 4,
 "nbformat_minor": 5
}
