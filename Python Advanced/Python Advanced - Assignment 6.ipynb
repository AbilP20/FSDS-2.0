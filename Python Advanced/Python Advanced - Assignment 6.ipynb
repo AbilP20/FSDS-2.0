{
 "cells": [
  {
   "cell_type": "markdown",
   "id": "bbe7e0a3",
   "metadata": {},
   "source": [
    "# Python Advanced - Assignment 6"
   ]
  },
  {
   "cell_type": "markdown",
   "id": "52cc1bff",
   "metadata": {},
   "source": [
    "### Q1. Describe three applications for exception processing."
   ]
  },
  {
   "cell_type": "markdown",
   "id": "580d6a1a",
   "metadata": {},
   "source": [
    "1) continue the normal execution of program without interruption\n",
    "2) know which line of code halted the program\n",
    "3) get to know which type of exception occured (different exceptions can be proccessed differently)"
   ]
  },
  {
   "cell_type": "markdown",
   "id": "9433aa2a",
   "metadata": {},
   "source": [
    "### Q2. What happens if you don't do something extra to treat an exception?"
   ]
  },
  {
   "cell_type": "markdown",
   "id": "1601d6be",
   "metadata": {},
   "source": [
    "If an exception is not treated, it will halt the running program. There will be an abnormal termination which is not a sign of a good program."
   ]
  },
  {
   "cell_type": "markdown",
   "id": "88734cfc",
   "metadata": {},
   "source": [
    "### 3. What are your options for recovering from an exception in your script?"
   ]
  },
  {
   "cell_type": "markdown",
   "id": "44a9f194",
   "metadata": {},
   "source": [
    "The best way to handle and recover from exception is to use the `try-catch` theory. In python, we use the `try-except-else` to catch and handle the exceptions"
   ]
  },
  {
   "cell_type": "markdown",
   "id": "f446667a",
   "metadata": {},
   "source": [
    "### Q4. Describe two methods for triggering exceptions in your script."
   ]
  },
  {
   "cell_type": "markdown",
   "id": "02e8d116",
   "metadata": {},
   "source": [
    "1) `raise` - can be used to raise an Exception wherever you want.\n",
    "2) `assert` - it will throw `AssertionError` if the condition the user gives is False"
   ]
  },
  {
   "cell_type": "markdown",
   "id": "00cf6688",
   "metadata": {},
   "source": [
    "### Q5. Identify two methods for specifying actions to be executed at termination time, regardless of whether or not an exception exists."
   ]
  },
  {
   "cell_type": "markdown",
   "id": "5347dc1a",
   "metadata": {},
   "source": [
    "1) `finally` - anythin written inside the finally block will get executed whether or not error is raised or not\n",
    "2) `else`  - else block is executed when code is error free"
   ]
  }
 ],
 "metadata": {
  "kernelspec": {
   "display_name": "Python 3 (ipykernel)",
   "language": "python",
   "name": "python3"
  },
  "language_info": {
   "codemirror_mode": {
    "name": "ipython",
    "version": 3
   },
   "file_extension": ".py",
   "mimetype": "text/x-python",
   "name": "python",
   "nbconvert_exporter": "python",
   "pygments_lexer": "ipython3",
   "version": "3.11.3"
  }
 },
 "nbformat": 4,
 "nbformat_minor": 5
}
