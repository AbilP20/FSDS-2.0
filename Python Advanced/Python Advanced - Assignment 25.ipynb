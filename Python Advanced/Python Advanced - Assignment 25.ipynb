{
 "cells": [
  {
   "cell_type": "markdown",
   "id": "fc65e282",
   "metadata": {},
   "source": [
    "# Python Advanced - Assignment 25"
   ]
  },
  {
   "cell_type": "markdown",
   "id": "598fc22f",
   "metadata": {},
   "source": [
    "### Q1. What is the distinction between a numpy array and a pandas data frame? Is there a way to convert between the two if there is?"
   ]
  },
  {
   "cell_type": "markdown",
   "id": "4171a099",
   "metadata": {},
   "source": [
    "Numpy array is a homogenous datatype object i.e they store single type of object like integer objects or string objects etc.. They are used for efficient and fast mathematical calculations on arrays or multi-dimensional matrices. Pandas dataframe, on the other hand may and may not be homogenous. It is rows-columns combination with multiple datatype objects. Pandas dataframe is generally used for analyzing data. We can convert numpy arrays to dataframes and vice versa. "
   ]
  },
  {
   "cell_type": "code",
   "execution_count": 1,
   "id": "9740fd09",
   "metadata": {},
   "outputs": [
    {
     "name": "stdout",
     "output_type": "stream",
     "text": [
      "type(a) = <class 'numpy.ndarray'>\n",
      "type(b) = <class 'pandas.core.frame.DataFrame'>\n",
      "type(c) = <class 'numpy.ndarray'>\n"
     ]
    }
   ],
   "source": [
    "import numpy as np\n",
    "import pandas as pd\n",
    "\n",
    "a = np.array(range(5))\n",
    "print(f'type(a) = {type(a)}')\n",
    "b = pd.DataFrame(a)\n",
    "print(f'type(b) = {type(b)}')\n",
    "c = b.values\n",
    "print(f'type(c) = {type(c)}')\n"
   ]
  },
  {
   "cell_type": "markdown",
   "id": "505195da",
   "metadata": {},
   "source": [
    "### Q2. What can go wrong when an user enters in a stock-ticker symbol, and how do you handle it?"
   ]
  },
  {
   "cell_type": "markdown",
   "id": "e9fcb78e",
   "metadata": {},
   "source": [
    "If you give a non-existing stock ticker, the program will give error and terminate there itself. We can use error handling to validate the given stock-ticker - if it is valid, then fetch details else output an error message."
   ]
  },
  {
   "cell_type": "markdown",
   "id": "654157f2",
   "metadata": {},
   "source": [
    "### Q3. Identify some of the plotting techniques that are used to produce a stock-market chart."
   ]
  },
  {
   "cell_type": "markdown",
   "id": "926e9516",
   "metadata": {},
   "source": [
    "1) Candlestick Charts: Most used charts are Candlestick charts : give vast info about the stocks like open, close, high, and low prices for a given time interval.\n",
    "2) line charts : the most basic chart - can be used to visualize the trend over a period of time.\n",
    "3) bar charts : similar to candlestick chart but in vertical manner\n",
    "4) OHLC chart - Open-High-Low-Close Chart - shows these 4 values of stocksin a time interval"
   ]
  },
  {
   "cell_type": "markdown",
   "id": "88d2806d",
   "metadata": {},
   "source": [
    "### Q4. Why is it essential to print a legend on a stock market chart?"
   ]
  },
  {
   "cell_type": "markdown",
   "id": "6930377e",
   "metadata": {},
   "source": [
    "Legends tell us which line or which bar denotes which stock when we plot a multi-stocks chart. In this way, legends help us in comparing the trend or the stock prices of different stocks easily."
   ]
  },
  {
   "cell_type": "markdown",
   "id": "7dce002d",
   "metadata": {},
   "source": [
    "### Q5. What is the best way to limit the length of a pandas data frame to less than a year?"
   ]
  },
  {
   "cell_type": "markdown",
   "id": "4e20ae61",
   "metadata": {},
   "source": [
    "Considering `df` to be the dataframe and it has a datetime column, `dt`, we can get the date from when we want the data using the formula - `datetime.now() - timedelta(days=365)`.   \n",
    "\n",
    "Then put simple conditional query - `df[df[date] >= datetime.now() - timedelta(days=365)`"
   ]
  },
  {
   "cell_type": "markdown",
   "id": "c910f1eb",
   "metadata": {},
   "source": [
    "### Q6. What is the definition of a 180-day moving average?"
   ]
  },
  {
   "cell_type": "markdown",
   "id": "024b6581",
   "metadata": {},
   "source": [
    "180-day moving average is the average of the closing prices of a stock for the last 180 days. The name moving average means with each new financial day, a new closing price is generated and added to the 180-day list while the oldest data point is dropped from that list and a new 180-day moving average is calculated. "
   ]
  },
  {
   "cell_type": "markdown",
   "id": "ed3d68d9",
   "metadata": {},
   "source": [
    "### Q7. Did the chapter's final example use \"indirect\" importing? If so, how exactly do you do it?\n",
    "NA (no reference is there for this question)"
   ]
  }
 ],
 "metadata": {
  "kernelspec": {
   "display_name": "Python 3 (ipykernel)",
   "language": "python",
   "name": "python3"
  },
  "language_info": {
   "codemirror_mode": {
    "name": "ipython",
    "version": 3
   },
   "file_extension": ".py",
   "mimetype": "text/x-python",
   "name": "python",
   "nbconvert_exporter": "python",
   "pygments_lexer": "ipython3",
   "version": "3.11.4"
  }
 },
 "nbformat": 4,
 "nbformat_minor": 5
}
