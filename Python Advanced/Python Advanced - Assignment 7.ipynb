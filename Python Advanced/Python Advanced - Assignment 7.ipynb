{
 "cells": [
  {
   "cell_type": "markdown",
   "id": "ef777e17",
   "metadata": {},
   "source": [
    "# Python Advanced - Assignment 7"
   ]
  },
  {
   "cell_type": "markdown",
   "id": "43d4d974",
   "metadata": {},
   "source": [
    "### Q1. What is the purpose of the try statement?"
   ]
  },
  {
   "cell_type": "markdown",
   "id": "3345ec47",
   "metadata": {},
   "source": [
    "`try` statement is used when we think a piece of code can raise an error and stop the running od the program. `try` is used for exception handling; In python we use the `try-except-else-finally` for exception handling."
   ]
  },
  {
   "cell_type": "markdown",
   "id": "abc559bb",
   "metadata": {},
   "source": [
    "### Q2. What are the two most popular try statement variations?"
   ]
  },
  {
   "cell_type": "markdown",
   "id": "b137e8f5",
   "metadata": {},
   "source": [
    "1) `try-catch`\n",
    "2) `try-catch-else`"
   ]
  },
  {
   "cell_type": "markdown",
   "id": "1782b7dd",
   "metadata": {},
   "source": [
    "### Q3. What is the purpose of the raise statement?"
   ]
  },
  {
   "cell_type": "markdown",
   "id": "9b5bb0fe",
   "metadata": {},
   "source": [
    "`raise` is a python keyword used to raise any Exception - predefined exception from the Exception class or user-defined Custom Exceptions.| You can define what kind of error to raise, and the text to print to the user."
   ]
  },
  {
   "cell_type": "markdown",
   "id": "92828256",
   "metadata": {},
   "source": [
    "### Q4. What does the assert statement do, and what other statement is it like?"
   ]
  },
  {
   "cell_type": "markdown",
   "id": "3140130a",
   "metadata": {},
   "source": [
    "`assert` can be said as a debugging tool to provide smooth flow to the program. Assert checks if a condition is met or not. If condition is False, then the program raises an AssertionError and halts the program."
   ]
  },
  {
   "cell_type": "code",
   "execution_count": 1,
   "id": "d587c241",
   "metadata": {},
   "outputs": [
    {
     "ename": "AssertionError",
     "evalue": "",
     "output_type": "error",
     "traceback": [
      "\u001b[1;31m---------------------------------------------------------------------------\u001b[0m",
      "\u001b[1;31mAssertionError\u001b[0m                            Traceback (most recent call last)",
      "Cell \u001b[1;32mIn[1], line 3\u001b[0m\n\u001b[0;32m      1\u001b[0m a \u001b[38;5;241m=\u001b[39m \u001b[38;5;241m10\u001b[39m\n\u001b[0;32m      2\u001b[0m b \u001b[38;5;241m=\u001b[39m \u001b[38;5;241m0\u001b[39m\n\u001b[1;32m----> 3\u001b[0m \u001b[38;5;28;01massert\u001b[39;00m(b\u001b[38;5;241m!=\u001b[39m\u001b[38;5;241m0\u001b[39m)\n",
      "\u001b[1;31mAssertionError\u001b[0m: "
     ]
    }
   ],
   "source": [
    "a = 10\n",
    "b = 0\n",
    "assert(b!=0)"
   ]
  },
  {
   "cell_type": "markdown",
   "id": "fd2ef838",
   "metadata": {},
   "source": [
    "### Q5. What is the purpose of the with/as argument, and what other statement is it like?"
   ]
  },
  {
   "cell_type": "markdown",
   "id": "56e1887f",
   "metadata": {},
   "source": [
    "`with/as` is like a shorthand for opening a file in python. The only difference would be we do not have to close the file when we open a file using with/as statement. With the normal method, we have to manually close the file after using the file."
   ]
  },
  {
   "cell_type": "code",
   "execution_count": 2,
   "id": "ecd3467c",
   "metadata": {},
   "outputs": [],
   "source": [
    "# NORMAL METHOD\n",
    "# f is a pointer to the 'file.txt'. Once we have processed the file we have to close the file using the pointer f.\n",
    "f = open('file.txt','w') \n",
    "pass\n",
    "f.close()"
   ]
  },
  {
   "cell_type": "code",
   "execution_count": 3,
   "id": "f0a2c942",
   "metadata": {},
   "outputs": [],
   "source": [
    "# WITH/AS METHOD\n",
    "# f is a pointer to the 'file.txt'. Once we have processed the file and come out of the with block, the file will be closed automatically\n",
    "with open('file.txt','w') as f:\n",
    "    pass"
   ]
  }
 ],
 "metadata": {
  "kernelspec": {
   "display_name": "Python 3 (ipykernel)",
   "language": "python",
   "name": "python3"
  },
  "language_info": {
   "codemirror_mode": {
    "name": "ipython",
    "version": 3
   },
   "file_extension": ".py",
   "mimetype": "text/x-python",
   "name": "python",
   "nbconvert_exporter": "python",
   "pygments_lexer": "ipython3",
   "version": "3.11.3"
  }
 },
 "nbformat": 4,
 "nbformat_minor": 5
}
