{
 "cells": [
  {
   "cell_type": "markdown",
   "id": "d2e37e2e",
   "metadata": {},
   "source": [
    "# Python Advanced - Assignment 21"
   ]
  },
  {
   "cell_type": "markdown",
   "id": "6e96fd0f",
   "metadata": {},
   "source": [
    "### Q1. What is a probability distribution, exactly? If the values are meant to be random, how can you predict them at all?"
   ]
  },
  {
   "cell_type": "markdown",
   "id": "318465e1",
   "metadata": {},
   "source": [
    "A probabilty distribution tells how a random variable is distributed. It tells us the likelihood, the randomness or uncertainity of that variable. Probabilty distribution tells us about probabilty - by knowing these probabilites and the actual outcomes of previous experiments, we can predict the future outcomes, not 100% accurately all the time, but withe a good accuracy of 85-90%+ "
   ]
  },
  {
   "cell_type": "markdown",
   "id": "f56622a5",
   "metadata": {},
   "source": [
    "### Q2. Is there a distinction between true random numbers and pseudo-random numbers, if there is one? Why are the latter considered “good enough”?"
   ]
  },
  {
   "cell_type": "markdown",
   "id": "55fb3938",
   "metadata": {},
   "source": [
    "True random numbers are purely random in nature that chamge with the change in natural processes. They are truely random and cannot be regenerated. Pseudo random numbers are the random numbers generated using some algorithms that try to mimic the true random numbers. Pseudo random numbers are considered good because they can be used to generate random data that can further be used in statistical testing and they also mimic the true random values. In this way humans can understand and learn about data variations and changes."
   ]
  },
  {
   "cell_type": "markdown",
   "id": "c6fa6a87",
   "metadata": {},
   "source": [
    "### Q3. What are the two main factors that influence the behaviour of a \"normal\" probability distribution?"
   ]
  },
  {
   "cell_type": "markdown",
   "id": "f439990b",
   "metadata": {},
   "source": [
    "The 2 main factors affecting behaviour of normal distribution are:\n",
    "1) mean - the central value of the data\n",
    "2) standard deviation - the spread or dispersion of data"
   ]
  },
  {
   "cell_type": "markdown",
   "id": "35c10a7e",
   "metadata": {},
   "source": [
    "### Q4. Provide a real-life example of a normal distribution."
   ]
  },
  {
   "cell_type": "markdown",
   "id": "3cc51f53",
   "metadata": {},
   "source": [
    "The data about `Heights of Adult Population` follows a normal distribution"
   ]
  },
  {
   "cell_type": "markdown",
   "id": "e74257ac",
   "metadata": {},
   "source": [
    "### Q5. In the short term, how can you expect a probability distribution to behave? What do you think will happen as the number of trials grows?"
   ]
  },
  {
   "cell_type": "markdown",
   "id": "15313203",
   "metadata": {},
   "source": [
    "In short term, probabilty distribution will not necessarily be normally distributed. It can be right-skewed or left-skewed in the beginning. With the increase in the number of trials, the distribution becomes more normal. This is the case for normally distributed data. For non-normal data, the means of the samples will follow the above trend."
   ]
  },
  {
   "cell_type": "markdown",
   "id": "20d15603",
   "metadata": {},
   "source": [
    "### Q6. What kind of object can be shuffled by using random.shuffle?"
   ]
  },
  {
   "cell_type": "markdown",
   "id": "37fb19e6",
   "metadata": {},
   "source": [
    "`list` type objects, `array` type objects can be shuffled using random.shuffle. (mutable data structures can be shuffled)"
   ]
  },
  {
   "cell_type": "markdown",
   "id": "67f42de4",
   "metadata": {},
   "source": [
    "### Q7. Describe the math package's general categories of functions."
   ]
  },
  {
   "cell_type": "markdown",
   "id": "fb93f173",
   "metadata": {},
   "source": [
    "1) Trigonometric functions - tan(), sin(), cos(), cosh(), sinh()\n",
    "2) Rounding off - ceil(), floor(), abs()\n",
    "3) Logarithmic/Exponential functions - log(), log10(), exp()\n",
    "4) Basic functions - add(), subtract(), divide(), etc.\n",
    "5) Other functions - sqrt(), pow(), etc."
   ]
  },
  {
   "cell_type": "markdown",
   "id": "125912cc",
   "metadata": {},
   "source": [
    "### Q8. What is the relationship between exponentiation and logarithms?"
   ]
  },
  {
   "cell_type": "markdown",
   "id": "58c7063d",
   "metadata": {},
   "source": [
    "Logarithm is the inverse operation of exponentiation and vice-verse."
   ]
  },
  {
   "cell_type": "markdown",
   "id": "00f08311",
   "metadata": {},
   "source": [
    "### Q9. What are the three logarithmic functions that Python supports?"
   ]
  },
  {
   "cell_type": "markdown",
   "id": "51b5c598",
   "metadata": {},
   "source": [
    "1) Natural Log - math.log()\n",
    "2) Base-10 Log - math.log10()\n",
    "3) Natural Log plus One - math.log1p() "
   ]
  }
 ],
 "metadata": {
  "kernelspec": {
   "display_name": "Python 3 (ipykernel)",
   "language": "python",
   "name": "python3"
  },
  "language_info": {
   "codemirror_mode": {
    "name": "ipython",
    "version": 3
   },
   "file_extension": ".py",
   "mimetype": "text/x-python",
   "name": "python",
   "nbconvert_exporter": "python",
   "pygments_lexer": "ipython3",
   "version": "3.11.4"
  }
 },
 "nbformat": 4,
 "nbformat_minor": 5
}
