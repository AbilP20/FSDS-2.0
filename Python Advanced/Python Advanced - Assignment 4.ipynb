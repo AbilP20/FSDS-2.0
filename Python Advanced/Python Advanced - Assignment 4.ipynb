{
 "cells": [
  {
   "cell_type": "markdown",
   "id": "7e6036b0",
   "metadata": {},
   "source": [
    "# Python Advanced - Assignment 4"
   ]
  },
  {
   "cell_type": "markdown",
   "id": "9e59f2c1",
   "metadata": {},
   "source": [
    "### Q1. Which two operator overloading methods can you use in your classes to support iteration?"
   ]
  },
  {
   "cell_type": "markdown",
   "id": "b7875899",
   "metadata": {},
   "source": [
    "`__next__` and `__iter__` are the 2 operator overloading methods(magic methods) that support iteration."
   ]
  },
  {
   "cell_type": "markdown",
   "id": "6ffa45b2",
   "metadata": {},
   "source": [
    "### Q2. In what contexts do the two operator overloading methods manage printing?"
   ]
  },
  {
   "cell_type": "markdown",
   "id": "c56aca6c",
   "metadata": {},
   "source": [
    "### Q3. In a class, how do you intercept slice operations?"
   ]
  },
  {
   "cell_type": "markdown",
   "id": "b8f7a6ce",
   "metadata": {},
   "source": [
    "The `__getitem__` can be used in a class to intercept slice operations. `slice` is a constructor in Python that creates slice object to represent set of indices that the range(start, stop, step) specifies. \n",
    "Syntax:`__getitem__(slice(start, stop, step))`"
   ]
  },
  {
   "cell_type": "markdown",
   "id": "230503b2",
   "metadata": {},
   "source": [
    "### Q4. In a class, how do you capture in-place addition?"
   ]
  },
  {
   "cell_type": "markdown",
   "id": "c441454d",
   "metadata": {},
   "source": [
    "`__iadd__` is used for in-place addition in a class"
   ]
  },
  {
   "cell_type": "markdown",
   "id": "c7c4b72a",
   "metadata": {},
   "source": [
    "### Q5. When is it appropriate to use operator overloading?"
   ]
  },
  {
   "cell_type": "markdown",
   "id": "4fb70ee6",
   "metadata": {},
   "source": [
    "We use operator overloading when we want an operator to function differently in different situation. For eg. the `+` operator functions as summing up when 2 numbers are the operand whereas it functions as concatenation when 2 strings are passed."
   ]
  }
 ],
 "metadata": {
  "kernelspec": {
   "display_name": "Python 3 (ipykernel)",
   "language": "python",
   "name": "python3"
  },
  "language_info": {
   "codemirror_mode": {
    "name": "ipython",
    "version": 3
   },
   "file_extension": ".py",
   "mimetype": "text/x-python",
   "name": "python",
   "nbconvert_exporter": "python",
   "pygments_lexer": "ipython3",
   "version": "3.11.3"
  }
 },
 "nbformat": 4,
 "nbformat_minor": 5
}
