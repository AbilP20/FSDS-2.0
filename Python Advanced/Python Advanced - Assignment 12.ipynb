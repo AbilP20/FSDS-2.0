{
 "cells": [
  {
   "cell_type": "markdown",
   "id": "6016ddc8",
   "metadata": {},
   "source": [
    "# Python Advanced - Assignment 12"
   ]
  },
  {
   "cell_type": "markdown",
   "id": "3ba51b35",
   "metadata": {},
   "source": [
    "### Q1. Does assigning a value to a string's indexed character violate Python's string immutability?"
   ]
  },
  {
   "cell_type": "markdown",
   "id": "41b48ad4",
   "metadata": {},
   "source": [
    "Yes, as strings are immutable in python, we cannot change or modify it once it has been defined. Although there are string methods inbuilt in python that are used to do some simple modifications like replace but they also do not change the original string - these methods just return a new string with modifications."
   ]
  },
  {
   "cell_type": "code",
   "execution_count": 1,
   "id": "56b4f67f",
   "metadata": {},
   "outputs": [],
   "source": [
    "a='hello'"
   ]
  },
  {
   "cell_type": "code",
   "execution_count": 2,
   "id": "effc0590",
   "metadata": {},
   "outputs": [
    {
     "ename": "TypeError",
     "evalue": "'str' object does not support item assignment",
     "output_type": "error",
     "traceback": [
      "\u001b[1;31m---------------------------------------------------------------------------\u001b[0m",
      "\u001b[1;31mTypeError\u001b[0m                                 Traceback (most recent call last)",
      "Cell \u001b[1;32mIn[2], line 1\u001b[0m\n\u001b[1;32m----> 1\u001b[0m a[\u001b[38;5;241m0\u001b[39m]\u001b[38;5;241m=\u001b[39m\u001b[38;5;124m'\u001b[39m\u001b[38;5;124mH\u001b[39m\u001b[38;5;124m'\u001b[39m\n",
      "\u001b[1;31mTypeError\u001b[0m: 'str' object does not support item assignment"
     ]
    }
   ],
   "source": [
    "a[0]='H'"
   ]
  },
  {
   "cell_type": "code",
   "execution_count": 3,
   "id": "bf1aabe7",
   "metadata": {},
   "outputs": [
    {
     "data": {
      "text/plain": [
       "'Hello'"
      ]
     },
     "execution_count": 3,
     "metadata": {},
     "output_type": "execute_result"
    }
   ],
   "source": [
    "a.replace('h','H')"
   ]
  },
  {
   "cell_type": "markdown",
   "id": "b70e02b3",
   "metadata": {},
   "source": [
    "### Q2. Does using the += operator to concatenate strings violate Python's string immutability? Why or why not?"
   ]
  },
  {
   "cell_type": "markdown",
   "id": "ccc1ccb7",
   "metadata": {},
   "source": [
    "No, concatenation is not a string modification. So it does not violate python's string immutabilty. We are just adding a new string to the original string and then saving it in that orginal variable. See the example below:"
   ]
  },
  {
   "cell_type": "code",
   "execution_count": 4,
   "id": "fd24ed9d",
   "metadata": {},
   "outputs": [
    {
     "name": "stdout",
     "output_type": "stream",
     "text": [
      "hi \n"
     ]
    }
   ],
   "source": [
    "a = 'hi '\n",
    "print(a)"
   ]
  },
  {
   "cell_type": "code",
   "execution_count": 5,
   "id": "fe059b88",
   "metadata": {},
   "outputs": [
    {
     "name": "stdout",
     "output_type": "stream",
     "text": [
      "hi there\n"
     ]
    }
   ],
   "source": [
    "a += 'there'  # it is same as a = a + 'there'\n",
    "print(a)"
   ]
  },
  {
   "cell_type": "markdown",
   "id": "466f4fe1",
   "metadata": {},
   "source": [
    "### Q3. In Python, how many different ways are there to index a character?"
   ]
  },
  {
   "cell_type": "markdown",
   "id": "62c78d97",
   "metadata": {},
   "source": [
    "We can index characters using integers 0,1,2,... or -1,-2,-3,.... We use positive indices when we start from the starting of the string whereas we use negative indices when we start from the last of the string."
   ]
  },
  {
   "cell_type": "code",
   "execution_count": 6,
   "id": "4ca2ecfe",
   "metadata": {},
   "outputs": [
    {
     "name": "stdout",
     "output_type": "stream",
     "text": [
      "H\n",
      "e\n"
     ]
    }
   ],
   "source": [
    "a = 'Hello there'\n",
    "print(a[0])\n",
    "print(a[-1])"
   ]
  },
  {
   "cell_type": "markdown",
   "id": "1e71c54a",
   "metadata": {},
   "source": [
    "### Q4.What is the relationship between indexing and slicing?"
   ]
  },
  {
   "cell_type": "markdown",
   "id": "78253baf",
   "metadata": {},
   "source": [
    "Slicing is a combination of multiple indexing (we can say in a way). In indexing, we get a single element, while slicing returns more than 1 element."
   ]
  },
  {
   "cell_type": "code",
   "execution_count": 7,
   "id": "b5cce482",
   "metadata": {},
   "outputs": [
    {
     "name": "stdout",
     "output_type": "stream",
     "text": [
      "H\n",
      "t\n"
     ]
    }
   ],
   "source": [
    "# Indexing\n",
    "print(a[0])\n",
    "print(a[6])"
   ]
  },
  {
   "cell_type": "code",
   "execution_count": 8,
   "id": "4e9935e6",
   "metadata": {},
   "outputs": [
    {
     "name": "stdout",
     "output_type": "stream",
     "text": [
      "Hello there\n",
      "o t\n"
     ]
    }
   ],
   "source": [
    "# Slicing\n",
    "print(a[0:])\n",
    "print(a[4:7])"
   ]
  },
  {
   "cell_type": "markdown",
   "id": "392cc3b7",
   "metadata": {},
   "source": [
    "### Q5. What is an indexed character's exact data type? What is the data form of a slicing-generated substring?"
   ]
  },
  {
   "cell_type": "markdown",
   "id": "db0df8b0",
   "metadata": {},
   "source": [
    "The indexed character will have the same data type as the original string, as is the case for slicing."
   ]
  },
  {
   "cell_type": "markdown",
   "id": "9cfa6dd0",
   "metadata": {},
   "source": [
    "### Q6. What is the relationship between string and character \"types\" in Python?"
   ]
  },
  {
   "cell_type": "markdown",
   "id": "60252597",
   "metadata": {},
   "source": [
    "In general, character types are single elements, while strings are a combination of multiple characters or length of character is always 1, while length of string is always greater than 1. In python there is not much differentiation between string and character as there is in other languages like java and c."
   ]
  },
  {
   "cell_type": "markdown",
   "id": "d0aa26ed",
   "metadata": {},
   "source": [
    "### Q7. Identify at least two operators and one method that allow you to combine one or more smaller strings to create a larger string."
   ]
  },
  {
   "cell_type": "code",
   "execution_count": 9,
   "id": "54302395",
   "metadata": {},
   "outputs": [
    {
     "name": "stdout",
     "output_type": "stream",
     "text": [
      "myself dhruv\n"
     ]
    }
   ],
   "source": [
    "# using '+' operator\n",
    "a = 'myself '\n",
    "b  = 'dhruv'\n",
    "a = a + b\n",
    "print(a)"
   ]
  },
  {
   "cell_type": "code",
   "execution_count": 10,
   "id": "ead064cd",
   "metadata": {},
   "outputs": [
    {
     "name": "stdout",
     "output_type": "stream",
     "text": [
      "myself dhruv\n"
     ]
    }
   ],
   "source": [
    "# using '+=' operator\n",
    "a = 'myself '\n",
    "a += 'dhruv'\n",
    "print(a)"
   ]
  },
  {
   "cell_type": "code",
   "execution_count": 11,
   "id": "95783923",
   "metadata": {},
   "outputs": [
    {
     "name": "stdout",
     "output_type": "stream",
     "text": [
      "hi there\n"
     ]
    }
   ],
   "source": [
    "# using '.join()' method\n",
    "a = 'hi '\n",
    "b = 'there'\n",
    "print(''.join([a,b]))"
   ]
  },
  {
   "cell_type": "markdown",
   "id": "ae9ebc4b",
   "metadata": {},
   "source": [
    "### Q8. What is the benefit of first checking the target string with in or not in before using the index method to find a substring?"
   ]
  },
  {
   "cell_type": "markdown",
   "id": "ef72347d",
   "metadata": {},
   "source": [
    "Using `in` and `not in` before using indexing helps to avoid errors that may stop the further exection of the code."
   ]
  },
  {
   "cell_type": "code",
   "execution_count": 12,
   "id": "56fd2ccf",
   "metadata": {},
   "outputs": [],
   "source": [
    "a = 'apple'"
   ]
  },
  {
   "cell_type": "code",
   "execution_count": 13,
   "id": "99b01016",
   "metadata": {},
   "outputs": [],
   "source": [
    "# Using in\n",
    "if 'f' in a:\n",
    "    print(a.index('f'))"
   ]
  },
  {
   "cell_type": "code",
   "execution_count": 14,
   "id": "8df64bff",
   "metadata": {},
   "outputs": [
    {
     "ename": "ValueError",
     "evalue": "substring not found",
     "output_type": "error",
     "traceback": [
      "\u001b[1;31m---------------------------------------------------------------------------\u001b[0m",
      "\u001b[1;31mValueError\u001b[0m                                Traceback (most recent call last)",
      "Cell \u001b[1;32mIn[14], line 2\u001b[0m\n\u001b[0;32m      1\u001b[0m \u001b[38;5;66;03m# without using in\u001b[39;00m\n\u001b[1;32m----> 2\u001b[0m \u001b[38;5;28mprint\u001b[39m(a\u001b[38;5;241m.\u001b[39mindex(\u001b[38;5;124m'\u001b[39m\u001b[38;5;124mf\u001b[39m\u001b[38;5;124m'\u001b[39m))\n",
      "\u001b[1;31mValueError\u001b[0m: substring not found"
     ]
    }
   ],
   "source": [
    "# without using in\n",
    "print(a.index('f'))"
   ]
  },
  {
   "cell_type": "markdown",
   "id": "1bf84f06",
   "metadata": {},
   "source": [
    "### Q9. Which operators and built-in string methods produce simple Boolean (true/false) results?"
   ]
  },
  {
   "cell_type": "markdown",
   "id": "79393504",
   "metadata": {},
   "source": [
    "Few of such methods are :\n",
    "1) isaplha()\n",
    "2) isalnum()\n",
    "3) isdigit()\n",
    "4) islower()\n",
    "5) isupper()\n",
    "6) in\n",
    "7) not in"
   ]
  }
 ],
 "metadata": {
  "kernelspec": {
   "display_name": "Python 3 (ipykernel)",
   "language": "python",
   "name": "python3"
  },
  "language_info": {
   "codemirror_mode": {
    "name": "ipython",
    "version": 3
   },
   "file_extension": ".py",
   "mimetype": "text/x-python",
   "name": "python",
   "nbconvert_exporter": "python",
   "pygments_lexer": "ipython3",
   "version": "3.11.4"
  }
 },
 "nbformat": 4,
 "nbformat_minor": 5
}
