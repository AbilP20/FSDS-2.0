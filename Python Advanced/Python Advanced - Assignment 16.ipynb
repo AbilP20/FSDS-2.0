{
 "cells": [
  {
   "cell_type": "markdown",
   "id": "869a6bdc",
   "metadata": {},
   "source": [
    "# Python Advanced - Assignment 16"
   ]
  },
  {
   "cell_type": "markdown",
   "id": "c64f81d4",
   "metadata": {},
   "source": [
    "### Q1. What is the benefit of regular expressions?"
   ]
  },
  {
   "cell_type": "markdown",
   "id": "aef217e4",
   "metadata": {},
   "source": [
    "Using regular expressions, we can compare strings. Using regular expressions to compare strings, we can reduce the numerous \n",
    "if-else statements. It reduces number of lines and also makes the code easily readable and understandable"
   ]
  },
  {
   "cell_type": "markdown",
   "id": "51bb2779",
   "metadata": {},
   "source": [
    "### Q2. Describe the difference between the effects of \"(ab)c+\" and \"a(bc)+.\" Which of these, if any, is the unqualified pattern \"abc+\"?"
   ]
  },
  {
   "cell_type": "markdown",
   "id": "01d333ac",
   "metadata": {},
   "source": [
    "1) (ab)c+ - means `ab` followed by 1 or more occurence of `c`. for eg. `abc`, `abcccc`, `abccccccccc`, etc.\n",
    "2) a(bc)+ - means `a` followed by 1 or more occurences of `bc`. for eg. `abc`, `abcbcbcbcbcbc`, `abcbc`, etc.\n",
    "\n",
    "The first pattern `(ab)c+` will provide same strings as `abc+`"
   ]
  },
  {
   "cell_type": "markdown",
   "id": "4a57e458",
   "metadata": {},
   "source": [
    "### Q3. How much do you need to use the following sentence while using regular expressions?\n",
    "`import re`                                                                                                                         \n",
    "DID NOT UNDERSTAND"
   ]
  },
  {
   "cell_type": "markdown",
   "id": "29b2647d",
   "metadata": {},
   "source": [
    "### Q4. Which characters have special significance in square brackets when expressing a range, and under what circumstances?\n"
   ]
  },
  {
   "cell_type": "markdown",
   "id": "1b81ec09",
   "metadata": {},
   "source": [
    "1) `-` - defines range like [0-9] means all numbers from 0 to 9, [a-z] means all small lettered alphabets\n",
    "2) `^` - defines `not`. eg. [^0-9] means not any digit\n",
    "3) `+` - means 1 or more occurence of the given pattern\n",
    "4) `*` - means 0 or more occurence of the given pattern\n",
    "there are more like `?` `.` `(` `)`"
   ]
  },
  {
   "cell_type": "markdown",
   "id": "6c2f0c55",
   "metadata": {},
   "source": [
    "### Q5. How does compiling a regular-expression object benefit you?"
   ]
  },
  {
   "cell_type": "markdown",
   "id": "2149053b",
   "metadata": {},
   "source": [
    "Very beneficial in pattern matching. If we want to search that same pattern we compiled in the object, we need not rewrite it. We can simply use the object. "
   ]
  },
  {
   "cell_type": "code",
   "execution_count": 1,
   "id": "e4d4007c",
   "metadata": {},
   "outputs": [],
   "source": [
    "import re\n",
    "\n",
    "regex = re.compile('[0-9]') # regex is the compiled object which has patter [0-9]\n",
    "a = regex.match('123')\n",
    "b = regex.match('abc')"
   ]
  },
  {
   "cell_type": "code",
   "execution_count": 2,
   "id": "55135b15",
   "metadata": {},
   "outputs": [
    {
     "name": "stdout",
     "output_type": "stream",
     "text": [
      "<re.Match object; span=(0, 1), match='1'>\n"
     ]
    }
   ],
   "source": [
    "print(a)"
   ]
  },
  {
   "cell_type": "code",
   "execution_count": 3,
   "id": "21343aa1",
   "metadata": {},
   "outputs": [
    {
     "name": "stdout",
     "output_type": "stream",
     "text": [
      "None\n"
     ]
    }
   ],
   "source": [
    "print(b)"
   ]
  },
  {
   "cell_type": "markdown",
   "id": "759be41d",
   "metadata": {},
   "source": [
    "### Q6. What are some examples of how to use the match object returned by re.match and re.search?"
   ]
  },
  {
   "cell_type": "markdown",
   "id": "d2a8e6de",
   "metadata": {},
   "source": [
    "1) `re.match` - searches for the pattern from the beginning of the string itself. If it is not found in the beginning it will not search further, and output is None else it returns the match object\n",
    "2) `re.search` - searched for the pattern in the whole string meaning, if the pattern is not present in the beginning, it will search till the end for the pattern. If after searching the whole string it does not find the patter, it returns None."
   ]
  },
  {
   "cell_type": "code",
   "execution_count": 4,
   "id": "f11e076a",
   "metadata": {},
   "outputs": [
    {
     "name": "stdout",
     "output_type": "stream",
     "text": [
      "<re.Match object; span=(0, 5), match='hello'>\n",
      "None\n"
     ]
    }
   ],
   "source": [
    "# re.match\n",
    "pattern1 = r'hello'\n",
    "pattern2 = r'there'\n",
    "string = 'hello there'\n",
    "\n",
    "res1 = re.match(pattern1, string)\n",
    "res2 = re.match(pattern2, string)\n",
    "\n",
    "print(res1)\n",
    "print(res2)"
   ]
  },
  {
   "cell_type": "code",
   "execution_count": 5,
   "id": "befa44c4",
   "metadata": {},
   "outputs": [
    {
     "name": "stdout",
     "output_type": "stream",
     "text": [
      "<re.Match object; span=(0, 5), match='hello'>\n",
      "<re.Match object; span=(6, 11), match='there'>\n"
     ]
    }
   ],
   "source": [
    "# re.search\n",
    "pattern1 = r'hello'\n",
    "pattern2 = r'there'\n",
    "string = 'hello there'\n",
    "\n",
    "res1 = re.search(pattern1, string)\n",
    "res2 = re.search(pattern2, string)\n",
    "\n",
    "print(res1)\n",
    "print(res2)"
   ]
  },
  {
   "cell_type": "markdown",
   "id": "47a27ace",
   "metadata": {},
   "source": [
    "### Q7. What is the difference between using a vertical bar (|) as an alteration and using square brackets as a character set?"
   ]
  },
  {
   "cell_type": "markdown",
   "id": "ca09ffcf",
   "metadata": {},
   "source": [
    "`|` means `or` operation. For eg. `\"pattern1\" | \"pattern2\"` means regex will check for the complete pattern, either pattern1 or pattern2. But when we use `[ ]`, it checks single character."
   ]
  },
  {
   "cell_type": "code",
   "execution_count": 6,
   "id": "1bea4ac2",
   "metadata": {},
   "outputs": [
    {
     "data": {
      "text/plain": [
       "['fox', 'the']"
      ]
     },
     "execution_count": 6,
     "metadata": {},
     "output_type": "execute_result"
    }
   ],
   "source": [
    "pattern = r'fox|the'\n",
    "string = 'The quick brown fox jumps over the lazy dog.'\n",
    "res = re.findall(pattern, string)\n",
    "res"
   ]
  },
  {
   "cell_type": "code",
   "execution_count": 7,
   "id": "8cc1bb4e",
   "metadata": {},
   "outputs": [
    {
     "data": {
      "text/plain": [
       "['o', 'f', 'o', 'x', 'o', 'o']"
      ]
     },
     "execution_count": 7,
     "metadata": {},
     "output_type": "execute_result"
    }
   ],
   "source": [
    "pattern = r'[fox]'\n",
    "string = 'The quick brown fox jumps over the lazy dog.'\n",
    "res = re.findall(pattern, string)\n",
    "res"
   ]
  },
  {
   "cell_type": "markdown",
   "id": "ad9a48fc",
   "metadata": {},
   "source": [
    "### Q8. In regular-expression search patterns, why is it necessary to use the raw-string indicator (r)? In   replacement strings?"
   ]
  },
  {
   "cell_type": "markdown",
   "id": "9627ee4e",
   "metadata": {},
   "source": [
    "`r` - as the name means, Raw Strings, everything we input within `r` will be considered as it is, meaning no need for escape characters. `r` is not only used in regex but also many a times while entering file paths."
   ]
  },
  {
   "cell_type": "code",
   "execution_count": 8,
   "id": "6b90dc4d",
   "metadata": {},
   "outputs": [],
   "source": [
    "a = r'Hello\\n'\n",
    "b = 'Hello\\n'"
   ]
  },
  {
   "cell_type": "code",
   "execution_count": 9,
   "id": "4ab64fad",
   "metadata": {},
   "outputs": [
    {
     "name": "stdout",
     "output_type": "stream",
     "text": [
      "Hello\\n\n"
     ]
    }
   ],
   "source": [
    "print(a)"
   ]
  },
  {
   "cell_type": "code",
   "execution_count": 10,
   "id": "8aee6387",
   "metadata": {},
   "outputs": [
    {
     "name": "stdout",
     "output_type": "stream",
     "text": [
      "Hello\n",
      "\n"
     ]
    }
   ],
   "source": [
    "print(b)"
   ]
  }
 ],
 "metadata": {
  "kernelspec": {
   "display_name": "Python 3 (ipykernel)",
   "language": "python",
   "name": "python3"
  },
  "language_info": {
   "codemirror_mode": {
    "name": "ipython",
    "version": 3
   },
   "file_extension": ".py",
   "mimetype": "text/x-python",
   "name": "python",
   "nbconvert_exporter": "python",
   "pygments_lexer": "ipython3",
   "version": "3.11.4"
  }
 },
 "nbformat": 4,
 "nbformat_minor": 5
}
