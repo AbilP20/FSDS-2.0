{
 "cells": [
  {
   "cell_type": "markdown",
   "id": "9aefa877",
   "metadata": {},
   "source": [
    "# Python Advanced - Assignment 14"
   ]
  },
  {
   "cell_type": "markdown",
   "id": "279f8a3e",
   "metadata": {},
   "source": [
    "### Q1. Is an assignment operator like += only for show? Is it possible that it would lead to faster results at the runtime?"
   ]
  },
  {
   "cell_type": "markdown",
   "id": "4ddda829",
   "metadata": {},
   "source": [
    "It should lead to faster results because when we do `a = a + 2`, a has to be seen twice, so python will check for value of a twice, whereas when we `a += 2`, it means getting value of a and adding 2 to it. There is not checking a second time."
   ]
  },
  {
   "cell_type": "markdown",
   "id": "eab5837a",
   "metadata": {},
   "source": [
    "### Q2. What is the smallest number of statements you'd have to write in most programming languages to replace the Python expression a, b = a + b, a?"
   ]
  },
  {
   "cell_type": "markdown",
   "id": "355b262b",
   "metadata": {},
   "source": [
    "4 lines of code is required\n",
    "1) assign a\n",
    "2) assign b\n",
    "3) set a = a+b\n",
    "4) set b = a"
   ]
  },
  {
   "cell_type": "markdown",
   "id": "f64d0b09",
   "metadata": {},
   "source": [
    "### Q3. In Python, what is the most effective way to set a list of 100 integers to 0?"
   ]
  },
  {
   "cell_type": "code",
   "execution_count": 1,
   "id": "e59ab4cb",
   "metadata": {},
   "outputs": [],
   "source": [
    "a = [0 for i in range(100)]\n",
    "# OR\n",
    "a = [0]*100"
   ]
  },
  {
   "cell_type": "markdown",
   "id": "dcbd9bb2",
   "metadata": {},
   "source": [
    "### Q4. What is the most effective way to initialise a list of 99 integers that repeats the sequence 1, 2, 3? S If necessary, show step-by-step instructions on how to accomplish this."
   ]
  },
  {
   "cell_type": "code",
   "execution_count": 2,
   "id": "04f359f5",
   "metadata": {},
   "outputs": [
    {
     "data": {
      "text/plain": [
       "[1,\n",
       " 2,\n",
       " 3,\n",
       " 4,\n",
       " 5,\n",
       " 6,\n",
       " 7,\n",
       " 8,\n",
       " 9,\n",
       " 10,\n",
       " 11,\n",
       " 12,\n",
       " 13,\n",
       " 14,\n",
       " 15,\n",
       " 16,\n",
       " 17,\n",
       " 18,\n",
       " 19,\n",
       " 20,\n",
       " 21,\n",
       " 22,\n",
       " 23,\n",
       " 24,\n",
       " 25,\n",
       " 26,\n",
       " 27,\n",
       " 28,\n",
       " 29,\n",
       " 30,\n",
       " 31,\n",
       " 32,\n",
       " 33,\n",
       " 34,\n",
       " 35,\n",
       " 36,\n",
       " 37,\n",
       " 38,\n",
       " 39,\n",
       " 40,\n",
       " 41,\n",
       " 42,\n",
       " 43,\n",
       " 44,\n",
       " 45,\n",
       " 46,\n",
       " 47,\n",
       " 48,\n",
       " 49,\n",
       " 50,\n",
       " 51,\n",
       " 52,\n",
       " 53,\n",
       " 54,\n",
       " 55,\n",
       " 56,\n",
       " 57,\n",
       " 58,\n",
       " 59,\n",
       " 60,\n",
       " 61,\n",
       " 62,\n",
       " 63,\n",
       " 64,\n",
       " 65,\n",
       " 66,\n",
       " 67,\n",
       " 68,\n",
       " 69,\n",
       " 70,\n",
       " 71,\n",
       " 72,\n",
       " 73,\n",
       " 74,\n",
       " 75,\n",
       " 76,\n",
       " 77,\n",
       " 78,\n",
       " 79,\n",
       " 80,\n",
       " 81,\n",
       " 82,\n",
       " 83,\n",
       " 84,\n",
       " 85,\n",
       " 86,\n",
       " 87,\n",
       " 88,\n",
       " 89,\n",
       " 90,\n",
       " 91,\n",
       " 92,\n",
       " 93,\n",
       " 94,\n",
       " 95,\n",
       " 96,\n",
       " 97,\n",
       " 98,\n",
       " 99]"
      ]
     },
     "execution_count": 2,
     "metadata": {},
     "output_type": "execute_result"
    }
   ],
   "source": [
    "a = list(range(1,100))\n",
    "a"
   ]
  },
  {
   "cell_type": "markdown",
   "id": "1c29ee52",
   "metadata": {},
   "source": [
    "### Q5. If you're using IDLE to run a Python application, explain how to print a multidimensional list as efficiently?"
   ]
  },
  {
   "cell_type": "code",
   "execution_count": 3,
   "id": "b3df4bc6",
   "metadata": {},
   "outputs": [],
   "source": [
    "# 2D\n",
    "two_dim = [[1 for i in range(5)] for i in range(5)]\n",
    "\n",
    "# 3D\n",
    "three_dim = [[[1 for i in range(3)] for i in range(3)] for i in range(3)]"
   ]
  },
  {
   "cell_type": "code",
   "execution_count": 4,
   "id": "e3392b64",
   "metadata": {},
   "outputs": [
    {
     "data": {
      "text/plain": [
       "[[1, 1, 1, 1, 1],\n",
       " [1, 1, 1, 1, 1],\n",
       " [1, 1, 1, 1, 1],\n",
       " [1, 1, 1, 1, 1],\n",
       " [1, 1, 1, 1, 1]]"
      ]
     },
     "execution_count": 4,
     "metadata": {},
     "output_type": "execute_result"
    }
   ],
   "source": [
    "two_dim"
   ]
  },
  {
   "cell_type": "code",
   "execution_count": 5,
   "id": "eecab9a6",
   "metadata": {},
   "outputs": [
    {
     "data": {
      "text/plain": [
       "[[[1, 1, 1], [1, 1, 1], [1, 1, 1]],\n",
       " [[1, 1, 1], [1, 1, 1], [1, 1, 1]],\n",
       " [[1, 1, 1], [1, 1, 1], [1, 1, 1]]]"
      ]
     },
     "execution_count": 5,
     "metadata": {},
     "output_type": "execute_result"
    }
   ],
   "source": [
    "three_dim"
   ]
  },
  {
   "cell_type": "markdown",
   "id": "b929470c",
   "metadata": {},
   "source": [
    "### Q6. Is it possible to use list comprehension with a string? If so, how can you go about doing it ?\n"
   ]
  },
  {
   "cell_type": "markdown",
   "id": "0bee5978",
   "metadata": {},
   "source": [
    "Yes list comprehension can be used with strings"
   ]
  },
  {
   "cell_type": "code",
   "execution_count": 6,
   "id": "cf8f910a",
   "metadata": {},
   "outputs": [
    {
     "data": {
      "text/plain": [
       "['H', 'e', 'l', 'l', 'o']"
      ]
     },
     "execution_count": 6,
     "metadata": {},
     "output_type": "execute_result"
    }
   ],
   "source": [
    "a = [i for i in 'Hello']\n",
    "a"
   ]
  },
  {
   "cell_type": "markdown",
   "id": "98e7524f",
   "metadata": {},
   "source": [
    "### Q8. Functions are said to be “first-class objects” in Python but not in most other languages, such as C++ or Java. What can you do in Python with a function (callable object) that you can't do in C or C++?"
   ]
  },
  {
   "cell_type": "markdown",
   "id": "2fc5d0d0",
   "metadata": {},
   "source": [
    "Python functions are first class objects - which means you can dynamically create, use and modify objects unlike other programming languages. In python, you can pass functions as arguments also."
   ]
  },
  {
   "cell_type": "markdown",
   "id": "3ed8aca9",
   "metadata": {},
   "source": [
    "### Q9. How do you distinguish between a wrapper, a wrapped feature, and a decorator?"
   ]
  },
  {
   "cell_type": "markdown",
   "id": "c924be9c",
   "metadata": {},
   "source": [
    "Decorators are wrappers. They let you execute the code before and after the function without modifying the function itself."
   ]
  },
  {
   "cell_type": "markdown",
   "id": "e49409d1",
   "metadata": {},
   "source": [
    "### Q10. If a function is a generator function, what does it return?"
   ]
  },
  {
   "cell_type": "markdown",
   "id": "d6cb5651",
   "metadata": {},
   "source": [
    "It returns the items of the sequence, one by one whenever it is called."
   ]
  },
  {
   "cell_type": "markdown",
   "id": "8895a379",
   "metadata": {},
   "source": [
    "### Q11. What is the one improvement that must be made to a function in order for it to become a generator function in the Python language?"
   ]
  },
  {
   "cell_type": "markdown",
   "id": "16e6273f",
   "metadata": {},
   "source": [
    "Just replace 1 command in python function and it will become a generator. Replace `return` with `yield` "
   ]
  },
  {
   "cell_type": "markdown",
   "id": "c350207f",
   "metadata": {},
   "source": [
    "### Q12. Identify at least one benefit of generators."
   ]
  },
  {
   "cell_type": "markdown",
   "id": "41513914",
   "metadata": {},
   "source": [
    "Generators are memory efficient - We don't need to save the entire sequence in the memory; just retrieve each item iteratively whenever needed."
   ]
  }
 ],
 "metadata": {
  "kernelspec": {
   "display_name": "Python 3 (ipykernel)",
   "language": "python",
   "name": "python3"
  },
  "language_info": {
   "codemirror_mode": {
    "name": "ipython",
    "version": 3
   },
   "file_extension": ".py",
   "mimetype": "text/x-python",
   "name": "python",
   "nbconvert_exporter": "python",
   "pygments_lexer": "ipython3",
   "version": "3.11.4"
  }
 },
 "nbformat": 4,
 "nbformat_minor": 5
}
