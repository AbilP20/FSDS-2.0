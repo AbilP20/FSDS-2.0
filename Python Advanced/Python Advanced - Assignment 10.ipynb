{
 "cells": [
  {
   "cell_type": "markdown",
   "id": "417f5723",
   "metadata": {},
   "source": [
    "# Python Advanced - Assignment 10"
   ]
  },
  {
   "cell_type": "markdown",
   "id": "cbb4d0cb",
   "metadata": {},
   "source": [
    "### Q1. What is the difference between `__getattr__` and `__getattribute__`?"
   ]
  },
  {
   "cell_type": "markdown",
   "id": "2f3d079d",
   "metadata": {},
   "source": [
    "`__getattr__` will give back the class attribute if it is present but if it will intercept the attribute lookup if the attribute is not present in the class. The `__getattribute__` will intercept all attribute lookups even if it is present in the class also."
   ]
  },
  {
   "cell_type": "code",
   "execution_count": 1,
   "id": "821a282a",
   "metadata": {},
   "outputs": [
    {
     "name": "stdout",
     "output_type": "stream",
     "text": [
      "Raj\n",
      "Not Found\n"
     ]
    }
   ],
   "source": [
    "class abc(object):\n",
    "    name = 'Raj'\n",
    "    def __getattr__(self,atribute):\n",
    "        return 'Not Found'\n",
    "d = abc()\n",
    "print(d.name)\n",
    "print(d.age)"
   ]
  },
  {
   "cell_type": "code",
   "execution_count": 2,
   "id": "ea8b2f2d",
   "metadata": {},
   "outputs": [
    {
     "name": "stdout",
     "output_type": "stream",
     "text": [
      "Not Found\n",
      "Not Found\n"
     ]
    }
   ],
   "source": [
    "class abc(object):\n",
    "    name = 'Raj'\n",
    "    def __getattribute__(self,atribute):\n",
    "        return 'Not Found'\n",
    "d = abc()\n",
    "print(d.name)\n",
    "print(d.age)"
   ]
  },
  {
   "cell_type": "markdown",
   "id": "4d2c95b1",
   "metadata": {},
   "source": [
    "### Q2. What is the difference between properties and descriptors?"
   ]
  },
  {
   "cell_type": "markdown",
   "id": "d1a93e9c",
   "metadata": {},
   "source": [
    "1) Python descriptors are used to manage the attributes of different classes which use the object as reference. In descriptors we used three different methods that are `__getters__()`, `__setters__()`, and `__delete__()`. If any of those methods are defined for an object, it can be termed as a descriptor.\n",
    "2) Properties are implemented using descriptors. With Properties we can bind getter, setter and delete functions together with an attribute name, using the built-in property function or @property decorator."
   ]
  },
  {
   "cell_type": "markdown",
   "id": "8c73041f",
   "metadata": {},
   "source": [
    "### Q3. What are the key differences in functionality between `__getattr__` and `__getattribute__`, as well as properties and descriptors?"
   ]
  },
  {
   "cell_type": "markdown",
   "id": "65876c9d",
   "metadata": {},
   "source": [
    "`__getattr__` and `__getattribute__` are used in attribute lookup. They do not have any other functionality. Properties and descriptors are used in fetching, deleting or modifying the attribute."
   ]
  }
 ],
 "metadata": {
  "kernelspec": {
   "display_name": "Python 3 (ipykernel)",
   "language": "python",
   "name": "python3"
  },
  "language_info": {
   "codemirror_mode": {
    "name": "ipython",
    "version": 3
   },
   "file_extension": ".py",
   "mimetype": "text/x-python",
   "name": "python",
   "nbconvert_exporter": "python",
   "pygments_lexer": "ipython3",
   "version": "3.11.3"
  }
 },
 "nbformat": 4,
 "nbformat_minor": 5
}
