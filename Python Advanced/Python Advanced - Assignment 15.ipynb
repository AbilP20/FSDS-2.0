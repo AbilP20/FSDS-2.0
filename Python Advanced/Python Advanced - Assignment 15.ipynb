{
 "cells": [
  {
   "cell_type": "markdown",
   "id": "12156584",
   "metadata": {},
   "source": [
    "# Python Advanced - Assignment 15"
   ]
  },
  {
   "cell_type": "markdown",
   "id": "2aae7dbe",
   "metadata": {},
   "source": [
    "### 1.\tWhat are the new features added in Python 3.8 version?"
   ]
  },
  {
   "cell_type": "markdown",
   "id": "dbcd3d27",
   "metadata": {},
   "source": [
    "1) Assignment expressions (The Walrus Operator) `:-`\n",
    "2) Dictionary with reverse\n",
    "3) Multiprocessing shared memory\n",
    "4) f strings support `=`"
   ]
  },
  {
   "cell_type": "markdown",
   "id": "00ae1b3c",
   "metadata": {},
   "source": [
    "### 2.\tWhat is monkey patching in Python?\n"
   ]
  },
  {
   "cell_type": "markdown",
   "id": "f081ef4f",
   "metadata": {},
   "source": [
    "Monkey-patching simply means modifying the default behavior of a function at run-time without changing the source code of that function."
   ]
  },
  {
   "cell_type": "code",
   "execution_count": 1,
   "id": "836e44bf",
   "metadata": {},
   "outputs": [
    {
     "name": "stdout",
     "output_type": "stream",
     "text": [
      "Overwriting monkeypatch.py\n"
     ]
    }
   ],
   "source": [
    "%%writefile monkeypatch.py\n",
    "\n",
    "class test:\n",
    "    def hello1(self):\n",
    "        print(\"inside hello 1\")"
   ]
  },
  {
   "cell_type": "code",
   "execution_count": 2,
   "id": "0af5497d",
   "metadata": {},
   "outputs": [
    {
     "name": "stdout",
     "output_type": "stream",
     "text": [
      "inside hello 2\n"
     ]
    }
   ],
   "source": [
    "# MODIFYING THE hello1 \n",
    "import monkeypatch\n",
    "def hello2(self):\n",
    "    print(\"inside hello 2\")\n",
    "\n",
    "monkeypatch.test.hello1 = hello2\n",
    "obj = monkeypatch.test()\n",
    "\n",
    "obj.hello1()"
   ]
  },
  {
   "cell_type": "markdown",
   "id": "9cac8ee0",
   "metadata": {},
   "source": [
    "1) our source code does not change even though we changed the behaviour of that function\n",
    "2) SIMILARILY, we can define a function named `print()`, which will definitely override the default behaviour, but source code will still be there. In case of jupyter notebook, we can just restart the kernel to get back the original behaviour of print()"
   ]
  },
  {
   "cell_type": "markdown",
   "id": "836a1dc2",
   "metadata": {},
   "source": [
    "### 3.\tWhat is the difference between a shallow copy and deep copy?"
   ]
  },
  {
   "cell_type": "markdown",
   "id": "621444bc",
   "metadata": {},
   "source": [
    "1) Shallow copy creates a new object but it adds the reference of items of the original object in the new one. So if you change the new object, the changes will reflect in the original one.\n",
    "2) Deep copy creates a new object and recursively adds the items in the original object in the new one. If you change the new object, the changes will not reflect in the original one."
   ]
  },
  {
   "cell_type": "markdown",
   "id": "cbad6366",
   "metadata": {},
   "source": [
    "### 4.\tWhat is the maximum possible length of an identifier?"
   ]
  },
  {
   "cell_type": "markdown",
   "id": "5f8a91d2",
   "metadata": {},
   "source": [
    "Although there is practically a limit on almost everything we do because of the limited resources of our system, Python docs do not mention a max limit on the length of an identifier. The docs tell us that identifiers can have unlimited length - \n",
    "https://docs.python.org/2/reference/lexical_analysis.html#identifiers"
   ]
  },
  {
   "cell_type": "markdown",
   "id": "3bee4dd2",
   "metadata": {},
   "source": [
    "### 5.\tWhat is generator comprehension?"
   ]
  },
  {
   "cell_type": "markdown",
   "id": "8936633e",
   "metadata": {},
   "source": [
    "Similar to list comprehension but with the obvious difference that generator comprehension results in generator objects while list comprehensions result in lists along with one difference being the brackets used in both. List comprehensions use `[ ]` while generator comprehension use `( )`. "
   ]
  },
  {
   "cell_type": "code",
   "execution_count": 3,
   "id": "96d53dd4",
   "metadata": {},
   "outputs": [],
   "source": [
    "obj = (i for i in range(5))"
   ]
  },
  {
   "cell_type": "code",
   "execution_count": 4,
   "id": "31fdf162",
   "metadata": {},
   "outputs": [
    {
     "data": {
      "text/plain": [
       "<generator object <genexpr> at 0x0000027F1C4B6740>"
      ]
     },
     "execution_count": 4,
     "metadata": {},
     "output_type": "execute_result"
    }
   ],
   "source": [
    "obj"
   ]
  },
  {
   "cell_type": "code",
   "execution_count": 5,
   "id": "d45e637c",
   "metadata": {},
   "outputs": [
    {
     "name": "stdout",
     "output_type": "stream",
     "text": [
      "0\n",
      "1\n",
      "2\n",
      "3\n",
      "4\n"
     ]
    }
   ],
   "source": [
    "for i in obj:\n",
    "    print(i)"
   ]
  },
  {
   "cell_type": "code",
   "execution_count": 6,
   "id": "94bbda6c",
   "metadata": {},
   "outputs": [],
   "source": [
    "# since all items have been printed, if we print again, no o/p\n",
    "for i in obj:\n",
    "    print(i)"
   ]
  }
 ],
 "metadata": {
  "kernelspec": {
   "display_name": "Python 3 (ipykernel)",
   "language": "python",
   "name": "python3"
  },
  "language_info": {
   "codemirror_mode": {
    "name": "ipython",
    "version": 3
   },
   "file_extension": ".py",
   "mimetype": "text/x-python",
   "name": "python",
   "nbconvert_exporter": "python",
   "pygments_lexer": "ipython3",
   "version": "3.11.4"
  }
 },
 "nbformat": 4,
 "nbformat_minor": 5
}
