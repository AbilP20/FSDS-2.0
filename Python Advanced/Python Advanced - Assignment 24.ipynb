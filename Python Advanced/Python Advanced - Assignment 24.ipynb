{
 "cells": [
  {
   "cell_type": "markdown",
   "id": "d7d009cb",
   "metadata": {},
   "source": [
    "# Python Advanced - Assignment 24"
   ]
  },
  {
   "cell_type": "markdown",
   "id": "ba814083",
   "metadata": {},
   "source": [
    "### Q1. Is it permissible to use several import statements to import the same module? What would the goal be? Can you think of a situation where it would be beneficial?"
   ]
  },
  {
   "cell_type": "markdown",
   "id": "60fb5406",
   "metadata": {},
   "source": [
    "Yes, we can use several import statements to import same module but only when we are importing distinct function from that module each time. A module contains several classes and methods. And some modules like seaborn, tensorflow, pytorch, etc., have a lot of classes which would take a lot of time if we imported the whole module in one go. Instead, we import a single class or a single method which we want to use at that particular time. \n",
    "A simple example\n",
    "from math import sqrt"
   ]
  },
  {
   "cell_type": "code",
   "execution_count": 1,
   "id": "3d7ecdc9",
   "metadata": {},
   "outputs": [
    {
     "name": "stdout",
     "output_type": "stream",
     "text": [
      "2.0\n",
      "6\n"
     ]
    }
   ],
   "source": [
    "# A SIMPLE EXAMPLE\n",
    "from math import sqrt\n",
    "from math import ceil\n",
    "print(sqrt(4))\n",
    "print(ceil(5.3))\n",
    "# here we imported math module twice but only specific classes - sqrt and ceil"
   ]
  },
  {
   "cell_type": "code",
   "execution_count": 2,
   "id": "2d0cdf19",
   "metadata": {},
   "outputs": [],
   "source": [
    "# ANOTHER EXAMPLE\n",
    "# Matplotlib is a vast library but we only ever use the pyplot to plot figures, that is why we, most of the times, import \n",
    "# pyplot class from that library\n",
    "from matplotlib import pyplot"
   ]
  },
  {
   "cell_type": "markdown",
   "id": "f684b981",
   "metadata": {},
   "source": [
    "### Q2. What are some of a module's characteristics? (Name at least one.)"
   ]
  },
  {
   "cell_type": "markdown",
   "id": "0b2643f5",
   "metadata": {},
   "source": [
    "As the name `module` implicitly means `modular coding`, therefore, the main characteristic of modules are they are written in a modular fashion. Modular coding, in itself has a number of characteristics like:\n",
    "1) complex code broken into sub modules\n",
    "2) simplicity\n",
    "3) readability\n",
    "4) reusabilty\n",
    "5) maintainability"
   ]
  },
  {
   "cell_type": "markdown",
   "id": "2bbeab51",
   "metadata": {},
   "source": [
    "### Q3. Circular importing, such as when two modules import each other, can lead to dependencies and bugs that aren't visible. How can you go about creating a program that avoids mutual importing?"
   ]
  },
  {
   "cell_type": "markdown",
   "id": "381515b4",
   "metadata": {},
   "source": [
    "Circular importing can lead to import errors because the program won't know which module to be loaded first. It may also lead to infinite loops if not handled. The best way to tackle this issue is to utilse the use of `__name__` - it is an in-built python attribute that is associated with every python module. `__name__` tells python whether a module is being run as the main program or it is being imported in another program. If the module being run is the main program then the code is - `__name__ ==  \"__main__\"`. And if it is being imported in another program then instead of main, you write that module name - `__name__ ==  \"module_name\"`"
   ]
  },
  {
   "cell_type": "markdown",
   "id": "3e3d3a0e",
   "metadata": {},
   "source": [
    "### Q4. Why is  _ _all_ _ in Python?"
   ]
  },
  {
   "cell_type": "markdown",
   "id": "6ad3b88d",
   "metadata": {},
   "source": [
    "`__all__` defines a list of variables, functions or classes that will be imported when one uses the asterik (`*`) to import all methods of a module. In python, if we use asterik, it will import all functions that are public (i.e. do not start with underscore). We can also manually set this `__all__` to define what all functions will be included - it may or may not be public, if the public function is not defined by the person in the `__all__` variable, then it won't be imported. "
   ]
  },
  {
   "cell_type": "code",
   "execution_count": 3,
   "id": "dac9e452",
   "metadata": {},
   "outputs": [
    {
     "name": "stdout",
     "output_type": "stream",
     "text": [
      "Writing test12.py\n"
     ]
    }
   ],
   "source": [
    "%%writefile test12.py\n",
    "class _myPrivateClass1:\n",
    "    pass\n",
    "class myPublicClass1:\n",
    "    pass\n",
    "def _myPrivateFunc1():\n",
    "    pass\n",
    "def myPublicFunc1():\n",
    "    pass"
   ]
  },
  {
   "cell_type": "code",
   "execution_count": 4,
   "id": "92698bf2",
   "metadata": {},
   "outputs": [
    {
     "name": "stdout",
     "output_type": "stream",
     "text": [
      "<class 'test12.myPublicClass1'>\n",
      "<function myPublicFunc1 at 0x00000120DA2BBCE0>\n"
     ]
    }
   ],
   "source": [
    "# in the above module, we have not set __all__, so by default, all public variables, methods will be import when using *\n",
    "from test12 import *\n",
    "print(myPublicClass1)\n",
    "print(myPublicFunc1)\n",
    "# print(_myPrivateClass) -> private variables, classes and functions are not imported so error will occure when calling those"
   ]
  },
  {
   "cell_type": "code",
   "execution_count": 5,
   "id": "36805e48",
   "metadata": {},
   "outputs": [
    {
     "name": "stdout",
     "output_type": "stream",
     "text": [
      "Writing test15.py\n"
     ]
    }
   ],
   "source": [
    "%%writefile test15.py\n",
    "class myPublicClass2:\n",
    "    pass\n",
    "def _myPrivateFunc2():\n",
    "    pass\n",
    "def myPublicFunc2():\n",
    "    pass\n",
    "__all__ = ['myPublicClass2']"
   ]
  },
  {
   "cell_type": "code",
   "execution_count": 6,
   "id": "68544aaf",
   "metadata": {},
   "outputs": [
    {
     "name": "stdout",
     "output_type": "stream",
     "text": [
      "<class 'test15.myPublicClass2'>\n"
     ]
    }
   ],
   "source": [
    "# in the above module, we have set the __all__ with only 1 of the public classes, the other public entities will not be imported\n",
    "from test15 import *\n",
    "print(myPublicClass2)\n",
    "# print(myPublicFunc2) -> results in error as it has not been defined in the __all__ variable"
   ]
  },
  {
   "cell_type": "markdown",
   "id": "9a92d53f",
   "metadata": {},
   "source": [
    "### Q5. In what situation is it useful to refer to the _ _name_ _ attribute or the string '_ _main_ _'?"
   ]
  },
  {
   "cell_type": "markdown",
   "id": "e80d60b1",
   "metadata": {},
   "source": [
    "When a python script is run as the main program we write the code - `if __name__ == \"__main__\"` What it does is that it allows us to run and also test the code that will run only when the script is executed directly and not through some import statements in another module."
   ]
  },
  {
   "cell_type": "markdown",
   "id": "8b285f53",
   "metadata": {},
   "source": [
    "##### no context found with reference to python programming in below questions\n",
    "Q6. What are some of the benefits of attaching a program counter to the RPN interpreter application, which interprets an RPN script line by line?\n",
    "\n",
    "Q7. What are the minimum expressions or statements (or both) that you'd need to render a basic programming language like RPN primitive but complete— that is, capable of carrying out any computerised task theoretically possible?"
   ]
  }
 ],
 "metadata": {
  "kernelspec": {
   "display_name": "Python 3 (ipykernel)",
   "language": "python",
   "name": "python3"
  },
  "language_info": {
   "codemirror_mode": {
    "name": "ipython",
    "version": 3
   },
   "file_extension": ".py",
   "mimetype": "text/x-python",
   "name": "python",
   "nbconvert_exporter": "python",
   "pygments_lexer": "ipython3",
   "version": "3.11.4"
  }
 },
 "nbformat": 4,
 "nbformat_minor": 5
}
