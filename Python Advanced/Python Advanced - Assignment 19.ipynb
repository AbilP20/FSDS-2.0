{
 "cells": [
  {
   "cell_type": "markdown",
   "id": "7431ba4e",
   "metadata": {},
   "source": [
    "# Python Advanced - Assignment 19"
   ]
  },
  {
   "cell_type": "markdown",
   "id": "d70c62bf",
   "metadata": {},
   "source": [
    "### Q1. Define the relationship between a class and its instances. Is it a one-to-one or a one-to-many partnership, for example?"
   ]
  },
  {
   "cell_type": "markdown",
   "id": "1f092720",
   "metadata": {},
   "source": [
    "The relation b/w class and its instances is a one-to-many relation - there is 1 class which contains a blueprint and there can be many instances of that class."
   ]
  },
  {
   "cell_type": "markdown",
   "id": "fd89d9c4",
   "metadata": {},
   "source": [
    "### Q2. What kind of data is held only in an instance?"
   ]
  },
  {
   "cell_type": "markdown",
   "id": "96d1ba61",
   "metadata": {},
   "source": [
    "Instance variable is stored in a class instance. The instance variables are specific to one particular instance and not shared."
   ]
  },
  {
   "cell_type": "markdown",
   "id": "498371f0",
   "metadata": {},
   "source": [
    "### Q3. What kind of knowledge is stored in a class?"
   ]
  },
  {
   "cell_type": "markdown",
   "id": "41c765e8",
   "metadata": {},
   "source": [
    "Class stores the blueprint of a real-world entity. It may have variables, methods, constructors, etc. And a class may also have class attributes that are shared with all the class instances."
   ]
  },
  {
   "cell_type": "markdown",
   "id": "5830db0f",
   "metadata": {},
   "source": [
    "### Q4. What exactly is a method, and how is it different from a regular function?"
   ]
  },
  {
   "cell_type": "markdown",
   "id": "21c34fab",
   "metadata": {},
   "source": [
    "The use of methods and functions are same but a method is a function related to a class. A method is used to handle, modify or view class attributes or perform some functions that are specific to that particular class or that particular class's instance. A normal function cannot access the class attributes."
   ]
  },
  {
   "cell_type": "markdown",
   "id": "c7fe81e2",
   "metadata": {},
   "source": [
    "### Q5. Is inheritance supported in Python, and if so, what is the syntax?"
   ]
  },
  {
   "cell_type": "markdown",
   "id": "d6f9c932",
   "metadata": {},
   "source": [
    "Yes, inheritance is supported in python."
   ]
  },
  {
   "cell_type": "code",
   "execution_count": 1,
   "id": "754c9b2d",
   "metadata": {},
   "outputs": [],
   "source": [
    "# Single Inheritance\n",
    "class A:\n",
    "    pass\n",
    "class B(A):\n",
    "    pass"
   ]
  },
  {
   "cell_type": "code",
   "execution_count": 2,
   "id": "df52c5bc",
   "metadata": {},
   "outputs": [],
   "source": [
    "# Multilevel Inheritance\n",
    "class A:\n",
    "    pass\n",
    "class B(A):\n",
    "    pass\n",
    "class C(B):\n",
    "    pass"
   ]
  },
  {
   "cell_type": "code",
   "execution_count": 3,
   "id": "d99d2971",
   "metadata": {},
   "outputs": [],
   "source": [
    "# Multiple Inheritance\n",
    "class A:\n",
    "    pass\n",
    "class B:\n",
    "    pass\n",
    "class C(A,B):\n",
    "    pass"
   ]
  },
  {
   "cell_type": "code",
   "execution_count": 4,
   "id": "0fef8dd6",
   "metadata": {},
   "outputs": [],
   "source": [
    "# Heirarchical Inheritance\n",
    "class Main:\n",
    "    pass\n",
    "class A(Main):\n",
    "    pass\n",
    "class B(Main):\n",
    "    pass"
   ]
  },
  {
   "cell_type": "markdown",
   "id": "048f5c17",
   "metadata": {},
   "source": [
    "### Q6. How much encapsulation (making instance or class variables private) does Python support?"
   ]
  },
  {
   "cell_type": "markdown",
   "id": "3d912e6f",
   "metadata": {},
   "source": [
    "Python provides 2 types of encapsulation to wrap the data into 1 entity and to restrict its usage.\n",
    "1) Private - the variables and methods are private to the class and it cannot be directly used outside that class\n",
    "2) Protected - the variables and methods can be accesed within that class and all the child classes and not outside these classes.\n",
    "\n",
    "Although python provides such techniques, but still the data is not protected because outside of that class, we can use `name mangling` to access these protected variables."
   ]
  },
  {
   "cell_type": "code",
   "execution_count": 5,
   "id": "24042280",
   "metadata": {},
   "outputs": [
    {
     "name": "stdout",
     "output_type": "stream",
     "text": [
      "Protected Variable =  3\n",
      "Unable to Access Private Variable\n"
     ]
    }
   ],
   "source": [
    "class A:\n",
    "    __private_var = 2 #private variable\n",
    "    _prot_var = 3 #protected variable\n",
    "class B(A):\n",
    "    def disp(self):\n",
    "        try:\n",
    "            print('Protected Variable = ',self._prot_var)\n",
    "            print('Private Var = ',self.__private_var)\n",
    "        except:\n",
    "            print('Unable to Access Private Variable')\n",
    "obj = B()\n",
    "obj.disp()"
   ]
  },
  {
   "cell_type": "code",
   "execution_count": 6,
   "id": "e3dae623",
   "metadata": {
    "scrolled": true
   },
   "outputs": [
    {
     "name": "stdout",
     "output_type": "stream",
     "text": [
      "Accessing private variable using name mangling :  2\n",
      "Accessing protected variable using name mangling :  3\n"
     ]
    }
   ],
   "source": [
    "# NAME MANGLING\n",
    "print('Accessing private variable using name mangling : ',obj._A__private_var)\n",
    "print('Accessing protected variable using name mangling : ',obj._prot_var)"
   ]
  },
  {
   "cell_type": "markdown",
   "id": "ccbaae40",
   "metadata": {},
   "source": [
    "### Q7. How do you distinguish between a class variable and an instance variable?"
   ]
  },
  {
   "cell_type": "markdown",
   "id": "dd82afdb",
   "metadata": {},
   "source": [
    "Class variable is shared among all instances of the class while instance variable is specific to the particular instance of that class. Class variable is generally written first, before defining the constructor and the class methods. Instance variables are generelly defined in the constructors."
   ]
  },
  {
   "cell_type": "code",
   "execution_count": 7,
   "id": "af00ab2f",
   "metadata": {},
   "outputs": [],
   "source": [
    "class A:\n",
    "    class_var = 'this is my class var'   #class variable - shared among all instances\n",
    "    def __init__(self,num):\n",
    "        self.inst_var = 'this is my instance variable '+str(num)  #instance variable - unique to all instances of the class"
   ]
  },
  {
   "cell_type": "code",
   "execution_count": 8,
   "id": "83e603d5",
   "metadata": {},
   "outputs": [
    {
     "name": "stdout",
     "output_type": "stream",
     "text": [
      "Accessing class variable using all class instances :\n",
      "obj1 :  this is my class var\n",
      "obj2 :  this is my class var\n",
      "obj3 :  this is my class var\n",
      "Accessing instance variable using all class instances :\n",
      "obj1 :  this is my instance variable 1\n",
      "obj2 :  this is my instance variable 2\n",
      "obj3 :  this is my instance variable 3\n"
     ]
    }
   ],
   "source": [
    "obj1 = A(1)\n",
    "obj2 = A(2)\n",
    "obj3 = A(3)\n",
    "print('Accessing class variable using all class instances :')\n",
    "print('obj1 : ',obj1.class_var)\n",
    "print('obj2 : ',obj2.class_var)\n",
    "print('obj3 : ',obj3.class_var)\n",
    "print('Accessing instance variable using all class instances :')\n",
    "print('obj1 : ',obj1.inst_var)\n",
    "print('obj2 : ',obj2.inst_var)\n",
    "print('obj3 : ',obj3.inst_var)"
   ]
  },
  {
   "cell_type": "markdown",
   "id": "830a6e27",
   "metadata": {},
   "source": [
    "### Q8. When, if ever, can self be included in a class's method definitions?"
   ]
  },
  {
   "cell_type": "markdown",
   "id": "44083737",
   "metadata": {},
   "source": [
    "`self` should be the first argument of any methods inside a class which needs access to the instance attributes. If the self is not there, the method is called as class method and it can only be used by using class_name.method - it will not be used with the class_instance.method."
   ]
  },
  {
   "cell_type": "code",
   "execution_count": 9,
   "id": "0154b5cd",
   "metadata": {},
   "outputs": [
    {
     "name": "stdout",
     "output_type": "stream",
     "text": [
      "Calling obj.func2 -  Self included\n",
      "Error when accessing func1 - no self included.\n",
      "Calling func1 using A.func1() :  Self not included\n"
     ]
    }
   ],
   "source": [
    "class A:\n",
    "    def func1():\n",
    "        return ('Self not included')\n",
    "    def func2(self):\n",
    "        return('Self included')\n",
    "obj = A()\n",
    "try:\n",
    "    print('Calling obj.func2 - ',obj.func2())\n",
    "    print('Calling obj.func1 - ',obj.func1())\n",
    "except:\n",
    "    print('Error when accessing func1 - no self included.')\n",
    "finally:\n",
    "    print('Calling func1 using A.func1() : ',A.func1())"
   ]
  },
  {
   "cell_type": "markdown",
   "id": "5f05a543",
   "metadata": {},
   "source": [
    "### Q9. What is the difference between the _ _add_ _ and the _ _radd_ _ methods?"
   ]
  },
  {
   "cell_type": "markdown",
   "id": "6c4406ed",
   "metadata": {},
   "source": [
    "1) The `__add__` method is called when an instance of your class appears on the left side of the + operator.\n",
    "2) The `__radd__` method is called when an instance of your class appears on the right side of the + operator and the left operand does not implement `__add__`."
   ]
  },
  {
   "cell_type": "code",
   "execution_count": 10,
   "id": "c3e0b992",
   "metadata": {},
   "outputs": [],
   "source": [
    "class A:\n",
    "    def __init__(self, val):\n",
    "        self.val = val\n",
    "    def __add__(self, other):\n",
    "        if isinstance(other, A):\n",
    "            return A(self.val + other.val)\n",
    "        else:\n",
    "            print('TypeError')\n",
    "    def __radd__(self, other):\n",
    "        if isinstance(other, int):\n",
    "            return A(self.val + other)\n",
    "        else:\n",
    "            print('TypeError')"
   ]
  },
  {
   "cell_type": "code",
   "execution_count": 11,
   "id": "482b6ce7",
   "metadata": {},
   "outputs": [
    {
     "name": "stdout",
     "output_type": "stream",
     "text": [
      "15\n",
      "20\n"
     ]
    }
   ],
   "source": [
    "obj1 = A(5)\n",
    "obj2 = A(10)\n",
    "var3 = 15\n",
    "print((obj1 + obj2).val) # here __add__ has been implemented\n",
    "print((var3 + obj1).val) # here __radd__ has been implemented"
   ]
  },
  {
   "cell_type": "markdown",
   "id": "945f1a9e",
   "metadata": {},
   "source": [
    "### Q10. When is it necessary to use a reflection method? When do you not need it, even though you support the operation in question?"
   ]
  },
  {
   "cell_type": "markdown",
   "id": "c84848a9",
   "metadata": {},
   "source": [
    "Reflection methods, also known as magic methods, are used when we want to modify the default behaviour of some functions when used on the class instance objects. They can used to customized how different objects behave when those functions are invoked. Magic methods include functions like add (`__add__`), multiply (`__mul__`), etc."
   ]
  },
  {
   "cell_type": "markdown",
   "id": "7f5bbb29",
   "metadata": {},
   "source": [
    "### Q11. What is the _ _iadd_ _ method called?"
   ]
  },
  {
   "cell_type": "markdown",
   "id": "fc8ff105",
   "metadata": {},
   "source": [
    "`__iadd__` is used when we want to implement the operation `+=` on 2 class instance values"
   ]
  },
  {
   "cell_type": "markdown",
   "id": "9a2a2305",
   "metadata": {},
   "source": [
    "### Q12. Is the _ _init_ _ method inherited by subclasses? What do you do if you need to customize its behavior within a subclass?"
   ]
  },
  {
   "cell_type": "markdown",
   "id": "5f472fd3",
   "metadata": {},
   "source": [
    "Yes, when a child class is created, it inherits all attributes and methods including `__init__` from the parent class. To customize the behaviour of the `__init__` method, we can overwrite it in the chid class. We can use the `super().__init__` method to make customization"
   ]
  }
 ],
 "metadata": {
  "kernelspec": {
   "display_name": "Python 3 (ipykernel)",
   "language": "python",
   "name": "python3"
  },
  "language_info": {
   "codemirror_mode": {
    "name": "ipython",
    "version": 3
   },
   "file_extension": ".py",
   "mimetype": "text/x-python",
   "name": "python",
   "nbconvert_exporter": "python",
   "pygments_lexer": "ipython3",
   "version": "3.11.4"
  }
 },
 "nbformat": 4,
 "nbformat_minor": 5
}
