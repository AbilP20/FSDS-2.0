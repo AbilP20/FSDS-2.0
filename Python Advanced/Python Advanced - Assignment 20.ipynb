{
 "cells": [
  {
   "cell_type": "markdown",
   "id": "239603fd",
   "metadata": {},
   "source": [
    "# Python Advanced - Assignment 20"
   ]
  },
  {
   "cell_type": "markdown",
   "id": "de2b407f",
   "metadata": {},
   "source": [
    "### 1. Compare and contrast the float and Decimal classes' benefits and drawbacks."
   ]
  },
  {
   "cell_type": "markdown",
   "id": "64769e6e",
   "metadata": {},
   "source": [
    "Both float and decimal are used to store fractional numbers with decimal points. The differences are:\n",
    "1) Float is much faster in basic operations and require less memory as they are done in binary form. The drawback is that it does not calculate with as hugh precision as decimal. So, it is not suitable in applications where we require precise and significant data.\n",
    "2) The main advantage of decimal is it's high precision. It can calculate and store the results with high significance and high precision - which also leads to the main drawback of memory-usage. Since, it stores with much precision, much memory is needed when compared to float. So, performance is less."
   ]
  },
  {
   "cell_type": "markdown",
   "id": "c5b59d8f",
   "metadata": {},
   "source": [
    "### 2. Decimal('1.200') and Decimal('1.2') are two objects to consider. In what sense are these the same object? Are these just two ways of representing the exact same value, or do they correspond to different internal states?"
   ]
  },
  {
   "cell_type": "markdown",
   "id": "d1dcee45",
   "metadata": {},
   "source": [
    "The 2 values are equal when we look at it with mathematical-value perspective. But internally, they are stored differently. Decimal(1.200) has higher precision than Decimal(1.2) so the former will also take a bit more memory."
   ]
  },
  {
   "cell_type": "markdown",
   "id": "1f78e351",
   "metadata": {},
   "source": [
    "### 3. What happens if the equality of Decimal('1.200') and Decimal('1.2') is checked?"
   ]
  },
  {
   "cell_type": "code",
   "execution_count": 1,
   "id": "f6e75779",
   "metadata": {},
   "outputs": [
    {
     "data": {
      "text/plain": [
       "True"
      ]
     },
     "execution_count": 1,
     "metadata": {},
     "output_type": "execute_result"
    }
   ],
   "source": [
    "from decimal import Decimal\n",
    "Decimal('1.200')==Decimal('1.2')"
   ]
  },
  {
   "cell_type": "markdown",
   "id": "5930cdbe",
   "metadata": {},
   "source": [
    "### 4. Why is it preferable to start a Decimal object with a string rather than a floating-point value?"
   ]
  },
  {
   "cell_type": "markdown",
   "id": "bf16319d",
   "metadata": {},
   "source": [
    "The major reason why it is preferable to start Decimal object with string is to maintain and know the precision of that object. If instead, a floating value is used and the value is 1.200, the zeros would be discarded and we will lose the significance of that object along with the precision. So, it is used to preserve the precision of the decimal object."
   ]
  },
  {
   "cell_type": "markdown",
   "id": "dd8f9963",
   "metadata": {},
   "source": [
    "### 5. In an arithmetic phrase, how simple is it to combine Decimal objects with integers?"
   ]
  },
  {
   "cell_type": "markdown",
   "id": "2dc4c68b",
   "metadata": {},
   "source": [
    "It is very simple."
   ]
  },
  {
   "cell_type": "code",
   "execution_count": 2,
   "id": "cd49baf9",
   "metadata": {},
   "outputs": [
    {
     "name": "stdout",
     "output_type": "stream",
     "text": [
      "4.200\n",
      "4.2\n"
     ]
    }
   ],
   "source": [
    "a = Decimal('1.200')\n",
    "b = 3\n",
    "print(a+b)\n",
    "\n",
    "a = Decimal('1.2')\n",
    "b = 3\n",
    "print(a+b)"
   ]
  },
  {
   "cell_type": "markdown",
   "id": "8fa4c7fd",
   "metadata": {},
   "source": [
    "### 6. Can Decimal objects and floating-point values be combined easily?"
   ]
  },
  {
   "cell_type": "markdown",
   "id": "fc6f32d0",
   "metadata": {},
   "source": [
    "Python will throw TypeError if Decimal and floating-point values are combined using basic mathematical operation. We would have to typecast before performing such operation if we want to get result."
   ]
  },
  {
   "cell_type": "code",
   "execution_count": 3,
   "id": "ef8d253d",
   "metadata": {},
   "outputs": [
    {
     "name": "stdout",
     "output_type": "stream",
     "text": [
      "Cannot add decimal and float\n"
     ]
    }
   ],
   "source": [
    "a = Decimal('1.200')\n",
    "b = 3.5\n",
    "try:\n",
    "    print(a+b)\n",
    "except:\n",
    "    print('Cannot add decimal and float')"
   ]
  },
  {
   "cell_type": "markdown",
   "id": "7d1aff4a",
   "metadata": {},
   "source": [
    "### 7. Using the Fraction class but not the Decimal class, give an example of a quantity that can be expressed with absolute precision."
   ]
  },
  {
   "cell_type": "code",
   "execution_count": 4,
   "id": "5b4e16eb",
   "metadata": {},
   "outputs": [
    {
     "name": "stdout",
     "output_type": "stream",
     "text": [
      "1/4\n"
     ]
    }
   ],
   "source": [
    "from fractions import Fraction\n",
    "fract = Fraction(1, 4)\n",
    "print(fract)"
   ]
  },
  {
   "cell_type": "markdown",
   "id": "9458dc90",
   "metadata": {},
   "source": [
    "### 8. Describe a quantity that can be accurately expressed by the Decimal or Fraction classes but not by a floating-point value."
   ]
  },
  {
   "cell_type": "markdown",
   "id": "9a996305",
   "metadata": {},
   "source": [
    "Value - 0.33 or Fraction 1/3\n",
    "1) using decimal we can precisely express 0.33 with the mentioned precision\n",
    "2) using fraction we can accurately express 1/3\n",
    "3) using floating point- we cannot express accurately as same as decimal. Either the floating point will be rounded off after a certain number of digits or it will just truncate  - so the value will lose its significance  "
   ]
  },
  {
   "cell_type": "code",
   "execution_count": 5,
   "id": "ee69abf3",
   "metadata": {},
   "outputs": [
    {
     "name": "stdout",
     "output_type": "stream",
     "text": [
      "0.3333333333333333333333333333333333333333\n",
      "1/3\n",
      "0.3333333333333333\n"
     ]
    }
   ],
   "source": [
    "dec = Decimal('0.3333333333333333333333333333333333333333')\n",
    "frac = Fraction(1, 3)\n",
    "flt = float('0.3333333333333333333333333333333333333333')\n",
    "print(dec)\n",
    "print(frac)\n",
    "print(flt)"
   ]
  },
  {
   "cell_type": "markdown",
   "id": "4752b710",
   "metadata": {},
   "source": [
    "### 9.Consider the following two fraction objects: Fraction(1, 2) and Fraction(5, 10). Is the internal state of these two objects the same? Why do you think that is?"
   ]
  },
  {
   "cell_type": "code",
   "execution_count": 6,
   "id": "413c1de0",
   "metadata": {},
   "outputs": [
    {
     "name": "stdout",
     "output_type": "stream",
     "text": [
      "1/2 2495854093952\n",
      "1/2 2495855150368\n"
     ]
    }
   ],
   "source": [
    "a = Fraction(1,2)\n",
    "print(a, id(a))\n",
    "b = Fraction(5,10)\n",
    "print(b, id(b))"
   ]
  },
  {
   "cell_type": "markdown",
   "id": "b30f9987",
   "metadata": {},
   "source": [
    "As we can see, 5/10 will be reduced to its least form - 1/2, but both objects internally would be considered different as we can see both of them have different id."
   ]
  },
  {
   "cell_type": "markdown",
   "id": "d1b63f16",
   "metadata": {},
   "source": [
    "### 10. How do the Fraction class and the integer type (int) relate to each other? Containment or inheritance?"
   ]
  },
  {
   "cell_type": "markdown",
   "id": "613876c8",
   "metadata": {},
   "source": [
    "There is no inheritance happening. Instead the Fraction class is related with integer in the sense that Fraction takes two integers as the input. There is a containment relation."
   ]
  }
 ],
 "metadata": {
  "kernelspec": {
   "display_name": "Python 3 (ipykernel)",
   "language": "python",
   "name": "python3"
  },
  "language_info": {
   "codemirror_mode": {
    "name": "ipython",
    "version": 3
   },
   "file_extension": ".py",
   "mimetype": "text/x-python",
   "name": "python",
   "nbconvert_exporter": "python",
   "pygments_lexer": "ipython3",
   "version": "3.11.4"
  }
 },
 "nbformat": 4,
 "nbformat_minor": 5
}
