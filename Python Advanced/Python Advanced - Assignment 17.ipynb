{
 "cells": [
  {
   "cell_type": "markdown",
   "id": "38344330",
   "metadata": {},
   "source": [
    "# Python Advanced - Assignment 17"
   ]
  },
  {
   "cell_type": "markdown",
   "id": "bb32909e",
   "metadata": {},
   "source": [
    "### Q1. Explain the difference between greedy and non-greedy syntax with visual terms in as few words as possible. What is the bare minimum effort required to transform a greedy pattern into a non-greedy one? What characters or characters can you introduce or change?"
   ]
  },
  {
   "cell_type": "markdown",
   "id": "06737855",
   "metadata": {},
   "source": [
    "Greedy syntax matches the longest possible string, while non-greedy matches the shortest."
   ]
  },
  {
   "cell_type": "code",
   "execution_count": 1,
   "id": "0e3ed6b0",
   "metadata": {},
   "outputs": [
    {
     "name": "stdout",
     "output_type": "stream",
     "text": [
      "['aaaaa', '', 'aa', '']\n",
      "['', 'a', '', 'a', '', 'a', '', 'a', '', 'a', '', '', 'a', '', 'a', '']\n"
     ]
    }
   ],
   "source": [
    "import re\n",
    "print(re.findall(\"a*\", \"aaaaabaa\")) # Greedy\n",
    "print(re.findall(\"a*?\", \"aaaaabaa\")) # Non-greedy"
   ]
  },
  {
   "cell_type": "markdown",
   "id": "77714db1",
   "metadata": {},
   "source": [
    "### Q2. When exactly does greedy versus non-greedy make a difference?  What if you're looking for a non-greedy match but the only one available is greedy?"
   ]
  },
  {
   "cell_type": "markdown",
   "id": "6656afcc",
   "metadata": {},
   "source": [
    "Greedy will find the string with longest repitition of the pattern given - as earlier stated, it will find the longest possible string with the pattern. And non-greedy will return the strings with as few repitions of the pattern as possible. If only greedy is available we will need to manually find matching patterns using custom-functions"
   ]
  },
  {
   "cell_type": "markdown",
   "id": "03f7f17b",
   "metadata": {},
   "source": [
    "### Q3. In a simple match of a string, which looks only for one match and does not do any replacement, is the use of a nontagged group likely to make any practical difference?"
   ]
  },
  {
   "cell_type": "markdown",
   "id": "1eb63590",
   "metadata": {},
   "source": [
    "No, there is not particular significance of using non-tagged group when we simply want to match a string. Non-tagged group is useful only if we want to use that matched string later to modify it or replace it etc."
   ]
  },
  {
   "cell_type": "markdown",
   "id": "b98aa753",
   "metadata": {},
   "source": [
    "### Q4. Describe a scenario in which using a nontagged category would have a significant impact on the program's outcomes."
   ]
  },
  {
   "cell_type": "markdown",
   "id": "eb69cc29",
   "metadata": {},
   "source": [
    "Non-tagged group can have significant impact when we want to omit some characters that are not important when a matching pattern is found. For eg. the separators are not needed when capturing data like in key:value pair pattern, the separater `:` can be omited using non-tagged groups. Same can be the case for decimal numbers - if we only want the values before and after the decimal point, we can omit the point. "
   ]
  },
  {
   "cell_type": "markdown",
   "id": "c8af9759",
   "metadata": {},
   "source": [
    "### Q5. Unlike a normal regex pattern, a look-ahead condition does not consume the characters it examines. Describe a situation in which this could make a difference in the results of your programme."
   ]
  },
  {
   "cell_type": "markdown",
   "id": "3dc79bb2",
   "metadata": {},
   "source": [
    "Password Validation is a good situation where lookahead condtion can help. Without lookahead, we would need multiple regex to check each pattern which would consume more time and more complex also"
   ]
  },
  {
   "cell_type": "code",
   "execution_count": 2,
   "id": "3fa8a805",
   "metadata": {},
   "outputs": [
    {
     "name": "stdout",
     "output_type": "stream",
     "text": [
      "<re.Match object; span=(0, 6), match='abc_12'>\n",
      "None\n"
     ]
    }
   ],
   "source": [
    "# password conditions:\n",
    "# length - min 5\n",
    "# min 1 lowercase\n",
    "# 1 underscore\n",
    "# min 1 digit\n",
    "pattern = r'^(?=.*[a-z])(?=.*\\d)(?=.*_).{5,}$'\n",
    "pass1 = \"abc_12\"\n",
    "pass2 = \"ab_\"\n",
    "print(re.match(pattern, pass1))\n",
    "print(re.match(pattern, pass2))"
   ]
  },
  {
   "cell_type": "markdown",
   "id": "77e3da2c",
   "metadata": {},
   "source": [
    "### Q6. In standard expressions, what is the difference between positive look-ahead and negative look-ahead?"
   ]
  },
  {
   "cell_type": "markdown",
   "id": "e863ec6a",
   "metadata": {},
   "source": [
    "1) Positive look-ahead is used to find specific pattern immediately to the right of the current position.\n",
    "2) Negative look-ahead is used to find specific pattern must not appear immediately to the right of the current position in the text or behind the current position"
   ]
  },
  {
   "cell_type": "markdown",
   "id": "d0186865",
   "metadata": {},
   "source": [
    "### Q7. What is the benefit of referring to groups by name rather than by number in a standard expression?"
   ]
  },
  {
   "cell_type": "markdown",
   "id": "752cd59e",
   "metadata": {},
   "source": [
    "The only benefit to referring groups by names is that it increases the readabilty and clarity to the groups ypu create."
   ]
  },
  {
   "cell_type": "markdown",
   "id": "bd22746d",
   "metadata": {},
   "source": [
    "### Q8. Can you identify repeated items within a target string using named groups, as in \"The cow jumped over the moon\"?"
   ]
  },
  {
   "cell_type": "code",
   "execution_count": 3,
   "id": "8369a988",
   "metadata": {},
   "outputs": [
    {
     "data": {
      "text/plain": [
       "[]"
      ]
     },
     "execution_count": 3,
     "metadata": {},
     "output_type": "execute_result"
    }
   ],
   "source": [
    "string = \"The cow jumped over the moon\"\n",
    "pattern1 = re.compile(r'(?P<w1>sun)',re.I)\n",
    "pattern1.findall(string)"
   ]
  },
  {
   "cell_type": "code",
   "execution_count": 4,
   "id": "3053e5f6",
   "metadata": {},
   "outputs": [
    {
     "data": {
      "text/plain": [
       "['over']"
      ]
     },
     "execution_count": 4,
     "metadata": {},
     "output_type": "execute_result"
    }
   ],
   "source": [
    "pattern2 = re.compile(r'(?P<w1>over)',re.I)\n",
    "pattern2.findall(string)"
   ]
  },
  {
   "cell_type": "code",
   "execution_count": 5,
   "id": "3b83bb21",
   "metadata": {},
   "outputs": [
    {
     "data": {
      "text/plain": [
       "['The', 'the']"
      ]
     },
     "execution_count": 5,
     "metadata": {},
     "output_type": "execute_result"
    }
   ],
   "source": [
    "pattern3 = re.compile(r'(?P<w1>the)',re.I)\n",
    "pattern3.findall(string)"
   ]
  },
  {
   "cell_type": "markdown",
   "id": "2eedfcdd",
   "metadata": {},
   "source": [
    "### Q9. When parsing a string, what is at least one thing that the Scanner interface does for you that the re.findall feature does not?"
   ]
  },
  {
   "cell_type": "markdown",
   "id": "e0112e72",
   "metadata": {},
   "source": [
    "With the Scanner interface, we can create a more precise and customized parsing process which can help in complex parsing. re.findall does not provide such vast customization - it helps only in returning the matched pattern."
   ]
  },
  {
   "cell_type": "markdown",
   "id": "4321afa7",
   "metadata": {},
   "source": [
    "### Q10. Does a scanner object have to be named scanner?"
   ]
  },
  {
   "cell_type": "markdown",
   "id": "2ec32ce4",
   "metadata": {},
   "source": [
    "No, it may have any name."
   ]
  }
 ],
 "metadata": {
  "kernelspec": {
   "display_name": "Python 3 (ipykernel)",
   "language": "python",
   "name": "python3"
  },
  "language_info": {
   "codemirror_mode": {
    "name": "ipython",
    "version": 3
   },
   "file_extension": ".py",
   "mimetype": "text/x-python",
   "name": "python",
   "nbconvert_exporter": "python",
   "pygments_lexer": "ipython3",
   "version": "3.11.4"
  }
 },
 "nbformat": 4,
 "nbformat_minor": 5
}
