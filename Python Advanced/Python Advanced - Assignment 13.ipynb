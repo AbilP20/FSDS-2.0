{
 "cells": [
  {
   "cell_type": "markdown",
   "id": "972f07b4",
   "metadata": {},
   "source": [
    "# Python Advanced - Assignment 13"
   ]
  },
  {
   "cell_type": "markdown",
   "id": "1a03a0fc",
   "metadata": {},
   "source": [
    "### Q1. Can you create a programme or function that employs both positive and negative indexing? Is there any repercussion if you do so?"
   ]
  },
  {
   "cell_type": "code",
   "execution_count": 21,
   "id": "d3285529",
   "metadata": {},
   "outputs": [],
   "source": [
    "def get_index(lst, idx):\n",
    "    return lst[idx]\n",
    "# while negative indexes can be helpful many a times, they also tend to make the code less readable easily as we have to start\n",
    "# from the last. It is always easy to start form beginning as in every programming lang, we know indexes start from 0."
   ]
  },
  {
   "cell_type": "code",
   "execution_count": 22,
   "id": "de3577a3",
   "metadata": {},
   "outputs": [
    {
     "data": {
      "text/plain": [
       "2"
      ]
     },
     "execution_count": 22,
     "metadata": {},
     "output_type": "execute_result"
    }
   ],
   "source": [
    "a = [1,2,3,4,5]\n",
    "get_index(a,1)"
   ]
  },
  {
   "cell_type": "code",
   "execution_count": 23,
   "id": "bd4d3e0c",
   "metadata": {},
   "outputs": [
    {
     "data": {
      "text/plain": [
       "5"
      ]
     },
     "execution_count": 23,
     "metadata": {},
     "output_type": "execute_result"
    }
   ],
   "source": [
    "get_index(a,-1)"
   ]
  },
  {
   "cell_type": "markdown",
   "id": "1fa4a58d",
   "metadata": {},
   "source": [
    "### Q2. What is the most effective way of starting with 1,000 elements in a Python list? Assume that all elements should be set to the same value."
   ]
  },
  {
   "cell_type": "code",
   "execution_count": 24,
   "id": "83671f40",
   "metadata": {},
   "outputs": [
    {
     "name": "stdout",
     "output_type": "stream",
     "text": [
      "CPU times: total: 0 ns\n",
      "Wall time: 0 ns\n"
     ]
    }
   ],
   "source": [
    "%time\n",
    "a = [1]*1000"
   ]
  },
  {
   "cell_type": "code",
   "execution_count": 25,
   "id": "7477bbf8",
   "metadata": {},
   "outputs": [
    {
     "name": "stdout",
     "output_type": "stream",
     "text": [
      "CPU times: total: 0 ns\n",
      "Wall time: 0 ns\n"
     ]
    }
   ],
   "source": [
    "%time\n",
    "a = [1 for i in range(1000)]"
   ]
  },
  {
   "cell_type": "code",
   "execution_count": 26,
   "id": "fe572e58",
   "metadata": {},
   "outputs": [
    {
     "name": "stdout",
     "output_type": "stream",
     "text": [
      "CPU times: total: 0 ns\n",
      "Wall time: 0 ns\n"
     ]
    }
   ],
   "source": [
    "%time\n",
    "a = []\n",
    "for i in range(1000):\n",
    "    a.append(1)"
   ]
  },
  {
   "cell_type": "markdown",
   "id": "662a1e65",
   "metadata": {},
   "source": [
    "Although the above 3 may be used according to some case, but the first 2 are better ways to create a list with 1000 elements"
   ]
  },
  {
   "cell_type": "markdown",
   "id": "43cb01a1",
   "metadata": {},
   "source": [
    "### Q3. How do you slice a list to get any other part while missing the rest? (For example, suppose you want to make a new list with the elements first, third, fifth, seventh, and so on.)"
   ]
  },
  {
   "cell_type": "code",
   "execution_count": 27,
   "id": "cc823060",
   "metadata": {},
   "outputs": [
    {
     "name": "stdout",
     "output_type": "stream",
     "text": [
      "[1, 3, 5, 7, 9]\n",
      "[1, 3, 5, 7, 9]\n",
      "[1, 3, 5, 7, 9]\n"
     ]
    }
   ],
   "source": [
    "a = [1,2,3,4,5,6,7,8,9]\n",
    "print(a[::2])\n",
    "print(a[0:10:2])\n",
    "print(a[0::2])\n",
    "# the 3rd parameter defines the step size"
   ]
  },
  {
   "cell_type": "markdown",
   "id": "b60f36c0",
   "metadata": {},
   "source": [
    "### Q4. Explain the distinctions between indexing and slicing."
   ]
  },
  {
   "cell_type": "markdown",
   "id": "4a5318d5",
   "metadata": {},
   "source": [
    "1) `Indexing` - Indexing refers to getting a single value from a list, tuple, string etc. If the index value given is out of bounds, then error is thrown. For eg. list[0], list[10], list[-1] (If list does not contain 10 elements, then list[10] throws error.                                                                                                                              \n",
    "2) `Slicing` - Slicing is getting more than 1 value from that data type. If the range is greater the number of elements, then no error is thrown. For eg. list[0:10], list[15:] (if list contains only 5 elements, then list[0:10] will show only those 5, and  list[15:] shows an empty list "
   ]
  },
  {
   "cell_type": "code",
   "execution_count": 28,
   "id": "f678774d",
   "metadata": {},
   "outputs": [
    {
     "name": "stdout",
     "output_type": "stream",
     "text": [
      "1\n"
     ]
    },
    {
     "ename": "IndexError",
     "evalue": "list index out of range",
     "output_type": "error",
     "traceback": [
      "\u001b[1;31m---------------------------------------------------------------------------\u001b[0m",
      "\u001b[1;31mIndexError\u001b[0m                                Traceback (most recent call last)",
      "Cell \u001b[1;32mIn[28], line 3\u001b[0m\n\u001b[0;32m      1\u001b[0m lst \u001b[38;5;241m=\u001b[39m [\u001b[38;5;241m1\u001b[39m,\u001b[38;5;241m2\u001b[39m,\u001b[38;5;241m3\u001b[39m,\u001b[38;5;241m4\u001b[39m,\u001b[38;5;241m5\u001b[39m]\n\u001b[0;32m      2\u001b[0m \u001b[38;5;28mprint\u001b[39m(a[\u001b[38;5;241m0\u001b[39m])\n\u001b[1;32m----> 3\u001b[0m \u001b[38;5;28mprint\u001b[39m(a[\u001b[38;5;241m10\u001b[39m])\n",
      "\u001b[1;31mIndexError\u001b[0m: list index out of range"
     ]
    }
   ],
   "source": [
    "lst = [1,2,3,4,5]\n",
    "print(a[0])\n",
    "print(a[10])"
   ]
  },
  {
   "cell_type": "code",
   "execution_count": 29,
   "id": "332f5be1",
   "metadata": {},
   "outputs": [
    {
     "name": "stdout",
     "output_type": "stream",
     "text": [
      "[1, 2, 3, 4, 5, 6, 7, 8, 9]\n",
      "[]\n"
     ]
    }
   ],
   "source": [
    "print(a[0:10])\n",
    "print(a[15:])"
   ]
  },
  {
   "cell_type": "markdown",
   "id": "845dc7dd",
   "metadata": {},
   "source": [
    "### Q5. What happens if one of the slicing expression's indexes is out of range?"
   ]
  },
  {
   "cell_type": "markdown",
   "id": "2921384b",
   "metadata": {},
   "source": [
    "The slicing will happen till the last index of the list. No error will be thrown. Example is given above."
   ]
  },
  {
   "cell_type": "markdown",
   "id": "5c26a595",
   "metadata": {},
   "source": [
    "### Q6. If you pass a list to a function, and if you want the function to be able to change the values of the list—so that the list is different after the function returns—what action should you avoid?"
   ]
  },
  {
   "cell_type": "markdown",
   "id": "384140dc",
   "metadata": {},
   "source": [
    "We `do not need to return that list` and `no need to reassign it` to be able to see the change as python works on pass by object reference. When we pass a list as argument, the address of that list (i.e. the reference of that object) is passed, so whatever change happens inside the function in a list will be reflected without returning that list or reassigning it again."
   ]
  },
  {
   "cell_type": "code",
   "execution_count": 30,
   "id": "ec1c71f9",
   "metadata": {},
   "outputs": [
    {
     "data": {
      "text/plain": [
       "[1, 2, 3, 4, 5]"
      ]
     },
     "execution_count": 30,
     "metadata": {},
     "output_type": "execute_result"
    }
   ],
   "source": [
    "def add(lst, val):\n",
    "    lst.append(val)\n",
    "a = [1,2,3,4]\n",
    "add(a,5)\n",
    "a"
   ]
  },
  {
   "cell_type": "markdown",
   "id": "3521f97d",
   "metadata": {},
   "source": [
    "### Q7. What is the concept of an unbalanced matrix?"
   ]
  },
  {
   "cell_type": "markdown",
   "id": "73e3ca98",
   "metadata": {},
   "source": [
    "no. of rows is not equal to no. of columns"
   ]
  },
  {
   "cell_type": "markdown",
   "id": "12b4a008",
   "metadata": {},
   "source": [
    "### Q8. Why is it necessary to use either list comprehension or a loop to create arbitrarily large matrices?"
   ]
  },
  {
   "cell_type": "markdown",
   "id": "a3007a3f",
   "metadata": {},
   "source": [
    "It is very important to write a code that is easily understandable, readable and also memory efficient. Comprehension or a loop to create large matrices help in doing this. \n",
    "We could also use line by line code, iteration to make big matrices, but they may also consume more time both for the computer as well as our time"
   ]
  }
 ],
 "metadata": {
  "kernelspec": {
   "display_name": "Python 3 (ipykernel)",
   "language": "python",
   "name": "python3"
  },
  "language_info": {
   "codemirror_mode": {
    "name": "ipython",
    "version": 3
   },
   "file_extension": ".py",
   "mimetype": "text/x-python",
   "name": "python",
   "nbconvert_exporter": "python",
   "pygments_lexer": "ipython3",
   "version": "3.11.4"
  }
 },
 "nbformat": 4,
 "nbformat_minor": 5
}
