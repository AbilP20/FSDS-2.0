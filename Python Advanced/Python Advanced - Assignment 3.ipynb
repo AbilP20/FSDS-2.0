{
 "cells": [
  {
   "cell_type": "markdown",
   "id": "504c93c7",
   "metadata": {},
   "source": [
    "# Python Advanced - Assignment 3"
   ]
  },
  {
   "cell_type": "markdown",
   "id": "198ac188",
   "metadata": {},
   "source": [
    "### 1. What is the concept of an abstract superclass?"
   ]
  },
  {
   "cell_type": "markdown",
   "id": "78572109",
   "metadata": {},
   "source": [
    "An abstract superclass is a class that tells us what all functions the class provides but it does not describe it's usage, i.e. it is not implemented in that class, instead it is overriden and implemented in the child class.  "
   ]
  },
  {
   "cell_type": "markdown",
   "id": "2c718e15",
   "metadata": {},
   "source": [
    "### 2. What happens when a class statement's top level contains a basic assignment statement?"
   ]
  },
  {
   "cell_type": "markdown",
   "id": "c36fc009",
   "metadata": {},
   "source": [
    "It is called a class-level attribute when a class contains an assignment statement at it's top level."
   ]
  },
  {
   "cell_type": "markdown",
   "id": "bec55050",
   "metadata": {},
   "source": [
    "### 3. Why does a class need to manually call a superclass's __init__ method?"
   ]
  },
  {
   "cell_type": "markdown",
   "id": "18aae133",
   "metadata": {},
   "source": [
    "If a child class does not have a constructor `(__init__)`, it will call the parent's constructor by default. But if the child class has a constructor apart from parent class, then by the concept of inheritance and method over-riding, the child class' constructor is called. So, to also call the superclass's constructor, we have to mannually do it "
   ]
  },
  {
   "cell_type": "code",
   "execution_count": 1,
   "id": "09623bd4",
   "metadata": {},
   "outputs": [
    {
     "name": "stdout",
     "output_type": "stream",
     "text": [
      "Hello, Harsh 19\n"
     ]
    }
   ],
   "source": [
    "class abc:\n",
    "    def __init__(self,name):\n",
    "        self.name = name\n",
    "class abc1(abc):\n",
    "    def __init__(self,name1,age):\n",
    "        abc.__init__(self,name1)\n",
    "        self.age = age\n",
    "    def disp(self):\n",
    "        print(\"Hello,\",self.name,self.age)\n",
    "obj = abc1('Harsh',19)\n",
    "obj.disp()"
   ]
  },
  {
   "cell_type": "markdown",
   "id": "821418c3",
   "metadata": {},
   "source": [
    "### 4. How can you augment, instead of completely replacing, an inherited method?"
   ]
  },
  {
   "cell_type": "markdown",
   "id": "f38df69f",
   "metadata": {},
   "source": [
    "`super()` method can be used for this purpose."
   ]
  },
  {
   "cell_type": "markdown",
   "id": "1c872a18",
   "metadata": {},
   "source": [
    "### 5. How is the local scope of a class different from that of a function?"
   ]
  },
  {
   "cell_type": "markdown",
   "id": "1617cc68",
   "metadata": {},
   "source": [
    "A variable inside a function has a lifetime same as that of a function. It is created when the function is called and deleted as soon as the function ends. In class, the varibles are called class-attributes. They can be called using the class_name itself or even from outside using an instance of that class."
   ]
  }
 ],
 "metadata": {
  "kernelspec": {
   "display_name": "Python 3 (ipykernel)",
   "language": "python",
   "name": "python3"
  },
  "language_info": {
   "codemirror_mode": {
    "name": "ipython",
    "version": 3
   },
   "file_extension": ".py",
   "mimetype": "text/x-python",
   "name": "python",
   "nbconvert_exporter": "python",
   "pygments_lexer": "ipython3",
   "version": "3.11.3"
  }
 },
 "nbformat": 4,
 "nbformat_minor": 5
}
