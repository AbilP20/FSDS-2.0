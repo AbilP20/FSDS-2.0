{
 "cells": [
  {
   "cell_type": "markdown",
   "id": "b711fec4",
   "metadata": {},
   "source": [
    "# Python Advanced - Assignment 5"
   ]
  },
  {
   "cell_type": "markdown",
   "id": "6bdf831e",
   "metadata": {},
   "source": [
    "### Q1. What is the meaning of multiple inheritance?"
   ]
  },
  {
   "cell_type": "markdown",
   "id": "89d6d970",
   "metadata": {},
   "source": [
    "In multiple inheritance, a class(child class) has many parents. The child class/derived class inherits attributes and methods of more than 1 parent class."
   ]
  },
  {
   "cell_type": "markdown",
   "id": "f8f3dcb4",
   "metadata": {},
   "source": [
    "### Q2. What is the concept of delegation?"
   ]
  },
  {
   "cell_type": "markdown",
   "id": "2bb858b9",
   "metadata": {},
   "source": [
    "Concept of delegation is simply using instance of a class-A in another class-B so that we can use some functions of A in B. Delegation does not require inheritance. "
   ]
  },
  {
   "cell_type": "code",
   "execution_count": 1,
   "id": "86756a29",
   "metadata": {},
   "outputs": [
    {
     "name": "stdout",
     "output_type": "stream",
     "text": [
      "Hello!\n",
      "Nihal\n"
     ]
    }
   ],
   "source": [
    "class A:\n",
    "    def disp(self):\n",
    "        print('Hello!')\n",
    "class B:\n",
    "    def __init__(self,name):\n",
    "        self.name = name\n",
    "        self.obj = A()\n",
    "    def hello(self):\n",
    "        self.obj.disp();print(self.name)\n",
    "obj = B('Nihal')\n",
    "obj.hello()"
   ]
  },
  {
   "cell_type": "markdown",
   "id": "0ae91129",
   "metadata": {},
   "source": [
    "### Q3. What is the concept of composition?"
   ]
  },
  {
   "cell_type": "markdown",
   "id": "e66718bd",
   "metadata": {},
   "source": [
    "In composition, we use one or more instances of a class-A in another class-B. Composition means a `has-a` relation. In the context of class A and B(given in the starting line), there is a `B has-a A` relation betweeen the 2 classes."
   ]
  },
  {
   "cell_type": "code",
   "execution_count": 2,
   "id": "cc3bf143",
   "metadata": {},
   "outputs": [
    {
     "name": "stdout",
     "output_type": "stream",
     "text": [
      "Harsh 19\n",
      "Nihal 20\n"
     ]
    }
   ],
   "source": [
    "class A:\n",
    "    def  __init__(self,name,age):\n",
    "        self.name = name\n",
    "        self.age = age\n",
    "class B:\n",
    "    def __init__(self):\n",
    "        self.obj1 = A('Harsh',19)\n",
    "        self.obj2 = A('Nihal',20)\n",
    "    def disp(self):\n",
    "        print(self.obj1.name,self.obj1.age)\n",
    "        print(self.obj2.name,self.obj2.age)\n",
    "obj = B()\n",
    "obj.disp()"
   ]
  },
  {
   "cell_type": "markdown",
   "id": "f9854302",
   "metadata": {},
   "source": [
    "### Q4. What are bound methods and how do we use them?"
   ]
  },
  {
   "cell_type": "markdown",
   "id": "f48139ce",
   "metadata": {},
   "source": [
    "A bound method is a simple method in a class which has `self` as its first parameter. Bound methods need instances of the class to be accessed and that's why they are also called instance methods."
   ]
  },
  {
   "cell_type": "code",
   "execution_count": 3,
   "id": "01f4db21",
   "metadata": {},
   "outputs": [
    {
     "name": "stdout",
     "output_type": "stream",
     "text": [
      "Hi, Nihal\n"
     ]
    }
   ],
   "source": [
    "class abc:\n",
    "    def m1(self,name): #bound method\n",
    "        print('Hi,',name)\n",
    "obj = abc()\n",
    "obj.m1('Nihal')"
   ]
  },
  {
   "cell_type": "markdown",
   "id": "2558f2e8",
   "metadata": {},
   "source": [
    "### Q5. What is the purpose of pseudoprivate attributes?"
   ]
  },
  {
   "cell_type": "markdown",
   "id": "acb5d8c7",
   "metadata": {},
   "source": [
    "Pseudoprivate attributes is used to make an attribute private or internal to the class. Python does not have have true data encapsulation or true private variables. The term \"pseudoprivate\" is used because it provides a form of name mangling to make the attribute harder to access accidentally; But we can access these by using some speciale names."
   ]
  },
  {
   "cell_type": "code",
   "execution_count": 4,
   "id": "05797be5",
   "metadata": {},
   "outputs": [],
   "source": [
    "class A:\n",
    "    __dept = 'CS'\n",
    "class B(A):\n",
    "    def disp(self):\n",
    "        print(self.__dept)\n",
    "class C(A):\n",
    "    def disp(self):\n",
    "        print(self._A__dept)"
   ]
  },
  {
   "cell_type": "code",
   "execution_count": 5,
   "id": "4ec97899",
   "metadata": {},
   "outputs": [
    {
     "name": "stdout",
     "output_type": "stream",
     "text": [
      "Can't access the variable.\n"
     ]
    }
   ],
   "source": [
    "a = B()\n",
    "try:\n",
    "    a.disp()\n",
    "except:\n",
    "    print(\"Can't access the variable.\")"
   ]
  },
  {
   "cell_type": "markdown",
   "id": "c3537fbb",
   "metadata": {},
   "source": [
    "AS SAID EARLIER, PYTHON PSUEDOPRIVATE VARIABLE IS NOT TRULY PRIVATE. WE CAN ACCESS PRIVATE VARIABLES USING `NAME MANGLING`."
   ]
  },
  {
   "cell_type": "code",
   "execution_count": 6,
   "id": "2a15c35f",
   "metadata": {},
   "outputs": [
    {
     "name": "stdout",
     "output_type": "stream",
     "text": [
      "CS\n"
     ]
    }
   ],
   "source": [
    "# in class C, we have used name mangling to access the private variable\n",
    "a = C()\n",
    "try:\n",
    "    a.disp()\n",
    "except:\n",
    "    print(\"Can't access the variable.\")"
   ]
  }
 ],
 "metadata": {
  "kernelspec": {
   "display_name": "Python 3 (ipykernel)",
   "language": "python",
   "name": "python3"
  },
  "language_info": {
   "codemirror_mode": {
    "name": "ipython",
    "version": 3
   },
   "file_extension": ".py",
   "mimetype": "text/x-python",
   "name": "python",
   "nbconvert_exporter": "python",
   "pygments_lexer": "ipython3",
   "version": "3.11.3"
  }
 },
 "nbformat": 4,
 "nbformat_minor": 5
}
