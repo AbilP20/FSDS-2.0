{
 "cells": [
  {
   "cell_type": "markdown",
   "id": "5897c883",
   "metadata": {},
   "source": [
    "# Python Advanced - Assignment 2"
   ]
  },
  {
   "cell_type": "markdown",
   "id": "298cf2d1",
   "metadata": {},
   "source": [
    "### Q1. What is the relationship between classes and modules?"
   ]
  },
  {
   "cell_type": "markdown",
   "id": "3593f3e3",
   "metadata": {},
   "source": [
    "A class is simply a blueprint of a real-world entity(object). It contains some attributes, some properties and some functions specific to that class. A module is a collection of various related classes or classes which use each other's attributes or methods. A module is a python file with .py"
   ]
  },
  {
   "cell_type": "markdown",
   "id": "e51fa1e5",
   "metadata": {},
   "source": [
    "### Q2. How do you make instances and classes?"
   ]
  },
  {
   "cell_type": "code",
   "execution_count": 1,
   "id": "460cf183",
   "metadata": {},
   "outputs": [
    {
     "name": "stdout",
     "output_type": "stream",
     "text": [
      "Hello, Harsh\n"
     ]
    }
   ],
   "source": [
    "# TO CREATE CLASS\n",
    "class abc:\n",
    "    def __init__(self):\n",
    "        self.name = 'Harsh'\n",
    "    def disp(self):\n",
    "        print(\"Hello,\",self.name)\n",
    "\n",
    "# TO CREATE INSTANCE\n",
    "obj = abc()\n",
    "obj.disp()"
   ]
  },
  {
   "cell_type": "markdown",
   "id": "dd322d01",
   "metadata": {},
   "source": [
    "### Q3. Where and how should be class attributes created?"
   ]
  },
  {
   "cell_type": "markdown",
   "id": "f0e285cf",
   "metadata": {},
   "source": [
    "Class attributes is shared among all instances of a class. In practise, class attributes are mentioned before writing the constructor or a method. In general, class attributes are all such attributes written outside any method"
   ]
  },
  {
   "cell_type": "code",
   "execution_count": 2,
   "id": "49a286f5",
   "metadata": {},
   "outputs": [],
   "source": [
    "class CS_dept:\n",
    "    dept = 'Computer Science'  # class attribute\n",
    "    faculty_count = 10         # class attribute\n",
    "    def __init__(self,name,age):\n",
    "        self.name = name   # instance attribute\n",
    "        self.age = age    # instance attribute\n",
    "        CS_dept.faculty_count+=1"
   ]
  },
  {
   "cell_type": "markdown",
   "id": "6c83dab1",
   "metadata": {},
   "source": [
    "### Q4. Where and how are instance attributes created?"
   ]
  },
  {
   "cell_type": "markdown",
   "id": "f2fa98bd",
   "metadata": {},
   "source": [
    "Instance attributes are attributes of a particular instance. It can be different for every instance as it is specific to that particular instance. Instance attributes are mentioned inside the constructor. An example of class and instance attribute is given above "
   ]
  },
  {
   "cell_type": "code",
   "execution_count": 3,
   "id": "5a5e3c45",
   "metadata": {},
   "outputs": [
    {
     "name": "stdout",
     "output_type": "stream",
     "text": [
      "13\n",
      "Computer Science\n",
      "\n",
      "Harsh 29\n",
      "Tanya 33\n",
      "Raj 28\n",
      "\n",
      "Before:\n",
      "Computer Science Computer Science Computer Science\n",
      "After:\n",
      "Mechanical Mechanical Mechanical\n"
     ]
    }
   ],
   "source": [
    "# CREATING 3 INSTANCES of the class\n",
    "obj1 = CS_dept('Harsh',29)\n",
    "obj2 = CS_dept('Tanya',33)\n",
    "obj3 = CS_dept('Raj',28)\n",
    "\n",
    "# ACCESSING CLASS ATTRIBUTES (can be accessed without using instance)\n",
    "print(CS_dept.faculty_count)\n",
    "print(CS_dept.dept)\n",
    "print()\n",
    "\n",
    "# ACCESSING INSTANCE ATTRIBUTEs (can only be accessed using the instance)\n",
    "print(obj1.name, obj1.age)\n",
    "print(obj2.name, obj2.age)\n",
    "print(obj3.name, obj3.age)\n",
    "print()\n",
    "\n",
    "# CHANGING CLASS ATTRIBUTE CHANGES THE VALUE FOR ALL INSTANCES\n",
    "print(\"Before:\")\n",
    "print(obj1.dept,obj2.dept,obj3.dept)\n",
    "CS_dept.dept = 'Mechanical'\n",
    "print(\"After:\")\n",
    "print(obj1.dept,obj2.dept,obj3.dept)"
   ]
  },
  {
   "cell_type": "markdown",
   "id": "68f6774d",
   "metadata": {},
   "source": [
    "### Q5. What does the term \"self\" in a Python class mean?"
   ]
  },
  {
   "cell_type": "markdown",
   "id": "583516ae",
   "metadata": {},
   "source": [
    "`self` refers to the instance of a class. Using self, we can access class attributes and methods"
   ]
  },
  {
   "cell_type": "markdown",
   "id": "c0cdf5d4",
   "metadata": {},
   "source": [
    "### Q6. How does a Python class handle operator overloading?"
   ]
  },
  {
   "cell_type": "markdown",
   "id": "18a704e6",
   "metadata": {},
   "source": [
    "Python supports operator overloading using special functions called magic methods. Python is a dynamic language. The simplest example is `+`. If we add two integers using binary operator `+`, Python automatically sums them, whereas if two strings are added using binary operator `+`, python automatically concatenates them. Internally, magic methods are used, which are of the form - `__add__(self, other)`, `__sub__(self, other)`, `__pow__(self, other)`, `__eq__(self, other)`, `__lt__(self, other)`, etc."
   ]
  },
  {
   "cell_type": "markdown",
   "id": "8be2507a",
   "metadata": {},
   "source": [
    "### Q7. When do you consider allowing operator overloading of your classes?"
   ]
  },
  {
   "cell_type": "markdown",
   "id": "c7ba7124",
   "metadata": {},
   "source": [
    "When we want that our operator should perform differently in different situations, we can use operator overload. As the name suggests, we can say it overloads the operator with more than 1 functionality."
   ]
  },
  {
   "cell_type": "markdown",
   "id": "42013ed5",
   "metadata": {},
   "source": [
    "### Q8. What is the most popular form of operator overloading?"
   ]
  },
  {
   "cell_type": "markdown",
   "id": "4d91b99d",
   "metadata": {},
   "source": [
    "`Magic Methods` mentioned previously are the popular way of using operator overloading."
   ]
  },
  {
   "cell_type": "code",
   "execution_count": 4,
   "id": "88ceee88",
   "metadata": {},
   "outputs": [],
   "source": [
    "class add:\n",
    "    def __init__(self,a):\n",
    "        self.a = a\n",
    "    def __add__(self,other):\n",
    "        return self.a + other.a\n",
    "\n",
    "obj1 = add(1)\n",
    "obj2 = add(2)\n",
    "obj3 = add('hi ')\n",
    "obj4 = add('there')"
   ]
  },
  {
   "cell_type": "code",
   "execution_count": 5,
   "id": "08476d84",
   "metadata": {},
   "outputs": [
    {
     "data": {
      "text/plain": [
       "3"
      ]
     },
     "execution_count": 5,
     "metadata": {},
     "output_type": "execute_result"
    }
   ],
   "source": [
    "obj1+obj2"
   ]
  },
  {
   "cell_type": "code",
   "execution_count": 6,
   "id": "6fd341b0",
   "metadata": {},
   "outputs": [
    {
     "data": {
      "text/plain": [
       "'hi there'"
      ]
     },
     "execution_count": 6,
     "metadata": {},
     "output_type": "execute_result"
    }
   ],
   "source": [
    "obj3+obj4"
   ]
  },
  {
   "cell_type": "markdown",
   "id": "0fb696cb",
   "metadata": {},
   "source": [
    "### Q9. What are the two most important concepts to grasp in order to comprehend Python OOP code?"
   ]
  },
  {
   "cell_type": "markdown",
   "id": "c981fc39",
   "metadata": {},
   "source": [
    "Python is an OOP language. So first of all it is very important to know what are classes and objects as everything in python is an object of some class. After understanding class and object, the 2 main concepts of Python OOP is Inheritance and Polymorphism. These both are, in general, are the most important concept of OOP overall."
   ]
  }
 ],
 "metadata": {
  "kernelspec": {
   "display_name": "Python 3 (ipykernel)",
   "language": "python",
   "name": "python3"
  },
  "language_info": {
   "codemirror_mode": {
    "name": "ipython",
    "version": 3
   },
   "file_extension": ".py",
   "mimetype": "text/x-python",
   "name": "python",
   "nbconvert_exporter": "python",
   "pygments_lexer": "ipython3",
   "version": "3.11.3"
  }
 },
 "nbformat": 4,
 "nbformat_minor": 5
}
