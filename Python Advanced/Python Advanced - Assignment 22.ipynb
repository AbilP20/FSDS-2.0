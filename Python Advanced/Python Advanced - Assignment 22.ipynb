{
 "cells": [
  {
   "cell_type": "markdown",
   "id": "e24781b6",
   "metadata": {},
   "source": [
    "# Python Advanced - Assignment 22"
   ]
  },
  {
   "cell_type": "markdown",
   "id": "f318b0a4",
   "metadata": {},
   "source": [
    "### Q1. What are the benefits of the built-in array package, if any?"
   ]
  },
  {
   "cell_type": "markdown",
   "id": "27eddc1a",
   "metadata": {},
   "source": [
    "1) memory efficiency - contiguous allocation of m/m, so less wastage and fast access\n",
    "2) same data type can be stored"
   ]
  },
  {
   "cell_type": "markdown",
   "id": "0444cf34",
   "metadata": {},
   "source": [
    "### Q2. What are some of the array package's limitations?"
   ]
  },
  {
   "cell_type": "markdown",
   "id": "448fa306",
   "metadata": {},
   "source": [
    "1) do not provide special functions to handle the data inside the array\n",
    "2) we have to explicitly mention the type of data inside the array when using the built-in module. If we enter any other data type, it results in error"
   ]
  },
  {
   "cell_type": "markdown",
   "id": "0703730d",
   "metadata": {},
   "source": [
    "### Q3. Describe the main differences between the array and numpy packages."
   ]
  },
  {
   "cell_type": "markdown",
   "id": "4a3c4aa0",
   "metadata": {},
   "source": [
    "1) Numpy arrays are dynamic in nature while Built-in array is static : Arrays are a homogenous data type structure. In built-in array, we have to mention the type of data that will be entered in the particular array and no other data type is allowed. Whereas, in numpy, there is typecasting. We can enter any type of data and python will implicitly convert all data types into the higher level type.\n",
    "2) Numpy is a vast library that has tools to handle and modify data well like array multiplication, dot/outer products, arange, random and much more. The built-in array module lacks much of these utilities, which is why not many people use the built-in array.\n",
    "3) Built-in array module creates 1-D arrays only, but Numpy can create more than 1-D arrays, matrices, etc."
   ]
  },
  {
   "cell_type": "markdown",
   "id": "9564251d",
   "metadata": {},
   "source": [
    "### Q4. Explain the distinctions between the empty, ones, and zeros functions."
   ]
  },
  {
   "cell_type": "markdown",
   "id": "497785b5",
   "metadata": {},
   "source": [
    "1) numpy.empty - creates an m x n matrix (or array) with uninitialized values (or random garbage values.\n",
    "2) numpy.ones  - creates a m x n matrix (or array) with all values initialized to 1.\n",
    "2) numpy.zeros  - creates a m x n matrix (or array) with all values initialized to 0."
   ]
  },
  {
   "cell_type": "code",
   "execution_count": 1,
   "id": "d33545d7",
   "metadata": {},
   "outputs": [
    {
     "name": "stdout",
     "output_type": "stream",
     "text": [
      "[[-2070750273  -253414701]\n",
      " [  383365606   182795542]]\n"
     ]
    }
   ],
   "source": [
    "import numpy as np\n",
    "np_empty = np.empty((2,2), dtype='int')\n",
    "print(np_empty)"
   ]
  },
  {
   "cell_type": "code",
   "execution_count": 2,
   "id": "83da51ab",
   "metadata": {},
   "outputs": [
    {
     "name": "stdout",
     "output_type": "stream",
     "text": [
      "[[1 1]\n",
      " [1 1]]\n"
     ]
    }
   ],
   "source": [
    "np_ones = np.ones((2,2), dtype='int')\n",
    "print(np_ones)"
   ]
  },
  {
   "cell_type": "code",
   "execution_count": 3,
   "id": "7247318f",
   "metadata": {},
   "outputs": [
    {
     "name": "stdout",
     "output_type": "stream",
     "text": [
      "[[0 0]\n",
      " [0 0]]\n"
     ]
    }
   ],
   "source": [
    "np_zeros = np.zeros((2,2), dtype='int')\n",
    "print(np_zeros)"
   ]
  },
  {
   "cell_type": "markdown",
   "id": "d2aea44f",
   "metadata": {},
   "source": [
    "### Q5. In the fromfunction function, which is used to construct new arrays, what is the role of the callable argument?"
   ]
  },
  {
   "cell_type": "markdown",
   "id": "6f7d88db",
   "metadata": {},
   "source": [
    "The `fromfunction`'s callable argument is crucial in deciding what the elements of the new array will be. It is a function which takes the coordinated of the array elements and computes new values by applying what has been defined in that function."
   ]
  },
  {
   "cell_type": "code",
   "execution_count": 4,
   "id": "dd97266e",
   "metadata": {},
   "outputs": [
    {
     "name": "stdout",
     "output_type": "stream",
     "text": [
      "[[0 2 4]\n",
      " [2 4 6]\n",
      " [4 6 8]]\n"
     ]
    }
   ],
   "source": [
    "def func1(x,y):\n",
    "    return x*2+y*2\n",
    "np_fromfunc = np.fromfunction(func1, (3,3), dtype='int')\n",
    "print(np_fromfunc)"
   ]
  },
  {
   "cell_type": "markdown",
   "id": "5f38f7a3",
   "metadata": {},
   "source": [
    "### Q6. What happens when a numpy array is combined with a single-value operand (a scalar, such as an int or a floating-point value) through addition, as in the expression A + n?"
   ]
  },
  {
   "cell_type": "markdown",
   "id": "e17352a0",
   "metadata": {},
   "source": [
    "The value `n`, will be added to all individual elements of the array. For eg., if array = [1,2,3] and the scalar value is 1, then if we add the array and 1, the new array will be [2,3,4]"
   ]
  },
  {
   "cell_type": "code",
   "execution_count": 5,
   "id": "5002d914",
   "metadata": {},
   "outputs": [
    {
     "name": "stdout",
     "output_type": "stream",
     "text": [
      "[2 3 4]\n"
     ]
    }
   ],
   "source": [
    "a = np.array([1,2,3])\n",
    "print(a+1)"
   ]
  },
  {
   "cell_type": "markdown",
   "id": "5284d53d",
   "metadata": {},
   "source": [
    "### Q7. Can array-to-scalar operations use combined operation-assign operators (such as += or *=)? What is the outcome?"
   ]
  },
  {
   "cell_type": "markdown",
   "id": "a8620e53",
   "metadata": {},
   "source": [
    "### Q8. Does a numpy array contain fixed-length strings? What happens if you allocate a longer string to one of these arrays?"
   ]
  },
  {
   "cell_type": "markdown",
   "id": "c67fe3ae",
   "metadata": {},
   "source": [
    "Yes, numpy array has fixed length strings. If a linger string is allocated, it is truncated to the maximum length of that array at initialization."
   ]
  },
  {
   "cell_type": "code",
   "execution_count": 6,
   "id": "779e1921",
   "metadata": {},
   "outputs": [
    {
     "name": "stdout",
     "output_type": "stream",
     "text": [
      "['Hello' 'hi']\n",
      "['Hello' 'unive']\n"
     ]
    }
   ],
   "source": [
    "a = np.array(['Hello','hi']) # max length at initialization is 5 so in future if length of string exceeds 5, it is truncated to 5\n",
    "print(a)\n",
    "a[1]='universe'\n",
    "print(a)"
   ]
  },
  {
   "cell_type": "markdown",
   "id": "dfbc49af",
   "metadata": {},
   "source": [
    "### Q9. What happens when you combine two numpy arrays using an operation like addition (+) or multiplication (*)? What are the conditions for combining two numpy arrays?"
   ]
  },
  {
   "cell_type": "markdown",
   "id": "eef7a379",
   "metadata": {},
   "source": [
    "There will be element-wise multiplication and addition if we multiply or add 2 arrays. The condition to add and multiply is that the shape of both the arrays should be same."
   ]
  },
  {
   "cell_type": "code",
   "execution_count": 7,
   "id": "349489cc",
   "metadata": {},
   "outputs": [
    {
     "name": "stdout",
     "output_type": "stream",
     "text": [
      "a = [1 2 3]\n",
      "b = [1 2]\n",
      "c = [1 2 3]\n"
     ]
    }
   ],
   "source": [
    "a = np.array([1,2,3]) # shape = (3,)\n",
    "b = np.array([1,2]) # shape = (2,)\n",
    "c = np.array([1,2,3]) # shape = (3,)\n",
    "\n",
    "print('a =',a)\n",
    "print('b =',b)\n",
    "print('c =',c)"
   ]
  },
  {
   "cell_type": "code",
   "execution_count": 8,
   "id": "1f6fedab",
   "metadata": {},
   "outputs": [
    {
     "name": "stdout",
     "output_type": "stream",
     "text": [
      "a + b not possible as shape is not same\n",
      "a + c =  [2 4 6]\n"
     ]
    }
   ],
   "source": [
    "# ADDING\n",
    "try:\n",
    "    print(a+b)\n",
    "except:\n",
    "    print('a + b not possible as shape is not same')\n",
    "finally:\n",
    "    print('a + c = ',a+c)"
   ]
  },
  {
   "cell_type": "code",
   "execution_count": 9,
   "id": "e4f8e41d",
   "metadata": {},
   "outputs": [
    {
     "name": "stdout",
     "output_type": "stream",
     "text": [
      "a x b not possible as shape is not same\n",
      "a x c =  [1 4 9]\n"
     ]
    }
   ],
   "source": [
    "# MULTIPLICATION\n",
    "try:\n",
    "    print(a*b)\n",
    "except:\n",
    "    print('a x b not possible as shape is not same')\n",
    "finally:\n",
    "    print('a x c = ',a*c)"
   ]
  },
  {
   "cell_type": "markdown",
   "id": "7fa4022a",
   "metadata": {},
   "source": [
    "### Q10. What is the best way to use a Boolean array to mask another array?"
   ]
  },
  {
   "cell_type": "markdown",
   "id": "d88c6ac1",
   "metadata": {},
   "source": [
    "The best way is to simply use Boolean indexing. See example below:"
   ]
  },
  {
   "cell_type": "code",
   "execution_count": 10,
   "id": "4d0ba9cb",
   "metadata": {},
   "outputs": [
    {
     "name": "stdout",
     "output_type": "stream",
     "text": [
      "original array = [1 2 3 4 5]\n",
      "boolean mask = [ True  True False False  True]\n",
      "boolean masked array = [1 2 5]\n"
     ]
    }
   ],
   "source": [
    "a1 = np.array([1,2,3,4,5])\n",
    "bool_mask = np.array([True, True, False, False, True])\n",
    "\n",
    "a2 = a1[bool_mask] # this is boolean indexing\n",
    "print('original array =',a1)\n",
    "print('boolean mask =',bool_mask)\n",
    "print('boolean masked array =',a2)"
   ]
  },
  {
   "cell_type": "markdown",
   "id": "f56a55ca",
   "metadata": {},
   "source": [
    "### Q11. What are three different ways to get the standard deviation of a wide collection of data using both standard Python and its packages? Sort the three of them by how quickly they execute."
   ]
  },
  {
   "cell_type": "code",
   "execution_count": 11,
   "id": "c0d17e2c",
   "metadata": {},
   "outputs": [
    {
     "name": "stdout",
     "output_type": "stream",
     "text": [
      "[1141 7909 1842 ...  399 3881 5758]\n"
     ]
    }
   ],
   "source": [
    "import numpy as np\n",
    "import scipy.stats as sci\n",
    "import statistics as stat\n",
    "import time\n",
    "\n",
    "data = np.random.randint(1,10000,10000)\n",
    "print(data)"
   ]
  },
  {
   "cell_type": "code",
   "execution_count": 12,
   "id": "cd800110",
   "metadata": {},
   "outputs": [
    {
     "name": "stdout",
     "output_type": "stream",
     "text": [
      "Numpy Standard Deviation = 2902.0194654220895\n",
      "Time : 0.0\n",
      "\n",
      "CPU times: total: 0 ns\n",
      "Wall time: 999 µs\n"
     ]
    }
   ],
   "source": [
    "%%time\n",
    "a = time.time()\n",
    "std1 = np.std(data)\n",
    "print('Numpy Standard Deviation =',std1)\n",
    "b = time.time()\n",
    "print('Time :',b-a)\n",
    "print()"
   ]
  },
  {
   "cell_type": "code",
   "execution_count": 13,
   "id": "7f20d9d4",
   "metadata": {},
   "outputs": [
    {
     "name": "stdout",
     "output_type": "stream",
     "text": [
      "Scipy Standard Deviation = 2902.164577278841\n",
      "Time : 0.001394510269165039\n",
      "\n",
      "CPU times: total: 0 ns\n",
      "Wall time: 1.39 ms\n"
     ]
    }
   ],
   "source": [
    "%%time\n",
    "a = time.time()\n",
    "std2 = sci.tstd(data)\n",
    "print('Scipy Standard Deviation =',std2)\n",
    "b = time.time()\n",
    "print('Time :',b-a)\n",
    "print()"
   ]
  },
  {
   "cell_type": "code",
   "execution_count": 14,
   "id": "d0c98aa7",
   "metadata": {},
   "outputs": [],
   "source": [
    "# Statistics module computes stdev on the primitive data types of python like list, and not on numpy arrays\n",
    "data = list(range(10000))"
   ]
  },
  {
   "cell_type": "code",
   "execution_count": 15,
   "id": "3116ae46",
   "metadata": {},
   "outputs": [
    {
     "name": "stdout",
     "output_type": "stream",
     "text": [
      "Statistics Standard Deviation = 2886.8956799071675\n",
      "Time : 0.003995418548583984\n",
      "\n",
      "CPU times: total: 0 ns\n",
      "Wall time: 5 ms\n"
     ]
    }
   ],
   "source": [
    "%%time\n",
    "a = time.time()\n",
    "std3 = stat.stdev(data)\n",
    "print('Statistics Standard Deviation =',std3)\n",
    "b = time.time()\n",
    "print('Time :',b-a)\n",
    "print()"
   ]
  },
  {
   "cell_type": "markdown",
   "id": "6ac69066",
   "metadata": {},
   "source": [
    "By observing the above computation, we can conclude that `Numpy is the fastest` and second is scipy.stats.tstd and the `Statistics.stdev is the worst`."
   ]
  },
  {
   "cell_type": "markdown",
   "id": "e798eb56",
   "metadata": {},
   "source": [
    "### 12. What is the dimensionality of a Boolean mask-generated array?"
   ]
  },
  {
   "cell_type": "markdown",
   "id": "c7ed1471",
   "metadata": {},
   "source": [
    "The dimensionality of the new generated array completely depends on the Boolean mask - It depends on the number of `True` you have in the mask."
   ]
  }
 ],
 "metadata": {
  "kernelspec": {
   "display_name": "Python 3 (ipykernel)",
   "language": "python",
   "name": "python3"
  },
  "language_info": {
   "codemirror_mode": {
    "name": "ipython",
    "version": 3
   },
   "file_extension": ".py",
   "mimetype": "text/x-python",
   "name": "python",
   "nbconvert_exporter": "python",
   "pygments_lexer": "ipython3",
   "version": "3.11.4"
  }
 },
 "nbformat": 4,
 "nbformat_minor": 5
}
