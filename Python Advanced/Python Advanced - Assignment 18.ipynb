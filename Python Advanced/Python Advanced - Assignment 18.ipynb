{
 "cells": [
  {
   "cell_type": "markdown",
   "id": "58c75353",
   "metadata": {},
   "source": [
    "# Python Advanced - Assignment 18"
   ]
  },
  {
   "cell_type": "markdown",
   "id": "6baa01e6",
   "metadata": {},
   "source": [
    "### Q1. Describe the differences between text and binary files in a single paragraph."
   ]
  },
  {
   "cell_type": "markdown",
   "id": "e4f70ff4",
   "metadata": {},
   "source": [
    "Text files are plain text, that humans read, write and understand. They have an ecnoding format - generally UTF-8 or ASCII whcih makes them easily modifiable in any text editors. Binary files are not human-understandable. It is specifically for the machines to understand and they are encoded in the form of 0's and 1's. The text files as the name implies, comprise only of textual data like numbers, alphabets. Binary files may contain data like text, images, audio, executable file details, etc."
   ]
  },
  {
   "cell_type": "markdown",
   "id": "d5fb11d7",
   "metadata": {},
   "source": [
    "### Q2. What are some scenarios where using text files will be the better option? When would you like to use binary files instead of text files?"
   ]
  },
  {
   "cell_type": "markdown",
   "id": "69633e21",
   "metadata": {},
   "source": [
    "Text files are a better option:\n",
    "1) when the source code of a program or software is written.\n",
    "2) when we want log some info - to be able to human-debug program, we need the log in textual format\n",
    "\n",
    "Binary files would provide performance as they are directly understandable by the machine so no time wasted in converstions. Binary files are a better option:\n",
    "1) when we want to store various data type like images, text, video, audio\n",
    "2) when we want to secure some code which should not be readable by any humans"
   ]
  },
  {
   "cell_type": "markdown",
   "id": "9f7094e2",
   "metadata": {},
   "source": [
    "### Q3. What are some of the issues with using binary operations to read and write a Python integer directly to disc?"
   ]
  },
  {
   "cell_type": "markdown",
   "id": "4e654a27",
   "metadata": {},
   "source": [
    "Different systems may have different ways to read or write integer in the form of binary data - like the length assigned to integers may be different in different systesm. So, the disc which has data from 1 system may not necessarily be properly read. "
   ]
  },
  {
   "cell_type": "markdown",
   "id": "8ad3fdde",
   "metadata": {},
   "source": [
    "### Q4. Describe a benefit of using the with keyword instead of explicitly opening a file."
   ]
  },
  {
   "cell_type": "markdown",
   "id": "e3530b4f",
   "metadata": {},
   "source": [
    "When we use `with` keyword, we do not need to explicitly close the file pointer. After the `with` block of code is executed, the file pointer is automatically closed."
   ]
  },
  {
   "cell_type": "markdown",
   "id": "ecfc80f2",
   "metadata": {},
   "source": [
    "### Q5. Does Python have the trailing newline while reading a line of text? Does Python append a newline when you write a line of text?"
   ]
  },
  {
   "cell_type": "markdown",
   "id": "ab41f7b3",
   "metadata": {},
   "source": [
    "Yes, python has the trailing newline when reading line of text. But python does not append a newline automatically when we write a text - we have to explicitly give the newline character to be written onto the file."
   ]
  },
  {
   "cell_type": "markdown",
   "id": "a10ada56",
   "metadata": {},
   "source": [
    "### Q6. What file operations enable for random-access operation?"
   ]
  },
  {
   "cell_type": "markdown",
   "id": "fee6760f",
   "metadata": {},
   "source": [
    "The below file operations can be used for random-access operation:\n",
    "1) seek() - allows us to move the file pointer to a specific location\n",
    "2) tell() - returns the current file pointer location"
   ]
  },
  {
   "cell_type": "markdown",
   "id": "88ea8b03",
   "metadata": {},
   "source": [
    "### Q7. When do you think you'll use the struct package the most?"
   ]
  },
  {
   "cell_type": "markdown",
   "id": "26a39453",
   "metadata": {},
   "source": [
    "`struct` module will be used most when we will be working with binary data which contains data types like images, audio, etc. It can be used when working with low-level binary data and also for cross platform data exchange - for eg. when exchanging data from python to C language"
   ]
  },
  {
   "cell_type": "markdown",
   "id": "74820420",
   "metadata": {},
   "source": [
    "###  Q8. When is pickling the best option?"
   ]
  },
  {
   "cell_type": "markdown",
   "id": "07024768",
   "metadata": {},
   "source": [
    "Pickle files are best for the following:\n",
    "1) we need to convert data to byte stream and then reconstruct the object from byte stream\n",
    "2) when creating pipelines - to exchange information of 1 process to another process\n",
    "3) storing ml models - save and load ml models which saves retraining time each time we want to use that model\n",
    "4) storing configuration info and settings "
   ]
  },
  {
   "cell_type": "markdown",
   "id": "6dfef61a",
   "metadata": {},
   "source": [
    "### Q9. When will it be best to use the shelve package?"
   ]
  },
  {
   "cell_type": "markdown",
   "id": "430ac7af",
   "metadata": {},
   "source": [
    "Used for pickling data in the form of dictionary's key:value like format."
   ]
  },
  {
   "cell_type": "markdown",
   "id": "e2e11a45",
   "metadata": {},
   "source": [
    "### Q10. What is a special restriction when using the shelve package, as opposed to using other data dictionaries?"
   ]
  },
  {
   "cell_type": "markdown",
   "id": "35cd9a52",
   "metadata": {},
   "source": [
    "The major restriction is that the keys in the `shelve` can only be in the `string` data type unlike the python dictionaries which can have any immutable data type as keys."
   ]
  }
 ],
 "metadata": {
  "kernelspec": {
   "display_name": "Python 3 (ipykernel)",
   "language": "python",
   "name": "python3"
  },
  "language_info": {
   "codemirror_mode": {
    "name": "ipython",
    "version": 3
   },
   "file_extension": ".py",
   "mimetype": "text/x-python",
   "name": "python",
   "nbconvert_exporter": "python",
   "pygments_lexer": "ipython3",
   "version": "3.11.4"
  }
 },
 "nbformat": 4,
 "nbformat_minor": 5
}
