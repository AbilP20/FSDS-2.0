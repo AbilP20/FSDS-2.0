{
 "cells": [
  {
   "cell_type": "markdown",
   "id": "d8f07e00",
   "metadata": {},
   "source": [
    "# Python Basics - Progam Assignment 1"
   ]
  },
  {
   "cell_type": "markdown",
   "id": "87b05d5b",
   "metadata": {},
   "source": [
    "### 1.\tWrite a Python program to print \"Hello Python\"?"
   ]
  },
  {
   "cell_type": "code",
   "execution_count": 1,
   "id": "ac519b6c",
   "metadata": {},
   "outputs": [
    {
     "name": "stdout",
     "output_type": "stream",
     "text": [
      "Hello Python\n"
     ]
    }
   ],
   "source": [
    "print(\"Hello Python\")"
   ]
  },
  {
   "cell_type": "markdown",
   "id": "b94fad0e",
   "metadata": {},
   "source": [
    "### 2.\tWrite a Python program to do arithmetical operations addition and division.? "
   ]
  },
  {
   "cell_type": "code",
   "execution_count": 2,
   "id": "f1a4f4c6",
   "metadata": {},
   "outputs": [
    {
     "data": {
      "text/plain": [
       "12"
      ]
     },
     "execution_count": 2,
     "metadata": {},
     "output_type": "execute_result"
    }
   ],
   "source": [
    "10+2"
   ]
  },
  {
   "cell_type": "code",
   "execution_count": 3,
   "id": "e4bfba3d",
   "metadata": {},
   "outputs": [
    {
     "data": {
      "text/plain": [
       "0.8333333333333334"
      ]
     },
     "execution_count": 3,
     "metadata": {},
     "output_type": "execute_result"
    }
   ],
   "source": [
    "5/6"
   ]
  },
  {
   "cell_type": "code",
   "execution_count": 4,
   "id": "3a93a0e3",
   "metadata": {},
   "outputs": [
    {
     "data": {
      "text/plain": [
       "30.75"
      ]
     },
     "execution_count": 4,
     "metadata": {},
     "output_type": "execute_result"
    }
   ],
   "source": [
    "123/4"
   ]
  },
  {
   "cell_type": "code",
   "execution_count": 5,
   "id": "2f9c2cef",
   "metadata": {},
   "outputs": [
    {
     "data": {
      "text/plain": [
       "104.0"
      ]
     },
     "execution_count": 5,
     "metadata": {},
     "output_type": "execute_result"
    }
   ],
   "source": [
    "100+20/5"
   ]
  },
  {
   "cell_type": "code",
   "execution_count": 6,
   "id": "86dcff0c",
   "metadata": {},
   "outputs": [
    {
     "data": {
      "text/plain": [
       "-3"
      ]
     },
     "execution_count": 6,
     "metadata": {},
     "output_type": "execute_result"
    }
   ],
   "source": [
    "7-5*2"
   ]
  },
  {
   "cell_type": "markdown",
   "id": "07f86bcf",
   "metadata": {},
   "source": [
    "### 3.\tWrite a Python program to find the area of a triangle? "
   ]
  },
  {
   "cell_type": "code",
   "execution_count": 7,
   "id": "8da54970",
   "metadata": {},
   "outputs": [
    {
     "name": "stdout",
     "output_type": "stream",
     "text": [
      "Enter the 3 sides of triangle : 11,6,9\n",
      "Sides of triangle are : 11.0, 6.0, 9.0\n",
      "Area = 26.98 units\n"
     ]
    }
   ],
   "source": [
    "a, b, c = input(\"Enter the 3 sides of triangle : \").split(\",\")\n",
    "a, b, c = float(a), float(b), float(c)\n",
    "s = (a+b+c)/2\n",
    "area = round( (s*(s-a)*(s-b)*(s-c))**(0.5), 2)\n",
    "print(f\"Sides of triangle are : {a}, {b}, {c}\")\n",
    "print(f\"Area = {area} units\")"
   ]
  },
  {
   "cell_type": "markdown",
   "id": "c3eb2329",
   "metadata": {},
   "source": [
    "### 4. Write a Python program to swap two variables? "
   ]
  },
  {
   "cell_type": "code",
   "execution_count": 8,
   "id": "9baba775",
   "metadata": {},
   "outputs": [
    {
     "name": "stdout",
     "output_type": "stream",
     "text": [
      "Enter 2 numbers : 100,250\n",
      "Before Swapping :\n",
      "a = 100\n",
      "b = 250\n",
      "After Swapping :\n",
      "a = 250\n",
      "b = 100\n"
     ]
    }
   ],
   "source": [
    "a, b = input(\"Enter 2 numbers : \").split(\",\")\n",
    "print(f\"Before Swapping :\\na = {a}\\nb = {b}\")\n",
    "a, b = b, a\n",
    "print(f\"After Swapping :\\na = {a}\\nb = {b}\")"
   ]
  },
  {
   "cell_type": "markdown",
   "id": "810baf63",
   "metadata": {},
   "source": [
    "### 5. Write a Python program to generate a random number? "
   ]
  },
  {
   "cell_type": "code",
   "execution_count": 9,
   "id": "f7a688f6",
   "metadata": {},
   "outputs": [
    {
     "name": "stdout",
     "output_type": "stream",
     "text": [
      "Enter upper and lower limit : 100,1000\n",
      "Generated Number : 690\n"
     ]
    }
   ],
   "source": [
    "from random import randint as rd\n",
    "a, b = input(\"Enter upper and lower limit : \").split(\",\")\n",
    "a, b = int(a), int(b)\n",
    "print(f\"Generated Number : {rd(a,b)}\")"
   ]
  }
 ],
 "metadata": {
  "kernelspec": {
   "display_name": "Python 3 (ipykernel)",
   "language": "python",
   "name": "python3"
  },
  "language_info": {
   "codemirror_mode": {
    "name": "ipython",
    "version": 3
   },
   "file_extension": ".py",
   "mimetype": "text/x-python",
   "name": "python",
   "nbconvert_exporter": "python",
   "pygments_lexer": "ipython3",
   "version": "3.9.12"
  }
 },
 "nbformat": 4,
 "nbformat_minor": 5
}
